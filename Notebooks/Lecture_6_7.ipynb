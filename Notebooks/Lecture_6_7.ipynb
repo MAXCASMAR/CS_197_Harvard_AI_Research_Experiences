{
  "nbformat": 4,
  "nbformat_minor": 0,
  "metadata": {
    "colab": {
      "provenance": [],
      "collapsed_sections": []
    },
    "kernelspec": {
      "name": "python3",
      "display_name": "Python 3"
    },
    "language_info": {
      "name": "python"
    },
    "widgets": {
      "application/vnd.jupyter.widget-state+json": {
        "8099287ae37941b5b1f6d62f4ed58ab0": {
          "model_module": "@jupyter-widgets/controls",
          "model_name": "HBoxModel",
          "model_module_version": "1.5.0",
          "state": {
            "_dom_classes": [],
            "_model_module": "@jupyter-widgets/controls",
            "_model_module_version": "1.5.0",
            "_model_name": "HBoxModel",
            "_view_count": null,
            "_view_module": "@jupyter-widgets/controls",
            "_view_module_version": "1.5.0",
            "_view_name": "HBoxView",
            "box_style": "",
            "children": [
              "IPY_MODEL_b60e62e509b441728a668ebef9416048",
              "IPY_MODEL_73beb14f40fd4ef9a0f3ce73abe63f96",
              "IPY_MODEL_98b822019e3e4f4d9da2d65bc44dfdea"
            ],
            "layout": "IPY_MODEL_056ee52839834172a5f8fc9dda23109b"
          }
        },
        "b60e62e509b441728a668ebef9416048": {
          "model_module": "@jupyter-widgets/controls",
          "model_name": "HTMLModel",
          "model_module_version": "1.5.0",
          "state": {
            "_dom_classes": [],
            "_model_module": "@jupyter-widgets/controls",
            "_model_module_version": "1.5.0",
            "_model_name": "HTMLModel",
            "_view_count": null,
            "_view_module": "@jupyter-widgets/controls",
            "_view_module_version": "1.5.0",
            "_view_name": "HTMLView",
            "description": "",
            "description_tooltip": null,
            "layout": "IPY_MODEL_0339ab257a13431c92fc13ff74fc50b3",
            "placeholder": "​",
            "style": "IPY_MODEL_95989de5108d44bbb0d199ad2f759d6e",
            "value": "100%"
          }
        },
        "73beb14f40fd4ef9a0f3ce73abe63f96": {
          "model_module": "@jupyter-widgets/controls",
          "model_name": "FloatProgressModel",
          "model_module_version": "1.5.0",
          "state": {
            "_dom_classes": [],
            "_model_module": "@jupyter-widgets/controls",
            "_model_module_version": "1.5.0",
            "_model_name": "FloatProgressModel",
            "_view_count": null,
            "_view_module": "@jupyter-widgets/controls",
            "_view_module_version": "1.5.0",
            "_view_name": "ProgressView",
            "bar_style": "success",
            "description": "",
            "description_tooltip": null,
            "layout": "IPY_MODEL_bca501492b52486e8a0b7af9a71580f3",
            "max": 46830571,
            "min": 0,
            "orientation": "horizontal",
            "style": "IPY_MODEL_556cd13852dc48f4b7f088505d90da19",
            "value": 46830571
          }
        },
        "98b822019e3e4f4d9da2d65bc44dfdea": {
          "model_module": "@jupyter-widgets/controls",
          "model_name": "HTMLModel",
          "model_module_version": "1.5.0",
          "state": {
            "_dom_classes": [],
            "_model_module": "@jupyter-widgets/controls",
            "_model_module_version": "1.5.0",
            "_model_name": "HTMLModel",
            "_view_count": null,
            "_view_module": "@jupyter-widgets/controls",
            "_view_module_version": "1.5.0",
            "_view_name": "HTMLView",
            "description": "",
            "description_tooltip": null,
            "layout": "IPY_MODEL_11d80802857d43a0ad6fe4e8727f55fb",
            "placeholder": "​",
            "style": "IPY_MODEL_ee57176e491641fd8fd459640114421c",
            "value": " 44.7M/44.7M [00:01&lt;00:00, 72.1MB/s]"
          }
        },
        "056ee52839834172a5f8fc9dda23109b": {
          "model_module": "@jupyter-widgets/base",
          "model_name": "LayoutModel",
          "model_module_version": "1.2.0",
          "state": {
            "_model_module": "@jupyter-widgets/base",
            "_model_module_version": "1.2.0",
            "_model_name": "LayoutModel",
            "_view_count": null,
            "_view_module": "@jupyter-widgets/base",
            "_view_module_version": "1.2.0",
            "_view_name": "LayoutView",
            "align_content": null,
            "align_items": null,
            "align_self": null,
            "border": null,
            "bottom": null,
            "display": null,
            "flex": null,
            "flex_flow": null,
            "grid_area": null,
            "grid_auto_columns": null,
            "grid_auto_flow": null,
            "grid_auto_rows": null,
            "grid_column": null,
            "grid_gap": null,
            "grid_row": null,
            "grid_template_areas": null,
            "grid_template_columns": null,
            "grid_template_rows": null,
            "height": null,
            "justify_content": null,
            "justify_items": null,
            "left": null,
            "margin": null,
            "max_height": null,
            "max_width": null,
            "min_height": null,
            "min_width": null,
            "object_fit": null,
            "object_position": null,
            "order": null,
            "overflow": null,
            "overflow_x": null,
            "overflow_y": null,
            "padding": null,
            "right": null,
            "top": null,
            "visibility": null,
            "width": null
          }
        },
        "0339ab257a13431c92fc13ff74fc50b3": {
          "model_module": "@jupyter-widgets/base",
          "model_name": "LayoutModel",
          "model_module_version": "1.2.0",
          "state": {
            "_model_module": "@jupyter-widgets/base",
            "_model_module_version": "1.2.0",
            "_model_name": "LayoutModel",
            "_view_count": null,
            "_view_module": "@jupyter-widgets/base",
            "_view_module_version": "1.2.0",
            "_view_name": "LayoutView",
            "align_content": null,
            "align_items": null,
            "align_self": null,
            "border": null,
            "bottom": null,
            "display": null,
            "flex": null,
            "flex_flow": null,
            "grid_area": null,
            "grid_auto_columns": null,
            "grid_auto_flow": null,
            "grid_auto_rows": null,
            "grid_column": null,
            "grid_gap": null,
            "grid_row": null,
            "grid_template_areas": null,
            "grid_template_columns": null,
            "grid_template_rows": null,
            "height": null,
            "justify_content": null,
            "justify_items": null,
            "left": null,
            "margin": null,
            "max_height": null,
            "max_width": null,
            "min_height": null,
            "min_width": null,
            "object_fit": null,
            "object_position": null,
            "order": null,
            "overflow": null,
            "overflow_x": null,
            "overflow_y": null,
            "padding": null,
            "right": null,
            "top": null,
            "visibility": null,
            "width": null
          }
        },
        "95989de5108d44bbb0d199ad2f759d6e": {
          "model_module": "@jupyter-widgets/controls",
          "model_name": "DescriptionStyleModel",
          "model_module_version": "1.5.0",
          "state": {
            "_model_module": "@jupyter-widgets/controls",
            "_model_module_version": "1.5.0",
            "_model_name": "DescriptionStyleModel",
            "_view_count": null,
            "_view_module": "@jupyter-widgets/base",
            "_view_module_version": "1.2.0",
            "_view_name": "StyleView",
            "description_width": ""
          }
        },
        "bca501492b52486e8a0b7af9a71580f3": {
          "model_module": "@jupyter-widgets/base",
          "model_name": "LayoutModel",
          "model_module_version": "1.2.0",
          "state": {
            "_model_module": "@jupyter-widgets/base",
            "_model_module_version": "1.2.0",
            "_model_name": "LayoutModel",
            "_view_count": null,
            "_view_module": "@jupyter-widgets/base",
            "_view_module_version": "1.2.0",
            "_view_name": "LayoutView",
            "align_content": null,
            "align_items": null,
            "align_self": null,
            "border": null,
            "bottom": null,
            "display": null,
            "flex": null,
            "flex_flow": null,
            "grid_area": null,
            "grid_auto_columns": null,
            "grid_auto_flow": null,
            "grid_auto_rows": null,
            "grid_column": null,
            "grid_gap": null,
            "grid_row": null,
            "grid_template_areas": null,
            "grid_template_columns": null,
            "grid_template_rows": null,
            "height": null,
            "justify_content": null,
            "justify_items": null,
            "left": null,
            "margin": null,
            "max_height": null,
            "max_width": null,
            "min_height": null,
            "min_width": null,
            "object_fit": null,
            "object_position": null,
            "order": null,
            "overflow": null,
            "overflow_x": null,
            "overflow_y": null,
            "padding": null,
            "right": null,
            "top": null,
            "visibility": null,
            "width": null
          }
        },
        "556cd13852dc48f4b7f088505d90da19": {
          "model_module": "@jupyter-widgets/controls",
          "model_name": "ProgressStyleModel",
          "model_module_version": "1.5.0",
          "state": {
            "_model_module": "@jupyter-widgets/controls",
            "_model_module_version": "1.5.0",
            "_model_name": "ProgressStyleModel",
            "_view_count": null,
            "_view_module": "@jupyter-widgets/base",
            "_view_module_version": "1.2.0",
            "_view_name": "StyleView",
            "bar_color": null,
            "description_width": ""
          }
        },
        "11d80802857d43a0ad6fe4e8727f55fb": {
          "model_module": "@jupyter-widgets/base",
          "model_name": "LayoutModel",
          "model_module_version": "1.2.0",
          "state": {
            "_model_module": "@jupyter-widgets/base",
            "_model_module_version": "1.2.0",
            "_model_name": "LayoutModel",
            "_view_count": null,
            "_view_module": "@jupyter-widgets/base",
            "_view_module_version": "1.2.0",
            "_view_name": "LayoutView",
            "align_content": null,
            "align_items": null,
            "align_self": null,
            "border": null,
            "bottom": null,
            "display": null,
            "flex": null,
            "flex_flow": null,
            "grid_area": null,
            "grid_auto_columns": null,
            "grid_auto_flow": null,
            "grid_auto_rows": null,
            "grid_column": null,
            "grid_gap": null,
            "grid_row": null,
            "grid_template_areas": null,
            "grid_template_columns": null,
            "grid_template_rows": null,
            "height": null,
            "justify_content": null,
            "justify_items": null,
            "left": null,
            "margin": null,
            "max_height": null,
            "max_width": null,
            "min_height": null,
            "min_width": null,
            "object_fit": null,
            "object_position": null,
            "order": null,
            "overflow": null,
            "overflow_x": null,
            "overflow_y": null,
            "padding": null,
            "right": null,
            "top": null,
            "visibility": null,
            "width": null
          }
        },
        "ee57176e491641fd8fd459640114421c": {
          "model_module": "@jupyter-widgets/controls",
          "model_name": "DescriptionStyleModel",
          "model_module_version": "1.5.0",
          "state": {
            "_model_module": "@jupyter-widgets/controls",
            "_model_module_version": "1.5.0",
            "_model_name": "DescriptionStyleModel",
            "_view_count": null,
            "_view_module": "@jupyter-widgets/base",
            "_view_module_version": "1.2.0",
            "_view_name": "StyleView",
            "description_width": ""
          }
        },
        "2bbaf79f6ae040a685ba025ae7f0d1d9": {
          "model_module": "@jupyter-widgets/controls",
          "model_name": "HBoxModel",
          "model_module_version": "1.5.0",
          "state": {
            "_dom_classes": [],
            "_model_module": "@jupyter-widgets/controls",
            "_model_module_version": "1.5.0",
            "_model_name": "HBoxModel",
            "_view_count": null,
            "_view_module": "@jupyter-widgets/controls",
            "_view_module_version": "1.5.0",
            "_view_name": "HBoxView",
            "box_style": "",
            "children": [
              "IPY_MODEL_d244b870af7d4366b710cf60ce0f549b",
              "IPY_MODEL_29e2ade16d0d4568839f869f9aec2ff4",
              "IPY_MODEL_733fedf2a81c411ba746dd6ae1ca37ad"
            ],
            "layout": "IPY_MODEL_02311248a4ce460f82565979f912a444"
          }
        },
        "d244b870af7d4366b710cf60ce0f549b": {
          "model_module": "@jupyter-widgets/controls",
          "model_name": "HTMLModel",
          "model_module_version": "1.5.0",
          "state": {
            "_dom_classes": [],
            "_model_module": "@jupyter-widgets/controls",
            "_model_module_version": "1.5.0",
            "_model_name": "HTMLModel",
            "_view_count": null,
            "_view_module": "@jupyter-widgets/controls",
            "_view_module_version": "1.5.0",
            "_view_name": "HTMLView",
            "description": "",
            "description_tooltip": null,
            "layout": "IPY_MODEL_1c1ba2d4b4a04b9c93c3e215b0a709e7",
            "placeholder": "​",
            "style": "IPY_MODEL_3c0c140ab5e44243b4c9a02fd4c4a5f0",
            "value": "100%"
          }
        },
        "29e2ade16d0d4568839f869f9aec2ff4": {
          "model_module": "@jupyter-widgets/controls",
          "model_name": "FloatProgressModel",
          "model_module_version": "1.5.0",
          "state": {
            "_dom_classes": [],
            "_model_module": "@jupyter-widgets/controls",
            "_model_module_version": "1.5.0",
            "_model_name": "FloatProgressModel",
            "_view_count": null,
            "_view_module": "@jupyter-widgets/controls",
            "_view_module_version": "1.5.0",
            "_view_name": "ProgressView",
            "bar_style": "success",
            "description": "",
            "description_tooltip": null,
            "layout": "IPY_MODEL_3b7f96166ff3481e802f3c1bf930a9d6",
            "max": 46830571,
            "min": 0,
            "orientation": "horizontal",
            "style": "IPY_MODEL_fe1f7b315a3c4a9399b335ba2b163111",
            "value": 46830571
          }
        },
        "733fedf2a81c411ba746dd6ae1ca37ad": {
          "model_module": "@jupyter-widgets/controls",
          "model_name": "HTMLModel",
          "model_module_version": "1.5.0",
          "state": {
            "_dom_classes": [],
            "_model_module": "@jupyter-widgets/controls",
            "_model_module_version": "1.5.0",
            "_model_name": "HTMLModel",
            "_view_count": null,
            "_view_module": "@jupyter-widgets/controls",
            "_view_module_version": "1.5.0",
            "_view_name": "HTMLView",
            "description": "",
            "description_tooltip": null,
            "layout": "IPY_MODEL_918984921cb847c6b7ce817908d41449",
            "placeholder": "​",
            "style": "IPY_MODEL_9b7651c566b84ce3b039ef5a71850463",
            "value": " 44.7M/44.7M [00:00&lt;00:00, 83.2MB/s]"
          }
        },
        "02311248a4ce460f82565979f912a444": {
          "model_module": "@jupyter-widgets/base",
          "model_name": "LayoutModel",
          "model_module_version": "1.2.0",
          "state": {
            "_model_module": "@jupyter-widgets/base",
            "_model_module_version": "1.2.0",
            "_model_name": "LayoutModel",
            "_view_count": null,
            "_view_module": "@jupyter-widgets/base",
            "_view_module_version": "1.2.0",
            "_view_name": "LayoutView",
            "align_content": null,
            "align_items": null,
            "align_self": null,
            "border": null,
            "bottom": null,
            "display": null,
            "flex": null,
            "flex_flow": null,
            "grid_area": null,
            "grid_auto_columns": null,
            "grid_auto_flow": null,
            "grid_auto_rows": null,
            "grid_column": null,
            "grid_gap": null,
            "grid_row": null,
            "grid_template_areas": null,
            "grid_template_columns": null,
            "grid_template_rows": null,
            "height": null,
            "justify_content": null,
            "justify_items": null,
            "left": null,
            "margin": null,
            "max_height": null,
            "max_width": null,
            "min_height": null,
            "min_width": null,
            "object_fit": null,
            "object_position": null,
            "order": null,
            "overflow": null,
            "overflow_x": null,
            "overflow_y": null,
            "padding": null,
            "right": null,
            "top": null,
            "visibility": null,
            "width": null
          }
        },
        "1c1ba2d4b4a04b9c93c3e215b0a709e7": {
          "model_module": "@jupyter-widgets/base",
          "model_name": "LayoutModel",
          "model_module_version": "1.2.0",
          "state": {
            "_model_module": "@jupyter-widgets/base",
            "_model_module_version": "1.2.0",
            "_model_name": "LayoutModel",
            "_view_count": null,
            "_view_module": "@jupyter-widgets/base",
            "_view_module_version": "1.2.0",
            "_view_name": "LayoutView",
            "align_content": null,
            "align_items": null,
            "align_self": null,
            "border": null,
            "bottom": null,
            "display": null,
            "flex": null,
            "flex_flow": null,
            "grid_area": null,
            "grid_auto_columns": null,
            "grid_auto_flow": null,
            "grid_auto_rows": null,
            "grid_column": null,
            "grid_gap": null,
            "grid_row": null,
            "grid_template_areas": null,
            "grid_template_columns": null,
            "grid_template_rows": null,
            "height": null,
            "justify_content": null,
            "justify_items": null,
            "left": null,
            "margin": null,
            "max_height": null,
            "max_width": null,
            "min_height": null,
            "min_width": null,
            "object_fit": null,
            "object_position": null,
            "order": null,
            "overflow": null,
            "overflow_x": null,
            "overflow_y": null,
            "padding": null,
            "right": null,
            "top": null,
            "visibility": null,
            "width": null
          }
        },
        "3c0c140ab5e44243b4c9a02fd4c4a5f0": {
          "model_module": "@jupyter-widgets/controls",
          "model_name": "DescriptionStyleModel",
          "model_module_version": "1.5.0",
          "state": {
            "_model_module": "@jupyter-widgets/controls",
            "_model_module_version": "1.5.0",
            "_model_name": "DescriptionStyleModel",
            "_view_count": null,
            "_view_module": "@jupyter-widgets/base",
            "_view_module_version": "1.2.0",
            "_view_name": "StyleView",
            "description_width": ""
          }
        },
        "3b7f96166ff3481e802f3c1bf930a9d6": {
          "model_module": "@jupyter-widgets/base",
          "model_name": "LayoutModel",
          "model_module_version": "1.2.0",
          "state": {
            "_model_module": "@jupyter-widgets/base",
            "_model_module_version": "1.2.0",
            "_model_name": "LayoutModel",
            "_view_count": null,
            "_view_module": "@jupyter-widgets/base",
            "_view_module_version": "1.2.0",
            "_view_name": "LayoutView",
            "align_content": null,
            "align_items": null,
            "align_self": null,
            "border": null,
            "bottom": null,
            "display": null,
            "flex": null,
            "flex_flow": null,
            "grid_area": null,
            "grid_auto_columns": null,
            "grid_auto_flow": null,
            "grid_auto_rows": null,
            "grid_column": null,
            "grid_gap": null,
            "grid_row": null,
            "grid_template_areas": null,
            "grid_template_columns": null,
            "grid_template_rows": null,
            "height": null,
            "justify_content": null,
            "justify_items": null,
            "left": null,
            "margin": null,
            "max_height": null,
            "max_width": null,
            "min_height": null,
            "min_width": null,
            "object_fit": null,
            "object_position": null,
            "order": null,
            "overflow": null,
            "overflow_x": null,
            "overflow_y": null,
            "padding": null,
            "right": null,
            "top": null,
            "visibility": null,
            "width": null
          }
        },
        "fe1f7b315a3c4a9399b335ba2b163111": {
          "model_module": "@jupyter-widgets/controls",
          "model_name": "ProgressStyleModel",
          "model_module_version": "1.5.0",
          "state": {
            "_model_module": "@jupyter-widgets/controls",
            "_model_module_version": "1.5.0",
            "_model_name": "ProgressStyleModel",
            "_view_count": null,
            "_view_module": "@jupyter-widgets/base",
            "_view_module_version": "1.2.0",
            "_view_name": "StyleView",
            "bar_color": null,
            "description_width": ""
          }
        },
        "918984921cb847c6b7ce817908d41449": {
          "model_module": "@jupyter-widgets/base",
          "model_name": "LayoutModel",
          "model_module_version": "1.2.0",
          "state": {
            "_model_module": "@jupyter-widgets/base",
            "_model_module_version": "1.2.0",
            "_model_name": "LayoutModel",
            "_view_count": null,
            "_view_module": "@jupyter-widgets/base",
            "_view_module_version": "1.2.0",
            "_view_name": "LayoutView",
            "align_content": null,
            "align_items": null,
            "align_self": null,
            "border": null,
            "bottom": null,
            "display": null,
            "flex": null,
            "flex_flow": null,
            "grid_area": null,
            "grid_auto_columns": null,
            "grid_auto_flow": null,
            "grid_auto_rows": null,
            "grid_column": null,
            "grid_gap": null,
            "grid_row": null,
            "grid_template_areas": null,
            "grid_template_columns": null,
            "grid_template_rows": null,
            "height": null,
            "justify_content": null,
            "justify_items": null,
            "left": null,
            "margin": null,
            "max_height": null,
            "max_width": null,
            "min_height": null,
            "min_width": null,
            "object_fit": null,
            "object_position": null,
            "order": null,
            "overflow": null,
            "overflow_x": null,
            "overflow_y": null,
            "padding": null,
            "right": null,
            "top": null,
            "visibility": null,
            "width": null
          }
        },
        "9b7651c566b84ce3b039ef5a71850463": {
          "model_module": "@jupyter-widgets/controls",
          "model_name": "DescriptionStyleModel",
          "model_module_version": "1.5.0",
          "state": {
            "_model_module": "@jupyter-widgets/controls",
            "_model_module_version": "1.5.0",
            "_model_name": "DescriptionStyleModel",
            "_view_count": null,
            "_view_module": "@jupyter-widgets/base",
            "_view_module_version": "1.2.0",
            "_view_name": "StyleView",
            "description_width": ""
          }
        }
      }
    }
  },
  "cells": [
    {
      "cell_type": "markdown",
      "source": [
        "# Lecture 6 and 7: Solidifying PyTorch Fundamentals\n",
        "## Tensors \n",
        "We use them to encode the inputs and outputs of a model, the model parameters. \n",
        "\n",
        "Tensors can run on GPUs or other specialized hardware to accelerate computing. "
      ],
      "metadata": {
        "id": "FY4QecrMnCqB"
      }
    },
    {
      "cell_type": "code",
      "execution_count": null,
      "metadata": {
        "id": "MWXp84Dum2Xg"
      },
      "outputs": [],
      "source": [
        "\n",
        "import torch\n",
        "import numpy as np\n",
        "\n",
        "# Tensor initialization\n",
        "# 1. Directly from data\n",
        "data = [[1, 2],[3, 4]]\n",
        "x_data = torch.tensor(data)\n",
        "# 2. From a NumPy array (and vice versa)\n",
        "np_array = np.array(data)\n",
        "x_np = torch.from_numpy(np_array)\n",
        "# 3. From another tensor: Retains the properties (shape, datatype) of the argument tensor, unless explicitly overridden\n",
        "x_ones = torch.ones_like(x_data) \n",
        "print(f\"Ones Tensor: \\n {x_ones} \\n\")\n",
        "\n",
        "x_rand = torch.rand_like(x_data, dtype=torch.float)\n",
        "print(f\"Random Tensor: \\n {x_rand} \\n\")\n",
        "\n",
        "# 4. With random or constant values\n",
        "shape = (2,3,)\n",
        "rand_tensor = torch.rand(shape)\n",
        "ones_tensor = torch.ones(shape)\n",
        "zeros_tensor = torch.zeros(shape)\n",
        "\n",
        "print(f\"Random Tensor: \\n {rand_tensor} \\n\")\n",
        "print(f\"Ones Tensor: \\n {ones_tensor} \\n\")\n",
        "print(f\"Zeros Tensor: \\n {zeros_tensor}\")\n"
      ]
    },
    {
      "cell_type": "markdown",
      "source": [
        "\n",
        "## Tensor Attributes\n",
        "Describe their shape, datatype, and the device on which they are stored. \n",
        "tensor = torch.rand(3,4)"
      ],
      "metadata": {
        "id": "y6qmzcP6nOgv"
      }
    },
    {
      "cell_type": "code",
      "source": [
        "print(f\"Shape of tensor: {tensor.shape}\")\n",
        "print(f\"Datatype of tensor: {tensor.dtype}\")\n",
        "print(f\"Device tensor is stored on: {tensor.device}\")"
      ],
      "metadata": {
        "id": "qTMiWlJhnQXj"
      },
      "execution_count": null,
      "outputs": []
    },
    {
      "cell_type": "markdown",
      "source": [
        "## Tensor operations\n",
        "Transposing, indexing, slicing, mathematical operations, linear algebra, random sampling, etc. Each of them can be run on the GPU (at typically higher speeds than on a CPU).\n"
      ],
      "metadata": {
        "id": "i9cSUb-qnSIw"
      }
    },
    {
      "cell_type": "code",
      "source": [
        "# We move out tensor to the GPU if available\n",
        "if torch.cuda.is_available():\n",
        "    tensor = tensor.to(\"cuda\")\n",
        "    print(f\"Device tensor is stored on: {tensor.device}\")\n",
        "# Standard numpy-like indexing and slicing:\n",
        "tensor = torch.ones(4, 4)\n",
        "tensor[:,1]=0\n",
        "print(tensor)\n",
        "# Joining tensors: torch.cat to concatenate a sequence of tensors along a given dimension. Or torch.stack\n",
        "t1 = torch.cat([tensor, tensor, tensor], dim=1)\n",
        "print(t1)\n",
        "# Multiplying tensors \n",
        "# This computes the element-wise product\n",
        "print(f\"tensor.mul(tensor) \\n {tensor.mul(tensor)} \\n\")\n",
        "\n",
        "# Alternative syntax\n",
        "print(f\"tensor * tensor \\n {tensor * tensor}\")\n",
        "# Compute the matrix multiplication between two tensors\n",
        "print(f\"tensor.matmul(tensor.T) \\n {tensor.matmul(tensor.T)} \\n\")   \n",
        "\n",
        "# Alternative syntax\n",
        "print(f\"tensor @ tensor.T \\n {tensor @ tensor.T}\")\n",
        "# In-place operations: That have a _ suffix are in-place. For example: x.copy_(y), x.t_(), will change x.\n",
        "print(tensor, \"\\n\")\n",
        "tensor.add_(5)\n",
        "print(tensor)"
      ],
      "metadata": {
        "id": "A60raBAHnW7U"
      },
      "execution_count": null,
      "outputs": []
    },
    {
      "cell_type": "markdown",
      "source": [
        "\n",
        "In-place operations save some meory, but can be problematic when computing derivatives because of an immediate loss of history, their use is discouraged. \n",
        "\n",
        "# Bridge with NumPy\n",
        "Tensors on the CPU and NumPy can share their underlying memory locations and changing one will change the other. \n",
        "\n"
      ],
      "metadata": {
        "id": "6eEK8LmKnhTG"
      }
    },
    {
      "cell_type": "code",
      "source": [
        "\n",
        "## Tensor to NumPy array\n",
        "t = torch.ones(5)\n",
        "print(f\"t: {t}\")\n",
        "n = t.numpy()\n",
        "print(f\"n: {n}\")\n",
        "# A change in the tensor reflects in the NumPy array\n",
        "t.add_(1)\n",
        "print(f\"t: {t}\")\n",
        "print(f\"n: {n}\")\n",
        "\n",
        "## NumPy array to Tensor\n",
        "n = np.ones(5)\n",
        "t = torch.from_numpy(n)\n",
        "# Changes in the NumPy array reflects in the tensor\n",
        "np.add(n, 1, out=n)\n",
        "print(f\"t: {t}\")\n",
        "print(f\"n: {n}\")"
      ],
      "metadata": {
        "id": "k2ITEI7AnmEf"
      },
      "execution_count": null,
      "outputs": []
    },
    {
      "cell_type": "markdown",
      "source": [
        "\n",
        "# Exercises\n"
      ],
      "metadata": {
        "id": "yq7xC7YpnKL8"
      }
    },
    {
      "cell_type": "code",
      "source": [
        "# 1. Create a tensor from the nested list [[5, 3], [0, 9]]\n",
        "data = [[5, 3], [0, 9]]\n",
        "x_data = torch.tensor(data)\n",
        "\n",
        "# 2. Create a tensor t of shape (5, 4) with random numbers from a uniform distribution on the inverval [0, 1)\n",
        "t = torch.rand((5, 4))\n",
        "\n",
        "# 3. Find out which device the tensor t is on and what its datatype is\n",
        "print(f\"Device tensor is stored on: {t.device}\")\n",
        "print(f\"Datatype of tensor: {t.dtype}\")\n",
        "\n",
        "# 4. Create two random tensors of shape (4,4) and (4, 4) called u and v respectively. Join them to make a tensor of shape (8, 4)\n",
        "u = torch.rand((4, 4))\n",
        "v = torch.rand((4, 4))\n",
        "torch.cat((u, v), dim=0)\n",
        "\n",
        "# 5. Join u and v to make a tensor, called w of shape (4, 4, 2)\n",
        "w = torch.stack((u, v), dim=2)\n",
        "\n",
        "# 6. Index w at 3, 3, 0. Call that element e\n",
        "e = w[3, 3, 0]\n",
        "\n",
        "# 7. Which of u or v would you find w in? Verify\n",
        "w[3,3,0] == u[3,3] \n",
        "\n",
        "# 8. Create a tensor a of ones with shape (4,3). Perform element wise multiplication of a a with itself\n",
        "a = torch.ones((4, 3))\n",
        "a.mul(a)\n",
        "\n",
        "# 9. Add an extra dimension to a (a new 0th) dimension.\n",
        "torch.unsqueeze(a, 0).shape\n",
        "\n",
        "# 10. Perform a matrix multiplication of a with a transposed\n",
        "a@a.T # a.matmul(a.T)\n",
        "\n",
        "# 11. What would a.matmul(a.T) result in?\n",
        "# An error, the sizes of the two tensors are not compatible\n",
        "\n",
        "# 12. \n",
        "t = torch.ones(5)\n",
        "n = t.numpy()\n",
        "n[0] = 2\n",
        "print(t)\n",
        "\n",
        "# 13.\n",
        "#t = torch.tensor([2., 1., 1., 1., 1.])\n",
        "t.add(2)\n",
        "t.add_(1)\n",
        "print(n)\n",
        "\n"
      ],
      "metadata": {
        "id": "roV21qVunt5n"
      },
      "execution_count": null,
      "outputs": []
    },
    {
      "cell_type": "markdown",
      "source": [
        "## Autograd and Neural Networks\n",
        "### A gentle itnroduction to torch.autograd\n",
        "It is PyTorch'as automatic differentiation engine that powers neural network trainng. \n",
        "\n",
        "#### Background\n",
        "Neural Networks (NNs) are a collection of nested function that are executed on some input data. These are defined by parameters (consisting of weights and biases), stored in tensors. \n",
        "\n",
        "Training a NN in two steps:\n",
        "1. **Forward propagation**: The NN makes its best guess about the correct output. It runs the input data through each of its functions to make this guess\n",
        "2. **Backward propagation**: The NN adjusts its parameters proportionate to the error in its guess, by traversing backwards from the output, collecting the derivatives of the error with respect to the parameters of the functions (gradients) and optimizing the parameters using gradient descent. \n",
        "\n",
        "For example, load a pretrained resnet18 model from torchvision. Create a random data tensor to represent a single image with 3 channels, and height and width of 64, and its corresppnding label initialized to some random values. Label in pretrained models has shape (1, 1000).\n",
        "\n"
      ],
      "metadata": {
        "id": "bypkCvLrnzEb"
      }
    },
    {
      "cell_type": "code",
      "source": [
        "!pip install torch\n",
        "!pip install torchvision\n"
      ],
      "metadata": {
        "colab": {
          "base_uri": "https://localhost:8080/"
        },
        "id": "oafpBCkWoBj0",
        "outputId": "c41d82d9-df98-40da-b0db-ea7aa4954c5a"
      },
      "execution_count": 1,
      "outputs": [
        {
          "output_type": "stream",
          "name": "stdout",
          "text": [
            "Looking in indexes: https://pypi.org/simple, https://us-python.pkg.dev/colab-wheels/public/simple/\n",
            "Requirement already satisfied: torch in /usr/local/lib/python3.7/dist-packages (1.12.1+cu113)\n",
            "Requirement already satisfied: typing-extensions in /usr/local/lib/python3.7/dist-packages (from torch) (4.1.1)\n",
            "Looking in indexes: https://pypi.org/simple, https://us-python.pkg.dev/colab-wheels/public/simple/\n",
            "Requirement already satisfied: torchvision in /usr/local/lib/python3.7/dist-packages (0.13.1+cu113)\n",
            "Requirement already satisfied: torch==1.12.1 in /usr/local/lib/python3.7/dist-packages (from torchvision) (1.12.1+cu113)\n",
            "Requirement already satisfied: typing-extensions in /usr/local/lib/python3.7/dist-packages (from torchvision) (4.1.1)\n",
            "Requirement already satisfied: numpy in /usr/local/lib/python3.7/dist-packages (from torchvision) (1.21.6)\n",
            "Requirement already satisfied: requests in /usr/local/lib/python3.7/dist-packages (from torchvision) (2.23.0)\n",
            "Requirement already satisfied: pillow!=8.3.*,>=5.3.0 in /usr/local/lib/python3.7/dist-packages (from torchvision) (7.1.2)\n",
            "Requirement already satisfied: urllib3!=1.25.0,!=1.25.1,<1.26,>=1.21.1 in /usr/local/lib/python3.7/dist-packages (from requests->torchvision) (1.24.3)\n",
            "Requirement already satisfied: idna<3,>=2.5 in /usr/local/lib/python3.7/dist-packages (from requests->torchvision) (2.10)\n",
            "Requirement already satisfied: certifi>=2017.4.17 in /usr/local/lib/python3.7/dist-packages (from requests->torchvision) (2022.9.24)\n",
            "Requirement already satisfied: chardet<4,>=3.0.2 in /usr/local/lib/python3.7/dist-packages (from requests->torchvision) (3.0.4)\n"
          ]
        }
      ]
    },
    {
      "cell_type": "code",
      "source": [
        "import torch\n",
        "from torchvision.models import resnet18, ResNet18_Weights\n",
        "\n",
        "model = resnet18(weights = ResNet18_Weights.DEFAULT)\n",
        "data = torch.rand(1, 3, 64, 64)\n",
        "labels = torch.rand(1, 1000)\n",
        "# Run the input data through the model through each of its layers to make a prediction, the forward pass\n",
        "prediction = model(data) # forward pass\n",
        "\n",
        "# Use the prediction and the label to calculate the error.\n",
        "loss = (prediction - labels).sum()\n",
        "\n",
        "# Backpropagate the error through the network. Autograd caculates and stores the gradients  each model parameter in the parameter's grad attribute\n",
        "loss.backward()\n",
        "# Load an optimizar, SGD with a learning rate of 0.01 and momentum of 0.9\n",
        "# Register all the parameters of the model in the optimizer\n",
        "optim = torch.optim.SGD(model.parameters(), lr=1e-2, momentum=0.9)\n",
        "\n",
        "# Call step() to initiate gradient descent. The optimizer adjusts each parameters bu its gradient stored in .grad\n",
        "optim.step() "
      ],
      "metadata": {
        "colab": {
          "base_uri": "https://localhost:8080/",
          "height": 66,
          "referenced_widgets": [
            "8099287ae37941b5b1f6d62f4ed58ab0",
            "b60e62e509b441728a668ebef9416048",
            "73beb14f40fd4ef9a0f3ce73abe63f96",
            "98b822019e3e4f4d9da2d65bc44dfdea",
            "056ee52839834172a5f8fc9dda23109b",
            "0339ab257a13431c92fc13ff74fc50b3",
            "95989de5108d44bbb0d199ad2f759d6e",
            "bca501492b52486e8a0b7af9a71580f3",
            "556cd13852dc48f4b7f088505d90da19",
            "11d80802857d43a0ad6fe4e8727f55fb",
            "ee57176e491641fd8fd459640114421c"
          ]
        },
        "id": "f6T6-Kavn203",
        "outputId": "5d359d34-5ad3-4e81-8646-f5b5daeb95de"
      },
      "execution_count": 2,
      "outputs": [
        {
          "output_type": "stream",
          "name": "stderr",
          "text": [
            "Downloading: \"https://download.pytorch.org/models/resnet18-f37072fd.pth\" to /root/.cache/torch/hub/checkpoints/resnet18-f37072fd.pth\n"
          ]
        },
        {
          "output_type": "display_data",
          "data": {
            "text/plain": [
              "  0%|          | 0.00/44.7M [00:00<?, ?B/s]"
            ],
            "application/vnd.jupyter.widget-view+json": {
              "version_major": 2,
              "version_minor": 0,
              "model_id": "8099287ae37941b5b1f6d62f4ed58ab0"
            }
          },
          "metadata": {}
        }
      ]
    },
    {
      "cell_type": "markdown",
      "source": [
        "## Differentiation in Autograd\n",
        "How autograd collects gradients. "
      ],
      "metadata": {
        "id": "FTYdvuLmm3tw"
      }
    },
    {
      "cell_type": "code",
      "source": [
        "# Create two tensors a and b with requires_grad = True. This signals to autograd that every operation on them should be tracked\n",
        "import torch\n",
        "a = torch.tensor([2., 3.], requires_grad = True)\n",
        "b = torch.tensor([6., 4.], requires_grad = True)"
      ],
      "metadata": {
        "id": "yQVjDAuOoiIB"
      },
      "execution_count": 5,
      "outputs": []
    },
    {
      "cell_type": "markdown",
      "source": [
        "# Create another tensor such that\n",
        "$$\n",
        "Q = 3a^3 - b^2\n",
        "$$"
      ],
      "metadata": {
        "id": "0bXgmCvEozwq"
      }
    },
    {
      "cell_type": "code",
      "source": [
        "Q = 3*a**3 - b**2"
      ],
      "metadata": {
        "id": "XAMwXD54ooUL"
      },
      "execution_count": 6,
      "outputs": []
    },
    {
      "cell_type": "markdown",
      "source": [
        "If a and b are parameters of an NN and Q the error. In NN training, we want gradients of the errors w.r.t parameters\n",
        "$$\n",
        "\\frac{\\partial Q}{\\partial a} = 9a^2, \\frac{\\partial Q}{\\partial b} = - 2b\n",
        "$$\n",
        "\n",
        "When we call .backward on Q, autograd calculates these gradients and stores them in the respective tensors' grad attribute.\n",
        "\n",
        "We need to explicitly pass a gradient argument in Q.backward() because it is a vector. gradient is a tensor of the same shape as Q, and it represents the gradient of Q w.r.t. itself, i.e.\n",
        "$$\n",
        "\\frac{dQ}{dQ} = 1\n",
        "$$\n",
        "\n",
        "We can aggregate Q into a scalar and call backward implicitly, like Q.sum().backward()"
      ],
      "metadata": {
        "id": "TJgqIqn0o_od"
      }
    },
    {
      "cell_type": "code",
      "source": [
        "external_grad = torch.tensor([1., 1.])\n",
        "Q.backward(gradient=external_grad)\n",
        "\n",
        "# Gradients are deposited in a.grad and b.grad\n",
        "print(9*a**2 == a.grad)\n",
        "print(-2*b == b.grad)"
      ],
      "metadata": {
        "id": "SBRzoVjhp6UJ"
      },
      "execution_count": null,
      "outputs": []
    },
    {
      "cell_type": "markdown",
      "source": [
        "## Optional Readin: Vector Calculus using autograd\n",
        "If you have a vector values function $y=f(x)$, then the gradient of y with respect to x is a Jacobian matrix J\n",
        "![Screen Shot 2022-10-17 at 10.55.58.png](data:image/png;base64,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)\n",
        "\n",
        "torch.autograd is an engine for computing vector-Jacobian product. Given any vector v, computes the product $J^Tv$.\n",
        "\n"
      ],
      "metadata": {
        "id": "IUH2JaNkp_l5"
      }
    },
    {
      "cell_type": "markdown",
      "source": [
        "If v happens to be the gradient of a scalar function $l = g(y)$\n",
        "\n",
        "![Screen Shot 2022-10-17 at 10.57.29.png](data:image/png;base64,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)"
      ],
      "metadata": {
        "id": "aVLoKc9-qe8s"
      }
    },
    {
      "cell_type": "markdown",
      "source": [
        "By the chain rule, the vector Jacobien product would be the gradient of l with respect to x\n",
        "![Screen Shot 2022-10-17 at 10.58.36.png](data:image/png;base64,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)\n",
        "\n",
        "This characteristic of vector-Jacobian product is what we use in the above example, external_grad represents v. "
      ],
      "metadata": {
        "id": "RTlzeu-9qsXc"
      }
    },
    {
      "cell_type": "markdown",
      "source": [
        "## Computational Graph\n",
        "Autograd keeps a record of data (tensors) and all executed operations (along with the resultings new tensors) in a directed acyclic graph (DAG) consisting of function objects. In it, leaves are the input tensors, roots are the output tensors. By tracking the graph from root to leaves, you can automatically compute the gradients using the chain rule. \n",
        "\n",
        "In a forward pass, autograd does 2 things simultaneously\n",
        "* Run the requested operation to compute a resulting tensor\n",
        "* Maintain the operation's gradient function in the DAG\n",
        "\n",
        "The backward pass kicks off when .backward() is called on the DAG root. autograd then\n",
        "* Computes the gradients from each .grad_fn\n",
        "* Accumulates them in the respective tensor's .grad attribute \n",
        "* Using the chain rule, propagates all the way to the leaf tensors\n",
        "\n",
        "\n",
        "The arrows are in the direction of the forward pass. The nodes represent the backward functions of each operation in the forward pass. The leaf nodes in blue represent our leaf tensors a and b.\n",
        "\n",
        "![Screen Shot 2022-10-17 at 11.03.07.png](data:image/png;base64,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)"
      ],
      "metadata": {
        "id": "rlbRLNiJq518"
      }
    },
    {
      "cell_type": "markdown",
      "source": [
        "DAGs are dynamic in PyTorch: The graph is recreated from scratch, after each backward() call, autograd starts populating a new graph. This is exactly waht allows you to use control flow statements in your model, you can change the shape, size and operations at every iteration if needed. \n",
        "\n",
        "## Exclusion from the DAG\n",
        "autograd tracks operations on all tensors which have their requires_grad = True. For tensors that don't require gradients, setting to False excludes it from the gradient computation DAG. \n",
        "\n",
        "The output tensor of an operation will require gradients even if only a single input tensor has requires_grad = True. "
      ],
      "metadata": {
        "id": "HxnPJimnsKWx"
      }
    },
    {
      "cell_type": "code",
      "source": [
        "x = torch.rand(5, 5)\n",
        "y = torch.rand(5, 5)\n",
        "z = torch.rand((5, 5), requires_grad=True)\n",
        "\n",
        "a = x + y\n",
        "print(f\"Does `a` require gradients? : {a.requires_grad}\")\n",
        "b = x + z\n",
        "print(f\"Does `b` require gradients?: {b.requires_grad}\")"
      ],
      "metadata": {
        "colab": {
          "base_uri": "https://localhost:8080/"
        },
        "id": "oeHSHNhipqrw",
        "outputId": "46d1f02f-c1a0-490e-ff9a-1a069ca73a7a"
      },
      "execution_count": 11,
      "outputs": [
        {
          "output_type": "stream",
          "name": "stdout",
          "text": [
            "Does `a` require gradients? : False\n",
            "Does `b` require gradients?: True\n"
          ]
        }
      ]
    },
    {
      "cell_type": "markdown",
      "source": [
        "In a NN, parameters that don't compute gradients are usually called frozen parameters. It is useful to freeze part of your model if you know in advance that you won't need the gradients of those parameters (performance benefits by reducing autograd computations). \n",
        "\n",
        "Another common usecase where exclusion from the DAG is important is for finetuning a pretrained network. We freeze most of the model and typically only modify the classifier layers to make predictions on new labels. For example, a pretrained resnet18 model and freeze all the parameters"
      ],
      "metadata": {
        "id": "_CVy8JyqtXwx"
      }
    },
    {
      "cell_type": "code",
      "source": [
        "from torch import nn, optim\n",
        "model = resnet18(weights = ResNet18_Weights.DEFAULT)\n",
        "\n",
        "# Freeze all the parameters in the network\n",
        "for param in model.parameters():\n",
        "  param.requires_grad = False"
      ],
      "metadata": {
        "id": "OB8wzRCitz6K"
      },
      "execution_count": 12,
      "outputs": []
    },
    {
      "cell_type": "code",
      "source": [
        "# If we want to finetune the model on new data with 10 labels. In resnet, the classifiers is the last linear \n",
        "# layer model.fc. We can replace it with a new linear layer (unfrozen by default) that acts as our classifier\n",
        "model.fc = nn.Linear(512, 10)"
      ],
      "metadata": {
        "id": "gdboraCxuDhJ"
      },
      "execution_count": 13,
      "outputs": []
    },
    {
      "cell_type": "markdown",
      "source": [
        "Now all parameters in the model, except the ones of model.fc are frozen. "
      ],
      "metadata": {
        "id": "RlBeG5-JuXDM"
      }
    },
    {
      "cell_type": "code",
      "source": [
        "# Optimize only the classifier\n",
        "optimizer = optim.SGD(model.parameters(), lr = 1e-2, momentum = 0.9)"
      ],
      "metadata": {
        "id": "9b1uXSRGuTfn"
      },
      "execution_count": 14,
      "outputs": []
    },
    {
      "cell_type": "markdown",
      "source": [
        "Notice although we register all the parameters in the optimizer, the only parameters that are computing gradients (and hence updated in gradient descent) are the weights and bias of the classifier.\n",
        "\n"
      ],
      "metadata": {
        "id": "WeJF7qqRukNp"
      }
    },
    {
      "cell_type": "markdown",
      "source": [
        "## Neural Networks\n",
        "They can be constructed using the torch.nn package. nn depends on autograd to define models and differentiate them. An nn.Module contains layers, and a methods forward(input) that returns the output. \n",
        "\n",
        "For example a networks that classifies digit imagesd\n",
        "\n",
        "![Screen Shot 2022-10-17 at 11.36.11.png](data:image/png;base64,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)"
      ],
      "metadata": {
        "id": "KTPqGbg-y5Jn"
      }
    },
    {
      "cell_type": "markdown",
      "source": [
        "A typical training procedure for a neural networks is as follows:\n",
        "* Define the NN that has some learnable parameters (or weights)\n",
        "* Iterate over a datasets of inputs\n",
        "* Process the input through the network\n",
        "* Compute the loss (how far is the output from being correct)\n",
        "* Propagate gradients back itno the network's parmaeters\n",
        "* Update the weights of the network, typically using a simple update rule: weight = weight - learning_rate * gradient \n",
        "\n",
        "## Define the network"
      ],
      "metadata": {
        "id": "Xqw-CPTuzf9r"
      }
    },
    {
      "cell_type": "code",
      "source": [
        "import torch\n",
        "import torch.nn \n",
        "import torch.nn.functional as F\n",
        "\n",
        "class Net(nn.Module):\n",
        "  def __init__(self):\n",
        "    super(Net, self).__init__()\n",
        "    # 1 input image channel, 6 output channels, 5x5 square convolution\n",
        "    # kernel\n",
        "    self.conv1 = nn.Conv2d(1, 6, 5)\n",
        "    self.conv2 = nn.Conv2d(6, 16, 5)\n",
        "\n",
        "    # An affine operation: y = Wx + b\n",
        "    self.fc1 = nn.Linear(16 * 5 * 5, 120) # 5*% from image dimension\n",
        "    self.fc2 = nn.Linear(120, 84)\n",
        "    self.fc3 = nn.Linear(84, 10)\n",
        "\n",
        "  def forward(self, x):\n",
        "    # max pooling over a (2,2) window\n",
        "    x = F.max_pool2d(F.relu(self.conv1(x)), (2,2))\n",
        "    # If the size is a square, you can specify with a single number\n",
        "    x = F.max_pool2d(F.relu(self.conv2(x)), 2)\n",
        "\n",
        "    x = torch.flatten(x, 1) # Flatten all dimensions except the batch dimensiom\n",
        "\n",
        "    x = F.relu(self.fc1(x))\n",
        "    x = F.relu(self.fc2(x))\n",
        "    x = self.fc3(x)\n",
        "\n",
        "    return x\n",
        "\n",
        "  \n",
        "net = Net()\n",
        "print(net)"
      ],
      "metadata": {
        "colab": {
          "base_uri": "https://localhost:8080/"
        },
        "id": "iSxMMTx1zc0g",
        "outputId": "4ed47953-8e2e-4433-b6a8-25e0d6705902"
      },
      "execution_count": 18,
      "outputs": [
        {
          "output_type": "stream",
          "name": "stdout",
          "text": [
            "Net(\n",
            "  (conv1): Conv2d(1, 6, kernel_size=(5, 5), stride=(1, 1))\n",
            "  (conv2): Conv2d(6, 16, kernel_size=(5, 5), stride=(1, 1))\n",
            "  (fc1): Linear(in_features=400, out_features=120, bias=True)\n",
            "  (fc2): Linear(in_features=120, out_features=84, bias=True)\n",
            "  (fc3): Linear(in_features=84, out_features=10, bias=True)\n",
            ")\n"
          ]
        }
      ]
    },
    {
      "cell_type": "markdown",
      "source": [
        "The backward function (where gradients are computed) is automatically defined for you using autograd. You can use any of the Tensor operations in the forward function. The learnable parameters of a model are returned by net.parameters()\n"
      ],
      "metadata": {
        "id": "2C0YegY11v3B"
      }
    },
    {
      "cell_type": "code",
      "source": [
        "params = list(net.parameters())\n",
        "print(len(params))\n",
        "print(params[0].size()) # conv1's .weight\n"
      ],
      "metadata": {
        "colab": {
          "base_uri": "https://localhost:8080/"
        },
        "id": "ffLwGUhm1rni",
        "outputId": "ba79f4e8-84c1-4836-8c85-fff0a3d52fb4"
      },
      "execution_count": 16,
      "outputs": [
        {
          "output_type": "stream",
          "name": "stdout",
          "text": [
            "10\n",
            "torch.Size([6, 1, 5, 5])\n"
          ]
        }
      ]
    },
    {
      "cell_type": "code",
      "source": [
        "# Try with a random 32x32 inputs (the expected input size). Resize the images from the MNIST Dataset\n",
        "input = torch.randn(1, 1, 32, 32)\n",
        "out = net(input)\n",
        "print(out)"
      ],
      "metadata": {
        "colab": {
          "base_uri": "https://localhost:8080/"
        },
        "id": "m80cRtgo2ECH",
        "outputId": "bc4d88b6-1907-447f-c1c5-3a03d980d696"
      },
      "execution_count": 19,
      "outputs": [
        {
          "output_type": "stream",
          "name": "stdout",
          "text": [
            "tensor([[-0.0695, -0.1299, -0.0111,  0.0060,  0.0615,  0.1119, -0.0672, -0.0187,\n",
            "         -0.0039,  0.0415]], grad_fn=<AddmmBackward0>)\n"
          ]
        }
      ]
    },
    {
      "cell_type": "code",
      "source": [
        "# Zero the gradient buffers of all parameters and backprops with random gradients\n",
        "net.zero_grad()\n",
        "out.backward(torch.randn(1, 10))"
      ],
      "metadata": {
        "id": "tx4h95uf2T7U"
      },
      "execution_count": 20,
      "outputs": []
    },
    {
      "cell_type": "markdown",
      "source": [
        "torch.nn only supports mini-batches. The package torch.nn only supports inputs that are a mini abtch of samples, and not a single sample. For example, nn.Conv2d will take in a 4D Tensor of nSamples * nChannels * Height * Width\n",
        "\n",
        "If you have a single sample, jsut use input.unsqueeze(0) to add a fake batch dimension.\n",
        "\n",
        "Recap\n",
        "* torch.Tensor: A multi-dimensional with support for autgrad operations like bacward(). Also holds the gradient w.r.t. the tensor\n",
        "* nn.Module: NN module. Convenient way of encapsulating parameters, with helpers for moving them to GPU, exporting, loading, etc.\n",
        "* nn.Paramter: A kind of Tensor, that is automatically registered as a parameters when assigned as an attribute to a Module\n",
        "* autograd.Function: Implements forward and backward definitions of an autograd operation. Every Tensor operation creates at least a single function node that connects to functions that created a Tensor and encodes its history\n",
        "\n",
        "## Loss function\n",
        "It takes the (output, target) pair of inputs, and computes a value that estiamtes how far away the output is from the target. One is nn.MSELoss, which computes the mean-squared error between the output and the target. \n",
        "\n"
      ],
      "metadata": {
        "id": "iz_zi90N2sDg"
      }
    },
    {
      "cell_type": "code",
      "source": [
        "output = net(input)\n",
        "target = torch.randn(10) # a dummy target, for example\n",
        "target = target.view(1, -1) # make it the same shape as output\n",
        "criterion = nn.MSELoss()\n",
        "\n",
        "loss = criterion(output, target)\n",
        "print(loss)"
      ],
      "metadata": {
        "colab": {
          "base_uri": "https://localhost:8080/"
        },
        "id": "5bfNtdqm2p79",
        "outputId": "3a9b0f3f-d94b-4838-8826-715ddbc0e188"
      },
      "execution_count": 21,
      "outputs": [
        {
          "output_type": "stream",
          "name": "stdout",
          "text": [
            "tensor(0.8815, grad_fn=<MseLossBackward0>)\n"
          ]
        }
      ]
    },
    {
      "cell_type": "markdown",
      "source": [
        "If you follow loss in the backward direction, using its .grad_fn you will see a graph of computations that looks \n",
        "![Screen Shot 2022-10-17 at 11.59.44.png](data:image/png;base64,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)"
      ],
      "metadata": {
        "id": "QLYj179X4pD3"
      }
    },
    {
      "cell_type": "markdown",
      "source": [
        "So when we call loss.Backward(), the whole graph is differentiated w.r.t. the neural net parameters and all Tensors in the graph that have requires_grad = True will have their .grad Tensor accumulated with the gradient\n",
        "\n",
        "\n",
        "## Backprop\n",
        "To backpropagate the error: loss.backward(). You need to lcear the existing gradients, else gradients will be accumulated to existing gradients. \n",
        "\n"
      ],
      "metadata": {
        "id": "pmHEsfuw4zwQ"
      }
    },
    {
      "cell_type": "code",
      "source": [
        "net.zero_grad() # zeroes the gradient buffers of all parameters\n",
        "\n",
        "print('conv1.bias.grad before backward')\n",
        "print(net.conv1.bias.grad)\n",
        "\n",
        "loss.backward()\n",
        "\n",
        "print('conv1.bias.grad after backward')\n",
        "print(net.conv1.bias.grad)"
      ],
      "metadata": {
        "colab": {
          "base_uri": "https://localhost:8080/"
        },
        "id": "VyezWMvW4c17",
        "outputId": "7d71fd81-a924-4550-b8a9-7dfd8507b2ed"
      },
      "execution_count": 22,
      "outputs": [
        {
          "output_type": "stream",
          "name": "stdout",
          "text": [
            "conv1.bias.grad before backward\n",
            "tensor([0., 0., 0., 0., 0., 0.])\n",
            "conv1.bias.grad after backward\n",
            "tensor([-0.0042, -0.0058, -0.0037,  0.0052, -0.0030,  0.0033])\n"
          ]
        }
      ]
    },
    {
      "cell_type": "markdown",
      "source": [
        "## Update the weights\n",
        "The simples update rule used is the Stochastic Gradient Descent: weight = weight - learning_rate * gradient\n",
        "\n"
      ],
      "metadata": {
        "id": "eT9h6YDF5WD4"
      }
    },
    {
      "cell_type": "code",
      "source": [
        "learning_rate = 0.01\n",
        "for f in net.parameters():\n",
        "  f.data.sub_(f.grad.data * learning_rate)"
      ],
      "metadata": {
        "id": "KyHNkJbr5SrO"
      },
      "execution_count": 25,
      "outputs": []
    },
    {
      "cell_type": "code",
      "source": [
        "# torch.optim implements different update rules\n",
        "import torch.optim as optim\n",
        "\n",
        "# Create your optimizer\n",
        "optimizer = optim.SGD(net.parameters(), lr = 0.01)\n",
        "\n",
        "# In your training loop\n",
        "optimizer.zero_grad() # zero the gradient buffers\n",
        "output = net(input)\n",
        "loss = criterion(output, target)\n",
        "loss.backward()\n",
        "optimizer.step()    # Does the update"
      ],
      "metadata": {
        "id": "ZOaIUlQ25kto"
      },
      "execution_count": 27,
      "outputs": []
    },
    {
      "cell_type": "markdown",
      "source": [
        "# Exercises\n",
        "Assume the foloowing starter code\n"
      ],
      "metadata": {
        "id": "rac09RsDU0u3"
      }
    },
    {
      "cell_type": "code",
      "source": [
        "import torch\n",
        "from torchvision.models import resnet18, ResNet18_Weights\n",
        "model = resnet18(weights=ResNet18_Weights.DEFAULT)\n",
        "data = torch.rand(1, 3, 64, 64)\n",
        "labels = torch.rand(1, 1000)\n"
      ],
      "metadata": {
        "colab": {
          "base_uri": "https://localhost:8080/",
          "height": 66,
          "referenced_widgets": [
            "2bbaf79f6ae040a685ba025ae7f0d1d9",
            "d244b870af7d4366b710cf60ce0f549b",
            "29e2ade16d0d4568839f869f9aec2ff4",
            "733fedf2a81c411ba746dd6ae1ca37ad",
            "02311248a4ce460f82565979f912a444",
            "1c1ba2d4b4a04b9c93c3e215b0a709e7",
            "3c0c140ab5e44243b4c9a02fd4c4a5f0",
            "3b7f96166ff3481e802f3c1bf930a9d6",
            "fe1f7b315a3c4a9399b335ba2b163111",
            "918984921cb847c6b7ce817908d41449",
            "9b7651c566b84ce3b039ef5a71850463"
          ]
        },
        "id": "6dIHoJvm5vVE",
        "outputId": "162b0158-f156-481b-e11a-fb7120df40d6"
      },
      "execution_count": 1,
      "outputs": [
        {
          "output_type": "stream",
          "name": "stderr",
          "text": [
            "Downloading: \"https://download.pytorch.org/models/resnet18-f37072fd.pth\" to /root/.cache/torch/hub/checkpoints/resnet18-f37072fd.pth\n"
          ]
        },
        {
          "output_type": "display_data",
          "data": {
            "text/plain": [
              "  0%|          | 0.00/44.7M [00:00<?, ?B/s]"
            ],
            "application/vnd.jupyter.widget-view+json": {
              "version_major": 2,
              "version_minor": 0,
              "model_id": "2bbaf79f6ae040a685ba025ae7f0d1d9"
            }
          },
          "metadata": {}
        }
      ]
    },
    {
      "cell_type": "code",
      "source": [
        "# 1. Run a forward pass through the model with the data and save it as preds\n",
        "preds = model(data)\n",
        "\n",
        "# 2. What should the shape of preds be? (1, 1000)\n",
        "preds.shape\n",
        "\n",
        "# 3. Save the weight parameter of the conv1 attribute of resnet18 as w\n",
        "w = model.conv1.weight\n",
        "print(w)\n",
        "\n",
        "# 4. What should the grad attribute for w be? Verify. None\n",
        "print(w.grad)\n",
        "\n",
        "# 5. Create a CrossEntropy loss object and use it to compute a loss using labels \n",
        "# and preds, saved as loss. Print loss\n",
        "ce = torch.nn.CrossEntropyLoss()\n",
        "loss = ce(labels, preds)\n",
        "print(loss)\n",
        "\n",
        "# 6. Print the last mathematical operation that created loss\n",
        "print(loss.grad_fn)\n",
        "\n",
        "# 7. Perform the backward pass\n",
        "loss.backward()\n",
        "\n",
        "# 8. Should w have changed? No\n",
        "print(w)\n",
        "\n",
        "# 9. Will the grad attribute for w be different? Verify. Yes\n",
        "print(w.grad)\n",
        "\n"
      ],
      "metadata": {
        "colab": {
          "base_uri": "https://localhost:8080/"
        },
        "id": "lcIn7AnBVCuZ",
        "outputId": "55cacae5-57cc-4305-8b9a-e198f7aa6b60"
      },
      "execution_count": 13,
      "outputs": [
        {
          "output_type": "stream",
          "name": "stdout",
          "text": [
            "Parameter containing:\n",
            "tensor([[[[-1.0419e-02, -6.1356e-03, -1.8098e-03,  ...,  5.6615e-02,\n",
            "            1.7083e-02, -1.2694e-02],\n",
            "          [ 1.1083e-02,  9.5276e-03, -1.0993e-01,  ..., -2.7124e-01,\n",
            "           -1.2907e-01,  3.7424e-03],\n",
            "          [-6.9434e-03,  5.9089e-02,  2.9548e-01,  ...,  5.1972e-01,\n",
            "            2.5632e-01,  6.3573e-02],\n",
            "          ...,\n",
            "          [-2.7535e-02,  1.6045e-02,  7.2595e-02,  ..., -3.3285e-01,\n",
            "           -4.2058e-01, -2.5781e-01],\n",
            "          [ 3.0613e-02,  4.0960e-02,  6.2850e-02,  ...,  4.1384e-01,\n",
            "            3.9359e-01,  1.6606e-01],\n",
            "          [-1.3736e-02, -3.6746e-03, -2.4084e-02,  ..., -1.5070e-01,\n",
            "           -8.2230e-02, -5.7828e-03]],\n",
            "\n",
            "         [[-1.1397e-02, -2.6619e-02, -3.4641e-02,  ...,  3.2521e-02,\n",
            "            6.6221e-04, -2.5743e-02],\n",
            "          [ 4.5687e-02,  3.3603e-02, -1.0453e-01,  ..., -3.1253e-01,\n",
            "           -1.6051e-01, -1.2826e-03],\n",
            "          [-8.3730e-04,  9.8420e-02,  4.0210e-01,  ...,  7.0789e-01,\n",
            "            3.6887e-01,  1.2455e-01],\n",
            "          ...,\n",
            "          [-5.5926e-02, -5.2239e-03,  2.7081e-02,  ..., -4.6178e-01,\n",
            "           -5.7080e-01, -3.6552e-01],\n",
            "          [ 3.2860e-02,  5.5574e-02,  9.9670e-02,  ...,  5.4636e-01,\n",
            "            4.8276e-01,  1.9867e-01],\n",
            "          [ 5.3051e-03,  6.6938e-03, -1.7254e-02,  ..., -1.4822e-01,\n",
            "           -7.7248e-02,  7.2183e-04]],\n",
            "\n",
            "         [[-2.0315e-03, -9.1617e-03,  2.1209e-02,  ...,  8.9177e-02,\n",
            "            3.3655e-02, -2.0102e-02],\n",
            "          [ 1.5398e-02, -1.8648e-02, -1.2591e-01,  ..., -2.5342e-01,\n",
            "           -1.2980e-01, -2.7975e-02],\n",
            "          [ 9.8454e-03,  4.9047e-02,  2.1699e-01,  ...,  3.4872e-01,\n",
            "            1.0433e-01,  1.8413e-02],\n",
            "          ...,\n",
            "          [-2.8356e-02,  1.8404e-02,  9.8647e-02,  ..., -1.1740e-01,\n",
            "           -2.5760e-01, -1.5451e-01],\n",
            "          [ 2.0766e-02, -2.6286e-03, -3.7825e-02,  ...,  2.4141e-01,\n",
            "            2.4345e-01,  1.1796e-01],\n",
            "          [ 7.4684e-04,  7.7677e-04, -1.0050e-02,  ..., -1.4865e-01,\n",
            "           -1.1754e-01, -3.8350e-02]]],\n",
            "\n",
            "\n",
            "        [[[-4.4154e-03, -4.0645e-03,  3.1589e-03,  ..., -3.7026e-02,\n",
            "           -2.5158e-02, -4.7945e-02],\n",
            "          [ 5.1310e-02,  5.3402e-02,  8.0436e-02,  ...,  1.4480e-01,\n",
            "            1.4287e-01,  1.2312e-01],\n",
            "          [-7.3337e-03,  2.1755e-03,  3.7580e-02,  ...,  6.1517e-02,\n",
            "            8.0324e-02,  1.1715e-01],\n",
            "          ...,\n",
            "          [-2.6754e-02, -1.2297e-01, -1.3653e-01,  ..., -1.4068e-01,\n",
            "           -1.1155e-01, -4.9556e-02],\n",
            "          [ 2.3524e-02, -1.7288e-02, -1.1122e-02,  ..., -1.8826e-02,\n",
            "           -2.3320e-02, -2.9474e-02],\n",
            "          [ 2.8689e-02,  2.1659e-02,  4.7888e-02,  ...,  2.5498e-02,\n",
            "            3.5346e-02,  1.1280e-02]],\n",
            "\n",
            "         [[ 4.6919e-04,  1.2153e-02,  4.2035e-02,  ...,  4.6403e-02,\n",
            "            4.0423e-02, -1.4439e-02],\n",
            "          [ 4.3463e-02,  6.8779e-02,  1.3268e-01,  ...,  2.8606e-01,\n",
            "            2.6905e-01,  2.0935e-01],\n",
            "          [-5.7621e-02, -2.2642e-02,  3.0547e-02,  ...,  1.3763e-01,\n",
            "            1.6538e-01,  1.7946e-01],\n",
            "          ...,\n",
            "          [-1.0816e-01, -2.5227e-01, -2.9742e-01,  ..., -2.8503e-01,\n",
            "           -2.1493e-01, -1.0320e-01],\n",
            "          [ 4.0709e-02, -3.2771e-02, -6.3450e-02,  ..., -9.2360e-02,\n",
            "           -6.9876e-02, -4.9841e-02],\n",
            "          [ 8.2942e-02,  8.7580e-02,  1.0111e-01,  ...,  5.2714e-02,\n",
            "            6.0968e-02,  4.1198e-02]],\n",
            "\n",
            "         [[-1.6391e-02, -1.3870e-02,  5.2810e-03,  ...,  4.3698e-02,\n",
            "            2.2707e-02, -4.5983e-02],\n",
            "          [ 3.3202e-02,  4.2014e-02,  9.3500e-02,  ...,  2.6162e-01,\n",
            "            2.2970e-01,  1.6694e-01],\n",
            "          [-4.5987e-02, -1.6365e-02,  2.6811e-02,  ...,  1.4951e-01,\n",
            "            1.3216e-01,  1.3579e-01],\n",
            "          ...,\n",
            "          [-7.2129e-02, -1.8902e-01, -2.3389e-01,  ..., -1.9038e-01,\n",
            "           -1.5609e-01, -7.5974e-02],\n",
            "          [ 5.1161e-02, -2.5815e-02, -6.9357e-02,  ..., -5.8999e-02,\n",
            "           -6.1550e-02, -4.4555e-02],\n",
            "          [ 1.1174e-01,  7.8979e-02,  6.5849e-02,  ...,  3.1617e-02,\n",
            "            2.5221e-02,  7.4257e-03]]],\n",
            "\n",
            "\n",
            "        [[[-7.0826e-08, -6.4306e-08, -7.3806e-08,  ..., -9.8000e-08,\n",
            "           -1.0905e-07, -8.3421e-08],\n",
            "          [-6.1125e-09,  2.0613e-09, -8.0922e-09,  ..., -4.9840e-08,\n",
            "           -4.3836e-08, -3.0538e-09],\n",
            "          [ 7.1953e-08,  7.5616e-08,  5.9282e-08,  ..., -9.7509e-09,\n",
            "           -1.0951e-09,  4.2442e-08],\n",
            "          ...,\n",
            "          [ 9.5889e-08,  1.0039e-07,  7.9817e-08,  ..., -1.7491e-08,\n",
            "           -4.7666e-08, -1.3265e-08],\n",
            "          [ 1.2904e-07,  1.4762e-07,  1.7477e-07,  ...,  1.3233e-07,\n",
            "            1.0628e-07,  9.3316e-08],\n",
            "          [ 1.2558e-07,  1.3644e-07,  1.8431e-07,  ...,  2.1399e-07,\n",
            "            1.7710e-07,  1.7166e-07]],\n",
            "\n",
            "         [[-1.2690e-07, -9.6139e-08, -1.0372e-07,  ..., -1.1808e-07,\n",
            "           -1.3309e-07, -1.0820e-07],\n",
            "          [-5.7412e-08, -2.5055e-08, -3.0115e-08,  ..., -7.2922e-08,\n",
            "           -6.7022e-08, -2.2574e-08],\n",
            "          [ 2.1813e-08,  4.8608e-08,  3.1222e-08,  ..., -1.8694e-08,\n",
            "           -7.9591e-09,  3.9750e-08],\n",
            "          ...,\n",
            "          [ 5.6013e-08,  7.5526e-08,  4.4496e-08,  ..., -4.4128e-08,\n",
            "           -5.9930e-08, -1.8247e-08],\n",
            "          [ 7.7614e-08,  9.8348e-08,  1.0455e-07,  ...,  6.3272e-08,\n",
            "            4.1781e-08,  4.5901e-08],\n",
            "          [ 5.9834e-08,  7.1006e-08,  9.0437e-08,  ...,  1.1654e-07,\n",
            "            8.7550e-08,  9.8837e-08]],\n",
            "\n",
            "         [[-4.3810e-08,  1.3270e-08,  7.8275e-09,  ..., -5.8804e-09,\n",
            "           -2.6217e-08, -1.5649e-08],\n",
            "          [ 4.1700e-08,  1.0778e-07,  1.0946e-07,  ...,  7.6403e-08,\n",
            "            7.1450e-08,  9.7615e-08],\n",
            "          [ 1.0436e-07,  1.6586e-07,  1.5933e-07,  ...,  1.3517e-07,\n",
            "            1.3487e-07,  1.6449e-07],\n",
            "          ...,\n",
            "          [ 9.8763e-08,  1.5072e-07,  1.2547e-07,  ...,  6.8316e-08,\n",
            "            6.8382e-08,  1.1367e-07],\n",
            "          [ 9.1435e-08,  1.3576e-07,  1.3793e-07,  ...,  1.1678e-07,\n",
            "            1.1723e-07,  1.4394e-07],\n",
            "          [ 6.2183e-08,  8.8184e-08,  1.0456e-07,  ...,  1.3941e-07,\n",
            "            1.3333e-07,  1.5844e-07]]],\n",
            "\n",
            "\n",
            "        ...,\n",
            "\n",
            "\n",
            "        [[[-6.1896e-02, -3.0206e-02,  1.9225e-02,  ...,  4.3665e-02,\n",
            "           -2.2114e-02, -4.2214e-02],\n",
            "          [-3.8061e-02,  6.0774e-03,  4.5797e-02,  ...,  9.6029e-02,\n",
            "            5.9254e-02,  2.9958e-02],\n",
            "          [-2.9672e-02,  2.7766e-03,  2.0457e-02,  ...,  5.9828e-02,\n",
            "            4.1422e-02,  2.3134e-02],\n",
            "          ...,\n",
            "          [ 1.1916e-02,  4.5701e-02,  4.4892e-02,  ...,  4.7419e-02,\n",
            "            2.2274e-02, -5.4993e-03],\n",
            "          [-3.2468e-02, -1.2210e-02,  2.2023e-02,  ...,  5.8061e-02,\n",
            "           -7.5033e-03, -5.9736e-02],\n",
            "          [-4.3314e-02, -2.8162e-02, -5.9126e-03,  ...,  8.8460e-02,\n",
            "            8.4406e-03, -5.0019e-02]],\n",
            "\n",
            "         [[-6.1292e-02, -1.4004e-02,  1.7229e-02,  ...,  1.8349e-02,\n",
            "           -3.2708e-02, -4.1060e-02],\n",
            "          [-3.1506e-02,  2.4460e-02,  4.5516e-02,  ...,  6.6806e-02,\n",
            "            4.6687e-02,  3.3248e-02],\n",
            "          [-3.2216e-02,  2.0718e-02,  2.3343e-02,  ...,  3.5265e-02,\n",
            "            3.6478e-02,  3.1291e-02],\n",
            "          ...,\n",
            "          [ 1.7739e-02,  6.1040e-02,  4.8247e-02,  ...,  3.7785e-02,\n",
            "            2.8894e-02,  1.3984e-02],\n",
            "          [-1.0890e-02,  2.2079e-02,  4.2737e-02,  ...,  6.0247e-02,\n",
            "            1.6197e-02, -1.2493e-02],\n",
            "          [-2.2284e-02,  1.3220e-02,  3.0897e-02,  ...,  1.0403e-01,\n",
            "            4.0119e-02, -5.3310e-03]],\n",
            "\n",
            "         [[-8.5322e-02, -4.2603e-02,  6.8145e-03,  ...,  3.0751e-02,\n",
            "           -3.4818e-02, -4.9945e-02],\n",
            "          [-2.9215e-02,  1.8165e-02,  5.1092e-02,  ...,  9.0200e-02,\n",
            "            5.3438e-02,  4.0169e-02],\n",
            "          [-3.9932e-02, -1.1100e-03,  9.6176e-03,  ...,  2.4114e-02,\n",
            "            2.6298e-02,  2.5489e-02],\n",
            "          ...,\n",
            "          [-3.1890e-03,  3.0454e-02,  1.6316e-02,  ...,  5.5054e-03,\n",
            "           -6.2689e-03, -8.4638e-03],\n",
            "          [-2.2995e-02, -2.8211e-03,  2.3203e-02,  ...,  3.5888e-02,\n",
            "           -1.4296e-02, -3.2419e-02],\n",
            "          [-9.8894e-03,  7.0542e-03,  1.0659e-02,  ...,  7.0495e-02,\n",
            "            1.2996e-02, -8.3417e-03]]],\n",
            "\n",
            "\n",
            "        [[[-7.8699e-03,  1.9911e-02,  3.4208e-02,  ...,  2.8694e-02,\n",
            "            1.2820e-02,  1.8142e-02],\n",
            "          [ 8.7942e-03, -3.2875e-02, -3.5713e-02,  ...,  7.2533e-02,\n",
            "            4.5889e-02,  5.2383e-02],\n",
            "          [-3.6122e-02, -1.1878e-01, -1.3767e-01,  ...,  3.3811e-02,\n",
            "            3.7806e-02,  2.6944e-02],\n",
            "          ...,\n",
            "          [ 1.7322e-02,  3.9589e-03, -8.2269e-03,  ...,  2.7543e-03,\n",
            "            1.8313e-02,  1.6057e-02],\n",
            "          [-9.5007e-04,  1.6428e-02,  1.7156e-02,  ...,  3.3672e-03,\n",
            "            2.2857e-02,  6.5783e-04],\n",
            "          [ 6.1727e-03,  2.7145e-02,  1.4340e-02,  ...,  7.5867e-03,\n",
            "            1.8770e-02,  1.5624e-02]],\n",
            "\n",
            "         [[-1.3423e-02, -5.0696e-04,  8.0959e-03,  ..., -6.0963e-03,\n",
            "            9.2341e-03,  1.5751e-02],\n",
            "          [-1.8343e-02, -6.7982e-02, -7.0685e-02,  ...,  2.9855e-02,\n",
            "            2.6264e-02,  2.3773e-02],\n",
            "          [-5.4359e-02, -1.4663e-01, -1.6211e-01,  ...,  1.1781e-02,\n",
            "            3.2477e-02,  1.1980e-02],\n",
            "          ...,\n",
            "          [ 8.3686e-04, -1.7564e-02, -1.9535e-02,  ..., -4.1382e-03,\n",
            "            2.4658e-02,  1.2893e-02],\n",
            "          [-6.3183e-04,  1.1788e-02,  2.4810e-02,  ...,  6.1105e-03,\n",
            "            3.9210e-02,  9.6696e-03],\n",
            "          [-7.1831e-03,  6.6918e-03,  5.2723e-03,  ..., -7.6077e-03,\n",
            "            2.7253e-02,  1.7735e-02]],\n",
            "\n",
            "         [[-2.3753e-04, -4.9343e-03,  2.2991e-03,  ..., -4.7958e-02,\n",
            "           -2.6154e-02, -2.3525e-02],\n",
            "          [-3.3053e-04, -5.1502e-02, -5.9977e-02,  ..., -1.7369e-02,\n",
            "           -2.3337e-02, -3.7312e-02],\n",
            "          [-2.2674e-02, -9.9412e-02, -1.1176e-01,  ..., -1.1725e-02,\n",
            "           -8.3744e-03, -4.0615e-02],\n",
            "          ...,\n",
            "          [ 1.1437e-02, -8.0313e-03, -1.4955e-03,  ..., -3.4133e-02,\n",
            "           -8.7267e-03, -2.3526e-02],\n",
            "          [ 2.9522e-03,  6.7770e-04,  1.9933e-02,  ..., -2.2002e-02,\n",
            "            1.4814e-02, -1.4487e-02],\n",
            "          [-1.9085e-02, -2.9430e-02, -2.3284e-02,  ..., -4.8587e-02,\n",
            "           -1.3049e-02, -2.4368e-02]]],\n",
            "\n",
            "\n",
            "        [[[-3.6296e-02,  7.1996e-03,  1.9100e-02,  ...,  1.9602e-02,\n",
            "            1.4870e-02, -1.7298e-02],\n",
            "          [-1.1061e-02,  8.5665e-02,  1.2667e-01,  ...,  1.3744e-02,\n",
            "           -5.5036e-05, -3.0162e-02],\n",
            "          [ 1.1322e-01,  1.8634e-01,  5.0658e-02,  ..., -1.7333e-01,\n",
            "           -7.2041e-02, -6.2474e-02],\n",
            "          ...,\n",
            "          [-5.3062e-02, -2.5781e-01, -2.6747e-01,  ...,  2.6781e-01,\n",
            "            1.4344e-01,  5.5145e-02],\n",
            "          [-2.1009e-02, -2.9969e-02,  1.0245e-01,  ...,  2.0843e-01,\n",
            "           -4.1518e-03, -3.8118e-02],\n",
            "          [-2.2155e-02,  1.2380e-02,  8.4302e-02,  ..., -4.4992e-02,\n",
            "           -1.4687e-01, -9.0890e-02]],\n",
            "\n",
            "         [[-5.3969e-03,  3.2799e-02,  1.5486e-02,  ..., -7.7451e-03,\n",
            "            3.0229e-03,  1.1216e-03],\n",
            "          [ 6.1723e-02,  1.4899e-01,  1.4645e-01,  ..., -2.8897e-02,\n",
            "           -2.0227e-02, -9.1878e-03],\n",
            "          [ 1.6146e-01,  2.0886e-01, -2.5589e-02,  ..., -2.7278e-01,\n",
            "           -1.0735e-01, -6.2971e-02],\n",
            "          ...,\n",
            "          [-1.3723e-01, -4.0863e-01, -3.8551e-01,  ...,  4.0846e-01,\n",
            "            2.6202e-01,  1.3491e-01],\n",
            "          [-5.9388e-02, -6.1187e-02,  1.4197e-01,  ...,  3.5780e-01,\n",
            "            9.0893e-02, -1.7392e-03],\n",
            "          [ 7.8613e-03,  5.8403e-02,  1.5339e-01,  ...,  4.7045e-02,\n",
            "           -1.0095e-01, -9.7920e-02]],\n",
            "\n",
            "         [[-5.6799e-03,  1.3425e-02, -2.6461e-02,  ...,  4.4881e-03,\n",
            "            2.0666e-03,  1.3902e-02],\n",
            "          [ 6.5943e-03,  4.5181e-02,  6.0260e-02,  ...,  1.4368e-02,\n",
            "           -5.0725e-03,  4.0505e-03],\n",
            "          [ 5.5257e-02,  1.2397e-01,  4.3193e-02,  ..., -1.4486e-01,\n",
            "           -7.4489e-02, -5.7533e-02],\n",
            "          ...,\n",
            "          [-3.1513e-02, -1.6334e-01, -1.5795e-01,  ...,  2.2904e-01,\n",
            "            1.2017e-01,  7.1998e-02],\n",
            "          [-1.0456e-02, -1.1248e-03,  8.4582e-02,  ...,  1.5748e-01,\n",
            "            2.2142e-02, -1.0083e-02],\n",
            "          [-4.8639e-03, -5.0065e-03,  3.6341e-02,  ..., -2.4361e-02,\n",
            "           -7.1195e-02, -6.6788e-02]]]], requires_grad=True)\n",
            "tensor([[[[ 1.0204e+00,  3.6378e-01, -1.3905e+00,  ..., -5.1984e+00,\n",
            "            6.2045e-01,  8.1905e-01],\n",
            "          [ 5.6014e+00,  1.3051e+00,  1.3015e+01,  ...,  5.3538e+00,\n",
            "           -6.5157e+00, -2.2946e+00],\n",
            "          [ 3.2750e+00,  2.1811e+00, -8.0477e-01,  ...,  4.1113e-01,\n",
            "            2.0572e+00,  2.3029e+00],\n",
            "          ...,\n",
            "          [-2.7370e+00, -3.6238e+00,  1.2497e+01,  ...,  3.4883e+00,\n",
            "           -5.5406e+00,  4.6287e-01],\n",
            "          [-5.7657e+00,  3.8468e+00, -4.7200e-01,  ..., -3.6443e+00,\n",
            "           -3.5153e+00,  5.5841e+00],\n",
            "          [ 8.3381e-01, -2.3014e+00,  5.4676e+00,  ..., -2.3772e+00,\n",
            "            6.9158e+00, -2.0969e+00]],\n",
            "\n",
            "         [[ 2.5350e+00, -1.1106e+00,  4.6425e-01,  ...,  1.0550e+00,\n",
            "           -1.4034e+00, -9.8940e-01],\n",
            "          [ 5.4056e+00,  9.4082e+00,  3.3488e+00,  ..., -5.0916e+00,\n",
            "            6.4237e+00,  6.2887e+00],\n",
            "          [ 6.9263e+00,  8.4745e+00,  1.7793e+00,  ...,  5.8567e-01,\n",
            "            1.6176e+00,  3.2877e+00],\n",
            "          ...,\n",
            "          [-3.8496e+00,  1.6457e+00,  6.2632e+00,  ...,  6.7897e+00,\n",
            "            1.6157e+00, -1.1910e+00],\n",
            "          [-5.1214e-01, -1.8293e+00, -4.8033e+00,  ..., -2.5583e+00,\n",
            "            1.1627e+00,  6.1771e+00],\n",
            "          [-7.8461e+00,  5.0922e+00,  1.7698e-01,  ..., -5.0915e-01,\n",
            "           -4.0568e-01, -5.4578e+00]],\n",
            "\n",
            "         [[ 4.9193e+00,  5.4230e+00, -3.7115e+00,  ...,  4.6519e-02,\n",
            "            5.9613e+00, -9.1636e+00],\n",
            "          [ 4.1596e+00, -6.7249e-01,  9.7799e+00,  ...,  4.0567e+00,\n",
            "            7.1531e-02,  1.2422e+00],\n",
            "          [-4.5414e+00, -4.0008e-01, -2.0704e+00,  ...,  1.0169e+01,\n",
            "            7.2321e+00,  8.4608e+00],\n",
            "          ...,\n",
            "          [-3.4209e+00,  1.5299e+00,  4.1293e+00,  ..., -2.3570e+00,\n",
            "            6.9572e+00,  2.2574e-01],\n",
            "          [ 1.1326e-01, -1.6339e+00,  1.7474e+00,  ..., -1.7103e-01,\n",
            "           -3.3465e+00, -3.9153e+00],\n",
            "          [ 2.8415e+00,  2.2404e+00,  7.5183e+00,  ...,  1.2032e+00,\n",
            "           -5.5010e-01,  1.7532e+00]]],\n",
            "\n",
            "\n",
            "        [[[ 6.8259e+00, -3.9813e+00,  4.2437e+00,  ..., -1.2565e+01,\n",
            "            1.1291e+00,  8.3746e+00],\n",
            "          [-3.2719e+00, -8.6197e+00,  7.6834e-01,  ..., -9.1789e+00,\n",
            "           -4.9410e+00,  7.1746e+00],\n",
            "          [ 3.7423e+00, -1.3944e+00,  1.0879e+01,  ..., -5.3999e+00,\n",
            "            6.1829e+00, -9.1072e+00],\n",
            "          ...,\n",
            "          [ 2.2748e+00,  6.3918e-01, -3.1005e+00,  ...,  1.1746e+00,\n",
            "            1.2084e+00, -4.6028e-01],\n",
            "          [ 1.0026e+01,  1.4308e+00,  1.0004e+00,  ...,  5.5507e+00,\n",
            "           -1.9243e+00,  1.0821e+01],\n",
            "          [ 7.0329e+00,  5.3526e+00,  8.3956e+00,  ..., -2.9811e-01,\n",
            "            6.6828e+00, -5.2681e+00]],\n",
            "\n",
            "         [[-1.0822e+01, -6.8488e+00,  6.2605e-01,  ..., -6.4587e+00,\n",
            "           -3.7176e+00, -1.5499e+00],\n",
            "          [ 6.6585e+00,  2.9404e+00, -1.1458e+01,  ..., -4.4417e-01,\n",
            "           -5.1482e+00, -3.1275e+00],\n",
            "          [ 7.9116e+00, -5.8742e+00,  2.0542e+00,  ...,  2.1923e+00,\n",
            "            1.0588e+01, -1.8081e+00],\n",
            "          ...,\n",
            "          [ 9.4880e+00, -4.8830e+00,  2.7988e+00,  ..., -4.5888e+00,\n",
            "           -4.1297e+00,  5.7927e+00],\n",
            "          [ 6.0206e+00,  2.9856e+00, -3.2865e+00,  ...,  4.2584e-01,\n",
            "            4.8702e+00,  3.8914e+00],\n",
            "          [ 1.2090e+01, -9.4870e+00,  9.8414e+00,  ...,  4.0392e+00,\n",
            "           -6.0485e-01, -7.4650e+00]],\n",
            "\n",
            "         [[ 6.8859e+00, -1.3296e+00,  3.7295e+00,  ..., -1.2656e+00,\n",
            "            2.2595e+00,  1.0651e+01],\n",
            "          [ 9.4250e+00, -8.8709e-01,  1.2892e+01,  ...,  9.0124e+00,\n",
            "           -1.3060e+00,  3.2647e+00],\n",
            "          [-1.2550e-02, -1.7023e+00, -2.9150e+00,  ...,  1.7594e+01,\n",
            "           -3.4313e+00, -4.6206e+00],\n",
            "          ...,\n",
            "          [ 4.6136e+00,  2.0396e+00, -3.1281e+00,  ..., -6.0816e+00,\n",
            "            1.1371e+01, -1.6013e+00],\n",
            "          [ 5.3343e+00,  2.8329e+00,  1.6517e+00,  ...,  5.0026e+00,\n",
            "           -1.9361e+00, -1.5030e+00],\n",
            "          [ 1.1645e+01,  6.1055e+00,  9.2500e-01,  ...,  5.9123e+00,\n",
            "            1.2619e+00, -1.4019e+01]]],\n",
            "\n",
            "\n",
            "        [[[ 0.0000e+00,  0.0000e+00,  0.0000e+00,  ...,  0.0000e+00,\n",
            "            0.0000e+00,  0.0000e+00],\n",
            "          [ 0.0000e+00,  0.0000e+00,  0.0000e+00,  ...,  0.0000e+00,\n",
            "            0.0000e+00,  0.0000e+00],\n",
            "          [ 0.0000e+00,  0.0000e+00,  0.0000e+00,  ...,  0.0000e+00,\n",
            "            0.0000e+00,  0.0000e+00],\n",
            "          ...,\n",
            "          [ 0.0000e+00,  0.0000e+00,  0.0000e+00,  ...,  0.0000e+00,\n",
            "            0.0000e+00,  0.0000e+00],\n",
            "          [ 0.0000e+00,  0.0000e+00,  0.0000e+00,  ...,  0.0000e+00,\n",
            "            0.0000e+00,  0.0000e+00],\n",
            "          [ 0.0000e+00,  0.0000e+00,  0.0000e+00,  ...,  0.0000e+00,\n",
            "            0.0000e+00,  0.0000e+00]],\n",
            "\n",
            "         [[ 0.0000e+00,  0.0000e+00,  0.0000e+00,  ...,  0.0000e+00,\n",
            "            0.0000e+00,  0.0000e+00],\n",
            "          [ 0.0000e+00,  0.0000e+00,  0.0000e+00,  ...,  0.0000e+00,\n",
            "            0.0000e+00,  0.0000e+00],\n",
            "          [ 0.0000e+00,  0.0000e+00,  0.0000e+00,  ...,  0.0000e+00,\n",
            "            0.0000e+00,  0.0000e+00],\n",
            "          ...,\n",
            "          [ 0.0000e+00,  0.0000e+00,  0.0000e+00,  ...,  0.0000e+00,\n",
            "            0.0000e+00,  0.0000e+00],\n",
            "          [ 0.0000e+00,  0.0000e+00,  0.0000e+00,  ...,  0.0000e+00,\n",
            "            0.0000e+00,  0.0000e+00],\n",
            "          [ 0.0000e+00,  0.0000e+00,  0.0000e+00,  ...,  0.0000e+00,\n",
            "            0.0000e+00,  0.0000e+00]],\n",
            "\n",
            "         [[ 0.0000e+00,  0.0000e+00,  0.0000e+00,  ...,  0.0000e+00,\n",
            "            0.0000e+00,  0.0000e+00],\n",
            "          [ 0.0000e+00,  0.0000e+00,  0.0000e+00,  ...,  0.0000e+00,\n",
            "            0.0000e+00,  0.0000e+00],\n",
            "          [ 0.0000e+00,  0.0000e+00,  0.0000e+00,  ...,  0.0000e+00,\n",
            "            0.0000e+00,  0.0000e+00],\n",
            "          ...,\n",
            "          [ 0.0000e+00,  0.0000e+00,  0.0000e+00,  ...,  0.0000e+00,\n",
            "            0.0000e+00,  0.0000e+00],\n",
            "          [ 0.0000e+00,  0.0000e+00,  0.0000e+00,  ...,  0.0000e+00,\n",
            "            0.0000e+00,  0.0000e+00],\n",
            "          [ 0.0000e+00,  0.0000e+00,  0.0000e+00,  ...,  0.0000e+00,\n",
            "            0.0000e+00,  0.0000e+00]]],\n",
            "\n",
            "\n",
            "        ...,\n",
            "\n",
            "\n",
            "        [[[-9.3689e-01,  1.3796e+00,  2.4826e+01,  ...,  4.0388e+01,\n",
            "           -3.0246e+01, -4.2131e+00],\n",
            "          [ 1.8009e+01,  3.1269e+00, -3.2800e+01,  ...,  3.0022e+00,\n",
            "           -7.8485e+00, -6.0233e+00],\n",
            "          [-1.0814e+01, -4.9907e+01,  2.8456e+01,  ..., -9.3649e+00,\n",
            "            2.6569e+00, -2.3136e+01],\n",
            "          ...,\n",
            "          [ 1.3529e+01,  2.0591e+01,  3.2020e+01,  ...,  2.3763e+01,\n",
            "            2.2580e+01,  3.3053e+00],\n",
            "          [-2.2037e+01,  2.1210e+01, -3.8931e+01,  ...,  7.9974e+00,\n",
            "            1.6043e-01,  2.8987e+01],\n",
            "          [-7.6671e+00, -2.2398e+01,  1.3035e+01,  ...,  4.4807e+01,\n",
            "           -1.9540e+01, -4.8854e+00]],\n",
            "\n",
            "         [[-4.7754e+01, -1.6749e+01, -2.0005e+01,  ...,  9.2578e+00,\n",
            "            5.2145e+00, -3.0251e+01],\n",
            "          [-4.0596e+01, -2.5071e+01,  2.3339e+01,  ..., -1.2625e+01,\n",
            "           -1.1778e+01,  1.2156e+01],\n",
            "          [-9.0030e+00,  4.1165e+00,  2.2586e+01,  ...,  1.3161e+01,\n",
            "           -1.1928e+00, -1.3128e+00],\n",
            "          ...,\n",
            "          [-6.5714e+00, -1.9088e+01,  3.3522e+01,  ...,  2.8266e+01,\n",
            "           -1.6101e+01,  1.3850e+01],\n",
            "          [ 2.7999e+01, -2.6104e+00,  3.9777e+00,  ..., -3.4835e+00,\n",
            "           -7.3548e+00, -2.1759e+01],\n",
            "          [-1.1110e+01,  1.8032e+01,  1.1447e+01,  ..., -4.0298e+01,\n",
            "           -4.3261e+00, -1.6420e+01]],\n",
            "\n",
            "         [[-1.3957e+01, -1.0477e+01, -1.2003e+01,  ..., -1.2482e+01,\n",
            "           -2.3251e+00, -1.2554e+01],\n",
            "          [ 1.0168e+01, -2.2445e+01, -4.0379e+01,  ...,  1.4799e+01,\n",
            "           -1.2353e+01,  3.8230e+00],\n",
            "          [ 5.9936e-01,  2.8200e+01, -2.8869e+01,  ..., -1.6849e+01,\n",
            "           -3.4402e+00,  2.6915e+01],\n",
            "          ...,\n",
            "          [-8.9375e+00, -2.3903e+01,  1.7151e+01,  ...,  1.4300e+00,\n",
            "           -4.2275e+01, -4.4851e+01],\n",
            "          [ 2.3781e+01, -1.4522e+01, -5.9054e+01,  ..., -1.6841e+01,\n",
            "           -2.8530e+01, -7.5265e-01],\n",
            "          [ 1.8398e+01,  1.6865e+01, -1.1002e+01,  ..., -2.1003e+01,\n",
            "           -1.0114e+01, -2.7131e+01]]],\n",
            "\n",
            "\n",
            "        [[[-6.4428e-01, -3.9572e+00, -9.6756e+00,  ...,  9.3674e-01,\n",
            "           -3.7335e-01, -4.3479e+00],\n",
            "          [-6.0898e+00, -2.3241e+00, -9.7873e+00,  ...,  2.3915e+01,\n",
            "           -5.5835e+00, -5.6996e+00],\n",
            "          [-7.0765e+00,  5.7509e+00,  1.6842e+00,  ...,  4.7393e+00,\n",
            "           -2.3730e+01, -5.9441e+00],\n",
            "          ...,\n",
            "          [-2.7321e-01, -1.0096e+01, -1.4305e+01,  ..., -1.1814e+01,\n",
            "            1.0281e+01, -5.1718e+00],\n",
            "          [-7.1106e+00, -8.0170e-01, -1.8536e+00,  ...,  2.0838e+01,\n",
            "           -2.2696e+00,  9.6092e+00],\n",
            "          [ 9.7784e+00, -8.0940e+00, -8.3975e+00,  ..., -2.2216e+00,\n",
            "           -1.0717e+01, -1.4875e+01]],\n",
            "\n",
            "         [[-4.8782e+00,  4.5135e+00, -1.2822e+01,  ..., -1.9907e+00,\n",
            "            9.7497e+00, -1.0212e+01],\n",
            "          [-7.6164e+00, -3.0560e+00, -5.3320e+00,  ...,  7.2051e+00,\n",
            "           -7.1071e-01,  6.8139e+00],\n",
            "          [-1.4316e-01,  3.2307e+00,  7.0628e+00,  ..., -9.8902e-01,\n",
            "            7.6557e+00, -1.0382e+01],\n",
            "          ...,\n",
            "          [ 1.9481e+00,  1.8431e+01, -1.4567e+01,  ..., -4.2428e-01,\n",
            "           -3.6413e+00,  1.3846e+00],\n",
            "          [-3.6553e+00,  3.1730e+00,  3.3401e+00,  ...,  5.6348e+00,\n",
            "            6.3217e+00, -1.7613e+01],\n",
            "          [ 2.5121e+00, -7.7828e+00, -8.8836e+00,  ..., -5.9587e+00,\n",
            "            7.7959e+00, -1.2723e+01]],\n",
            "\n",
            "         [[-7.2390e+00, -4.2020e+00,  7.5486e+00,  ...,  2.1416e+00,\n",
            "           -1.0055e+01,  9.7927e+00],\n",
            "          [-1.1525e+01, -1.2633e+01, -5.8025e+00,  ..., -1.1055e+01,\n",
            "            1.0128e+01, -9.3619e+00],\n",
            "          [-8.3488e-01,  5.1582e+00, -4.7164e+00,  ..., -9.5146e+00,\n",
            "           -1.9139e+01, -6.4833e+00],\n",
            "          ...,\n",
            "          [-5.9607e+00, -7.2490e+00,  8.7113e+00,  ..., -4.9523e+00,\n",
            "           -1.1509e+01,  4.5372e+00],\n",
            "          [-4.8277e+00, -1.0431e+01, -1.3639e+01,  ..., -1.0690e+01,\n",
            "            9.1110e-02, -9.4788e+00],\n",
            "          [-1.6551e+00,  3.9641e+00,  3.6589e+00,  ..., -4.1416e+00,\n",
            "           -1.8752e+00, -3.3274e+00]]],\n",
            "\n",
            "\n",
            "        [[[ 2.8968e+00, -2.3048e-01,  3.4761e+00,  ..., -3.9827e-01,\n",
            "            7.6200e+00,  1.0937e+01],\n",
            "          [ 1.0183e+01,  4.9234e-01,  7.8780e+00,  ...,  4.1538e+00,\n",
            "            4.6413e+00,  4.5559e+00],\n",
            "          [ 1.5982e+00, -1.0238e+00, -8.3377e-01,  ..., -6.1446e-01,\n",
            "            5.5194e+00, -2.2047e+00],\n",
            "          ...,\n",
            "          [-1.0693e+01, -5.1635e-01, -2.9053e+00,  ..., -6.5073e+00,\n",
            "            4.5591e+00, -3.9104e+00],\n",
            "          [ 1.0929e+01, -1.4943e+00,  7.0689e+00,  ..., -4.5157e+00,\n",
            "            1.3344e+01, -1.3777e+00],\n",
            "          [-4.7834e-01, -3.2492e+00,  8.8017e+00,  ...,  3.9294e+00,\n",
            "           -2.5179e+00,  8.1030e+00]],\n",
            "\n",
            "         [[ 1.0225e+01,  6.5033e+00, -9.3595e-01,  ...,  1.4193e+01,\n",
            "           -2.7238e+00,  8.0917e+00],\n",
            "          [ 7.1723e+00,  6.9741e+00,  7.3204e+00,  ...,  1.7686e+00,\n",
            "           -1.2030e+00,  1.8736e+00],\n",
            "          [ 4.9518e+00,  2.6358e+00,  5.5287e+00,  ...,  1.0316e+01,\n",
            "            8.6110e-01,  1.1781e+01],\n",
            "          ...,\n",
            "          [ 1.5643e+01, -1.2634e+01,  2.0238e-01,  ...,  1.3077e+00,\n",
            "            6.2195e+00,  3.5022e+00],\n",
            "          [-8.5027e+00,  6.3244e+00,  9.8733e-01,  ..., -2.9540e+00,\n",
            "            1.4350e+01,  5.5240e-01],\n",
            "          [ 7.8304e+00,  1.9602e+00,  5.7017e+00,  ...,  1.1836e+01,\n",
            "            6.3395e+00, -8.2070e-01]],\n",
            "\n",
            "         [[ 1.6545e+01,  2.5077e+00,  1.3379e+01,  ..., -3.1633e+00,\n",
            "           -8.5704e+00,  4.5239e+00],\n",
            "          [ 7.8268e+00, -4.5400e+00,  4.8192e+00,  ..., -1.1764e+00,\n",
            "           -1.1073e+00, -2.6350e+00],\n",
            "          [ 9.7163e+00, -5.9425e+00, -1.7339e+01,  ...,  5.0336e+00,\n",
            "            6.4553e+00, -8.6758e+00],\n",
            "          ...,\n",
            "          [-5.3799e+00,  2.9134e+00, -3.4964e+00,  ...,  1.5270e+00,\n",
            "            7.2536e+00, -5.6852e-01],\n",
            "          [-1.2295e+01,  1.7151e+00,  4.2030e+00,  ..., -7.1132e-02,\n",
            "           -2.0680e+00, -3.6324e+00],\n",
            "          [-1.8455e+01, -7.5678e+00,  2.5583e+00,  ...,  3.4753e+00,\n",
            "            6.0304e-01,  1.0812e+01]]]])\n",
            "tensor(14.4981, grad_fn=<DivBackward1>)\n",
            "<DivBackward1 object at 0x7fdfb1213790>\n",
            "Parameter containing:\n",
            "tensor([[[[-1.0419e-02, -6.1356e-03, -1.8098e-03,  ...,  5.6615e-02,\n",
            "            1.7083e-02, -1.2694e-02],\n",
            "          [ 1.1083e-02,  9.5276e-03, -1.0993e-01,  ..., -2.7124e-01,\n",
            "           -1.2907e-01,  3.7424e-03],\n",
            "          [-6.9434e-03,  5.9089e-02,  2.9548e-01,  ...,  5.1972e-01,\n",
            "            2.5632e-01,  6.3573e-02],\n",
            "          ...,\n",
            "          [-2.7535e-02,  1.6045e-02,  7.2595e-02,  ..., -3.3285e-01,\n",
            "           -4.2058e-01, -2.5781e-01],\n",
            "          [ 3.0613e-02,  4.0960e-02,  6.2850e-02,  ...,  4.1384e-01,\n",
            "            3.9359e-01,  1.6606e-01],\n",
            "          [-1.3736e-02, -3.6746e-03, -2.4084e-02,  ..., -1.5070e-01,\n",
            "           -8.2230e-02, -5.7828e-03]],\n",
            "\n",
            "         [[-1.1397e-02, -2.6619e-02, -3.4641e-02,  ...,  3.2521e-02,\n",
            "            6.6221e-04, -2.5743e-02],\n",
            "          [ 4.5687e-02,  3.3603e-02, -1.0453e-01,  ..., -3.1253e-01,\n",
            "           -1.6051e-01, -1.2826e-03],\n",
            "          [-8.3730e-04,  9.8420e-02,  4.0210e-01,  ...,  7.0789e-01,\n",
            "            3.6887e-01,  1.2455e-01],\n",
            "          ...,\n",
            "          [-5.5926e-02, -5.2239e-03,  2.7081e-02,  ..., -4.6178e-01,\n",
            "           -5.7080e-01, -3.6552e-01],\n",
            "          [ 3.2860e-02,  5.5574e-02,  9.9670e-02,  ...,  5.4636e-01,\n",
            "            4.8276e-01,  1.9867e-01],\n",
            "          [ 5.3051e-03,  6.6938e-03, -1.7254e-02,  ..., -1.4822e-01,\n",
            "           -7.7248e-02,  7.2183e-04]],\n",
            "\n",
            "         [[-2.0315e-03, -9.1617e-03,  2.1209e-02,  ...,  8.9177e-02,\n",
            "            3.3655e-02, -2.0102e-02],\n",
            "          [ 1.5398e-02, -1.8648e-02, -1.2591e-01,  ..., -2.5342e-01,\n",
            "           -1.2980e-01, -2.7975e-02],\n",
            "          [ 9.8454e-03,  4.9047e-02,  2.1699e-01,  ...,  3.4872e-01,\n",
            "            1.0433e-01,  1.8413e-02],\n",
            "          ...,\n",
            "          [-2.8356e-02,  1.8404e-02,  9.8647e-02,  ..., -1.1740e-01,\n",
            "           -2.5760e-01, -1.5451e-01],\n",
            "          [ 2.0766e-02, -2.6286e-03, -3.7825e-02,  ...,  2.4141e-01,\n",
            "            2.4345e-01,  1.1796e-01],\n",
            "          [ 7.4684e-04,  7.7677e-04, -1.0050e-02,  ..., -1.4865e-01,\n",
            "           -1.1754e-01, -3.8350e-02]]],\n",
            "\n",
            "\n",
            "        [[[-4.4154e-03, -4.0645e-03,  3.1589e-03,  ..., -3.7026e-02,\n",
            "           -2.5158e-02, -4.7945e-02],\n",
            "          [ 5.1310e-02,  5.3402e-02,  8.0436e-02,  ...,  1.4480e-01,\n",
            "            1.4287e-01,  1.2312e-01],\n",
            "          [-7.3337e-03,  2.1755e-03,  3.7580e-02,  ...,  6.1517e-02,\n",
            "            8.0324e-02,  1.1715e-01],\n",
            "          ...,\n",
            "          [-2.6754e-02, -1.2297e-01, -1.3653e-01,  ..., -1.4068e-01,\n",
            "           -1.1155e-01, -4.9556e-02],\n",
            "          [ 2.3524e-02, -1.7288e-02, -1.1122e-02,  ..., -1.8826e-02,\n",
            "           -2.3320e-02, -2.9474e-02],\n",
            "          [ 2.8689e-02,  2.1659e-02,  4.7888e-02,  ...,  2.5498e-02,\n",
            "            3.5346e-02,  1.1280e-02]],\n",
            "\n",
            "         [[ 4.6919e-04,  1.2153e-02,  4.2035e-02,  ...,  4.6403e-02,\n",
            "            4.0423e-02, -1.4439e-02],\n",
            "          [ 4.3463e-02,  6.8779e-02,  1.3268e-01,  ...,  2.8606e-01,\n",
            "            2.6905e-01,  2.0935e-01],\n",
            "          [-5.7621e-02, -2.2642e-02,  3.0547e-02,  ...,  1.3763e-01,\n",
            "            1.6538e-01,  1.7946e-01],\n",
            "          ...,\n",
            "          [-1.0816e-01, -2.5227e-01, -2.9742e-01,  ..., -2.8503e-01,\n",
            "           -2.1493e-01, -1.0320e-01],\n",
            "          [ 4.0709e-02, -3.2771e-02, -6.3450e-02,  ..., -9.2360e-02,\n",
            "           -6.9876e-02, -4.9841e-02],\n",
            "          [ 8.2942e-02,  8.7580e-02,  1.0111e-01,  ...,  5.2714e-02,\n",
            "            6.0968e-02,  4.1198e-02]],\n",
            "\n",
            "         [[-1.6391e-02, -1.3870e-02,  5.2810e-03,  ...,  4.3698e-02,\n",
            "            2.2707e-02, -4.5983e-02],\n",
            "          [ 3.3202e-02,  4.2014e-02,  9.3500e-02,  ...,  2.6162e-01,\n",
            "            2.2970e-01,  1.6694e-01],\n",
            "          [-4.5987e-02, -1.6365e-02,  2.6811e-02,  ...,  1.4951e-01,\n",
            "            1.3216e-01,  1.3579e-01],\n",
            "          ...,\n",
            "          [-7.2129e-02, -1.8902e-01, -2.3389e-01,  ..., -1.9038e-01,\n",
            "           -1.5609e-01, -7.5974e-02],\n",
            "          [ 5.1161e-02, -2.5815e-02, -6.9357e-02,  ..., -5.8999e-02,\n",
            "           -6.1550e-02, -4.4555e-02],\n",
            "          [ 1.1174e-01,  7.8979e-02,  6.5849e-02,  ...,  3.1617e-02,\n",
            "            2.5221e-02,  7.4257e-03]]],\n",
            "\n",
            "\n",
            "        [[[-7.0826e-08, -6.4306e-08, -7.3806e-08,  ..., -9.8000e-08,\n",
            "           -1.0905e-07, -8.3421e-08],\n",
            "          [-6.1125e-09,  2.0613e-09, -8.0922e-09,  ..., -4.9840e-08,\n",
            "           -4.3836e-08, -3.0538e-09],\n",
            "          [ 7.1953e-08,  7.5616e-08,  5.9282e-08,  ..., -9.7509e-09,\n",
            "           -1.0951e-09,  4.2442e-08],\n",
            "          ...,\n",
            "          [ 9.5889e-08,  1.0039e-07,  7.9817e-08,  ..., -1.7491e-08,\n",
            "           -4.7666e-08, -1.3265e-08],\n",
            "          [ 1.2904e-07,  1.4762e-07,  1.7477e-07,  ...,  1.3233e-07,\n",
            "            1.0628e-07,  9.3316e-08],\n",
            "          [ 1.2558e-07,  1.3644e-07,  1.8431e-07,  ...,  2.1399e-07,\n",
            "            1.7710e-07,  1.7166e-07]],\n",
            "\n",
            "         [[-1.2690e-07, -9.6139e-08, -1.0372e-07,  ..., -1.1808e-07,\n",
            "           -1.3309e-07, -1.0820e-07],\n",
            "          [-5.7412e-08, -2.5055e-08, -3.0115e-08,  ..., -7.2922e-08,\n",
            "           -6.7022e-08, -2.2574e-08],\n",
            "          [ 2.1813e-08,  4.8608e-08,  3.1222e-08,  ..., -1.8694e-08,\n",
            "           -7.9591e-09,  3.9750e-08],\n",
            "          ...,\n",
            "          [ 5.6013e-08,  7.5526e-08,  4.4496e-08,  ..., -4.4128e-08,\n",
            "           -5.9930e-08, -1.8247e-08],\n",
            "          [ 7.7614e-08,  9.8348e-08,  1.0455e-07,  ...,  6.3272e-08,\n",
            "            4.1781e-08,  4.5901e-08],\n",
            "          [ 5.9834e-08,  7.1006e-08,  9.0437e-08,  ...,  1.1654e-07,\n",
            "            8.7550e-08,  9.8837e-08]],\n",
            "\n",
            "         [[-4.3810e-08,  1.3270e-08,  7.8275e-09,  ..., -5.8804e-09,\n",
            "           -2.6217e-08, -1.5649e-08],\n",
            "          [ 4.1700e-08,  1.0778e-07,  1.0946e-07,  ...,  7.6403e-08,\n",
            "            7.1450e-08,  9.7615e-08],\n",
            "          [ 1.0436e-07,  1.6586e-07,  1.5933e-07,  ...,  1.3517e-07,\n",
            "            1.3487e-07,  1.6449e-07],\n",
            "          ...,\n",
            "          [ 9.8763e-08,  1.5072e-07,  1.2547e-07,  ...,  6.8316e-08,\n",
            "            6.8382e-08,  1.1367e-07],\n",
            "          [ 9.1435e-08,  1.3576e-07,  1.3793e-07,  ...,  1.1678e-07,\n",
            "            1.1723e-07,  1.4394e-07],\n",
            "          [ 6.2183e-08,  8.8184e-08,  1.0456e-07,  ...,  1.3941e-07,\n",
            "            1.3333e-07,  1.5844e-07]]],\n",
            "\n",
            "\n",
            "        ...,\n",
            "\n",
            "\n",
            "        [[[-6.1896e-02, -3.0206e-02,  1.9225e-02,  ...,  4.3665e-02,\n",
            "           -2.2114e-02, -4.2214e-02],\n",
            "          [-3.8061e-02,  6.0774e-03,  4.5797e-02,  ...,  9.6029e-02,\n",
            "            5.9254e-02,  2.9958e-02],\n",
            "          [-2.9672e-02,  2.7766e-03,  2.0457e-02,  ...,  5.9828e-02,\n",
            "            4.1422e-02,  2.3134e-02],\n",
            "          ...,\n",
            "          [ 1.1916e-02,  4.5701e-02,  4.4892e-02,  ...,  4.7419e-02,\n",
            "            2.2274e-02, -5.4993e-03],\n",
            "          [-3.2468e-02, -1.2210e-02,  2.2023e-02,  ...,  5.8061e-02,\n",
            "           -7.5033e-03, -5.9736e-02],\n",
            "          [-4.3314e-02, -2.8162e-02, -5.9126e-03,  ...,  8.8460e-02,\n",
            "            8.4406e-03, -5.0019e-02]],\n",
            "\n",
            "         [[-6.1292e-02, -1.4004e-02,  1.7229e-02,  ...,  1.8349e-02,\n",
            "           -3.2708e-02, -4.1060e-02],\n",
            "          [-3.1506e-02,  2.4460e-02,  4.5516e-02,  ...,  6.6806e-02,\n",
            "            4.6687e-02,  3.3248e-02],\n",
            "          [-3.2216e-02,  2.0718e-02,  2.3343e-02,  ...,  3.5265e-02,\n",
            "            3.6478e-02,  3.1291e-02],\n",
            "          ...,\n",
            "          [ 1.7739e-02,  6.1040e-02,  4.8247e-02,  ...,  3.7785e-02,\n",
            "            2.8894e-02,  1.3984e-02],\n",
            "          [-1.0890e-02,  2.2079e-02,  4.2737e-02,  ...,  6.0247e-02,\n",
            "            1.6197e-02, -1.2493e-02],\n",
            "          [-2.2284e-02,  1.3220e-02,  3.0897e-02,  ...,  1.0403e-01,\n",
            "            4.0119e-02, -5.3310e-03]],\n",
            "\n",
            "         [[-8.5322e-02, -4.2603e-02,  6.8145e-03,  ...,  3.0751e-02,\n",
            "           -3.4818e-02, -4.9945e-02],\n",
            "          [-2.9215e-02,  1.8165e-02,  5.1092e-02,  ...,  9.0200e-02,\n",
            "            5.3438e-02,  4.0169e-02],\n",
            "          [-3.9932e-02, -1.1100e-03,  9.6176e-03,  ...,  2.4114e-02,\n",
            "            2.6298e-02,  2.5489e-02],\n",
            "          ...,\n",
            "          [-3.1890e-03,  3.0454e-02,  1.6316e-02,  ...,  5.5054e-03,\n",
            "           -6.2689e-03, -8.4638e-03],\n",
            "          [-2.2995e-02, -2.8211e-03,  2.3203e-02,  ...,  3.5888e-02,\n",
            "           -1.4296e-02, -3.2419e-02],\n",
            "          [-9.8894e-03,  7.0542e-03,  1.0659e-02,  ...,  7.0495e-02,\n",
            "            1.2996e-02, -8.3417e-03]]],\n",
            "\n",
            "\n",
            "        [[[-7.8699e-03,  1.9911e-02,  3.4208e-02,  ...,  2.8694e-02,\n",
            "            1.2820e-02,  1.8142e-02],\n",
            "          [ 8.7942e-03, -3.2875e-02, -3.5713e-02,  ...,  7.2533e-02,\n",
            "            4.5889e-02,  5.2383e-02],\n",
            "          [-3.6122e-02, -1.1878e-01, -1.3767e-01,  ...,  3.3811e-02,\n",
            "            3.7806e-02,  2.6944e-02],\n",
            "          ...,\n",
            "          [ 1.7322e-02,  3.9589e-03, -8.2269e-03,  ...,  2.7543e-03,\n",
            "            1.8313e-02,  1.6057e-02],\n",
            "          [-9.5007e-04,  1.6428e-02,  1.7156e-02,  ...,  3.3672e-03,\n",
            "            2.2857e-02,  6.5783e-04],\n",
            "          [ 6.1727e-03,  2.7145e-02,  1.4340e-02,  ...,  7.5867e-03,\n",
            "            1.8770e-02,  1.5624e-02]],\n",
            "\n",
            "         [[-1.3423e-02, -5.0696e-04,  8.0959e-03,  ..., -6.0963e-03,\n",
            "            9.2341e-03,  1.5751e-02],\n",
            "          [-1.8343e-02, -6.7982e-02, -7.0685e-02,  ...,  2.9855e-02,\n",
            "            2.6264e-02,  2.3773e-02],\n",
            "          [-5.4359e-02, -1.4663e-01, -1.6211e-01,  ...,  1.1781e-02,\n",
            "            3.2477e-02,  1.1980e-02],\n",
            "          ...,\n",
            "          [ 8.3686e-04, -1.7564e-02, -1.9535e-02,  ..., -4.1382e-03,\n",
            "            2.4658e-02,  1.2893e-02],\n",
            "          [-6.3183e-04,  1.1788e-02,  2.4810e-02,  ...,  6.1105e-03,\n",
            "            3.9210e-02,  9.6696e-03],\n",
            "          [-7.1831e-03,  6.6918e-03,  5.2723e-03,  ..., -7.6077e-03,\n",
            "            2.7253e-02,  1.7735e-02]],\n",
            "\n",
            "         [[-2.3753e-04, -4.9343e-03,  2.2991e-03,  ..., -4.7958e-02,\n",
            "           -2.6154e-02, -2.3525e-02],\n",
            "          [-3.3053e-04, -5.1502e-02, -5.9977e-02,  ..., -1.7369e-02,\n",
            "           -2.3337e-02, -3.7312e-02],\n",
            "          [-2.2674e-02, -9.9412e-02, -1.1176e-01,  ..., -1.1725e-02,\n",
            "           -8.3744e-03, -4.0615e-02],\n",
            "          ...,\n",
            "          [ 1.1437e-02, -8.0313e-03, -1.4955e-03,  ..., -3.4133e-02,\n",
            "           -8.7267e-03, -2.3526e-02],\n",
            "          [ 2.9522e-03,  6.7770e-04,  1.9933e-02,  ..., -2.2002e-02,\n",
            "            1.4814e-02, -1.4487e-02],\n",
            "          [-1.9085e-02, -2.9430e-02, -2.3284e-02,  ..., -4.8587e-02,\n",
            "           -1.3049e-02, -2.4368e-02]]],\n",
            "\n",
            "\n",
            "        [[[-3.6296e-02,  7.1996e-03,  1.9100e-02,  ...,  1.9602e-02,\n",
            "            1.4870e-02, -1.7298e-02],\n",
            "          [-1.1061e-02,  8.5665e-02,  1.2667e-01,  ...,  1.3744e-02,\n",
            "           -5.5036e-05, -3.0162e-02],\n",
            "          [ 1.1322e-01,  1.8634e-01,  5.0658e-02,  ..., -1.7333e-01,\n",
            "           -7.2041e-02, -6.2474e-02],\n",
            "          ...,\n",
            "          [-5.3062e-02, -2.5781e-01, -2.6747e-01,  ...,  2.6781e-01,\n",
            "            1.4344e-01,  5.5145e-02],\n",
            "          [-2.1009e-02, -2.9969e-02,  1.0245e-01,  ...,  2.0843e-01,\n",
            "           -4.1518e-03, -3.8118e-02],\n",
            "          [-2.2155e-02,  1.2380e-02,  8.4302e-02,  ..., -4.4992e-02,\n",
            "           -1.4687e-01, -9.0890e-02]],\n",
            "\n",
            "         [[-5.3969e-03,  3.2799e-02,  1.5486e-02,  ..., -7.7451e-03,\n",
            "            3.0229e-03,  1.1216e-03],\n",
            "          [ 6.1723e-02,  1.4899e-01,  1.4645e-01,  ..., -2.8897e-02,\n",
            "           -2.0227e-02, -9.1878e-03],\n",
            "          [ 1.6146e-01,  2.0886e-01, -2.5589e-02,  ..., -2.7278e-01,\n",
            "           -1.0735e-01, -6.2971e-02],\n",
            "          ...,\n",
            "          [-1.3723e-01, -4.0863e-01, -3.8551e-01,  ...,  4.0846e-01,\n",
            "            2.6202e-01,  1.3491e-01],\n",
            "          [-5.9388e-02, -6.1187e-02,  1.4197e-01,  ...,  3.5780e-01,\n",
            "            9.0893e-02, -1.7392e-03],\n",
            "          [ 7.8613e-03,  5.8403e-02,  1.5339e-01,  ...,  4.7045e-02,\n",
            "           -1.0095e-01, -9.7920e-02]],\n",
            "\n",
            "         [[-5.6799e-03,  1.3425e-02, -2.6461e-02,  ...,  4.4881e-03,\n",
            "            2.0666e-03,  1.3902e-02],\n",
            "          [ 6.5943e-03,  4.5181e-02,  6.0260e-02,  ...,  1.4368e-02,\n",
            "           -5.0725e-03,  4.0505e-03],\n",
            "          [ 5.5257e-02,  1.2397e-01,  4.3193e-02,  ..., -1.4486e-01,\n",
            "           -7.4489e-02, -5.7533e-02],\n",
            "          ...,\n",
            "          [-3.1513e-02, -1.6334e-01, -1.5795e-01,  ...,  2.2904e-01,\n",
            "            1.2017e-01,  7.1998e-02],\n",
            "          [-1.0456e-02, -1.1248e-03,  8.4582e-02,  ...,  1.5748e-01,\n",
            "            2.2142e-02, -1.0083e-02],\n",
            "          [-4.8639e-03, -5.0065e-03,  3.6341e-02,  ..., -2.4361e-02,\n",
            "           -7.1195e-02, -6.6788e-02]]]], requires_grad=True)\n",
            "tensor([[[[ 2.0409e+00,  7.2756e-01, -2.7809e+00,  ..., -1.0397e+01,\n",
            "            1.2409e+00,  1.6381e+00],\n",
            "          [ 1.1203e+01,  2.6102e+00,  2.6030e+01,  ...,  1.0708e+01,\n",
            "           -1.3031e+01, -4.5893e+00],\n",
            "          [ 6.5499e+00,  4.3623e+00, -1.6095e+00,  ...,  8.2227e-01,\n",
            "            4.1144e+00,  4.6058e+00],\n",
            "          ...,\n",
            "          [-5.4741e+00, -7.2475e+00,  2.4994e+01,  ...,  6.9766e+00,\n",
            "           -1.1081e+01,  9.2574e-01],\n",
            "          [-1.1531e+01,  7.6936e+00, -9.4400e-01,  ..., -7.2887e+00,\n",
            "           -7.0305e+00,  1.1168e+01],\n",
            "          [ 1.6676e+00, -4.6028e+00,  1.0935e+01,  ..., -4.7544e+00,\n",
            "            1.3832e+01, -4.1937e+00]],\n",
            "\n",
            "         [[ 5.0701e+00, -2.2212e+00,  9.2851e-01,  ...,  2.1101e+00,\n",
            "           -2.8069e+00, -1.9788e+00],\n",
            "          [ 1.0811e+01,  1.8816e+01,  6.6976e+00,  ..., -1.0183e+01,\n",
            "            1.2847e+01,  1.2577e+01],\n",
            "          [ 1.3853e+01,  1.6949e+01,  3.5585e+00,  ...,  1.1713e+00,\n",
            "            3.2352e+00,  6.5754e+00],\n",
            "          ...,\n",
            "          [-7.6991e+00,  3.2914e+00,  1.2526e+01,  ...,  1.3579e+01,\n",
            "            3.2313e+00, -2.3821e+00],\n",
            "          [-1.0243e+00, -3.6586e+00, -9.6066e+00,  ..., -5.1166e+00,\n",
            "            2.3254e+00,  1.2354e+01],\n",
            "          [-1.5692e+01,  1.0184e+01,  3.5397e-01,  ..., -1.0183e+00,\n",
            "           -8.1136e-01, -1.0916e+01]],\n",
            "\n",
            "         [[ 9.8386e+00,  1.0846e+01, -7.4230e+00,  ...,  9.3039e-02,\n",
            "            1.1923e+01, -1.8327e+01],\n",
            "          [ 8.3191e+00, -1.3450e+00,  1.9560e+01,  ...,  8.1134e+00,\n",
            "            1.4306e-01,  2.4843e+00],\n",
            "          [-9.0827e+00, -8.0016e-01, -4.1408e+00,  ...,  2.0338e+01,\n",
            "            1.4464e+01,  1.6922e+01],\n",
            "          ...,\n",
            "          [-6.8418e+00,  3.0597e+00,  8.2586e+00,  ..., -4.7141e+00,\n",
            "            1.3914e+01,  4.5148e-01],\n",
            "          [ 2.2651e-01, -3.2679e+00,  3.4947e+00,  ..., -3.4207e-01,\n",
            "           -6.6929e+00, -7.8305e+00],\n",
            "          [ 5.6830e+00,  4.4808e+00,  1.5037e+01,  ...,  2.4065e+00,\n",
            "           -1.1002e+00,  3.5064e+00]]],\n",
            "\n",
            "\n",
            "        [[[ 1.3652e+01, -7.9626e+00,  8.4874e+00,  ..., -2.5130e+01,\n",
            "            2.2581e+00,  1.6749e+01],\n",
            "          [-6.5438e+00, -1.7239e+01,  1.5367e+00,  ..., -1.8358e+01,\n",
            "           -9.8819e+00,  1.4349e+01],\n",
            "          [ 7.4846e+00, -2.7888e+00,  2.1757e+01,  ..., -1.0800e+01,\n",
            "            1.2366e+01, -1.8214e+01],\n",
            "          ...,\n",
            "          [ 4.5496e+00,  1.2784e+00, -6.2010e+00,  ...,  2.3492e+00,\n",
            "            2.4169e+00, -9.2057e-01],\n",
            "          [ 2.0052e+01,  2.8617e+00,  2.0008e+00,  ...,  1.1101e+01,\n",
            "           -3.8485e+00,  2.1642e+01],\n",
            "          [ 1.4066e+01,  1.0705e+01,  1.6791e+01,  ..., -5.9623e-01,\n",
            "            1.3366e+01, -1.0536e+01]],\n",
            "\n",
            "         [[-2.1643e+01, -1.3698e+01,  1.2521e+00,  ..., -1.2917e+01,\n",
            "           -7.4352e+00, -3.0999e+00],\n",
            "          [ 1.3317e+01,  5.8807e+00, -2.2916e+01,  ..., -8.8835e-01,\n",
            "           -1.0296e+01, -6.2550e+00],\n",
            "          [ 1.5823e+01, -1.1748e+01,  4.1084e+00,  ...,  4.3847e+00,\n",
            "            2.1176e+01, -3.6162e+00],\n",
            "          ...,\n",
            "          [ 1.8976e+01, -9.7660e+00,  5.5976e+00,  ..., -9.1775e+00,\n",
            "           -8.2595e+00,  1.1585e+01],\n",
            "          [ 1.2041e+01,  5.9712e+00, -6.5730e+00,  ...,  8.5169e-01,\n",
            "            9.7404e+00,  7.7827e+00],\n",
            "          [ 2.4179e+01, -1.8974e+01,  1.9683e+01,  ...,  8.0785e+00,\n",
            "           -1.2097e+00, -1.4930e+01]],\n",
            "\n",
            "         [[ 1.3772e+01, -2.6593e+00,  7.4590e+00,  ..., -2.5312e+00,\n",
            "            4.5190e+00,  2.1302e+01],\n",
            "          [ 1.8850e+01, -1.7742e+00,  2.5784e+01,  ...,  1.8025e+01,\n",
            "           -2.6119e+00,  6.5294e+00],\n",
            "          [-2.5099e-02, -3.4046e+00, -5.8300e+00,  ...,  3.5188e+01,\n",
            "           -6.8626e+00, -9.2412e+00],\n",
            "          ...,\n",
            "          [ 9.2273e+00,  4.0792e+00, -6.2563e+00,  ..., -1.2163e+01,\n",
            "            2.2742e+01, -3.2026e+00],\n",
            "          [ 1.0669e+01,  5.6658e+00,  3.3034e+00,  ...,  1.0005e+01,\n",
            "           -3.8721e+00, -3.0061e+00],\n",
            "          [ 2.3289e+01,  1.2211e+01,  1.8500e+00,  ...,  1.1825e+01,\n",
            "            2.5237e+00, -2.8038e+01]]],\n",
            "\n",
            "\n",
            "        [[[ 0.0000e+00,  0.0000e+00,  0.0000e+00,  ...,  0.0000e+00,\n",
            "            0.0000e+00,  0.0000e+00],\n",
            "          [ 0.0000e+00,  0.0000e+00,  0.0000e+00,  ...,  0.0000e+00,\n",
            "            0.0000e+00,  0.0000e+00],\n",
            "          [ 0.0000e+00,  0.0000e+00,  0.0000e+00,  ...,  0.0000e+00,\n",
            "            0.0000e+00,  0.0000e+00],\n",
            "          ...,\n",
            "          [ 0.0000e+00,  0.0000e+00,  0.0000e+00,  ...,  0.0000e+00,\n",
            "            0.0000e+00,  0.0000e+00],\n",
            "          [ 0.0000e+00,  0.0000e+00,  0.0000e+00,  ...,  0.0000e+00,\n",
            "            0.0000e+00,  0.0000e+00],\n",
            "          [ 0.0000e+00,  0.0000e+00,  0.0000e+00,  ...,  0.0000e+00,\n",
            "            0.0000e+00,  0.0000e+00]],\n",
            "\n",
            "         [[ 0.0000e+00,  0.0000e+00,  0.0000e+00,  ...,  0.0000e+00,\n",
            "            0.0000e+00,  0.0000e+00],\n",
            "          [ 0.0000e+00,  0.0000e+00,  0.0000e+00,  ...,  0.0000e+00,\n",
            "            0.0000e+00,  0.0000e+00],\n",
            "          [ 0.0000e+00,  0.0000e+00,  0.0000e+00,  ...,  0.0000e+00,\n",
            "            0.0000e+00,  0.0000e+00],\n",
            "          ...,\n",
            "          [ 0.0000e+00,  0.0000e+00,  0.0000e+00,  ...,  0.0000e+00,\n",
            "            0.0000e+00,  0.0000e+00],\n",
            "          [ 0.0000e+00,  0.0000e+00,  0.0000e+00,  ...,  0.0000e+00,\n",
            "            0.0000e+00,  0.0000e+00],\n",
            "          [ 0.0000e+00,  0.0000e+00,  0.0000e+00,  ...,  0.0000e+00,\n",
            "            0.0000e+00,  0.0000e+00]],\n",
            "\n",
            "         [[ 0.0000e+00,  0.0000e+00,  0.0000e+00,  ...,  0.0000e+00,\n",
            "            0.0000e+00,  0.0000e+00],\n",
            "          [ 0.0000e+00,  0.0000e+00,  0.0000e+00,  ...,  0.0000e+00,\n",
            "            0.0000e+00,  0.0000e+00],\n",
            "          [ 0.0000e+00,  0.0000e+00,  0.0000e+00,  ...,  0.0000e+00,\n",
            "            0.0000e+00,  0.0000e+00],\n",
            "          ...,\n",
            "          [ 0.0000e+00,  0.0000e+00,  0.0000e+00,  ...,  0.0000e+00,\n",
            "            0.0000e+00,  0.0000e+00],\n",
            "          [ 0.0000e+00,  0.0000e+00,  0.0000e+00,  ...,  0.0000e+00,\n",
            "            0.0000e+00,  0.0000e+00],\n",
            "          [ 0.0000e+00,  0.0000e+00,  0.0000e+00,  ...,  0.0000e+00,\n",
            "            0.0000e+00,  0.0000e+00]]],\n",
            "\n",
            "\n",
            "        ...,\n",
            "\n",
            "\n",
            "        [[[-1.8738e+00,  2.7593e+00,  4.9652e+01,  ...,  8.0776e+01,\n",
            "           -6.0492e+01, -8.4262e+00],\n",
            "          [ 3.6019e+01,  6.2538e+00, -6.5599e+01,  ...,  6.0043e+00,\n",
            "           -1.5697e+01, -1.2047e+01],\n",
            "          [-2.1628e+01, -9.9813e+01,  5.6913e+01,  ..., -1.8730e+01,\n",
            "            5.3138e+00, -4.6272e+01],\n",
            "          ...,\n",
            "          [ 2.7059e+01,  4.1182e+01,  6.4041e+01,  ...,  4.7526e+01,\n",
            "            4.5160e+01,  6.6106e+00],\n",
            "          [-4.4074e+01,  4.2421e+01, -7.7862e+01,  ...,  1.5995e+01,\n",
            "            3.2086e-01,  5.7975e+01],\n",
            "          [-1.5334e+01, -4.4795e+01,  2.6071e+01,  ...,  8.9613e+01,\n",
            "           -3.9079e+01, -9.7708e+00]],\n",
            "\n",
            "         [[-9.5507e+01, -3.3498e+01, -4.0010e+01,  ...,  1.8516e+01,\n",
            "            1.0429e+01, -6.0502e+01],\n",
            "          [-8.1192e+01, -5.0142e+01,  4.6678e+01,  ..., -2.5250e+01,\n",
            "           -2.3555e+01,  2.4311e+01],\n",
            "          [-1.8006e+01,  8.2329e+00,  4.5172e+01,  ...,  2.6321e+01,\n",
            "           -2.3856e+00, -2.6256e+00],\n",
            "          ...,\n",
            "          [-1.3143e+01, -3.8176e+01,  6.7044e+01,  ...,  5.6533e+01,\n",
            "           -3.2202e+01,  2.7700e+01],\n",
            "          [ 5.5999e+01, -5.2209e+00,  7.9554e+00,  ..., -6.9671e+00,\n",
            "           -1.4710e+01, -4.3518e+01],\n",
            "          [-2.2220e+01,  3.6065e+01,  2.2894e+01,  ..., -8.0596e+01,\n",
            "           -8.6522e+00, -3.2839e+01]],\n",
            "\n",
            "         [[-2.7914e+01, -2.0953e+01, -2.4007e+01,  ..., -2.4965e+01,\n",
            "           -4.6502e+00, -2.5109e+01],\n",
            "          [ 2.0336e+01, -4.4889e+01, -8.0758e+01,  ...,  2.9599e+01,\n",
            "           -2.4706e+01,  7.6459e+00],\n",
            "          [ 1.1987e+00,  5.6399e+01, -5.7738e+01,  ..., -3.3699e+01,\n",
            "           -6.8804e+00,  5.3830e+01],\n",
            "          ...,\n",
            "          [-1.7875e+01, -4.7807e+01,  3.4301e+01,  ...,  2.8601e+00,\n",
            "           -8.4549e+01, -8.9702e+01],\n",
            "          [ 4.7563e+01, -2.9043e+01, -1.1811e+02,  ..., -3.3682e+01,\n",
            "           -5.7060e+01, -1.5053e+00],\n",
            "          [ 3.6795e+01,  3.3729e+01, -2.2005e+01,  ..., -4.2007e+01,\n",
            "           -2.0228e+01, -5.4261e+01]]],\n",
            "\n",
            "\n",
            "        [[[-1.2886e+00, -7.9144e+00, -1.9351e+01,  ...,  1.8735e+00,\n",
            "           -7.4670e-01, -8.6957e+00],\n",
            "          [-1.2180e+01, -4.6482e+00, -1.9575e+01,  ...,  4.7830e+01,\n",
            "           -1.1167e+01, -1.1399e+01],\n",
            "          [-1.4153e+01,  1.1502e+01,  3.3684e+00,  ...,  9.4786e+00,\n",
            "           -4.7461e+01, -1.1888e+01],\n",
            "          ...,\n",
            "          [-5.4641e-01, -2.0192e+01, -2.8611e+01,  ..., -2.3629e+01,\n",
            "            2.0563e+01, -1.0344e+01],\n",
            "          [-1.4221e+01, -1.6034e+00, -3.7072e+00,  ...,  4.1675e+01,\n",
            "           -4.5391e+00,  1.9218e+01],\n",
            "          [ 1.9557e+01, -1.6188e+01, -1.6795e+01,  ..., -4.4431e+00,\n",
            "           -2.1435e+01, -2.9749e+01]],\n",
            "\n",
            "         [[-9.7564e+00,  9.0270e+00, -2.5644e+01,  ..., -3.9814e+00,\n",
            "            1.9499e+01, -2.0425e+01],\n",
            "          [-1.5233e+01, -6.1119e+00, -1.0664e+01,  ...,  1.4410e+01,\n",
            "           -1.4214e+00,  1.3628e+01],\n",
            "          [-2.8632e-01,  6.4614e+00,  1.4126e+01,  ..., -1.9780e+00,\n",
            "            1.5311e+01, -2.0764e+01],\n",
            "          ...,\n",
            "          [ 3.8961e+00,  3.6861e+01, -2.9134e+01,  ..., -8.4857e-01,\n",
            "           -7.2825e+00,  2.7692e+00],\n",
            "          [-7.3105e+00,  6.3460e+00,  6.6801e+00,  ...,  1.1270e+01,\n",
            "            1.2643e+01, -3.5226e+01],\n",
            "          [ 5.0241e+00, -1.5566e+01, -1.7767e+01,  ..., -1.1917e+01,\n",
            "            1.5592e+01, -2.5446e+01]],\n",
            "\n",
            "         [[-1.4478e+01, -8.4040e+00,  1.5097e+01,  ...,  4.2833e+00,\n",
            "           -2.0109e+01,  1.9585e+01],\n",
            "          [-2.3049e+01, -2.5266e+01, -1.1605e+01,  ..., -2.2110e+01,\n",
            "            2.0255e+01, -1.8724e+01],\n",
            "          [-1.6698e+00,  1.0316e+01, -9.4329e+00,  ..., -1.9029e+01,\n",
            "           -3.8277e+01, -1.2967e+01],\n",
            "          ...,\n",
            "          [-1.1921e+01, -1.4498e+01,  1.7423e+01,  ..., -9.9047e+00,\n",
            "           -2.3017e+01,  9.0744e+00],\n",
            "          [-9.6555e+00, -2.0862e+01, -2.7277e+01,  ..., -2.1381e+01,\n",
            "            1.8222e-01, -1.8958e+01],\n",
            "          [-3.3103e+00,  7.9283e+00,  7.3178e+00,  ..., -8.2831e+00,\n",
            "           -3.7504e+00, -6.6548e+00]]],\n",
            "\n",
            "\n",
            "        [[[ 5.7936e+00, -4.6096e-01,  6.9522e+00,  ..., -7.9653e-01,\n",
            "            1.5240e+01,  2.1873e+01],\n",
            "          [ 2.0365e+01,  9.8467e-01,  1.5756e+01,  ...,  8.3076e+00,\n",
            "            9.2826e+00,  9.1117e+00],\n",
            "          [ 3.1965e+00, -2.0476e+00, -1.6675e+00,  ..., -1.2289e+00,\n",
            "            1.1039e+01, -4.4094e+00],\n",
            "          ...,\n",
            "          [-2.1386e+01, -1.0327e+00, -5.8106e+00,  ..., -1.3015e+01,\n",
            "            9.1183e+00, -7.8208e+00],\n",
            "          [ 2.1859e+01, -2.9886e+00,  1.4138e+01,  ..., -9.0315e+00,\n",
            "            2.6688e+01, -2.7554e+00],\n",
            "          [-9.5669e-01, -6.4985e+00,  1.7603e+01,  ...,  7.8588e+00,\n",
            "           -5.0358e+00,  1.6206e+01]],\n",
            "\n",
            "         [[ 2.0450e+01,  1.3007e+01, -1.8719e+00,  ...,  2.8386e+01,\n",
            "           -5.4475e+00,  1.6183e+01],\n",
            "          [ 1.4345e+01,  1.3948e+01,  1.4641e+01,  ...,  3.5371e+00,\n",
            "           -2.4060e+00,  3.7473e+00],\n",
            "          [ 9.9037e+00,  5.2717e+00,  1.1057e+01,  ...,  2.0633e+01,\n",
            "            1.7222e+00,  2.3563e+01],\n",
            "          ...,\n",
            "          [ 3.1287e+01, -2.5268e+01,  4.0475e-01,  ...,  2.6154e+00,\n",
            "            1.2439e+01,  7.0045e+00],\n",
            "          [-1.7005e+01,  1.2649e+01,  1.9747e+00,  ..., -5.9081e+00,\n",
            "            2.8699e+01,  1.1048e+00],\n",
            "          [ 1.5661e+01,  3.9203e+00,  1.1403e+01,  ...,  2.3671e+01,\n",
            "            1.2679e+01, -1.6414e+00]],\n",
            "\n",
            "         [[ 3.3090e+01,  5.0153e+00,  2.6759e+01,  ..., -6.3266e+00,\n",
            "           -1.7141e+01,  9.0477e+00],\n",
            "          [ 1.5654e+01, -9.0799e+00,  9.6385e+00,  ..., -2.3528e+00,\n",
            "           -2.2146e+00, -5.2700e+00],\n",
            "          [ 1.9433e+01, -1.1885e+01, -3.4679e+01,  ...,  1.0067e+01,\n",
            "            1.2911e+01, -1.7352e+01],\n",
            "          ...,\n",
            "          [-1.0760e+01,  5.8269e+00, -6.9927e+00,  ...,  3.0540e+00,\n",
            "            1.4507e+01, -1.1370e+00],\n",
            "          [-2.4591e+01,  3.4302e+00,  8.4061e+00,  ..., -1.4226e-01,\n",
            "           -4.1360e+00, -7.2649e+00],\n",
            "          [-3.6909e+01, -1.5136e+01,  5.1167e+00,  ...,  6.9506e+00,\n",
            "            1.2061e+00,  2.1624e+01]]]])\n"
          ]
        }
      ]
    },
    {
      "cell_type": "code",
      "source": [
        "# 10. What should grad attribute for loss return for you? Verify\n",
        "# None because loss is not a leaf node, and we hadn’t set loss.retain_grad(), \n",
        "# which enables a non-leaf Tensor to have its grad populated during backward().\n",
        "\n",
        "# 11. What should the requires_grad attribute for loss be? Verify. True\n",
        "print(loss.requires_grad) # True\n",
        "\n",
        "# 12. What should requires_grade for labels be? Verify\n",
        "print(labels.requires_grad)\n",
        "\n",
        "# 13. What will happen if you perform the backward pass again\n",
        "# Runtime Error because saved intermediate values of the graph are freed when we \n",
        "# call .backward() the first time if we don’t specify retain_graph=True.\n",
        "\n",
        "# 14. Create an SGD optimizer object iwth lr=1e-2 and momentum=0.9\n",
        "sgd = torch.optim.SGD(model.parameters(), lr=1e-2, momentum=0.9)\n",
        "sgd.step() \n",
        "\n",
        "# 15. Should w have changed? Yes, the step modifies the parameters. \n",
        "\n",
        "# 16. Should loss have changed? \n",
        "# No (because it’s not a parameter that is part of model parameters)\n",
        "\n",
        "# 17. Zero the gradients for all trainable parameters\n",
        "model.zero_grad()\n",
        "\n",
        "# 18. What should the grad attribute for w be? Verify. Zero\n",
        "\n",
        "# 19. Determine, without running, whether te following code will succesfully exsecute\n",
        "data1 = torch.zeros(1, 3, 64, 64)\n",
        "data2 = torch.ones(1, 3, 64, 64)\n",
        "\n",
        "predictions1 = model(data1)\n",
        "predictions2 = model(data2)\n",
        "\n",
        "l = torch.nn.CrossEntropyLoss()\n",
        "loss1 = l(predictions1, labels)\n",
        "loss2 = l(predictions2, labels)\n",
        "\n",
        "loss1.backward()\n",
        "loss2.backward()\n",
        "\n",
        "# Yes! loss2.backward() wouldn’t work when intermediate values of the graph are \n",
        "# freed; however, we are not using the same intermediate values for loss2, \n",
        "# so it will work.\n",
        "\n",
        "# 20. Determine whether the following code will successfully execute\n",
        "\n",
        "\"\"\"\n",
        "data1 = torch.zeros(1, 3, 64, 64)\n",
        "data2 = torch.ones(1, 3, 64, 64)\n",
        "\n",
        "predictions1 = model(data1)\n",
        "predictions2 = model(data2)\n",
        "\n",
        "l = torch.nn.CrossEntropyLoss()\n",
        "loss1 = l(predictions1, labels)\n",
        "loss2 = l(predictions1, labels)\n",
        "\n",
        "loss1.backward()\n",
        "loss2.backward()\n",
        "\"\"\"\n",
        "# No! loss2.backward() won’t work when intermediate values of the graph are freed; \n",
        "# here, predictions1 will have been freed.\n",
        "\n",
        "# 21. For one(s) that don’t execute, how might you modify one of the .backward \n",
        "# lines to make it work? \n",
        "# Change the first .backward() call to use retain_graph=True\n",
        "\n",
        "data1 = torch.zeros(1, 3, 64, 64)\n",
        "data2 = torch.ones(1, 3, 64, 64)\n",
        "\n",
        "predictions1 = model(data1)\n",
        "predictions2 = model(data2)\n",
        "\n",
        "l = torch.nn.CrossEntropyLoss()\n",
        "loss1 = l(predictions1, labels)\n",
        "loss2 = l(predictions1, labels)\n",
        "\n",
        "loss1.backward(retain_graph=True)\n",
        "loss2.backward()\n",
        "\n",
        "\n"
      ],
      "metadata": {
        "colab": {
          "base_uri": "https://localhost:8080/"
        },
        "id": "g4Y59t6CVQHh",
        "outputId": "4f172d29-ed6e-46cc-bf55-a6586ad88108"
      },
      "execution_count": 16,
      "outputs": [
        {
          "output_type": "stream",
          "name": "stdout",
          "text": [
            "True\n",
            "False\n"
          ]
        }
      ]
    },
    {
      "cell_type": "code",
      "source": [
        "# 22. What will the output of the following code?\n",
        "\n",
        "predictions1 = model(data)\n",
        "l = torch.nn.CrossEntropyLoss()\n",
        "loss1 = l(predictions1, labels)\n",
        "loss1.backward(retain_graph=True)\n",
        "\n",
        "w = model.conv1.weight.grad[0][0][0][0]\n",
        "a = w.item()\n",
        "\n",
        "loss1.backward()\n",
        "b = w.item()\n",
        "\n",
        "model.zero_grad()\n",
        "c = w.item()\n",
        "\n",
        "print(b//a,c)\n",
        "\n"
      ],
      "metadata": {
        "colab": {
          "base_uri": "https://localhost:8080/"
        },
        "id": "rFaKMb0yViMH",
        "outputId": "8af5ca6f-e860-4522-954b-b167e72ab79a"
      },
      "execution_count": 17,
      "outputs": [
        {
          "output_type": "stream",
          "name": "stdout",
          "text": [
            "1.0 0.0\n"
          ]
        }
      ]
    },
    {
      "cell_type": "code",
      "source": [
        "\n",
        "predictions1 = model(data)\n",
        "l = torch.nn.CrossEntropyLoss()\n",
        "loss1 = l(predictions1, labels)\n",
        "loss1.backward(retain_graph=True)\n",
        "\n",
        "a = model.conv1.weight.grad[0][0][0][0]\n",
        "\n",
        "loss1.backward()\n",
        "b = model.conv1.weight.grad[0][0][0][0]\n",
        "\n",
        "model.zero_grad()\n",
        "c = model.conv1.weight.grad[0][0][0][0]\n",
        "\n",
        "print(b//a,c)\n",
        "\n"
      ],
      "metadata": {
        "colab": {
          "base_uri": "https://localhost:8080/"
        },
        "id": "cd2I0MTcaFYH",
        "outputId": "5ba3fcf4-a744-415e-a717-da7c45751fa4"
      },
      "execution_count": 18,
      "outputs": [
        {
          "output_type": "stream",
          "name": "stdout",
          "text": [
            "tensor(nan) tensor(0.)\n"
          ]
        },
        {
          "output_type": "stream",
          "name": "stderr",
          "text": [
            "/usr/local/lib/python3.7/dist-packages/ipykernel_launcher.py:14: UserWarning: __floordiv__ is deprecated, and its behavior will change in a future version of pytorch. It currently rounds toward 0 (like the 'trunc' function NOT 'floor'). This results in incorrect rounding for negative values. To keep the current behavior, use torch.div(a, b, rounding_mode='trunc'), or for actual floor division, use torch.div(a, b, rounding_mode='floor').\n",
            "  \n"
          ]
        }
      ]
    },
    {
      "cell_type": "code",
      "source": [
        "# 23. What is wrong with the following code?\n",
        "learning_rate = 0.01\n",
        "for f in net.parameters():\n",
        "  f.data.sub(f.grad.data * learning_rate)\n",
        "# The sub call should be sub_, which will correctly perform the expected in-place operation.\n",
        "\n",
        "# 24. Order the following steps of the training loop correctly (there \n",
        "# are multiple correct answers, but one typical setup that you would have seen in this tutorial)\n",
        "optimizer.zero_grad()\n",
        "output = net(input)\n",
        "loss = criterion(output, target)\n",
        "loss.backward()\n",
        "optimizer.step()\n",
        "\n",
        "# 25. What will be the output of the following code?\n",
        "\n",
        "net = resnet18(weights=ResNet18_Weights.DEFAULT)\n",
        "data = torch.rand(1, 3, 64, 64)\n",
        "target = torch.rand(1, 1000)\n",
        "optimizer = torch.optim.SGD(net.parameters(), lr=0.001, momentum=0.9)\n",
        "criterion = torch.nn.CrossEntropyLoss()\n",
        "orig = net.conv1.weight.clone()[0, 0, 0, 0]\n",
        "weight = net.conv1.weight[0, 0, 0, 0]\n",
        "# 1\n",
        "optimizer.zero_grad()\n",
        "print(f\"{weight == orig}\")\n",
        "\n",
        "# 2\n",
        "output = net(data)\n",
        "loss = criterion(output, target)\n",
        "print(f\"{weight == orig}\")\n",
        "\n",
        "# 3\n",
        "loss.backward()\n",
        "print(f\"{weight == orig}\")\n",
        "\n",
        "# 4\n",
        "optimizer.step()\n",
        "print(f\"{weight == orig}\")\n",
        "\n",
        "\n",
        "# True\n",
        "# True\n",
        "# True\n",
        "# False"
      ],
      "metadata": {
        "id": "6JYjRwTpaJS9"
      },
      "execution_count": null,
      "outputs": []
    },
    {
      "cell_type": "code",
      "source": [
        "# 26. Implement a neural network with one hidden layer. It will take in a grayscale \n",
        "# image input of 32x32, flatten it, run it through an affine transformation with \n",
        "# 100 out_features, apply a relu non-linearity, and then map onto the target classes.\n",
        "# Implemente the initialization and the forward pass completing the following piece \n",
        "# of code\n",
        "\n",
        "import torch\n",
        "import torch.nn as nn\n",
        "import torch.nn.functional as F\n",
        "\n",
        "class Net(nn.Module):\n",
        "  super(Net, self).__init__()\n",
        "  self.fc1 = nn.Linear(32 * 32, 100)\n",
        "  self.fc2 = nn.Linear(100, 10)\n",
        "\n",
        "  def __init__(self):\n",
        "      super(Net, self).__init__()\n",
        "      self.fc1 = nn.Linear(32 * 32, 100)\n",
        "      self.fc2 = nn.Linear(100, 10)\n",
        "      \n",
        "  def forward(self, x):\n",
        "    x = torch.flatten(x, 1)\n",
        "    x = F.relu(self.fc1(x))\n",
        "    x = self.fc2(x)\n",
        "    return x\n",
        "\n",
        "# 27. Using two lines of code, verify that you're able to do a forward pass through\n",
        "# the above network\n",
        "\n",
        "net = Net()\n",
        "preds = net.forward(torch.randn(1, 1, 32, 32))\n",
        "\n"
      ],
      "metadata": {
        "id": "KF6tF5764u6N"
      },
      "execution_count": null,
      "outputs": []
    },
    {
      "cell_type": "code",
      "source": [
        "# 27. Without running the code, guess what would the following statement yield\n",
        "net = Net()\n",
        "print(len(list(net.parameters())))\n",
        "# 4\n",
        "\n",
        "# 28. What network layer is the following statement referring to? What will it evaluate to?\n",
        "print(list(net.parameters())[1].size())\n",
        "# Fc1.bias. torch.Size([100])"
      ],
      "metadata": {
        "id": "oDYMOxd25WYT"
      },
      "execution_count": null,
      "outputs": []
    },
    {
      "cell_type": "markdown",
      "source": [
        "![Screen Shot 2022-10-17 at 16.43.10.png](data:image/png;base64,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)"
      ],
      "metadata": {
        "id": "S_1jPCCE5mbB"
      }
    },
    {
      "cell_type": "code",
      "source": [
        "# 29. The following schematic has all of the information you need to implement a neural \n",
        "# network. Implement the initialization and the forward pass completing the \n",
        "# following pieces of code. Use nn.Conv2d, nn.Linear, F.max_pool2d, F.relu, \n",
        "# torch.flatten. Hint: the ReLUs are applied after the subsampling operations \n",
        "# and after the first two fully connected layers.\n",
        "\n",
        "import torch\n",
        "import torch.nn as nn\n",
        "import torch.nn.functional as F\n",
        "\n",
        "\n",
        "class Net(nn.Module):\n",
        "    def __init__(self):\n",
        "        super(Net, self).__init__()\n",
        "        # your code here\n",
        "        self.conv1 = nn.Conv2d(1, 6, 5)\n",
        "        self.conv2 = nn.Conv2d(6, 16, 5)\n",
        "        self.fc1 = nn.Linear(16 * 5 * 5, 120)\n",
        "        self.fc2 = nn.Linear(120, 84)\n",
        "        self.fc3 = nn.Linear(84, 10)\n",
        "\n",
        "    def forward(self, x):\n",
        "        x = self.conv1(x)\n",
        "        x = F.max_pool2d(x, 2)\n",
        "        x = F.relu(x)\n",
        "        x = self.conv2(x)\n",
        "        x = F.max_pool2d(x, 2)\n",
        "        x = F.relu(x)\n",
        "        x = torch.flatten(x, 1)\n",
        "        x = self.fc1(x)\n",
        "        x = F.relu(x)\n",
        "        x = self.fc2(x)\n",
        "        x = F.relu(x)\n",
        "        x = self.fc3(x)\n",
        "        return x\n",
        "\n"
      ],
      "metadata": {
        "id": "e_ZUMiQc5Npx"
      },
      "execution_count": null,
      "outputs": []
    },
    {
      "cell_type": "markdown",
      "source": [
        "# Training a classifier\n",
        "## What about data\n",
        "Generally, you can use standard python packages that load data into a numpy array. Then you can convert this array into a torch.Tensor.\n",
        "* For images, packages such as Pillow, OpenCV are useful\n",
        "* For audio, scipy and librosa\n",
        "* For text, either raw Python or Cython based loading, or NLTK adn SpaCy\n",
        "\n",
        "For vision, torchvision, taht has data loaders for common datasets and data transformers. \n",
        "\n",
        "Steps:\n",
        "1. Load an normalize the CIFAR10 training and test datasets"
      ],
      "metadata": {
        "id": "kZ6ghayd6SNh"
      }
    },
    {
      "cell_type": "code",
      "source": [
        "import torch\n",
        "import torchvision\n",
        "import torchvision.transforms as transforms\n",
        "\n",
        "transform = transforms.Compose(\n",
        "    [transforms.ToTensor(),\n",
        "     transforms.Normalize((0.5, 0.5, 0.5), (0.5, 0.5, 0.5))])\n",
        "\n",
        "batch_size = 4\n",
        "\n",
        "trainset = torchvision.datasets.CIFAR10(root='./data', train=True,\n",
        "                                        download=True, transform=transform)\n",
        "trainloader = torch.utils.data.DataLoader(trainset, batch_size=batch_size,\n",
        "                                          shuffle=True, num_workers=2)\n",
        "\n",
        "testset = torchvision.datasets.CIFAR10(root='./data', train=False,\n",
        "                                       download=True, transform=transform)\n",
        "testloader = torch.utils.data.DataLoader(testset, batch_size=batch_size,\n",
        "                                         shuffle=False, num_workers=2)\n",
        "\n",
        "classes = ('plane', 'car', 'bird', 'cat',\n",
        "           'deer', 'dog', 'frog', 'horse', 'ship', 'truck')"
      ],
      "metadata": {
        "id": "4_TGiCmM7FTm"
      },
      "execution_count": null,
      "outputs": []
    },
    {
      "cell_type": "code",
      "source": [
        "import matplotlib.pyplot as plt\n",
        "import numpy as np\n",
        "\n",
        "# functions to show an image\n",
        "\n",
        "\n",
        "def imshow(img):\n",
        "    img = img / 2 + 0.5     # unnormalize\n",
        "    npimg = img.numpy()\n",
        "    plt.imshow(np.transpose(npimg, (1, 2, 0)))\n",
        "    plt.show()\n",
        "\n",
        "\n",
        "# get some random training images\n",
        "dataiter = iter(trainloader)\n",
        "images, labels = dataiter.next()\n",
        "\n",
        "# show images\n",
        "imshow(torchvision.utils.make_grid(images))\n",
        "# print labels\n",
        "print(' '.join(f'{classes[labels[j]]:5s}' for j in range(batch_size)))"
      ],
      "metadata": {
        "id": "q7uTuXnG7UJo"
      },
      "execution_count": null,
      "outputs": []
    },
    {
      "cell_type": "markdown",
      "source": [
        "2. Define a Convolutional Neural Network\n"
      ],
      "metadata": {
        "id": "QiG-Pz_B7aWz"
      }
    },
    {
      "cell_type": "code",
      "source": [
        "import torch.nn as nn\n",
        "import torch.nn.functional as F\n",
        "\n",
        "\n",
        "class Net(nn.Module):\n",
        "    def __init__(self):\n",
        "        super().__init__()\n",
        "        self.conv1 = nn.Conv2d(3, 6, 5)\n",
        "        self.pool = nn.MaxPool2d(2, 2)\n",
        "        self.conv2 = nn.Conv2d(6, 16, 5)\n",
        "        self.fc1 = nn.Linear(16 * 5 * 5, 120)\n",
        "        self.fc2 = nn.Linear(120, 84)\n",
        "        self.fc3 = nn.Linear(84, 10)\n",
        "\n",
        "    def forward(self, x):\n",
        "        x = self.pool(F.relu(self.conv1(x)))\n",
        "        x = self.pool(F.relu(self.conv2(x)))\n",
        "        x = torch.flatten(x, 1) # flatten all dimensions except batch\n",
        "        x = F.relu(self.fc1(x))\n",
        "        x = F.relu(self.fc2(x))\n",
        "        x = self.fc3(x)\n",
        "        return x\n",
        "\n",
        "\n",
        "net = Net()"
      ],
      "metadata": {
        "id": "bljM7For7eAU"
      },
      "execution_count": null,
      "outputs": []
    },
    {
      "cell_type": "markdown",
      "source": [
        "3. Define a loss function and optimizer\n",
        "\n"
      ],
      "metadata": {
        "id": "6EpJxan97hvJ"
      }
    },
    {
      "cell_type": "code",
      "source": [
        "import torch.optim as optim\n",
        "\n",
        "criterion = nn.CrossEntropyLoss()\n",
        "optimizer = optim.SGD(net.parameters(), lr=0.001, momentum=0.9)"
      ],
      "metadata": {
        "id": "quh3sQ2H7l2a"
      },
      "execution_count": null,
      "outputs": []
    },
    {
      "cell_type": "markdown",
      "source": [
        "4. Train the nerwork\n",
        "Loop over our data iterator, and feed the inputs to the network and optimize\n"
      ],
      "metadata": {
        "id": "6r2IGbKy7m4m"
      }
    },
    {
      "cell_type": "code",
      "source": [
        "for epoch in range(2):  # loop over the dataset multiple times\n",
        "\n",
        "    running_loss = 0.0\n",
        "    for i, data in enumerate(trainloader, 0):\n",
        "        # get the inputs; data is a list of [inputs, labels]\n",
        "        inputs, labels = data\n",
        "\n",
        "        # zero the parameter gradients\n",
        "        optimizer.zero_grad()\n",
        "\n",
        "        # forward + backward + optimize\n",
        "        outputs = net(inputs)\n",
        "        loss = criterion(outputs, labels)\n",
        "        loss.backward()\n",
        "        optimizer.step()\n",
        "\n",
        "        # print statistics\n",
        "        running_loss += loss.item()\n",
        "        if i % 2000 == 1999:    # print every 2000 mini-batches\n",
        "            print(f'[{epoch + 1}, {i + 1:5d}] loss: {running_loss / 2000:.3f}')\n",
        "            running_loss = 0.0\n",
        "\n",
        "print('Finished Training')"
      ],
      "metadata": {
        "id": "HCTG-jef7wPA"
      },
      "execution_count": null,
      "outputs": []
    },
    {
      "cell_type": "code",
      "source": [
        "# Save the trained model\n",
        "PATH = './cifar_net.pth'\n",
        "torch.save(net.state_dict(), PATH)"
      ],
      "metadata": {
        "id": "ViPRnh3H7ziO"
      },
      "execution_count": null,
      "outputs": []
    },
    {
      "cell_type": "markdown",
      "source": [
        "5. Test the network on the test data\n",
        "If the prediction is correct, we add the sample to the list of correct predictions.\n"
      ],
      "metadata": {
        "id": "0WwRte5H72io"
      }
    },
    {
      "cell_type": "code",
      "source": [
        "dataiter = iter(testloader)\n",
        "images, labels = dataiter.next()\n",
        "\n",
        "# print images\n",
        "imshow(torchvision.utils.make_grid(images))\n",
        "print('GroundTruth: ', ' '.join(f'{classes[labels[j]]:5s}' for j in range(4)))"
      ],
      "metadata": {
        "id": "V3GxHyiC8BDJ"
      },
      "execution_count": null,
      "outputs": []
    },
    {
      "cell_type": "code",
      "source": [
        "# Load back the saved model\n",
        "net = Net()\n",
        "net.load_state_dict(torch.load(PATH))\n",
        "\n",
        "outputs = net(images)"
      ],
      "metadata": {
        "id": "nmq-DFqP8E6p"
      },
      "execution_count": null,
      "outputs": []
    },
    {
      "cell_type": "markdown",
      "source": [
        "The outputs are the energies for the 10 classes. The higher the energy for a class, the more the network thinks that the image is of the particular class. Get the index of the highest energy. \n",
        "\n"
      ],
      "metadata": {
        "id": "HBJGxvXi8Leo"
      }
    },
    {
      "cell_type": "code",
      "source": [
        "_, predicted = torch.max(outputs, 1)\n",
        "\n",
        "print('Predicted: ', ' '.join(f'{classes[predicted[j]]:5s}'\n",
        "                              for j in range(4)))"
      ],
      "metadata": {
        "id": "Y3ILA-aE8UeB"
      },
      "execution_count": null,
      "outputs": []
    },
    {
      "cell_type": "code",
      "source": [
        "# How the network performs on the whole dataset\n",
        "correct = 0\n",
        "total = 0\n",
        "# since we're not training, we don't need to calculate the gradients for our outputs\n",
        "with torch.no_grad():\n",
        "    for data in testloader:\n",
        "        images, labels = data\n",
        "        # calculate outputs by running images through the network\n",
        "        outputs = net(images)\n",
        "        # the class with the highest energy is what we choose as prediction\n",
        "        _, predicted = torch.max(outputs.data, 1)\n",
        "        total += labels.size(0)\n",
        "        correct += (predicted == labels).sum().item()\n",
        "\n",
        "print(f'Accuracy of the network on the 10000 test images: {100 * correct // total} %')"
      ],
      "metadata": {
        "id": "PF8Zz9cu8af1"
      },
      "execution_count": null,
      "outputs": []
    },
    {
      "cell_type": "code",
      "source": [
        "# what are the classes the performed well and the classes that did not perform well\n",
        "# prepare to count predictions for each class\n",
        "correct_pred = {classname: 0 for classname in classes}\n",
        "total_pred = {classname: 0 for classname in classes}\n",
        "\n",
        "# again no gradients needed\n",
        "with torch.no_grad():\n",
        "    for data in testloader:\n",
        "        images, labels = data\n",
        "        outputs = net(images)\n",
        "        _, predictions = torch.max(outputs, 1)\n",
        "        # collect the correct predictions for each class\n",
        "        for label, prediction in zip(labels, predictions):\n",
        "            if label == prediction:\n",
        "                correct_pred[classes[label]] += 1\n",
        "            total_pred[classes[label]] += 1\n",
        "\n",
        "\n",
        "# print accuracy for each class\n",
        "for classname, correct_count in correct_pred.items():\n",
        "    accuracy = 100 * float(correct_count) / total_pred[classname]\n",
        "    print(f'Accuracy for class: {classname:5s} is {accuracy:.1f} %')"
      ],
      "metadata": {
        "id": "apiwuRdr8lG5"
      },
      "execution_count": null,
      "outputs": []
    },
    {
      "cell_type": "markdown",
      "source": [
        "# Training on GPU\n",
        "Transfer the neural net onto the GPU. Define our device as the first visible cuda device if we have CUDA available"
      ],
      "metadata": {
        "id": "f1JEdNZI8qqS"
      }
    },
    {
      "cell_type": "code",
      "source": [
        "device = torch.device('cuda:0' if torch.cuda.is_available() else 'cpu')\n",
        "\n",
        "# Assuming that we are on a CUDA machine, this should print a CUDA device:\n",
        "\n",
        "print(device)"
      ],
      "metadata": {
        "id": "HX5z_oSL8x58"
      },
      "execution_count": null,
      "outputs": []
    },
    {
      "cell_type": "markdown",
      "source": [
        "Then these methods will recursively go over all modules and convert their parameters and buffers to CUDA tensors:\n",
        "\n"
      ],
      "metadata": {
        "id": "PQ0kFoz781x5"
      }
    },
    {
      "cell_type": "code",
      "source": [
        "net.to(device)\n"
      ],
      "metadata": {
        "id": "0vXuFeVx835v"
      },
      "execution_count": null,
      "outputs": []
    },
    {
      "cell_type": "markdown",
      "source": [
        "Remember that you will have to send the inputs and targets at every step to the GPU too:\n",
        "\n"
      ],
      "metadata": {
        "id": "uYafylSU-2CS"
      }
    },
    {
      "cell_type": "code",
      "source": [
        "inputs, labels = data[0].to(device), data[1].to(device)\n"
      ],
      "metadata": {
        "id": "GCQAGgTr-385"
      },
      "execution_count": null,
      "outputs": []
    },
    {
      "cell_type": "markdown",
      "source": [
        "# Exercises"
      ],
      "metadata": {
        "id": "uk8Ja0tW_DvI"
      }
    },
    {
      "cell_type": "markdown",
      "source": [
        "The following dataset loading code runs but are there mistakes in the following code? What are the implications of the errors? What are the fixes? \n"
      ],
      "metadata": {
        "id": "Iwf5TfNr_NFx"
      }
    },
    {
      "cell_type": "code",
      "source": [
        "import torch\n",
        "from torchvision import datasets, transforms\n",
        "\n",
        "transform = transforms.Compose(\n",
        "   [transforms.ToTensor(),\n",
        "    transforms.Normalize((0.5, 0.5, 0.5), (0.5, 0.5, 0.5))])\n",
        "\n",
        "batch_size = 4\n",
        "\n",
        "trainset = datasets.CIFAR10(root='./data', train=False,\n",
        "                                       download=True, transform=transform)\n",
        "trainloader = torch.utils.data.DataLoader(trainset, batch_size=batch_size,\n",
        "                                         shuffle=False, num_workers=2)\n",
        "\n",
        "testset = datasets.CIFAR10(root='./data', train=True,\n",
        "                                      download=True, transform=transform)\n",
        "testloader = torch.utils.data.DataLoader(testset, batch_size=batch_size,\n",
        "                                        shuffle=False, num_workers=2)\n",
        "\n"
      ],
      "metadata": {
        "id": "4VHNsiYU_d3r"
      },
      "execution_count": null,
      "outputs": []
    },
    {
      "cell_type": "markdown",
      "source": [
        "There are two mistakes. First, we’re not shuffling the train data loader. Second, we’re loading up the CIFAR train data in the testset, and the CIFAR test set in the train set.\n"
      ],
      "metadata": {
        "id": "BMiqXFnJ_f9-"
      }
    },
    {
      "cell_type": "markdown",
      "source": [
        "Write 2 lines of code to get random training images from the dataloader (assuming errors above are fixed).\n"
      ],
      "metadata": {
        "id": "4Oev85Iy_UCR"
      }
    },
    {
      "cell_type": "code",
      "source": [
        "dataiter = iter(trainloader)\n",
        "images, labels = next(dataiter)\n",
        "\n"
      ],
      "metadata": {
        "id": "NGzsY-O__XCa"
      },
      "execution_count": null,
      "outputs": []
    },
    {
      "cell_type": "markdown",
      "source": [
        "The following training code runs but are there mistakes in the following code (mistakes include computational inefficiencies)? What are the implications of the errors? What are the fixes? \n"
      ],
      "metadata": {
        "id": "DDmQjdPh_Z2X"
      }
    },
    {
      "cell_type": "code",
      "source": [
        " running_loss = 0.0\n",
        "    for i, data in enumerate(trainloader, 0):\n",
        "        # get the inputs; data is a list of [inputs, labels]\n",
        "        inputs, labels = data\n",
        "\n",
        "        # forward + backward + optimize\n",
        "        outputs = net(inputs)\n",
        "        loss = criterion(outputs, labels)\n",
        "        loss.backward()\n",
        "        optimizer.step()\n",
        "\n",
        "        # print statistics\n",
        "        running_loss += loss\n",
        "        if i % 2000 == 1999:    # print every 2000 mini-batches\n",
        "            print(f'[{epoch + 1}, {i + 1:5d}] loss: {running_loss / 2000:.3f}')\n",
        "            running_loss = 0.0\n",
        "            break\n"
      ],
      "metadata": {
        "id": "BX-bGqSb_Fg2"
      },
      "execution_count": null,
      "outputs": []
    },
    {
      "cell_type": "markdown",
      "source": [
        "There are two mistakes. First, there should be an optimizer.zero_grad() in the loop. Without this, the gradients will accumulate. Second, running_loss should be incremented using loss.item(); otherwise, each loss will still be part of the computational graph; this takes up memory, as the individual losses would have otherwise been garbage-collected.\n"
      ],
      "metadata": {
        "id": "xNjzVRWL_RZf"
      }
    },
    {
      "cell_type": "markdown",
      "source": [
        "The following evaluation code runs but are there mistakes in the following code (mistakes include computational inefficiencies)? What are the implications of the errors? What are the fixes? \n"
      ],
      "metadata": {
        "id": "sZ1Na6IN_GiS"
      }
    },
    {
      "cell_type": "code",
      "source": [
        "\n",
        "correct = 0\n",
        "total = 0\n",
        "# since we're not training, we don't need to calculate the gradients for our outputs\n",
        "for data in testloader:\n",
        "    images, labels = data\n",
        "    # calculate outputs by running images through the network\n",
        "    outputs = net(images)\n",
        "    # the class with the highest energy is what we choose as prediction\n",
        "    _, predicted = torch.max(outputs.data, 1)\n",
        "    total += labels.size(0)\n",
        "    correct += (predicted == labels).sum()\n",
        "\n",
        "print(f'Accuracy of the network on the 10000 test images: {100 * correct // total} %')\n",
        "\n"
      ],
      "metadata": {
        "id": "wU-OVx0i_HEw"
      },
      "execution_count": null,
      "outputs": []
    },
    {
      "cell_type": "markdown",
      "source": [
        "There are two mistakes. First, there should be a torch.no_grad() encapsulating the loop; this will deactivate the autograd engine, reducing memory usage and speed up computations but you won’t be able to backprop (which you don’t want in an eval script). Second, once again, we’re missing the .item() call after the sum(), which would mean that we would have the tensor(s) be part of the computational graph, eating memory.\n"
      ],
      "metadata": {
        "id": "kR_hzXtu_Kvo"
      }
    }
  ]
}