{
  "nbformat": 4,
  "nbformat_minor": 0,
  "metadata": {
    "colab": {
      "provenance": [],
      "collapsed_sections": []
    },
    "kernelspec": {
      "name": "python3",
      "display_name": "Python 3"
    },
    "language_info": {
      "name": "python"
    },
    "widgets": {
      "application/vnd.jupyter.widget-state+json": {
        "330cea3ddbca42fb91d149e92504cbf2": {
          "model_module": "@jupyter-widgets/controls",
          "model_name": "VBoxModel",
          "model_module_version": "1.5.0",
          "state": {
            "_dom_classes": [],
            "_model_module": "@jupyter-widgets/controls",
            "_model_module_version": "1.5.0",
            "_model_name": "VBoxModel",
            "_view_count": null,
            "_view_module": "@jupyter-widgets/controls",
            "_view_module_version": "1.5.0",
            "_view_name": "VBoxView",
            "box_style": "",
            "children": [
              "IPY_MODEL_8da7abad8ba14e1b9f3f638b3b814cac",
              "IPY_MODEL_f56a9b71802e4444abdac455dac408ec"
            ],
            "layout": "IPY_MODEL_33af9d1169f94c14a1aff09d947e70b4"
          }
        },
        "8da7abad8ba14e1b9f3f638b3b814cac": {
          "model_module": "@jupyter-widgets/controls",
          "model_name": "LabelModel",
          "model_module_version": "1.5.0",
          "state": {
            "_dom_classes": [],
            "_model_module": "@jupyter-widgets/controls",
            "_model_module_version": "1.5.0",
            "_model_name": "LabelModel",
            "_view_count": null,
            "_view_module": "@jupyter-widgets/controls",
            "_view_module_version": "1.5.0",
            "_view_name": "LabelView",
            "description": "",
            "description_tooltip": null,
            "layout": "IPY_MODEL_91b1ce1ca6444e4e85b4d7c711ff2a78",
            "placeholder": "​",
            "style": "IPY_MODEL_93c97be1ba084be4b000de70200e9fc9",
            "value": "0.000 MB of 0.000 MB uploaded (0.000 MB deduped)\r"
          }
        },
        "f56a9b71802e4444abdac455dac408ec": {
          "model_module": "@jupyter-widgets/controls",
          "model_name": "FloatProgressModel",
          "model_module_version": "1.5.0",
          "state": {
            "_dom_classes": [],
            "_model_module": "@jupyter-widgets/controls",
            "_model_module_version": "1.5.0",
            "_model_name": "FloatProgressModel",
            "_view_count": null,
            "_view_module": "@jupyter-widgets/controls",
            "_view_module_version": "1.5.0",
            "_view_name": "ProgressView",
            "bar_style": "",
            "description": "",
            "description_tooltip": null,
            "layout": "IPY_MODEL_de5d24072503435e878909c440a39f0e",
            "max": 1,
            "min": 0,
            "orientation": "horizontal",
            "style": "IPY_MODEL_40b606398a02464db6212668c53d4f84",
            "value": 1
          }
        },
        "33af9d1169f94c14a1aff09d947e70b4": {
          "model_module": "@jupyter-widgets/base",
          "model_name": "LayoutModel",
          "model_module_version": "1.2.0",
          "state": {
            "_model_module": "@jupyter-widgets/base",
            "_model_module_version": "1.2.0",
            "_model_name": "LayoutModel",
            "_view_count": null,
            "_view_module": "@jupyter-widgets/base",
            "_view_module_version": "1.2.0",
            "_view_name": "LayoutView",
            "align_content": null,
            "align_items": null,
            "align_self": null,
            "border": null,
            "bottom": null,
            "display": null,
            "flex": null,
            "flex_flow": null,
            "grid_area": null,
            "grid_auto_columns": null,
            "grid_auto_flow": null,
            "grid_auto_rows": null,
            "grid_column": null,
            "grid_gap": null,
            "grid_row": null,
            "grid_template_areas": null,
            "grid_template_columns": null,
            "grid_template_rows": null,
            "height": null,
            "justify_content": null,
            "justify_items": null,
            "left": null,
            "margin": null,
            "max_height": null,
            "max_width": null,
            "min_height": null,
            "min_width": null,
            "object_fit": null,
            "object_position": null,
            "order": null,
            "overflow": null,
            "overflow_x": null,
            "overflow_y": null,
            "padding": null,
            "right": null,
            "top": null,
            "visibility": null,
            "width": null
          }
        },
        "91b1ce1ca6444e4e85b4d7c711ff2a78": {
          "model_module": "@jupyter-widgets/base",
          "model_name": "LayoutModel",
          "model_module_version": "1.2.0",
          "state": {
            "_model_module": "@jupyter-widgets/base",
            "_model_module_version": "1.2.0",
            "_model_name": "LayoutModel",
            "_view_count": null,
            "_view_module": "@jupyter-widgets/base",
            "_view_module_version": "1.2.0",
            "_view_name": "LayoutView",
            "align_content": null,
            "align_items": null,
            "align_self": null,
            "border": null,
            "bottom": null,
            "display": null,
            "flex": null,
            "flex_flow": null,
            "grid_area": null,
            "grid_auto_columns": null,
            "grid_auto_flow": null,
            "grid_auto_rows": null,
            "grid_column": null,
            "grid_gap": null,
            "grid_row": null,
            "grid_template_areas": null,
            "grid_template_columns": null,
            "grid_template_rows": null,
            "height": null,
            "justify_content": null,
            "justify_items": null,
            "left": null,
            "margin": null,
            "max_height": null,
            "max_width": null,
            "min_height": null,
            "min_width": null,
            "object_fit": null,
            "object_position": null,
            "order": null,
            "overflow": null,
            "overflow_x": null,
            "overflow_y": null,
            "padding": null,
            "right": null,
            "top": null,
            "visibility": null,
            "width": null
          }
        },
        "93c97be1ba084be4b000de70200e9fc9": {
          "model_module": "@jupyter-widgets/controls",
          "model_name": "DescriptionStyleModel",
          "model_module_version": "1.5.0",
          "state": {
            "_model_module": "@jupyter-widgets/controls",
            "_model_module_version": "1.5.0",
            "_model_name": "DescriptionStyleModel",
            "_view_count": null,
            "_view_module": "@jupyter-widgets/base",
            "_view_module_version": "1.2.0",
            "_view_name": "StyleView",
            "description_width": ""
          }
        },
        "de5d24072503435e878909c440a39f0e": {
          "model_module": "@jupyter-widgets/base",
          "model_name": "LayoutModel",
          "model_module_version": "1.2.0",
          "state": {
            "_model_module": "@jupyter-widgets/base",
            "_model_module_version": "1.2.0",
            "_model_name": "LayoutModel",
            "_view_count": null,
            "_view_module": "@jupyter-widgets/base",
            "_view_module_version": "1.2.0",
            "_view_name": "LayoutView",
            "align_content": null,
            "align_items": null,
            "align_self": null,
            "border": null,
            "bottom": null,
            "display": null,
            "flex": null,
            "flex_flow": null,
            "grid_area": null,
            "grid_auto_columns": null,
            "grid_auto_flow": null,
            "grid_auto_rows": null,
            "grid_column": null,
            "grid_gap": null,
            "grid_row": null,
            "grid_template_areas": null,
            "grid_template_columns": null,
            "grid_template_rows": null,
            "height": null,
            "justify_content": null,
            "justify_items": null,
            "left": null,
            "margin": null,
            "max_height": null,
            "max_width": null,
            "min_height": null,
            "min_width": null,
            "object_fit": null,
            "object_position": null,
            "order": null,
            "overflow": null,
            "overflow_x": null,
            "overflow_y": null,
            "padding": null,
            "right": null,
            "top": null,
            "visibility": null,
            "width": null
          }
        },
        "40b606398a02464db6212668c53d4f84": {
          "model_module": "@jupyter-widgets/controls",
          "model_name": "ProgressStyleModel",
          "model_module_version": "1.5.0",
          "state": {
            "_model_module": "@jupyter-widgets/controls",
            "_model_module_version": "1.5.0",
            "_model_name": "ProgressStyleModel",
            "_view_count": null,
            "_view_module": "@jupyter-widgets/base",
            "_view_module_version": "1.2.0",
            "_view_name": "StyleView",
            "bar_color": null,
            "description_width": ""
          }
        },
        "bdc5b7321a624442aeddcae55c6e46bd": {
          "model_module": "@jupyter-widgets/controls",
          "model_name": "VBoxModel",
          "model_module_version": "1.5.0",
          "state": {
            "_dom_classes": [],
            "_model_module": "@jupyter-widgets/controls",
            "_model_module_version": "1.5.0",
            "_model_name": "VBoxModel",
            "_view_count": null,
            "_view_module": "@jupyter-widgets/controls",
            "_view_module_version": "1.5.0",
            "_view_name": "VBoxView",
            "box_style": "",
            "children": [
              "IPY_MODEL_3ce8859fc61e4b1b9a19b269d76d43b7",
              "IPY_MODEL_9d99ceb0e8f74e0e9e842c1ebfb98a7a"
            ],
            "layout": "IPY_MODEL_1098f831eb6441369303c8bbb28039e9"
          }
        },
        "3ce8859fc61e4b1b9a19b269d76d43b7": {
          "model_module": "@jupyter-widgets/controls",
          "model_name": "LabelModel",
          "model_module_version": "1.5.0",
          "state": {
            "_dom_classes": [],
            "_model_module": "@jupyter-widgets/controls",
            "_model_module_version": "1.5.0",
            "_model_name": "LabelModel",
            "_view_count": null,
            "_view_module": "@jupyter-widgets/controls",
            "_view_module_version": "1.5.0",
            "_view_name": "LabelView",
            "description": "",
            "description_tooltip": null,
            "layout": "IPY_MODEL_0ef4bc0da73348459094a84c526c0555",
            "placeholder": "​",
            "style": "IPY_MODEL_1633bcaa774748a085b6741dfd2e8063",
            "value": "0.000 MB of 0.007 MB uploaded (0.000 MB deduped)\r"
          }
        },
        "9d99ceb0e8f74e0e9e842c1ebfb98a7a": {
          "model_module": "@jupyter-widgets/controls",
          "model_name": "FloatProgressModel",
          "model_module_version": "1.5.0",
          "state": {
            "_dom_classes": [],
            "_model_module": "@jupyter-widgets/controls",
            "_model_module_version": "1.5.0",
            "_model_name": "FloatProgressModel",
            "_view_count": null,
            "_view_module": "@jupyter-widgets/controls",
            "_view_module_version": "1.5.0",
            "_view_name": "ProgressView",
            "bar_style": "",
            "description": "",
            "description_tooltip": null,
            "layout": "IPY_MODEL_638e40bd92054650a92c00d8e37b9e1b",
            "max": 1,
            "min": 0,
            "orientation": "horizontal",
            "style": "IPY_MODEL_b16e717366754438b4ccf193211e9549",
            "value": 0.05662927422624679
          }
        },
        "1098f831eb6441369303c8bbb28039e9": {
          "model_module": "@jupyter-widgets/base",
          "model_name": "LayoutModel",
          "model_module_version": "1.2.0",
          "state": {
            "_model_module": "@jupyter-widgets/base",
            "_model_module_version": "1.2.0",
            "_model_name": "LayoutModel",
            "_view_count": null,
            "_view_module": "@jupyter-widgets/base",
            "_view_module_version": "1.2.0",
            "_view_name": "LayoutView",
            "align_content": null,
            "align_items": null,
            "align_self": null,
            "border": null,
            "bottom": null,
            "display": null,
            "flex": null,
            "flex_flow": null,
            "grid_area": null,
            "grid_auto_columns": null,
            "grid_auto_flow": null,
            "grid_auto_rows": null,
            "grid_column": null,
            "grid_gap": null,
            "grid_row": null,
            "grid_template_areas": null,
            "grid_template_columns": null,
            "grid_template_rows": null,
            "height": null,
            "justify_content": null,
            "justify_items": null,
            "left": null,
            "margin": null,
            "max_height": null,
            "max_width": null,
            "min_height": null,
            "min_width": null,
            "object_fit": null,
            "object_position": null,
            "order": null,
            "overflow": null,
            "overflow_x": null,
            "overflow_y": null,
            "padding": null,
            "right": null,
            "top": null,
            "visibility": null,
            "width": null
          }
        },
        "0ef4bc0da73348459094a84c526c0555": {
          "model_module": "@jupyter-widgets/base",
          "model_name": "LayoutModel",
          "model_module_version": "1.2.0",
          "state": {
            "_model_module": "@jupyter-widgets/base",
            "_model_module_version": "1.2.0",
            "_model_name": "LayoutModel",
            "_view_count": null,
            "_view_module": "@jupyter-widgets/base",
            "_view_module_version": "1.2.0",
            "_view_name": "LayoutView",
            "align_content": null,
            "align_items": null,
            "align_self": null,
            "border": null,
            "bottom": null,
            "display": null,
            "flex": null,
            "flex_flow": null,
            "grid_area": null,
            "grid_auto_columns": null,
            "grid_auto_flow": null,
            "grid_auto_rows": null,
            "grid_column": null,
            "grid_gap": null,
            "grid_row": null,
            "grid_template_areas": null,
            "grid_template_columns": null,
            "grid_template_rows": null,
            "height": null,
            "justify_content": null,
            "justify_items": null,
            "left": null,
            "margin": null,
            "max_height": null,
            "max_width": null,
            "min_height": null,
            "min_width": null,
            "object_fit": null,
            "object_position": null,
            "order": null,
            "overflow": null,
            "overflow_x": null,
            "overflow_y": null,
            "padding": null,
            "right": null,
            "top": null,
            "visibility": null,
            "width": null
          }
        },
        "1633bcaa774748a085b6741dfd2e8063": {
          "model_module": "@jupyter-widgets/controls",
          "model_name": "DescriptionStyleModel",
          "model_module_version": "1.5.0",
          "state": {
            "_model_module": "@jupyter-widgets/controls",
            "_model_module_version": "1.5.0",
            "_model_name": "DescriptionStyleModel",
            "_view_count": null,
            "_view_module": "@jupyter-widgets/base",
            "_view_module_version": "1.2.0",
            "_view_name": "StyleView",
            "description_width": ""
          }
        },
        "638e40bd92054650a92c00d8e37b9e1b": {
          "model_module": "@jupyter-widgets/base",
          "model_name": "LayoutModel",
          "model_module_version": "1.2.0",
          "state": {
            "_model_module": "@jupyter-widgets/base",
            "_model_module_version": "1.2.0",
            "_model_name": "LayoutModel",
            "_view_count": null,
            "_view_module": "@jupyter-widgets/base",
            "_view_module_version": "1.2.0",
            "_view_name": "LayoutView",
            "align_content": null,
            "align_items": null,
            "align_self": null,
            "border": null,
            "bottom": null,
            "display": null,
            "flex": null,
            "flex_flow": null,
            "grid_area": null,
            "grid_auto_columns": null,
            "grid_auto_flow": null,
            "grid_auto_rows": null,
            "grid_column": null,
            "grid_gap": null,
            "grid_row": null,
            "grid_template_areas": null,
            "grid_template_columns": null,
            "grid_template_rows": null,
            "height": null,
            "justify_content": null,
            "justify_items": null,
            "left": null,
            "margin": null,
            "max_height": null,
            "max_width": null,
            "min_height": null,
            "min_width": null,
            "object_fit": null,
            "object_position": null,
            "order": null,
            "overflow": null,
            "overflow_x": null,
            "overflow_y": null,
            "padding": null,
            "right": null,
            "top": null,
            "visibility": null,
            "width": null
          }
        },
        "b16e717366754438b4ccf193211e9549": {
          "model_module": "@jupyter-widgets/controls",
          "model_name": "ProgressStyleModel",
          "model_module_version": "1.5.0",
          "state": {
            "_model_module": "@jupyter-widgets/controls",
            "_model_module_version": "1.5.0",
            "_model_name": "ProgressStyleModel",
            "_view_count": null,
            "_view_module": "@jupyter-widgets/base",
            "_view_module_version": "1.2.0",
            "_view_name": "StyleView",
            "bar_color": null,
            "description_width": ""
          }
        },
        "d5064451539d4cf893a4210cd0cb7ab6": {
          "model_module": "@jupyter-widgets/controls",
          "model_name": "VBoxModel",
          "model_module_version": "1.5.0",
          "state": {
            "_dom_classes": [],
            "_model_module": "@jupyter-widgets/controls",
            "_model_module_version": "1.5.0",
            "_model_name": "VBoxModel",
            "_view_count": null,
            "_view_module": "@jupyter-widgets/controls",
            "_view_module_version": "1.5.0",
            "_view_name": "VBoxView",
            "box_style": "",
            "children": [
              "IPY_MODEL_c9eca0f8718e430081e4464f06c94c64",
              "IPY_MODEL_14ce2303bb1b4291b82c3b5b07c5c60a"
            ],
            "layout": "IPY_MODEL_d1d066540bca4416aca3cb4c9a971927"
          }
        },
        "c9eca0f8718e430081e4464f06c94c64": {
          "model_module": "@jupyter-widgets/controls",
          "model_name": "LabelModel",
          "model_module_version": "1.5.0",
          "state": {
            "_dom_classes": [],
            "_model_module": "@jupyter-widgets/controls",
            "_model_module_version": "1.5.0",
            "_model_name": "LabelModel",
            "_view_count": null,
            "_view_module": "@jupyter-widgets/controls",
            "_view_module_version": "1.5.0",
            "_view_name": "LabelView",
            "description": "",
            "description_tooltip": null,
            "layout": "IPY_MODEL_0caa1164ef2a41abb19576ac00d21b23",
            "placeholder": "​",
            "style": "IPY_MODEL_ecd8cfe780224cc880b3475888adfff7",
            "value": "0.000 MB of 0.015 MB uploaded (0.000 MB deduped)\r"
          }
        },
        "14ce2303bb1b4291b82c3b5b07c5c60a": {
          "model_module": "@jupyter-widgets/controls",
          "model_name": "FloatProgressModel",
          "model_module_version": "1.5.0",
          "state": {
            "_dom_classes": [],
            "_model_module": "@jupyter-widgets/controls",
            "_model_module_version": "1.5.0",
            "_model_name": "FloatProgressModel",
            "_view_count": null,
            "_view_module": "@jupyter-widgets/controls",
            "_view_module_version": "1.5.0",
            "_view_name": "ProgressView",
            "bar_style": "",
            "description": "",
            "description_tooltip": null,
            "layout": "IPY_MODEL_9114b8157734439fb43342011620b215",
            "max": 1,
            "min": 0,
            "orientation": "horizontal",
            "style": "IPY_MODEL_35a062d93ca7485ca7159819bc9508fc",
            "value": 0.026049114081442337
          }
        },
        "d1d066540bca4416aca3cb4c9a971927": {
          "model_module": "@jupyter-widgets/base",
          "model_name": "LayoutModel",
          "model_module_version": "1.2.0",
          "state": {
            "_model_module": "@jupyter-widgets/base",
            "_model_module_version": "1.2.0",
            "_model_name": "LayoutModel",
            "_view_count": null,
            "_view_module": "@jupyter-widgets/base",
            "_view_module_version": "1.2.0",
            "_view_name": "LayoutView",
            "align_content": null,
            "align_items": null,
            "align_self": null,
            "border": null,
            "bottom": null,
            "display": null,
            "flex": null,
            "flex_flow": null,
            "grid_area": null,
            "grid_auto_columns": null,
            "grid_auto_flow": null,
            "grid_auto_rows": null,
            "grid_column": null,
            "grid_gap": null,
            "grid_row": null,
            "grid_template_areas": null,
            "grid_template_columns": null,
            "grid_template_rows": null,
            "height": null,
            "justify_content": null,
            "justify_items": null,
            "left": null,
            "margin": null,
            "max_height": null,
            "max_width": null,
            "min_height": null,
            "min_width": null,
            "object_fit": null,
            "object_position": null,
            "order": null,
            "overflow": null,
            "overflow_x": null,
            "overflow_y": null,
            "padding": null,
            "right": null,
            "top": null,
            "visibility": null,
            "width": null
          }
        },
        "0caa1164ef2a41abb19576ac00d21b23": {
          "model_module": "@jupyter-widgets/base",
          "model_name": "LayoutModel",
          "model_module_version": "1.2.0",
          "state": {
            "_model_module": "@jupyter-widgets/base",
            "_model_module_version": "1.2.0",
            "_model_name": "LayoutModel",
            "_view_count": null,
            "_view_module": "@jupyter-widgets/base",
            "_view_module_version": "1.2.0",
            "_view_name": "LayoutView",
            "align_content": null,
            "align_items": null,
            "align_self": null,
            "border": null,
            "bottom": null,
            "display": null,
            "flex": null,
            "flex_flow": null,
            "grid_area": null,
            "grid_auto_columns": null,
            "grid_auto_flow": null,
            "grid_auto_rows": null,
            "grid_column": null,
            "grid_gap": null,
            "grid_row": null,
            "grid_template_areas": null,
            "grid_template_columns": null,
            "grid_template_rows": null,
            "height": null,
            "justify_content": null,
            "justify_items": null,
            "left": null,
            "margin": null,
            "max_height": null,
            "max_width": null,
            "min_height": null,
            "min_width": null,
            "object_fit": null,
            "object_position": null,
            "order": null,
            "overflow": null,
            "overflow_x": null,
            "overflow_y": null,
            "padding": null,
            "right": null,
            "top": null,
            "visibility": null,
            "width": null
          }
        },
        "ecd8cfe780224cc880b3475888adfff7": {
          "model_module": "@jupyter-widgets/controls",
          "model_name": "DescriptionStyleModel",
          "model_module_version": "1.5.0",
          "state": {
            "_model_module": "@jupyter-widgets/controls",
            "_model_module_version": "1.5.0",
            "_model_name": "DescriptionStyleModel",
            "_view_count": null,
            "_view_module": "@jupyter-widgets/base",
            "_view_module_version": "1.2.0",
            "_view_name": "StyleView",
            "description_width": ""
          }
        },
        "9114b8157734439fb43342011620b215": {
          "model_module": "@jupyter-widgets/base",
          "model_name": "LayoutModel",
          "model_module_version": "1.2.0",
          "state": {
            "_model_module": "@jupyter-widgets/base",
            "_model_module_version": "1.2.0",
            "_model_name": "LayoutModel",
            "_view_count": null,
            "_view_module": "@jupyter-widgets/base",
            "_view_module_version": "1.2.0",
            "_view_name": "LayoutView",
            "align_content": null,
            "align_items": null,
            "align_self": null,
            "border": null,
            "bottom": null,
            "display": null,
            "flex": null,
            "flex_flow": null,
            "grid_area": null,
            "grid_auto_columns": null,
            "grid_auto_flow": null,
            "grid_auto_rows": null,
            "grid_column": null,
            "grid_gap": null,
            "grid_row": null,
            "grid_template_areas": null,
            "grid_template_columns": null,
            "grid_template_rows": null,
            "height": null,
            "justify_content": null,
            "justify_items": null,
            "left": null,
            "margin": null,
            "max_height": null,
            "max_width": null,
            "min_height": null,
            "min_width": null,
            "object_fit": null,
            "object_position": null,
            "order": null,
            "overflow": null,
            "overflow_x": null,
            "overflow_y": null,
            "padding": null,
            "right": null,
            "top": null,
            "visibility": null,
            "width": null
          }
        },
        "35a062d93ca7485ca7159819bc9508fc": {
          "model_module": "@jupyter-widgets/controls",
          "model_name": "ProgressStyleModel",
          "model_module_version": "1.5.0",
          "state": {
            "_model_module": "@jupyter-widgets/controls",
            "_model_module_version": "1.5.0",
            "_model_name": "ProgressStyleModel",
            "_view_count": null,
            "_view_module": "@jupyter-widgets/base",
            "_view_module_version": "1.2.0",
            "_view_name": "StyleView",
            "bar_color": null,
            "description_width": ""
          }
        },
        "463d1267f5574e93bc1f9b04cf829abb": {
          "model_module": "@jupyter-widgets/controls",
          "model_name": "VBoxModel",
          "model_module_version": "1.5.0",
          "state": {
            "_dom_classes": [],
            "_model_module": "@jupyter-widgets/controls",
            "_model_module_version": "1.5.0",
            "_model_name": "VBoxModel",
            "_view_count": null,
            "_view_module": "@jupyter-widgets/controls",
            "_view_module_version": "1.5.0",
            "_view_name": "VBoxView",
            "box_style": "",
            "children": [
              "IPY_MODEL_90695934621c4c289b4ec6ec819a0e71",
              "IPY_MODEL_4d5cd3f0a34d48dabc90a9a722ed42e2"
            ],
            "layout": "IPY_MODEL_55d834a38dfe42909dc2755d594b7ca9"
          }
        },
        "90695934621c4c289b4ec6ec819a0e71": {
          "model_module": "@jupyter-widgets/controls",
          "model_name": "LabelModel",
          "model_module_version": "1.5.0",
          "state": {
            "_dom_classes": [],
            "_model_module": "@jupyter-widgets/controls",
            "_model_module_version": "1.5.0",
            "_model_name": "LabelModel",
            "_view_count": null,
            "_view_module": "@jupyter-widgets/controls",
            "_view_module_version": "1.5.0",
            "_view_name": "LabelView",
            "description": "",
            "description_tooltip": null,
            "layout": "IPY_MODEL_5e12e19ba2b5464f9a6dd21ef3fe3df7",
            "placeholder": "​",
            "style": "IPY_MODEL_903bed7883114771aae012c24a5a7cbf",
            "value": "0.000 MB of 0.015 MB uploaded (0.000 MB deduped)\r"
          }
        },
        "4d5cd3f0a34d48dabc90a9a722ed42e2": {
          "model_module": "@jupyter-widgets/controls",
          "model_name": "FloatProgressModel",
          "model_module_version": "1.5.0",
          "state": {
            "_dom_classes": [],
            "_model_module": "@jupyter-widgets/controls",
            "_model_module_version": "1.5.0",
            "_model_name": "FloatProgressModel",
            "_view_count": null,
            "_view_module": "@jupyter-widgets/controls",
            "_view_module_version": "1.5.0",
            "_view_name": "ProgressView",
            "bar_style": "",
            "description": "",
            "description_tooltip": null,
            "layout": "IPY_MODEL_15ec7a4b621b49ebbfc2e0533c68cd73",
            "max": 1,
            "min": 0,
            "orientation": "horizontal",
            "style": "IPY_MODEL_c78ebf17c1374b24b8b0aed7250c1d1a",
            "value": 0.025949092710720257
          }
        },
        "55d834a38dfe42909dc2755d594b7ca9": {
          "model_module": "@jupyter-widgets/base",
          "model_name": "LayoutModel",
          "model_module_version": "1.2.0",
          "state": {
            "_model_module": "@jupyter-widgets/base",
            "_model_module_version": "1.2.0",
            "_model_name": "LayoutModel",
            "_view_count": null,
            "_view_module": "@jupyter-widgets/base",
            "_view_module_version": "1.2.0",
            "_view_name": "LayoutView",
            "align_content": null,
            "align_items": null,
            "align_self": null,
            "border": null,
            "bottom": null,
            "display": null,
            "flex": null,
            "flex_flow": null,
            "grid_area": null,
            "grid_auto_columns": null,
            "grid_auto_flow": null,
            "grid_auto_rows": null,
            "grid_column": null,
            "grid_gap": null,
            "grid_row": null,
            "grid_template_areas": null,
            "grid_template_columns": null,
            "grid_template_rows": null,
            "height": null,
            "justify_content": null,
            "justify_items": null,
            "left": null,
            "margin": null,
            "max_height": null,
            "max_width": null,
            "min_height": null,
            "min_width": null,
            "object_fit": null,
            "object_position": null,
            "order": null,
            "overflow": null,
            "overflow_x": null,
            "overflow_y": null,
            "padding": null,
            "right": null,
            "top": null,
            "visibility": null,
            "width": null
          }
        },
        "5e12e19ba2b5464f9a6dd21ef3fe3df7": {
          "model_module": "@jupyter-widgets/base",
          "model_name": "LayoutModel",
          "model_module_version": "1.2.0",
          "state": {
            "_model_module": "@jupyter-widgets/base",
            "_model_module_version": "1.2.0",
            "_model_name": "LayoutModel",
            "_view_count": null,
            "_view_module": "@jupyter-widgets/base",
            "_view_module_version": "1.2.0",
            "_view_name": "LayoutView",
            "align_content": null,
            "align_items": null,
            "align_self": null,
            "border": null,
            "bottom": null,
            "display": null,
            "flex": null,
            "flex_flow": null,
            "grid_area": null,
            "grid_auto_columns": null,
            "grid_auto_flow": null,
            "grid_auto_rows": null,
            "grid_column": null,
            "grid_gap": null,
            "grid_row": null,
            "grid_template_areas": null,
            "grid_template_columns": null,
            "grid_template_rows": null,
            "height": null,
            "justify_content": null,
            "justify_items": null,
            "left": null,
            "margin": null,
            "max_height": null,
            "max_width": null,
            "min_height": null,
            "min_width": null,
            "object_fit": null,
            "object_position": null,
            "order": null,
            "overflow": null,
            "overflow_x": null,
            "overflow_y": null,
            "padding": null,
            "right": null,
            "top": null,
            "visibility": null,
            "width": null
          }
        },
        "903bed7883114771aae012c24a5a7cbf": {
          "model_module": "@jupyter-widgets/controls",
          "model_name": "DescriptionStyleModel",
          "model_module_version": "1.5.0",
          "state": {
            "_model_module": "@jupyter-widgets/controls",
            "_model_module_version": "1.5.0",
            "_model_name": "DescriptionStyleModel",
            "_view_count": null,
            "_view_module": "@jupyter-widgets/base",
            "_view_module_version": "1.2.0",
            "_view_name": "StyleView",
            "description_width": ""
          }
        },
        "15ec7a4b621b49ebbfc2e0533c68cd73": {
          "model_module": "@jupyter-widgets/base",
          "model_name": "LayoutModel",
          "model_module_version": "1.2.0",
          "state": {
            "_model_module": "@jupyter-widgets/base",
            "_model_module_version": "1.2.0",
            "_model_name": "LayoutModel",
            "_view_count": null,
            "_view_module": "@jupyter-widgets/base",
            "_view_module_version": "1.2.0",
            "_view_name": "LayoutView",
            "align_content": null,
            "align_items": null,
            "align_self": null,
            "border": null,
            "bottom": null,
            "display": null,
            "flex": null,
            "flex_flow": null,
            "grid_area": null,
            "grid_auto_columns": null,
            "grid_auto_flow": null,
            "grid_auto_rows": null,
            "grid_column": null,
            "grid_gap": null,
            "grid_row": null,
            "grid_template_areas": null,
            "grid_template_columns": null,
            "grid_template_rows": null,
            "height": null,
            "justify_content": null,
            "justify_items": null,
            "left": null,
            "margin": null,
            "max_height": null,
            "max_width": null,
            "min_height": null,
            "min_width": null,
            "object_fit": null,
            "object_position": null,
            "order": null,
            "overflow": null,
            "overflow_x": null,
            "overflow_y": null,
            "padding": null,
            "right": null,
            "top": null,
            "visibility": null,
            "width": null
          }
        },
        "c78ebf17c1374b24b8b0aed7250c1d1a": {
          "model_module": "@jupyter-widgets/controls",
          "model_name": "ProgressStyleModel",
          "model_module_version": "1.5.0",
          "state": {
            "_model_module": "@jupyter-widgets/controls",
            "_model_module_version": "1.5.0",
            "_model_name": "ProgressStyleModel",
            "_view_count": null,
            "_view_module": "@jupyter-widgets/base",
            "_view_module_version": "1.2.0",
            "_view_name": "StyleView",
            "bar_color": null,
            "description_width": ""
          }
        },
        "ff9d2f38174945fbbb8cdbf7371dc847": {
          "model_module": "@jupyter-widgets/controls",
          "model_name": "VBoxModel",
          "model_module_version": "1.5.0",
          "state": {
            "_dom_classes": [],
            "_model_module": "@jupyter-widgets/controls",
            "_model_module_version": "1.5.0",
            "_model_name": "VBoxModel",
            "_view_count": null,
            "_view_module": "@jupyter-widgets/controls",
            "_view_module_version": "1.5.0",
            "_view_name": "VBoxView",
            "box_style": "",
            "children": [
              "IPY_MODEL_e0e29b65854949479ef340772449f3f5",
              "IPY_MODEL_0b277655077d40d78fc0056c4d423e5c"
            ],
            "layout": "IPY_MODEL_50ce16cbf3094eac873c6ca7fd347b09"
          }
        },
        "e0e29b65854949479ef340772449f3f5": {
          "model_module": "@jupyter-widgets/controls",
          "model_name": "LabelModel",
          "model_module_version": "1.5.0",
          "state": {
            "_dom_classes": [],
            "_model_module": "@jupyter-widgets/controls",
            "_model_module_version": "1.5.0",
            "_model_name": "LabelModel",
            "_view_count": null,
            "_view_module": "@jupyter-widgets/controls",
            "_view_module_version": "1.5.0",
            "_view_name": "LabelView",
            "description": "",
            "description_tooltip": null,
            "layout": "IPY_MODEL_a589c559037c47d987c7987dcb2f2603",
            "placeholder": "​",
            "style": "IPY_MODEL_7a022dd4eeda449593ccf45bb77ddfcc",
            "value": "0.000 MB of 0.000 MB uploaded (0.000 MB deduped)\r"
          }
        },
        "0b277655077d40d78fc0056c4d423e5c": {
          "model_module": "@jupyter-widgets/controls",
          "model_name": "FloatProgressModel",
          "model_module_version": "1.5.0",
          "state": {
            "_dom_classes": [],
            "_model_module": "@jupyter-widgets/controls",
            "_model_module_version": "1.5.0",
            "_model_name": "FloatProgressModel",
            "_view_count": null,
            "_view_module": "@jupyter-widgets/controls",
            "_view_module_version": "1.5.0",
            "_view_name": "ProgressView",
            "bar_style": "",
            "description": "",
            "description_tooltip": null,
            "layout": "IPY_MODEL_d044052152ef4673a01ee4c4807904ea",
            "max": 1,
            "min": 0,
            "orientation": "horizontal",
            "style": "IPY_MODEL_43c26815a2f84b64972584cf6d751520",
            "value": 1
          }
        },
        "50ce16cbf3094eac873c6ca7fd347b09": {
          "model_module": "@jupyter-widgets/base",
          "model_name": "LayoutModel",
          "model_module_version": "1.2.0",
          "state": {
            "_model_module": "@jupyter-widgets/base",
            "_model_module_version": "1.2.0",
            "_model_name": "LayoutModel",
            "_view_count": null,
            "_view_module": "@jupyter-widgets/base",
            "_view_module_version": "1.2.0",
            "_view_name": "LayoutView",
            "align_content": null,
            "align_items": null,
            "align_self": null,
            "border": null,
            "bottom": null,
            "display": null,
            "flex": null,
            "flex_flow": null,
            "grid_area": null,
            "grid_auto_columns": null,
            "grid_auto_flow": null,
            "grid_auto_rows": null,
            "grid_column": null,
            "grid_gap": null,
            "grid_row": null,
            "grid_template_areas": null,
            "grid_template_columns": null,
            "grid_template_rows": null,
            "height": null,
            "justify_content": null,
            "justify_items": null,
            "left": null,
            "margin": null,
            "max_height": null,
            "max_width": null,
            "min_height": null,
            "min_width": null,
            "object_fit": null,
            "object_position": null,
            "order": null,
            "overflow": null,
            "overflow_x": null,
            "overflow_y": null,
            "padding": null,
            "right": null,
            "top": null,
            "visibility": null,
            "width": null
          }
        },
        "a589c559037c47d987c7987dcb2f2603": {
          "model_module": "@jupyter-widgets/base",
          "model_name": "LayoutModel",
          "model_module_version": "1.2.0",
          "state": {
            "_model_module": "@jupyter-widgets/base",
            "_model_module_version": "1.2.0",
            "_model_name": "LayoutModel",
            "_view_count": null,
            "_view_module": "@jupyter-widgets/base",
            "_view_module_version": "1.2.0",
            "_view_name": "LayoutView",
            "align_content": null,
            "align_items": null,
            "align_self": null,
            "border": null,
            "bottom": null,
            "display": null,
            "flex": null,
            "flex_flow": null,
            "grid_area": null,
            "grid_auto_columns": null,
            "grid_auto_flow": null,
            "grid_auto_rows": null,
            "grid_column": null,
            "grid_gap": null,
            "grid_row": null,
            "grid_template_areas": null,
            "grid_template_columns": null,
            "grid_template_rows": null,
            "height": null,
            "justify_content": null,
            "justify_items": null,
            "left": null,
            "margin": null,
            "max_height": null,
            "max_width": null,
            "min_height": null,
            "min_width": null,
            "object_fit": null,
            "object_position": null,
            "order": null,
            "overflow": null,
            "overflow_x": null,
            "overflow_y": null,
            "padding": null,
            "right": null,
            "top": null,
            "visibility": null,
            "width": null
          }
        },
        "7a022dd4eeda449593ccf45bb77ddfcc": {
          "model_module": "@jupyter-widgets/controls",
          "model_name": "DescriptionStyleModel",
          "model_module_version": "1.5.0",
          "state": {
            "_model_module": "@jupyter-widgets/controls",
            "_model_module_version": "1.5.0",
            "_model_name": "DescriptionStyleModel",
            "_view_count": null,
            "_view_module": "@jupyter-widgets/base",
            "_view_module_version": "1.2.0",
            "_view_name": "StyleView",
            "description_width": ""
          }
        },
        "d044052152ef4673a01ee4c4807904ea": {
          "model_module": "@jupyter-widgets/base",
          "model_name": "LayoutModel",
          "model_module_version": "1.2.0",
          "state": {
            "_model_module": "@jupyter-widgets/base",
            "_model_module_version": "1.2.0",
            "_model_name": "LayoutModel",
            "_view_count": null,
            "_view_module": "@jupyter-widgets/base",
            "_view_module_version": "1.2.0",
            "_view_name": "LayoutView",
            "align_content": null,
            "align_items": null,
            "align_self": null,
            "border": null,
            "bottom": null,
            "display": null,
            "flex": null,
            "flex_flow": null,
            "grid_area": null,
            "grid_auto_columns": null,
            "grid_auto_flow": null,
            "grid_auto_rows": null,
            "grid_column": null,
            "grid_gap": null,
            "grid_row": null,
            "grid_template_areas": null,
            "grid_template_columns": null,
            "grid_template_rows": null,
            "height": null,
            "justify_content": null,
            "justify_items": null,
            "left": null,
            "margin": null,
            "max_height": null,
            "max_width": null,
            "min_height": null,
            "min_width": null,
            "object_fit": null,
            "object_position": null,
            "order": null,
            "overflow": null,
            "overflow_x": null,
            "overflow_y": null,
            "padding": null,
            "right": null,
            "top": null,
            "visibility": null,
            "width": null
          }
        },
        "43c26815a2f84b64972584cf6d751520": {
          "model_module": "@jupyter-widgets/controls",
          "model_name": "ProgressStyleModel",
          "model_module_version": "1.5.0",
          "state": {
            "_model_module": "@jupyter-widgets/controls",
            "_model_module_version": "1.5.0",
            "_model_name": "ProgressStyleModel",
            "_view_count": null,
            "_view_module": "@jupyter-widgets/base",
            "_view_module_version": "1.2.0",
            "_view_name": "StyleView",
            "bar_color": null,
            "description_width": ""
          }
        },
        "b470c6ac24dc467798fa262fe13a4bbe": {
          "model_module": "@jupyter-widgets/controls",
          "model_name": "VBoxModel",
          "model_module_version": "1.5.0",
          "state": {
            "_dom_classes": [],
            "_model_module": "@jupyter-widgets/controls",
            "_model_module_version": "1.5.0",
            "_model_name": "VBoxModel",
            "_view_count": null,
            "_view_module": "@jupyter-widgets/controls",
            "_view_module_version": "1.5.0",
            "_view_name": "VBoxView",
            "box_style": "",
            "children": [
              "IPY_MODEL_fd5f1ef2f73f40c7ad406b5393ee28e5",
              "IPY_MODEL_a806ec140039476d84b7b742e5841896"
            ],
            "layout": "IPY_MODEL_a230ec60956e463789a9a3fac8b79e04"
          }
        },
        "fd5f1ef2f73f40c7ad406b5393ee28e5": {
          "model_module": "@jupyter-widgets/controls",
          "model_name": "LabelModel",
          "model_module_version": "1.5.0",
          "state": {
            "_dom_classes": [],
            "_model_module": "@jupyter-widgets/controls",
            "_model_module_version": "1.5.0",
            "_model_name": "LabelModel",
            "_view_count": null,
            "_view_module": "@jupyter-widgets/controls",
            "_view_module_version": "1.5.0",
            "_view_name": "LabelView",
            "description": "",
            "description_tooltip": null,
            "layout": "IPY_MODEL_c79990c0073f43aea6b460dced93f57b",
            "placeholder": "​",
            "style": "IPY_MODEL_c7bf95c1f4034d7d879d33bf8a879fae",
            "value": "0.000 MB of 0.017 MB uploaded (0.000 MB deduped)\r"
          }
        },
        "a806ec140039476d84b7b742e5841896": {
          "model_module": "@jupyter-widgets/controls",
          "model_name": "FloatProgressModel",
          "model_module_version": "1.5.0",
          "state": {
            "_dom_classes": [],
            "_model_module": "@jupyter-widgets/controls",
            "_model_module_version": "1.5.0",
            "_model_name": "FloatProgressModel",
            "_view_count": null,
            "_view_module": "@jupyter-widgets/controls",
            "_view_module_version": "1.5.0",
            "_view_name": "ProgressView",
            "bar_style": "",
            "description": "",
            "description_tooltip": null,
            "layout": "IPY_MODEL_dbf90997f607455b894c15f32e7e0075",
            "max": 1,
            "min": 0,
            "orientation": "horizontal",
            "style": "IPY_MODEL_226293f23c914831b63289c4cd229067",
            "value": 0.02409707844490453
          }
        },
        "a230ec60956e463789a9a3fac8b79e04": {
          "model_module": "@jupyter-widgets/base",
          "model_name": "LayoutModel",
          "model_module_version": "1.2.0",
          "state": {
            "_model_module": "@jupyter-widgets/base",
            "_model_module_version": "1.2.0",
            "_model_name": "LayoutModel",
            "_view_count": null,
            "_view_module": "@jupyter-widgets/base",
            "_view_module_version": "1.2.0",
            "_view_name": "LayoutView",
            "align_content": null,
            "align_items": null,
            "align_self": null,
            "border": null,
            "bottom": null,
            "display": null,
            "flex": null,
            "flex_flow": null,
            "grid_area": null,
            "grid_auto_columns": null,
            "grid_auto_flow": null,
            "grid_auto_rows": null,
            "grid_column": null,
            "grid_gap": null,
            "grid_row": null,
            "grid_template_areas": null,
            "grid_template_columns": null,
            "grid_template_rows": null,
            "height": null,
            "justify_content": null,
            "justify_items": null,
            "left": null,
            "margin": null,
            "max_height": null,
            "max_width": null,
            "min_height": null,
            "min_width": null,
            "object_fit": null,
            "object_position": null,
            "order": null,
            "overflow": null,
            "overflow_x": null,
            "overflow_y": null,
            "padding": null,
            "right": null,
            "top": null,
            "visibility": null,
            "width": null
          }
        },
        "c79990c0073f43aea6b460dced93f57b": {
          "model_module": "@jupyter-widgets/base",
          "model_name": "LayoutModel",
          "model_module_version": "1.2.0",
          "state": {
            "_model_module": "@jupyter-widgets/base",
            "_model_module_version": "1.2.0",
            "_model_name": "LayoutModel",
            "_view_count": null,
            "_view_module": "@jupyter-widgets/base",
            "_view_module_version": "1.2.0",
            "_view_name": "LayoutView",
            "align_content": null,
            "align_items": null,
            "align_self": null,
            "border": null,
            "bottom": null,
            "display": null,
            "flex": null,
            "flex_flow": null,
            "grid_area": null,
            "grid_auto_columns": null,
            "grid_auto_flow": null,
            "grid_auto_rows": null,
            "grid_column": null,
            "grid_gap": null,
            "grid_row": null,
            "grid_template_areas": null,
            "grid_template_columns": null,
            "grid_template_rows": null,
            "height": null,
            "justify_content": null,
            "justify_items": null,
            "left": null,
            "margin": null,
            "max_height": null,
            "max_width": null,
            "min_height": null,
            "min_width": null,
            "object_fit": null,
            "object_position": null,
            "order": null,
            "overflow": null,
            "overflow_x": null,
            "overflow_y": null,
            "padding": null,
            "right": null,
            "top": null,
            "visibility": null,
            "width": null
          }
        },
        "c7bf95c1f4034d7d879d33bf8a879fae": {
          "model_module": "@jupyter-widgets/controls",
          "model_name": "DescriptionStyleModel",
          "model_module_version": "1.5.0",
          "state": {
            "_model_module": "@jupyter-widgets/controls",
            "_model_module_version": "1.5.0",
            "_model_name": "DescriptionStyleModel",
            "_view_count": null,
            "_view_module": "@jupyter-widgets/base",
            "_view_module_version": "1.2.0",
            "_view_name": "StyleView",
            "description_width": ""
          }
        },
        "dbf90997f607455b894c15f32e7e0075": {
          "model_module": "@jupyter-widgets/base",
          "model_name": "LayoutModel",
          "model_module_version": "1.2.0",
          "state": {
            "_model_module": "@jupyter-widgets/base",
            "_model_module_version": "1.2.0",
            "_model_name": "LayoutModel",
            "_view_count": null,
            "_view_module": "@jupyter-widgets/base",
            "_view_module_version": "1.2.0",
            "_view_name": "LayoutView",
            "align_content": null,
            "align_items": null,
            "align_self": null,
            "border": null,
            "bottom": null,
            "display": null,
            "flex": null,
            "flex_flow": null,
            "grid_area": null,
            "grid_auto_columns": null,
            "grid_auto_flow": null,
            "grid_auto_rows": null,
            "grid_column": null,
            "grid_gap": null,
            "grid_row": null,
            "grid_template_areas": null,
            "grid_template_columns": null,
            "grid_template_rows": null,
            "height": null,
            "justify_content": null,
            "justify_items": null,
            "left": null,
            "margin": null,
            "max_height": null,
            "max_width": null,
            "min_height": null,
            "min_width": null,
            "object_fit": null,
            "object_position": null,
            "order": null,
            "overflow": null,
            "overflow_x": null,
            "overflow_y": null,
            "padding": null,
            "right": null,
            "top": null,
            "visibility": null,
            "width": null
          }
        },
        "226293f23c914831b63289c4cd229067": {
          "model_module": "@jupyter-widgets/controls",
          "model_name": "ProgressStyleModel",
          "model_module_version": "1.5.0",
          "state": {
            "_model_module": "@jupyter-widgets/controls",
            "_model_module_version": "1.5.0",
            "_model_name": "ProgressStyleModel",
            "_view_count": null,
            "_view_module": "@jupyter-widgets/base",
            "_view_module_version": "1.2.0",
            "_view_name": "StyleView",
            "bar_color": null,
            "description_width": ""
          }
        },
        "dd4d3e957a5547a6910b625e47118e0f": {
          "model_module": "@jupyter-widgets/controls",
          "model_name": "VBoxModel",
          "model_module_version": "1.5.0",
          "state": {
            "_dom_classes": [],
            "_model_module": "@jupyter-widgets/controls",
            "_model_module_version": "1.5.0",
            "_model_name": "VBoxModel",
            "_view_count": null,
            "_view_module": "@jupyter-widgets/controls",
            "_view_module_version": "1.5.0",
            "_view_name": "VBoxView",
            "box_style": "",
            "children": [
              "IPY_MODEL_a71689c4423041dbb691e2be75454ea7",
              "IPY_MODEL_444967f1263048da8804832cc030e9aa"
            ],
            "layout": "IPY_MODEL_9197fd522ed445e8937f591cf3b056cb"
          }
        },
        "a71689c4423041dbb691e2be75454ea7": {
          "model_module": "@jupyter-widgets/controls",
          "model_name": "LabelModel",
          "model_module_version": "1.5.0",
          "state": {
            "_dom_classes": [],
            "_model_module": "@jupyter-widgets/controls",
            "_model_module_version": "1.5.0",
            "_model_name": "LabelModel",
            "_view_count": null,
            "_view_module": "@jupyter-widgets/controls",
            "_view_module_version": "1.5.0",
            "_view_name": "LabelView",
            "description": "",
            "description_tooltip": null,
            "layout": "IPY_MODEL_5b0b2c6e9121412eb5d8abe72d72577f",
            "placeholder": "​",
            "style": "IPY_MODEL_915d585528774119aa18243f408faf1b",
            "value": "0.000 MB of 0.010 MB uploaded (0.000 MB deduped)\r"
          }
        },
        "444967f1263048da8804832cc030e9aa": {
          "model_module": "@jupyter-widgets/controls",
          "model_name": "FloatProgressModel",
          "model_module_version": "1.5.0",
          "state": {
            "_dom_classes": [],
            "_model_module": "@jupyter-widgets/controls",
            "_model_module_version": "1.5.0",
            "_model_name": "FloatProgressModel",
            "_view_count": null,
            "_view_module": "@jupyter-widgets/controls",
            "_view_module_version": "1.5.0",
            "_view_name": "ProgressView",
            "bar_style": "",
            "description": "",
            "description_tooltip": null,
            "layout": "IPY_MODEL_5e517f034ed143ee8685e6c8e0518560",
            "max": 1,
            "min": 0,
            "orientation": "horizontal",
            "style": "IPY_MODEL_a989b272ed7147ceadc112a7bfcb8ea7",
            "value": 0.04185396064329238
          }
        },
        "9197fd522ed445e8937f591cf3b056cb": {
          "model_module": "@jupyter-widgets/base",
          "model_name": "LayoutModel",
          "model_module_version": "1.2.0",
          "state": {
            "_model_module": "@jupyter-widgets/base",
            "_model_module_version": "1.2.0",
            "_model_name": "LayoutModel",
            "_view_count": null,
            "_view_module": "@jupyter-widgets/base",
            "_view_module_version": "1.2.0",
            "_view_name": "LayoutView",
            "align_content": null,
            "align_items": null,
            "align_self": null,
            "border": null,
            "bottom": null,
            "display": null,
            "flex": null,
            "flex_flow": null,
            "grid_area": null,
            "grid_auto_columns": null,
            "grid_auto_flow": null,
            "grid_auto_rows": null,
            "grid_column": null,
            "grid_gap": null,
            "grid_row": null,
            "grid_template_areas": null,
            "grid_template_columns": null,
            "grid_template_rows": null,
            "height": null,
            "justify_content": null,
            "justify_items": null,
            "left": null,
            "margin": null,
            "max_height": null,
            "max_width": null,
            "min_height": null,
            "min_width": null,
            "object_fit": null,
            "object_position": null,
            "order": null,
            "overflow": null,
            "overflow_x": null,
            "overflow_y": null,
            "padding": null,
            "right": null,
            "top": null,
            "visibility": null,
            "width": null
          }
        },
        "5b0b2c6e9121412eb5d8abe72d72577f": {
          "model_module": "@jupyter-widgets/base",
          "model_name": "LayoutModel",
          "model_module_version": "1.2.0",
          "state": {
            "_model_module": "@jupyter-widgets/base",
            "_model_module_version": "1.2.0",
            "_model_name": "LayoutModel",
            "_view_count": null,
            "_view_module": "@jupyter-widgets/base",
            "_view_module_version": "1.2.0",
            "_view_name": "LayoutView",
            "align_content": null,
            "align_items": null,
            "align_self": null,
            "border": null,
            "bottom": null,
            "display": null,
            "flex": null,
            "flex_flow": null,
            "grid_area": null,
            "grid_auto_columns": null,
            "grid_auto_flow": null,
            "grid_auto_rows": null,
            "grid_column": null,
            "grid_gap": null,
            "grid_row": null,
            "grid_template_areas": null,
            "grid_template_columns": null,
            "grid_template_rows": null,
            "height": null,
            "justify_content": null,
            "justify_items": null,
            "left": null,
            "margin": null,
            "max_height": null,
            "max_width": null,
            "min_height": null,
            "min_width": null,
            "object_fit": null,
            "object_position": null,
            "order": null,
            "overflow": null,
            "overflow_x": null,
            "overflow_y": null,
            "padding": null,
            "right": null,
            "top": null,
            "visibility": null,
            "width": null
          }
        },
        "915d585528774119aa18243f408faf1b": {
          "model_module": "@jupyter-widgets/controls",
          "model_name": "DescriptionStyleModel",
          "model_module_version": "1.5.0",
          "state": {
            "_model_module": "@jupyter-widgets/controls",
            "_model_module_version": "1.5.0",
            "_model_name": "DescriptionStyleModel",
            "_view_count": null,
            "_view_module": "@jupyter-widgets/base",
            "_view_module_version": "1.2.0",
            "_view_name": "StyleView",
            "description_width": ""
          }
        },
        "5e517f034ed143ee8685e6c8e0518560": {
          "model_module": "@jupyter-widgets/base",
          "model_name": "LayoutModel",
          "model_module_version": "1.2.0",
          "state": {
            "_model_module": "@jupyter-widgets/base",
            "_model_module_version": "1.2.0",
            "_model_name": "LayoutModel",
            "_view_count": null,
            "_view_module": "@jupyter-widgets/base",
            "_view_module_version": "1.2.0",
            "_view_name": "LayoutView",
            "align_content": null,
            "align_items": null,
            "align_self": null,
            "border": null,
            "bottom": null,
            "display": null,
            "flex": null,
            "flex_flow": null,
            "grid_area": null,
            "grid_auto_columns": null,
            "grid_auto_flow": null,
            "grid_auto_rows": null,
            "grid_column": null,
            "grid_gap": null,
            "grid_row": null,
            "grid_template_areas": null,
            "grid_template_columns": null,
            "grid_template_rows": null,
            "height": null,
            "justify_content": null,
            "justify_items": null,
            "left": null,
            "margin": null,
            "max_height": null,
            "max_width": null,
            "min_height": null,
            "min_width": null,
            "object_fit": null,
            "object_position": null,
            "order": null,
            "overflow": null,
            "overflow_x": null,
            "overflow_y": null,
            "padding": null,
            "right": null,
            "top": null,
            "visibility": null,
            "width": null
          }
        },
        "a989b272ed7147ceadc112a7bfcb8ea7": {
          "model_module": "@jupyter-widgets/controls",
          "model_name": "ProgressStyleModel",
          "model_module_version": "1.5.0",
          "state": {
            "_model_module": "@jupyter-widgets/controls",
            "_model_module_version": "1.5.0",
            "_model_name": "ProgressStyleModel",
            "_view_count": null,
            "_view_module": "@jupyter-widgets/base",
            "_view_module_version": "1.2.0",
            "_view_name": "StyleView",
            "bar_color": null,
            "description_width": ""
          }
        }
      }
    }
  },
  "cells": [
    {
      "cell_type": "markdown",
      "source": [
        "# Organizational Model Training with Weights & Biases and Hydra\n",
        "Organization into three pieces: experiment tracking (W&B), hyperparameter search (Sweeps) asnd configuration setup (Hydra).\n"
      ],
      "metadata": {
        "id": "TwckKzSpDCtG"
      }
    },
    {
      "cell_type": "code",
      "source": [
        "! pip install torch\n",
        "! pip install torchvision"
      ],
      "metadata": {
        "colab": {
          "base_uri": "https://localhost:8080/"
        },
        "id": "0nk4qvZLC_ap",
        "outputId": "618abb6b-b2b2-48b7-9778-a8b213410320"
      },
      "execution_count": 2,
      "outputs": [
        {
          "output_type": "stream",
          "name": "stdout",
          "text": [
            "Looking in indexes: https://pypi.org/simple, https://us-python.pkg.dev/colab-wheels/public/simple/\n",
            "Requirement already satisfied: torch in /usr/local/lib/python3.7/dist-packages (1.12.1+cu113)\n",
            "Requirement already satisfied: typing-extensions in /usr/local/lib/python3.7/dist-packages (from torch) (4.1.1)\n",
            "Looking in indexes: https://pypi.org/simple, https://us-python.pkg.dev/colab-wheels/public/simple/\n",
            "Requirement already satisfied: torchvision in /usr/local/lib/python3.7/dist-packages (0.13.1+cu113)\n",
            "Requirement already satisfied: typing-extensions in /usr/local/lib/python3.7/dist-packages (from torchvision) (4.1.1)\n",
            "Requirement already satisfied: numpy in /usr/local/lib/python3.7/dist-packages (from torchvision) (1.21.6)\n",
            "Requirement already satisfied: torch==1.12.1 in /usr/local/lib/python3.7/dist-packages (from torchvision) (1.12.1+cu113)\n",
            "Requirement already satisfied: pillow!=8.3.*,>=5.3.0 in /usr/local/lib/python3.7/dist-packages (from torchvision) (7.1.2)\n",
            "Requirement already satisfied: requests in /usr/local/lib/python3.7/dist-packages (from torchvision) (2.23.0)\n",
            "Requirement already satisfied: chardet<4,>=3.0.2 in /usr/local/lib/python3.7/dist-packages (from requests->torchvision) (3.0.4)\n",
            "Requirement already satisfied: urllib3!=1.25.0,!=1.25.1,<1.26,>=1.21.1 in /usr/local/lib/python3.7/dist-packages (from requests->torchvision) (1.24.3)\n",
            "Requirement already satisfied: idna<3,>=2.5 in /usr/local/lib/python3.7/dist-packages (from requests->torchvision) (2.10)\n",
            "Requirement already satisfied: certifi>=2017.4.17 in /usr/local/lib/python3.7/dist-packages (from requests->torchvision) (2022.9.24)\n"
          ]
        }
      ]
    },
    {
      "cell_type": "code",
      "source": [
        "!pip install wandb"
      ],
      "metadata": {
        "colab": {
          "base_uri": "https://localhost:8080/"
        },
        "id": "gFJK6O9HFIem",
        "outputId": "8abf9874-74b7-4709-8091-ff31089be6ef"
      },
      "execution_count": 5,
      "outputs": [
        {
          "output_type": "stream",
          "name": "stdout",
          "text": [
            "Looking in indexes: https://pypi.org/simple, https://us-python.pkg.dev/colab-wheels/public/simple/\n",
            "Collecting wandb\n",
            "  Downloading wandb-0.13.4-py2.py3-none-any.whl (1.9 MB)\n",
            "\u001b[K     |████████████████████████████████| 1.9 MB 5.8 MB/s \n",
            "\u001b[?25hRequirement already satisfied: promise<3,>=2.0 in /usr/local/lib/python3.7/dist-packages (from wandb) (2.3)\n",
            "Requirement already satisfied: requests<3,>=2.0.0 in /usr/local/lib/python3.7/dist-packages (from wandb) (2.23.0)\n",
            "Collecting docker-pycreds>=0.4.0\n",
            "  Downloading docker_pycreds-0.4.0-py2.py3-none-any.whl (9.0 kB)\n",
            "Requirement already satisfied: PyYAML in /usr/local/lib/python3.7/dist-packages (from wandb) (6.0)\n",
            "Collecting GitPython>=1.0.0\n",
            "  Downloading GitPython-3.1.29-py3-none-any.whl (182 kB)\n",
            "\u001b[K     |████████████████████████████████| 182 kB 63.8 MB/s \n",
            "\u001b[?25hCollecting shortuuid>=0.5.0\n",
            "  Downloading shortuuid-1.0.9-py3-none-any.whl (9.4 kB)\n",
            "Requirement already satisfied: Click!=8.0.0,>=7.0 in /usr/local/lib/python3.7/dist-packages (from wandb) (7.1.2)\n",
            "Collecting sentry-sdk>=1.0.0\n",
            "  Downloading sentry_sdk-1.9.10-py2.py3-none-any.whl (162 kB)\n",
            "\u001b[K     |████████████████████████████████| 162 kB 45.8 MB/s \n",
            "\u001b[?25hRequirement already satisfied: setuptools in /usr/local/lib/python3.7/dist-packages (from wandb) (57.4.0)\n",
            "Requirement already satisfied: six>=1.13.0 in /usr/local/lib/python3.7/dist-packages (from wandb) (1.15.0)\n",
            "Requirement already satisfied: protobuf!=4.0.*,!=4.21.0,<5,>=3.12.0 in /usr/local/lib/python3.7/dist-packages (from wandb) (3.17.3)\n",
            "Requirement already satisfied: psutil>=5.0.0 in /usr/local/lib/python3.7/dist-packages (from wandb) (5.4.8)\n",
            "Collecting setproctitle\n",
            "  Downloading setproctitle-1.3.2-cp37-cp37m-manylinux_2_5_x86_64.manylinux1_x86_64.manylinux_2_17_x86_64.manylinux2014_x86_64.whl (30 kB)\n",
            "Collecting pathtools\n",
            "  Downloading pathtools-0.1.2.tar.gz (11 kB)\n",
            "Requirement already satisfied: typing-extensions>=3.7.4.3 in /usr/local/lib/python3.7/dist-packages (from GitPython>=1.0.0->wandb) (4.1.1)\n",
            "Collecting gitdb<5,>=4.0.1\n",
            "  Downloading gitdb-4.0.9-py3-none-any.whl (63 kB)\n",
            "\u001b[K     |████████████████████████████████| 63 kB 1.5 MB/s \n",
            "\u001b[?25hCollecting smmap<6,>=3.0.1\n",
            "  Downloading smmap-5.0.0-py3-none-any.whl (24 kB)\n",
            "Requirement already satisfied: idna<3,>=2.5 in /usr/local/lib/python3.7/dist-packages (from requests<3,>=2.0.0->wandb) (2.10)\n",
            "Requirement already satisfied: chardet<4,>=3.0.2 in /usr/local/lib/python3.7/dist-packages (from requests<3,>=2.0.0->wandb) (3.0.4)\n",
            "Requirement already satisfied: urllib3!=1.25.0,!=1.25.1,<1.26,>=1.21.1 in /usr/local/lib/python3.7/dist-packages (from requests<3,>=2.0.0->wandb) (1.24.3)\n",
            "Requirement already satisfied: certifi>=2017.4.17 in /usr/local/lib/python3.7/dist-packages (from requests<3,>=2.0.0->wandb) (2022.9.24)\n",
            "Collecting sentry-sdk>=1.0.0\n",
            "  Downloading sentry_sdk-1.9.9-py2.py3-none-any.whl (162 kB)\n",
            "\u001b[K     |████████████████████████████████| 162 kB 65.9 MB/s \n",
            "\u001b[?25h  Downloading sentry_sdk-1.9.8-py2.py3-none-any.whl (158 kB)\n",
            "\u001b[K     |████████████████████████████████| 158 kB 60.6 MB/s \n",
            "\u001b[?25h  Downloading sentry_sdk-1.9.7-py2.py3-none-any.whl (157 kB)\n",
            "\u001b[K     |████████████████████████████████| 157 kB 69.5 MB/s \n",
            "\u001b[?25h  Downloading sentry_sdk-1.9.6-py2.py3-none-any.whl (157 kB)\n",
            "\u001b[K     |████████████████████████████████| 157 kB 57.2 MB/s \n",
            "\u001b[?25h  Downloading sentry_sdk-1.9.5-py2.py3-none-any.whl (157 kB)\n",
            "\u001b[K     |████████████████████████████████| 157 kB 73.3 MB/s \n",
            "\u001b[?25h  Downloading sentry_sdk-1.9.4-py2.py3-none-any.whl (157 kB)\n",
            "\u001b[K     |████████████████████████████████| 157 kB 47.4 MB/s \n",
            "\u001b[?25h  Downloading sentry_sdk-1.9.3-py2.py3-none-any.whl (157 kB)\n",
            "\u001b[K     |████████████████████████████████| 157 kB 57.0 MB/s \n",
            "\u001b[?25h  Downloading sentry_sdk-1.9.2-py2.py3-none-any.whl (157 kB)\n",
            "\u001b[K     |████████████████████████████████| 157 kB 55.9 MB/s \n",
            "\u001b[?25h  Downloading sentry_sdk-1.9.1-py2.py3-none-any.whl (157 kB)\n",
            "\u001b[K     |████████████████████████████████| 157 kB 56.8 MB/s \n",
            "\u001b[?25h  Downloading sentry_sdk-1.9.0-py2.py3-none-any.whl (156 kB)\n",
            "\u001b[K     |████████████████████████████████| 156 kB 72.6 MB/s \n",
            "\u001b[?25hBuilding wheels for collected packages: pathtools\n",
            "  Building wheel for pathtools (setup.py) ... \u001b[?25l\u001b[?25hdone\n",
            "  Created wheel for pathtools: filename=pathtools-0.1.2-py3-none-any.whl size=8806 sha256=430988f592fa021563bc9ee4963053cd1403c4717a0d6e8c4cb29cd30ad6e13b\n",
            "  Stored in directory: /root/.cache/pip/wheels/3e/31/09/fa59cef12cdcfecc627b3d24273699f390e71828921b2cbba2\n",
            "Successfully built pathtools\n",
            "Installing collected packages: smmap, gitdb, shortuuid, setproctitle, sentry-sdk, pathtools, GitPython, docker-pycreds, wandb\n",
            "Successfully installed GitPython-3.1.29 docker-pycreds-0.4.0 gitdb-4.0.9 pathtools-0.1.2 sentry-sdk-1.9.0 setproctitle-1.3.2 shortuuid-1.0.9 smmap-5.0.0 wandb-0.13.4\n"
          ]
        }
      ]
    },
    {
      "cell_type": "markdown",
      "source": [
        "## Experiment Tracking\n",
        "### Logging\n",
        "Simulation of a training run, print the hyperparameters, and the loss + accuracy of the model as it is training.\n"
      ],
      "metadata": {
        "id": "6S-oUZzhDrns"
      }
    },
    {
      "cell_type": "code",
      "execution_count": 3,
      "metadata": {
        "colab": {
          "base_uri": "https://localhost:8080/"
        },
        "id": "2csmGKpHC4D4",
        "outputId": "67a72473-e85b-43bb-f663-93d9cad9564d"
      },
      "outputs": [
        {
          "output_type": "stream",
          "name": "stdout",
          "text": [
            "Training for 10 epochs with learning rate 0.01\n",
            "epoch = 2, acc = 0.5318531952209633, loss = 0.6472612597856011\n",
            "epoch = 3, acc = 0.4328535906461069, loss = 0.4678890882940598\n",
            "epoch = 4, acc = 0.7779582258257718, loss = 0.3421510855451745\n",
            "epoch = 5, acc = 0.6453370856495333, loss = 0.2513631224441336\n",
            "epoch = 6, acc = 0.7409278652431806, loss = 0.16676957313145274\n",
            "epoch = 7, acc = 0.7300347189963541, loss = 0.21656127096084915\n",
            "epoch = 8, acc = 0.7474964765877083, loss = 0.23143165241514257\n",
            "epoch = 9, acc = 0.8282295936141626, loss = 0.1513940849861509\n"
          ]
        }
      ],
      "source": [
        "import random\n",
        "def run_training_run_txt_log(epochs, lr):\n",
        "  print(f\"Training for {epochs} epochs with learning rate {lr}\")\n",
        "  offset = random.random() / 5\n",
        "\n",
        "  for epoch in range(2, epochs):\n",
        "    # Simulating a training run\n",
        "    acc = 1 - 2 ** - epoch - random.random() / epoch - offset\n",
        "    loss = 2 ** -epoch + random.random() / epoch + offset\n",
        "    print(f\"epoch = {epoch}, acc = {acc}, loss = {loss}\")\n",
        "\n",
        "# run a training run with a learning rate of 0.1\n",
        "run_training_run_txt_log(epochs = 10, lr = 0.01)"
      ]
    },
    {
      "cell_type": "markdown",
      "source": [
        "### Weights and Biases\n",
        "The ML platform for developers to build better models faster. Lightweight, interoperable tools to quicly track experiments, version and iterate on datasets, evaluate model performance, reproduce models, visualize results and spot regression and share findings with colleagues. Other options are Tensorboard, Neptune. \n",
        "\n",
        "Create an account and ten add your token."
      ],
      "metadata": {
        "id": "Le8W_ERYEfg0"
      }
    },
    {
      "cell_type": "code",
      "source": [
        "# Log in to your wandb account \n",
        "import wandb\n",
        "wandb.login()\n"
      ],
      "metadata": {
        "colab": {
          "base_uri": "https://localhost:8080/",
          "height": 144
        },
        "id": "9M6YQirNEcfb",
        "outputId": "e182e7e3-0e02-444c-eef0-099d67925821"
      },
      "execution_count": 6,
      "outputs": [
        {
          "output_type": "stream",
          "name": "stderr",
          "text": [
            "ERROR:wandb.jupyter:Failed to detect the name of this notebook, you can set it manually with the WANDB_NOTEBOOK_NAME environment variable to enable code saving.\n"
          ]
        },
        {
          "output_type": "display_data",
          "data": {
            "text/plain": [
              "<IPython.core.display.Javascript object>"
            ],
            "application/javascript": [
              "\n",
              "        window._wandbApiKey = new Promise((resolve, reject) => {\n",
              "            function loadScript(url) {\n",
              "            return new Promise(function(resolve, reject) {\n",
              "                let newScript = document.createElement(\"script\");\n",
              "                newScript.onerror = reject;\n",
              "                newScript.onload = resolve;\n",
              "                document.body.appendChild(newScript);\n",
              "                newScript.src = url;\n",
              "            });\n",
              "            }\n",
              "            loadScript(\"https://cdn.jsdelivr.net/npm/postmate/build/postmate.min.js\").then(() => {\n",
              "            const iframe = document.createElement('iframe')\n",
              "            iframe.style.cssText = \"width:0;height:0;border:none\"\n",
              "            document.body.appendChild(iframe)\n",
              "            const handshake = new Postmate({\n",
              "                container: iframe,\n",
              "                url: 'https://wandb.ai/authorize'\n",
              "            });\n",
              "            const timeout = setTimeout(() => reject(\"Couldn't auto authenticate\"), 5000)\n",
              "            handshake.then(function(child) {\n",
              "                child.on('authorize', data => {\n",
              "                    clearTimeout(timeout)\n",
              "                    resolve(data)\n",
              "                });\n",
              "            });\n",
              "            })\n",
              "        });\n",
              "    "
            ]
          },
          "metadata": {}
        },
        {
          "output_type": "stream",
          "name": "stderr",
          "text": [
            "\u001b[34m\u001b[1mwandb\u001b[0m: Logging into wandb.ai. (Learn how to deploy a W&B server locally: https://wandb.me/wandb-server)\n",
            "\u001b[34m\u001b[1mwandb\u001b[0m: You can find your API key in your browser here: https://wandb.ai/authorize\n",
            "wandb: Paste an API key from your profile and hit enter, or press ctrl+c to quit: "
          ]
        },
        {
          "name": "stdout",
          "output_type": "stream",
          "text": [
            "··········\n"
          ]
        },
        {
          "output_type": "stream",
          "name": "stderr",
          "text": [
            "\u001b[34m\u001b[1mwandb\u001b[0m: Appending key for api.wandb.ai to your netrc file: /root/.netrc\n"
          ]
        }
      ]
    },
    {
      "cell_type": "code",
      "source": [
        "# Make the simulation function work with wandb\n",
        "def run_training_run_txt_log(epochs, lr):\n",
        "  print(f\"Training for {epochs} epochs with learning rate {lr}\")\n",
        "\n",
        "  wandb.init(\n",
        "      # Set the project where this run will be logged\n",
        "      project = \"example_cs_197\",\n",
        "      # Track hyperparameters and run metadata\n",
        "      config = {\n",
        "          \"learning_rate\": lr,\n",
        "          \"epochs\": epochs\n",
        "      }\n",
        "  )\n",
        "\n",
        "  offset = random.random() / 5\n",
        "\n",
        "  for epoch in range(2, epochs):\n",
        "    # Simulating a training run\n",
        "    acc = 1 - 2 ** - epoch - random.random() / epoch - offset\n",
        "    loss = 2 ** -epoch + random.random() / epoch + offset\n",
        "    print(f\"epoch = {epoch}, acc = {acc}, loss = {loss}\")\n",
        "    \n",
        "    wandb.log({\"acc\": acc, \"loss\": loss})\n",
        "  \n",
        "  wandb.finish()\n",
        "\n",
        "run_training_run_txt_log(epochs = 10, lr = 0.01)"
      ],
      "metadata": {
        "colab": {
          "base_uri": "https://localhost:8080/",
          "height": 542,
          "referenced_widgets": [
            "330cea3ddbca42fb91d149e92504cbf2",
            "8da7abad8ba14e1b9f3f638b3b814cac",
            "f56a9b71802e4444abdac455dac408ec",
            "33af9d1169f94c14a1aff09d947e70b4",
            "91b1ce1ca6444e4e85b4d7c711ff2a78",
            "93c97be1ba084be4b000de70200e9fc9",
            "de5d24072503435e878909c440a39f0e",
            "40b606398a02464db6212668c53d4f84"
          ]
        },
        "id": "PeSKgZK6FGae",
        "outputId": "0d7adff3-2144-4064-9376-f3994f7f6e48"
      },
      "execution_count": 8,
      "outputs": [
        {
          "output_type": "stream",
          "name": "stderr",
          "text": [
            "\u001b[34m\u001b[1mwandb\u001b[0m: Currently logged in as: \u001b[33mmaxcasas\u001b[0m. Use \u001b[1m`wandb login --relogin`\u001b[0m to force relogin\n"
          ]
        },
        {
          "output_type": "stream",
          "name": "stdout",
          "text": [
            "Training for 10 epochs with learning rate 0.01\n"
          ]
        },
        {
          "output_type": "display_data",
          "data": {
            "text/plain": [
              "<IPython.core.display.HTML object>"
            ],
            "text/html": [
              "Tracking run with wandb version 0.13.4"
            ]
          },
          "metadata": {}
        },
        {
          "output_type": "display_data",
          "data": {
            "text/plain": [
              "<IPython.core.display.HTML object>"
            ],
            "text/html": [
              "Run data is saved locally in <code>/content/wandb/run-20221017_223924-95nhfogw</code>"
            ]
          },
          "metadata": {}
        },
        {
          "output_type": "display_data",
          "data": {
            "text/plain": [
              "<IPython.core.display.HTML object>"
            ],
            "text/html": [
              "Syncing run <strong><a href=\"https://wandb.ai/maxcasas/example_cs_197/runs/95nhfogw\" target=\"_blank\">denim-violet-1</a></strong> to <a href=\"https://wandb.ai/maxcasas/example_cs_197\" target=\"_blank\">Weights & Biases</a> (<a href=\"https://wandb.me/run\" target=\"_blank\">docs</a>)<br/>"
            ]
          },
          "metadata": {}
        },
        {
          "output_type": "stream",
          "name": "stdout",
          "text": [
            "epoch = 2, acc = 0.5733573832867167, loss = 0.7674602646680175\n",
            "epoch = 3, acc = 0.578661476282913, loss = 0.3468168433677419\n",
            "epoch = 4, acc = 0.669359095864029, loss = 0.290439048699512\n",
            "epoch = 5, acc = 0.7478045240717313, loss = 0.31489468347394545\n",
            "epoch = 6, acc = 0.8321779495933321, loss = 0.3069710102538465\n",
            "epoch = 7, acc = 0.8183653369074675, loss = 0.2836500294441602\n",
            "epoch = 8, acc = 0.7365481245456909, loss = 0.1761135935596272\n",
            "epoch = 9, acc = 0.8036180072537409, loss = 0.25739805349116385\n"
          ]
        },
        {
          "output_type": "display_data",
          "data": {
            "text/plain": [
              "<IPython.core.display.HTML object>"
            ],
            "text/html": [
              "Waiting for W&B process to finish... <strong style=\"color:green\">(success).</strong>"
            ]
          },
          "metadata": {}
        },
        {
          "output_type": "display_data",
          "data": {
            "text/plain": [
              "VBox(children=(Label(value='0.000 MB of 0.000 MB uploaded (0.000 MB deduped)\\r'), FloatProgress(value=1.0, max…"
            ],
            "application/vnd.jupyter.widget-view+json": {
              "version_major": 2,
              "version_minor": 0,
              "model_id": "330cea3ddbca42fb91d149e92504cbf2"
            }
          },
          "metadata": {}
        },
        {
          "output_type": "display_data",
          "data": {
            "text/plain": [
              "<IPython.core.display.HTML object>"
            ],
            "text/html": [
              "<style>\n",
              "    table.wandb td:nth-child(1) { padding: 0 10px; text-align: left ; width: auto;} td:nth-child(2) {text-align: left ; width: 100%}\n",
              "    .wandb-row { display: flex; flex-direction: row; flex-wrap: wrap; justify-content: flex-start; width: 100% }\n",
              "    .wandb-col { display: flex; flex-direction: column; flex-basis: 100%; flex: 1; padding: 10px; }\n",
              "    </style>\n",
              "<div class=\"wandb-row\"><div class=\"wandb-col\"><h3>Run history:</h3><br/><table class=\"wandb\"><tr><td>acc</td><td>▁▁▄▆██▅▇</td></tr><tr><td>loss</td><td>█▃▂▃▃▂▁▂</td></tr></table><br/></div><div class=\"wandb-col\"><h3>Run summary:</h3><br/><table class=\"wandb\"><tr><td>acc</td><td>0.80362</td></tr><tr><td>loss</td><td>0.2574</td></tr></table><br/></div></div>"
            ]
          },
          "metadata": {}
        },
        {
          "output_type": "display_data",
          "data": {
            "text/plain": [
              "<IPython.core.display.HTML object>"
            ],
            "text/html": [
              "Synced <strong style=\"color:#cdcd00\">denim-violet-1</strong>: <a href=\"https://wandb.ai/maxcasas/example_cs_197/runs/95nhfogw\" target=\"_blank\">https://wandb.ai/maxcasas/example_cs_197/runs/95nhfogw</a><br/>Synced 5 W&B file(s), 0 media file(s), 0 artifact file(s) and 0 other file(s)"
            ]
          },
          "metadata": {}
        },
        {
          "output_type": "display_data",
          "data": {
            "text/plain": [
              "<IPython.core.display.HTML object>"
            ],
            "text/html": [
              "Find logs at: <code>./wandb/run-20221017_223924-95nhfogw/logs</code>"
            ]
          },
          "metadata": {}
        }
      ]
    },
    {
      "cell_type": "markdown",
      "source": [
        "* wandb.init() once at the beginning of your script to initialize a new job. This creates a new run in W&B and launches a background process to sync data\n",
        "* wandb.log(dict) to log a dictionary of metrics, media or custom objects to a step. See how our models and data evolve over time\n",
        "* wandb.finish to make a run as finished, and finish uploading all data\n",
        "\n",
        "In our information tab, we should also be able to see config and a summary that tells us the last value of ascc and of loss. \n",
        "\n",
        "1. We are able to see how the accuracy and loss changed over each step of the loop\n",
        "2. See the config (hyperparameters associated with the run)\n",
        "3. See the final acc and loss achieved by our run\n",
        "\n",
        "### Multiple experiments\n",
        "How would we track multiple runs?\n",
        "\n"
      ],
      "metadata": {
        "id": "F2bGNcTMGryJ"
      }
    },
    {
      "cell_type": "code",
      "source": [
        "def run_multiple_training_runs(epochs, lrs):\n",
        "  for epoch in epochs:\n",
        "    for lr in lrs:\n",
        "      run_training_run_txt_log(epoch, lr)\n",
        "\n",
        "# Try different values for the learning rate\n",
        "epochs = [100, 120, 140]\n",
        "lrs = [0.1, 0.01, 0.001, 0.0001]\n",
        "run_multiple_training_runs(epochs, lrs)"
      ],
      "metadata": {
        "colab": {
          "base_uri": "https://localhost:8080/",
          "height": 1000,
          "referenced_widgets": [
            "bdc5b7321a624442aeddcae55c6e46bd",
            "3ce8859fc61e4b1b9a19b269d76d43b7",
            "9d99ceb0e8f74e0e9e842c1ebfb98a7a",
            "1098f831eb6441369303c8bbb28039e9",
            "0ef4bc0da73348459094a84c526c0555",
            "1633bcaa774748a085b6741dfd2e8063",
            "638e40bd92054650a92c00d8e37b9e1b",
            "b16e717366754438b4ccf193211e9549",
            "d5064451539d4cf893a4210cd0cb7ab6",
            "c9eca0f8718e430081e4464f06c94c64",
            "14ce2303bb1b4291b82c3b5b07c5c60a",
            "d1d066540bca4416aca3cb4c9a971927",
            "0caa1164ef2a41abb19576ac00d21b23",
            "ecd8cfe780224cc880b3475888adfff7",
            "9114b8157734439fb43342011620b215",
            "35a062d93ca7485ca7159819bc9508fc",
            "463d1267f5574e93bc1f9b04cf829abb",
            "90695934621c4c289b4ec6ec819a0e71",
            "4d5cd3f0a34d48dabc90a9a722ed42e2",
            "55d834a38dfe42909dc2755d594b7ca9",
            "5e12e19ba2b5464f9a6dd21ef3fe3df7",
            "903bed7883114771aae012c24a5a7cbf",
            "15ec7a4b621b49ebbfc2e0533c68cd73",
            "c78ebf17c1374b24b8b0aed7250c1d1a",
            "ff9d2f38174945fbbb8cdbf7371dc847",
            "e0e29b65854949479ef340772449f3f5",
            "0b277655077d40d78fc0056c4d423e5c",
            "50ce16cbf3094eac873c6ca7fd347b09",
            "a589c559037c47d987c7987dcb2f2603",
            "7a022dd4eeda449593ccf45bb77ddfcc",
            "d044052152ef4673a01ee4c4807904ea",
            "43c26815a2f84b64972584cf6d751520",
            "b470c6ac24dc467798fa262fe13a4bbe",
            "fd5f1ef2f73f40c7ad406b5393ee28e5",
            "a806ec140039476d84b7b742e5841896",
            "a230ec60956e463789a9a3fac8b79e04",
            "c79990c0073f43aea6b460dced93f57b",
            "c7bf95c1f4034d7d879d33bf8a879fae",
            "dbf90997f607455b894c15f32e7e0075",
            "226293f23c914831b63289c4cd229067",
            "dd4d3e957a5547a6910b625e47118e0f",
            "a71689c4423041dbb691e2be75454ea7",
            "444967f1263048da8804832cc030e9aa",
            "9197fd522ed445e8937f591cf3b056cb",
            "5b0b2c6e9121412eb5d8abe72d72577f",
            "915d585528774119aa18243f408faf1b",
            "5e517f034ed143ee8685e6c8e0518560",
            "a989b272ed7147ceadc112a7bfcb8ea7"
          ]
        },
        "id": "oeLupsP2GewR",
        "outputId": "4cbe1e27-9b7e-4d9f-c0fc-637c798bdef3"
      },
      "execution_count": 9,
      "outputs": [
        {
          "output_type": "stream",
          "name": "stdout",
          "text": [
            "Training for 100 epochs with learning rate 0.1\n"
          ]
        },
        {
          "output_type": "display_data",
          "data": {
            "text/plain": [
              "<IPython.core.display.HTML object>"
            ],
            "text/html": [
              "Tracking run with wandb version 0.13.4"
            ]
          },
          "metadata": {}
        },
        {
          "output_type": "display_data",
          "data": {
            "text/plain": [
              "<IPython.core.display.HTML object>"
            ],
            "text/html": [
              "Run data is saved locally in <code>/content/wandb/run-20221017_224833-28s9e9fw</code>"
            ]
          },
          "metadata": {}
        },
        {
          "output_type": "display_data",
          "data": {
            "text/plain": [
              "<IPython.core.display.HTML object>"
            ],
            "text/html": [
              "Syncing run <strong><a href=\"https://wandb.ai/maxcasas/example_cs_197/runs/28s9e9fw\" target=\"_blank\">deft-bird-2</a></strong> to <a href=\"https://wandb.ai/maxcasas/example_cs_197\" target=\"_blank\">Weights & Biases</a> (<a href=\"https://wandb.me/run\" target=\"_blank\">docs</a>)<br/>"
            ]
          },
          "metadata": {}
        },
        {
          "output_type": "stream",
          "name": "stdout",
          "text": [
            "epoch = 2, acc = 0.5312887087842076, loss = 0.7932923292625239\n",
            "epoch = 3, acc = 0.690769281553839, loss = 0.48463615622005585\n",
            "epoch = 4, acc = 0.6759769019141334, loss = 0.37782883834281084\n",
            "epoch = 5, acc = 0.8762342526485838, loss = 0.19531298739679237\n",
            "epoch = 6, acc = 0.8869376232248535, loss = 0.22533347858977554\n",
            "epoch = 7, acc = 0.8556252609521462, loss = 0.22601069580158611\n",
            "epoch = 8, acc = 0.8952202620698693, loss = 0.10064438899358222\n",
            "epoch = 9, acc = 0.8642829645537511, loss = 0.11806064454257523\n",
            "epoch = 10, acc = 0.870365535339043, loss = 0.11043923880737969\n",
            "epoch = 11, acc = 0.9002082942304653, loss = 0.1060016534097089\n",
            "epoch = 12, acc = 0.8505277934498532, loss = 0.13126452451802206\n",
            "epoch = 13, acc = 0.8686108313629113, loss = 0.14269891426418332\n",
            "epoch = 14, acc = 0.8941022928357466, loss = 0.13311589931517617\n",
            "epoch = 15, acc = 0.8945322464733044, loss = 0.10849340351421809\n",
            "epoch = 16, acc = 0.875965275496552, loss = 0.14702576105331192\n",
            "epoch = 17, acc = 0.8944820731806288, loss = 0.1086335681635188\n",
            "epoch = 18, acc = 0.8991624836943481, loss = 0.12276267064504806\n",
            "epoch = 19, acc = 0.8654082648104092, loss = 0.09337479239550689\n",
            "epoch = 20, acc = 0.8911268490033457, loss = 0.0978058172782867\n",
            "epoch = 21, acc = 0.8834292704686328, loss = 0.09238851634346217\n",
            "epoch = 22, acc = 0.8929334656309025, loss = 0.09959536031430978\n",
            "epoch = 23, acc = 0.9078594349019352, loss = 0.1193251204034364\n",
            "epoch = 24, acc = 0.8909422764708997, loss = 0.1254883782828396\n",
            "epoch = 25, acc = 0.8721701950454395, loss = 0.11632497086422876\n",
            "epoch = 26, acc = 0.9041680425608086, loss = 0.12856143813468385\n",
            "epoch = 27, acc = 0.8823308167743028, loss = 0.09418750584971593\n",
            "epoch = 28, acc = 0.9000840864396643, loss = 0.09668600798632854\n",
            "epoch = 29, acc = 0.893812651940591, loss = 0.12169729216059756\n",
            "epoch = 30, acc = 0.8968865712917434, loss = 0.10361126654157901\n",
            "epoch = 31, acc = 0.8780584911466498, loss = 0.12016105691640458\n",
            "epoch = 32, acc = 0.8967096982221249, loss = 0.1136501458066844\n",
            "epoch = 33, acc = 0.9047695114697428, loss = 0.11660165802602566\n",
            "epoch = 34, acc = 0.901144638890767, loss = 0.09792216450522051\n",
            "epoch = 35, acc = 0.8993935270065555, loss = 0.10978910281940607\n",
            "epoch = 36, acc = 0.897551724034614, loss = 0.1074038370695364\n",
            "epoch = 37, acc = 0.8906976717262656, loss = 0.10339113036553774\n",
            "epoch = 38, acc = 0.9007473824592439, loss = 0.09192179036564134\n",
            "epoch = 39, acc = 0.9055880916272695, loss = 0.10396011900869398\n",
            "epoch = 40, acc = 0.9011336770431424, loss = 0.11093395570840228\n",
            "epoch = 41, acc = 0.8879545892817112, loss = 0.10863990849852573\n",
            "epoch = 42, acc = 0.9028694319663332, loss = 0.10049089014247034\n",
            "epoch = 43, acc = 0.9059511765876224, loss = 0.1068762190969319\n",
            "epoch = 44, acc = 0.8966733569482506, loss = 0.0965550665631227\n",
            "epoch = 45, acc = 0.893228143095948, loss = 0.09500364267777658\n",
            "epoch = 46, acc = 0.889742573736058, loss = 0.10979436321584493\n",
            "epoch = 47, acc = 0.8883941905257088, loss = 0.1044270964571008\n",
            "epoch = 48, acc = 0.9002483982721878, loss = 0.10771823866730655\n",
            "epoch = 49, acc = 0.8980117448516002, loss = 0.10859792757537776\n",
            "epoch = 50, acc = 0.8896262933532212, loss = 0.10674940620288621\n",
            "epoch = 51, acc = 0.9013114580946493, loss = 0.10494642893594675\n",
            "epoch = 52, acc = 0.8957060824241743, loss = 0.09342824554826301\n",
            "epoch = 53, acc = 0.9022235157161193, loss = 0.09743095387110601\n",
            "epoch = 54, acc = 0.8982798161355589, loss = 0.10462031458604153\n",
            "epoch = 55, acc = 0.90323490415664, loss = 0.10368740181517572\n",
            "epoch = 56, acc = 0.901730255408238, loss = 0.10726117898728002\n",
            "epoch = 57, acc = 0.9044869222852293, loss = 0.095402834565076\n",
            "epoch = 58, acc = 0.9057525316299772, loss = 0.09807894299215306\n",
            "epoch = 59, acc = 0.8951630212539481, loss = 0.0918217873367587\n",
            "epoch = 60, acc = 0.89339232078393, loss = 0.1049223270766918\n",
            "epoch = 61, acc = 0.8943073999193673, loss = 0.10524774592012286\n",
            "epoch = 62, acc = 0.8936436333964286, loss = 0.10000897400867216\n",
            "epoch = 63, acc = 0.8944479114101359, loss = 0.0996197603047229\n",
            "epoch = 64, acc = 0.9085634711976649, loss = 0.10396610675798582\n",
            "epoch = 65, acc = 0.9021562946746462, loss = 0.09910040176306205\n",
            "epoch = 66, acc = 0.8966123661261819, loss = 0.10055911646089215\n",
            "epoch = 67, acc = 0.8962149987746598, loss = 0.09972799779504535\n",
            "epoch = 68, acc = 0.9015955057083667, loss = 0.10193923684185116\n",
            "epoch = 69, acc = 0.9012654621223344, loss = 0.10057675892912887\n",
            "epoch = 70, acc = 0.8975915419273676, loss = 0.1032076391584727\n",
            "epoch = 71, acc = 0.9079036335317826, loss = 0.09136802044325817\n",
            "epoch = 72, acc = 0.8984054927128396, loss = 0.0914043979181236\n",
            "epoch = 73, acc = 0.9087552397391395, loss = 0.098640886715472\n",
            "epoch = 74, acc = 0.9006738768680896, loss = 0.09907372576843393\n",
            "epoch = 75, acc = 0.9022951212632346, loss = 0.10034681799061683\n",
            "epoch = 76, acc = 0.8980324594461047, loss = 0.10135357260189742\n",
            "epoch = 77, acc = 0.8999219200475547, loss = 0.09069716857948733\n",
            "epoch = 78, acc = 0.9083307999523694, loss = 0.0921442432858654\n",
            "epoch = 79, acc = 0.909296245797605, loss = 0.10293405047995428\n",
            "epoch = 80, acc = 0.9065348946798749, loss = 0.09218528285526942\n",
            "epoch = 81, acc = 0.9063890165984198, loss = 0.09443246152047298\n",
            "epoch = 82, acc = 0.8975581690762039, loss = 0.09834059915172043\n",
            "epoch = 83, acc = 0.8999373333616099, loss = 0.09619412008533776\n",
            "epoch = 84, acc = 0.9035408501793027, loss = 0.09896064550136627\n",
            "epoch = 85, acc = 0.9059607705575173, loss = 0.0964363472267367\n",
            "epoch = 86, acc = 0.9073020680189512, loss = 0.09746460897784566\n",
            "epoch = 87, acc = 0.9014645393697789, loss = 0.10138725125485806\n",
            "epoch = 88, acc = 0.903682237770389, loss = 0.10098523277213967\n",
            "epoch = 89, acc = 0.9090280872516049, loss = 0.09839314579051318\n",
            "epoch = 90, acc = 0.9035261656908095, loss = 0.09195302931544039\n",
            "epoch = 91, acc = 0.9039813086982057, loss = 0.09622379200325451\n",
            "epoch = 92, acc = 0.9045492030242344, loss = 0.09398645287775062\n",
            "epoch = 93, acc = 0.905037437415347, loss = 0.09765644667800236\n",
            "epoch = 94, acc = 0.9064129192660312, loss = 0.09514936162828466\n",
            "epoch = 95, acc = 0.9069525118040216, loss = 0.09432220295937932\n",
            "epoch = 96, acc = 0.9013963635823576, loss = 0.09899178535358796\n",
            "epoch = 97, acc = 0.9012758333360986, loss = 0.09376847577466008\n",
            "epoch = 98, acc = 0.9023069496407843, loss = 0.09113176680810069\n",
            "epoch = 99, acc = 0.9084812117353814, loss = 0.09328304654234727\n"
          ]
        },
        {
          "output_type": "display_data",
          "data": {
            "text/plain": [
              "<IPython.core.display.HTML object>"
            ],
            "text/html": [
              "Waiting for W&B process to finish... <strong style=\"color:green\">(success).</strong>"
            ]
          },
          "metadata": {}
        },
        {
          "output_type": "display_data",
          "data": {
            "text/plain": [
              "VBox(children=(Label(value='0.000 MB of 0.000 MB uploaded (0.000 MB deduped)\\r'), FloatProgress(value=1.0, max…"
            ],
            "application/vnd.jupyter.widget-view+json": {
              "version_major": 2,
              "version_minor": 0,
              "model_id": "bdc5b7321a624442aeddcae55c6e46bd"
            }
          },
          "metadata": {}
        },
        {
          "output_type": "display_data",
          "data": {
            "text/plain": [
              "<IPython.core.display.HTML object>"
            ],
            "text/html": [
              "<style>\n",
              "    table.wandb td:nth-child(1) { padding: 0 10px; text-align: left ; width: auto;} td:nth-child(2) {text-align: left ; width: 100%}\n",
              "    .wandb-row { display: flex; flex-direction: row; flex-wrap: wrap; justify-content: flex-start; width: 100% }\n",
              "    .wandb-col { display: flex; flex-direction: column; flex-basis: 100%; flex: 1; padding: 10px; }\n",
              "    </style>\n",
              "<div class=\"wandb-row\"><div class=\"wandb-col\"><h3>Run history:</h3><br/><table class=\"wandb\"><tr><td>acc</td><td>▁▄█▇██▇▇████▇███████████████████████████</td></tr><tr><td>loss</td><td>█▄▂▁▁▁▂▁▁▁▁▁▁▁▁▁▁▁▁▁▁▁▁▁▁▁▁▁▁▁▁▁▁▁▁▁▁▁▁▁</td></tr></table><br/></div><div class=\"wandb-col\"><h3>Run summary:</h3><br/><table class=\"wandb\"><tr><td>acc</td><td>0.90848</td></tr><tr><td>loss</td><td>0.09328</td></tr></table><br/></div></div>"
            ]
          },
          "metadata": {}
        },
        {
          "output_type": "display_data",
          "data": {
            "text/plain": [
              "<IPython.core.display.HTML object>"
            ],
            "text/html": [
              "Synced <strong style=\"color:#cdcd00\">deft-bird-2</strong>: <a href=\"https://wandb.ai/maxcasas/example_cs_197/runs/28s9e9fw\" target=\"_blank\">https://wandb.ai/maxcasas/example_cs_197/runs/28s9e9fw</a><br/>Synced 5 W&B file(s), 0 media file(s), 0 artifact file(s) and 0 other file(s)"
            ]
          },
          "metadata": {}
        },
        {
          "output_type": "display_data",
          "data": {
            "text/plain": [
              "<IPython.core.display.HTML object>"
            ],
            "text/html": [
              "Find logs at: <code>./wandb/run-20221017_224833-28s9e9fw/logs</code>"
            ]
          },
          "metadata": {}
        },
        {
          "output_type": "stream",
          "name": "stdout",
          "text": [
            "Training for 100 epochs with learning rate 0.01\n"
          ]
        },
        {
          "output_type": "display_data",
          "data": {
            "text/plain": [
              "<IPython.core.display.HTML object>"
            ],
            "text/html": [
              "Tracking run with wandb version 0.13.4"
            ]
          },
          "metadata": {}
        },
        {
          "output_type": "display_data",
          "data": {
            "text/plain": [
              "<IPython.core.display.HTML object>"
            ],
            "text/html": [
              "Run data is saved locally in <code>/content/wandb/run-20221017_224839-37guswrp</code>"
            ]
          },
          "metadata": {}
        },
        {
          "output_type": "display_data",
          "data": {
            "text/plain": [
              "<IPython.core.display.HTML object>"
            ],
            "text/html": [
              "Syncing run <strong><a href=\"https://wandb.ai/maxcasas/example_cs_197/runs/37guswrp\" target=\"_blank\">fluent-tree-3</a></strong> to <a href=\"https://wandb.ai/maxcasas/example_cs_197\" target=\"_blank\">Weights & Biases</a> (<a href=\"https://wandb.me/run\" target=\"_blank\">docs</a>)<br/>"
            ]
          },
          "metadata": {}
        },
        {
          "output_type": "stream",
          "name": "stdout",
          "text": [
            "epoch = 2, acc = 0.5331692071792384, loss = 0.6212970033137144\n",
            "epoch = 3, acc = 0.5480662182946573, loss = 0.46700732783569154\n",
            "epoch = 4, acc = 0.7331699048898241, loss = 0.3588810239928812\n",
            "epoch = 5, acc = 0.7139547764481669, loss = 0.18302176893476302\n",
            "epoch = 6, acc = 0.8143894778699631, loss = 0.12822345820393607\n",
            "epoch = 7, acc = 0.8609424546809378, loss = 0.16557756313731964\n",
            "epoch = 8, acc = 0.7971319276783407, loss = 0.1424802346401726\n",
            "epoch = 9, acc = 0.8219534367302992, loss = 0.19421274755994358\n",
            "epoch = 10, acc = 0.821337500484772, loss = 0.1664952595937945\n",
            "epoch = 11, acc = 0.8701958810958262, loss = 0.15592287400449606\n",
            "epoch = 12, acc = 0.849250456944075, loss = 0.14025959712989017\n",
            "epoch = 13, acc = 0.8295500167699705, loss = 0.16715058252179538\n",
            "epoch = 14, acc = 0.8294768902049094, loss = 0.15539951005727765\n",
            "epoch = 15, acc = 0.8525018989326386, loss = 0.12014755478434555\n",
            "epoch = 16, acc = 0.8794446078645395, loss = 0.16391082605083634\n",
            "epoch = 17, acc = 0.8886866862907958, loss = 0.1530008850874472\n",
            "epoch = 18, acc = 0.8525962038672258, loss = 0.1350088932358452\n",
            "epoch = 19, acc = 0.8402516227937371, loss = 0.13085357062058856\n",
            "epoch = 20, acc = 0.8660599194833767, loss = 0.12722747619675498\n",
            "epoch = 21, acc = 0.8823369554857212, loss = 0.1385212494700692\n",
            "epoch = 22, acc = 0.8703337295724097, loss = 0.1150882891824111\n",
            "epoch = 23, acc = 0.8588683415152034, loss = 0.1296590637200505\n",
            "epoch = 24, acc = 0.8773543325049282, loss = 0.12113043158832215\n",
            "epoch = 25, acc = 0.8876717570375442, loss = 0.12706580442667761\n",
            "epoch = 26, acc = 0.8751390310559557, loss = 0.11956623018546872\n",
            "epoch = 27, acc = 0.8758655670726396, loss = 0.11190228910957134\n",
            "epoch = 28, acc = 0.8715752779663549, loss = 0.14245244477176303\n",
            "epoch = 29, acc = 0.8607303814148095, loss = 0.14333267896329113\n",
            "epoch = 30, acc = 0.8588210704966077, loss = 0.14354699868852294\n",
            "epoch = 31, acc = 0.8849601256002705, loss = 0.12407632335850458\n",
            "epoch = 32, acc = 0.8858249082747529, loss = 0.11176945067083124\n",
            "epoch = 33, acc = 0.8615729394078039, loss = 0.11799169064260216\n",
            "epoch = 34, acc = 0.8871183787696457, loss = 0.11283561224970302\n",
            "epoch = 35, acc = 0.8711704074054137, loss = 0.1246910270759843\n",
            "epoch = 36, acc = 0.8629722153376723, loss = 0.11699715259335489\n",
            "epoch = 37, acc = 0.8789561402332475, loss = 0.11959532072420491\n",
            "epoch = 38, acc = 0.8741472320941406, loss = 0.12911169867147704\n",
            "epoch = 39, acc = 0.883936751985666, loss = 0.13120412443661475\n",
            "epoch = 40, acc = 0.8741941723385631, loss = 0.12980321205164394\n",
            "epoch = 41, acc = 0.8666460859860863, loss = 0.13135554736404495\n",
            "epoch = 42, acc = 0.866253625405813, loss = 0.12506580882318277\n",
            "epoch = 43, acc = 0.8846986290036798, loss = 0.11974501840777\n",
            "epoch = 44, acc = 0.8740953399108956, loss = 0.11129588243260194\n",
            "epoch = 45, acc = 0.877519080500691, loss = 0.12029703008366376\n",
            "epoch = 46, acc = 0.8890747630333713, loss = 0.1139408998549887\n",
            "epoch = 47, acc = 0.875445008689917, loss = 0.11356091171790259\n",
            "epoch = 48, acc = 0.8836883195273119, loss = 0.12405991204929305\n",
            "epoch = 49, acc = 0.887040597615923, loss = 0.12473585558560134\n",
            "epoch = 50, acc = 0.8836334044734065, loss = 0.1173122876803339\n",
            "epoch = 51, acc = 0.8812282369891177, loss = 0.11542628077324854\n",
            "epoch = 52, acc = 0.8890748168568905, loss = 0.11623613134393943\n",
            "epoch = 53, acc = 0.878106306775672, loss = 0.11359927998781857\n",
            "epoch = 54, acc = 0.8837028831875425, loss = 0.1290549135933004\n",
            "epoch = 55, acc = 0.8871071219805946, loss = 0.1264818658795689\n",
            "epoch = 56, acc = 0.8787516765823942, loss = 0.1139109989521141\n",
            "epoch = 57, acc = 0.8824756633435993, loss = 0.11685797216527347\n",
            "epoch = 58, acc = 0.8866840168017677, loss = 0.12493382633801617\n",
            "epoch = 59, acc = 0.873390535300889, loss = 0.11561691902087744\n",
            "epoch = 60, acc = 0.8823007137738814, loss = 0.11740703222983113\n",
            "epoch = 61, acc = 0.884660192762877, loss = 0.11363189051392626\n",
            "epoch = 62, acc = 0.8835615051087595, loss = 0.12290446964537562\n",
            "epoch = 63, acc = 0.8743269906817368, loss = 0.11214936236350527\n",
            "epoch = 64, acc = 0.885340760408945, loss = 0.12096635459636126\n",
            "epoch = 65, acc = 0.8858452977261825, loss = 0.12390942219364921\n",
            "epoch = 66, acc = 0.8744738492360988, loss = 0.12080431381333798\n",
            "epoch = 67, acc = 0.8807482270813797, loss = 0.11803521109298605\n",
            "epoch = 68, acc = 0.8869449883892423, loss = 0.12502030820801835\n",
            "epoch = 69, acc = 0.8859024789521467, loss = 0.11589918512177674\n",
            "epoch = 70, acc = 0.8870784761456748, loss = 0.12046872392283588\n",
            "epoch = 71, acc = 0.8861324125963547, loss = 0.12366801048727581\n",
            "epoch = 72, acc = 0.8828057923010252, loss = 0.11444763120506575\n",
            "epoch = 73, acc = 0.8865539940621691, loss = 0.12327437761744672\n",
            "epoch = 74, acc = 0.886639217284206, loss = 0.11893140504660635\n",
            "epoch = 75, acc = 0.8799516726124761, loss = 0.11873559785510197\n",
            "epoch = 76, acc = 0.8812547514284631, loss = 0.12336051115933605\n",
            "epoch = 77, acc = 0.8798920125700841, loss = 0.11356511987203928\n",
            "epoch = 78, acc = 0.8811373460933924, loss = 0.1192498753295775\n",
            "epoch = 79, acc = 0.886829091153069, loss = 0.11572487457840457\n",
            "epoch = 80, acc = 0.8865678822727441, loss = 0.12161160969080263\n",
            "epoch = 81, acc = 0.8801090296788564, loss = 0.11207164883752\n",
            "epoch = 82, acc = 0.8771991772125827, loss = 0.11716408971504695\n",
            "epoch = 83, acc = 0.8782934640805005, loss = 0.11995983810158226\n",
            "epoch = 84, acc = 0.8847826126462823, loss = 0.12133672347945822\n",
            "epoch = 85, acc = 0.8806193072729679, loss = 0.12167880656332906\n",
            "epoch = 86, acc = 0.8892295598155089, loss = 0.12004459144099228\n",
            "epoch = 87, acc = 0.879750397161655, loss = 0.11074817397295963\n",
            "epoch = 88, acc = 0.8822574584450532, loss = 0.11199329673661908\n",
            "epoch = 89, acc = 0.8846390582142464, loss = 0.11714721269091274\n",
            "epoch = 90, acc = 0.8802482530408698, loss = 0.1130644458811287\n",
            "epoch = 91, acc = 0.8825978788532592, loss = 0.12059139803598344\n",
            "epoch = 92, acc = 0.8821057572160291, loss = 0.11470765784383227\n",
            "epoch = 93, acc = 0.8837064389670727, loss = 0.11587380649215433\n",
            "epoch = 94, acc = 0.8813998893144425, loss = 0.11983533857016183\n",
            "epoch = 95, acc = 0.8848026764974104, loss = 0.12006179562166872\n",
            "epoch = 96, acc = 0.8805147958877304, loss = 0.11762470592897512\n",
            "epoch = 97, acc = 0.8823177711347681, loss = 0.11396209035361009\n",
            "epoch = 98, acc = 0.8871201320183564, loss = 0.11844411197602264\n",
            "epoch = 99, acc = 0.8812959552631728, loss = 0.11637419575158986\n"
          ]
        },
        {
          "output_type": "display_data",
          "data": {
            "text/plain": [
              "<IPython.core.display.HTML object>"
            ],
            "text/html": [
              "Waiting for W&B process to finish... <strong style=\"color:green\">(success).</strong>"
            ]
          },
          "metadata": {}
        },
        {
          "output_type": "display_data",
          "data": {
            "text/plain": [
              "<IPython.core.display.HTML object>"
            ],
            "text/html": [
              "<style>\n",
              "    table.wandb td:nth-child(1) { padding: 0 10px; text-align: left ; width: auto;} td:nth-child(2) {text-align: left ; width: 100%}\n",
              "    .wandb-row { display: flex; flex-direction: row; flex-wrap: wrap; justify-content: flex-start; width: 100% }\n",
              "    .wandb-col { display: flex; flex-direction: column; flex-basis: 100%; flex: 1; padding: 10px; }\n",
              "    </style>\n",
              "<div class=\"wandb-row\"><div class=\"wandb-col\"><h3>Run history:</h3><br/><table class=\"wandb\"><tr><td>acc</td><td>▁▅▇▇█▇█▇███▇██▇█████████████████████████</td></tr><tr><td>loss</td><td>█▄▁▂▂▂▂▁▁▁▁▁▁▁▁▁▁▁▁▁▁▁▁▁▁▁▁▁▁▁▁▁▁▁▁▁▁▁▁▁</td></tr></table><br/></div><div class=\"wandb-col\"><h3>Run summary:</h3><br/><table class=\"wandb\"><tr><td>acc</td><td>0.8813</td></tr><tr><td>loss</td><td>0.11637</td></tr></table><br/></div></div>"
            ]
          },
          "metadata": {}
        },
        {
          "output_type": "display_data",
          "data": {
            "text/plain": [
              "<IPython.core.display.HTML object>"
            ],
            "text/html": [
              "Synced <strong style=\"color:#cdcd00\">fluent-tree-3</strong>: <a href=\"https://wandb.ai/maxcasas/example_cs_197/runs/37guswrp\" target=\"_blank\">https://wandb.ai/maxcasas/example_cs_197/runs/37guswrp</a><br/>Synced 5 W&B file(s), 0 media file(s), 0 artifact file(s) and 0 other file(s)"
            ]
          },
          "metadata": {}
        },
        {
          "output_type": "display_data",
          "data": {
            "text/plain": [
              "<IPython.core.display.HTML object>"
            ],
            "text/html": [
              "Find logs at: <code>./wandb/run-20221017_224839-37guswrp/logs</code>"
            ]
          },
          "metadata": {}
        },
        {
          "output_type": "stream",
          "name": "stdout",
          "text": [
            "Training for 100 epochs with learning rate 0.001\n"
          ]
        },
        {
          "output_type": "display_data",
          "data": {
            "text/plain": [
              "<IPython.core.display.HTML object>"
            ],
            "text/html": [
              "Tracking run with wandb version 0.13.4"
            ]
          },
          "metadata": {}
        },
        {
          "output_type": "display_data",
          "data": {
            "text/plain": [
              "<IPython.core.display.HTML object>"
            ],
            "text/html": [
              "Run data is saved locally in <code>/content/wandb/run-20221017_224845-3j0992a3</code>"
            ]
          },
          "metadata": {}
        },
        {
          "output_type": "display_data",
          "data": {
            "text/plain": [
              "<IPython.core.display.HTML object>"
            ],
            "text/html": [
              "Syncing run <strong><a href=\"https://wandb.ai/maxcasas/example_cs_197/runs/3j0992a3\" target=\"_blank\">lively-frog-4</a></strong> to <a href=\"https://wandb.ai/maxcasas/example_cs_197\" target=\"_blank\">Weights & Biases</a> (<a href=\"https://wandb.me/run\" target=\"_blank\">docs</a>)<br/>"
            ]
          },
          "metadata": {}
        },
        {
          "output_type": "stream",
          "name": "stdout",
          "text": [
            "epoch = 2, acc = 0.5272240533758951, loss = 0.48494948683034395\n",
            "epoch = 3, acc = 0.5273209451184122, loss = 0.6370636927786159\n",
            "epoch = 4, acc = 0.6342408461795351, loss = 0.4887968892084047\n",
            "epoch = 5, acc = 0.7111177117600876, loss = 0.24777207906773369\n",
            "epoch = 6, acc = 0.7616214368245403, loss = 0.2601749291210378\n",
            "epoch = 7, acc = 0.7480990993587046, loss = 0.23763482858633742\n",
            "epoch = 8, acc = 0.7741213412257519, loss = 0.22126711738752913\n",
            "epoch = 9, acc = 0.7531583508519888, loss = 0.27377814177657067\n",
            "epoch = 10, acc = 0.7686953185843394, loss = 0.28569666767895086\n",
            "epoch = 11, acc = 0.7613595206518166, loss = 0.2522425447781828\n",
            "epoch = 12, acc = 0.7521862822057063, loss = 0.22075669302472514\n",
            "epoch = 13, acc = 0.7505885504718576, loss = 0.1987873908376428\n",
            "epoch = 14, acc = 0.7633446674659564, loss = 0.22181488755995848\n",
            "epoch = 15, acc = 0.7472400415800176, loss = 0.19697203249119777\n",
            "epoch = 16, acc = 0.8084692882670826, loss = 0.23024588407387125\n",
            "epoch = 17, acc = 0.7998658812739561, loss = 0.20933320913340686\n",
            "epoch = 18, acc = 0.7670685275560633, loss = 0.2172972877977984\n",
            "epoch = 19, acc = 0.760872384766723, loss = 0.20026516700247904\n",
            "epoch = 20, acc = 0.7653749986527204, loss = 0.2374781645410135\n",
            "epoch = 21, acc = 0.7811194811090537, loss = 0.20346083600776121\n",
            "epoch = 22, acc = 0.8076677581155786, loss = 0.20984816418149987\n",
            "epoch = 23, acc = 0.7787860676766701, loss = 0.21815773037744204\n",
            "epoch = 24, acc = 0.8011153106832726, loss = 0.22027210037480252\n",
            "epoch = 25, acc = 0.7875194019261947, loss = 0.1922763161696289\n",
            "epoch = 26, acc = 0.7885971591162528, loss = 0.2090795347052794\n",
            "epoch = 27, acc = 0.8090713193711919, loss = 0.20946730652485618\n",
            "epoch = 28, acc = 0.7771502479743643, loss = 0.20854997487703716\n",
            "epoch = 29, acc = 0.8005424190471034, loss = 0.1998686297259242\n",
            "epoch = 30, acc = 0.7910974217080026, loss = 0.19609362220114687\n",
            "epoch = 31, acc = 0.7996452987221756, loss = 0.21716682974329182\n",
            "epoch = 32, acc = 0.8010826460152397, loss = 0.20470072746641882\n",
            "epoch = 33, acc = 0.7956666647947902, loss = 0.2082982411420366\n",
            "epoch = 34, acc = 0.8033529933517698, loss = 0.21479664655928182\n",
            "epoch = 35, acc = 0.7871208215115784, loss = 0.20105448470003215\n",
            "epoch = 36, acc = 0.8070767427176394, loss = 0.20649637429864998\n",
            "epoch = 37, acc = 0.7928574822443538, loss = 0.19249278783482562\n",
            "epoch = 38, acc = 0.7942393724921074, loss = 0.1967054663446765\n",
            "epoch = 39, acc = 0.8089477555664335, loss = 0.1949250635697552\n",
            "epoch = 40, acc = 0.8040794866889516, loss = 0.19238854624696763\n",
            "epoch = 41, acc = 0.7964749015211451, loss = 0.19453356987901968\n",
            "epoch = 42, acc = 0.7896749455117097, loss = 0.19247772564471619\n",
            "epoch = 43, acc = 0.7892121339868394, loss = 0.1919556977201543\n",
            "epoch = 44, acc = 0.8065974504665091, loss = 0.2042149721183883\n",
            "epoch = 45, acc = 0.7963450946887922, loss = 0.19235410178928133\n",
            "epoch = 46, acc = 0.8116138718443637, loss = 0.1958635194704679\n",
            "epoch = 47, acc = 0.8040359805310505, loss = 0.2077800338213759\n",
            "epoch = 48, acc = 0.8034058213640123, loss = 0.19395523676532253\n",
            "epoch = 49, acc = 0.80447623886061, loss = 0.1983652879425041\n",
            "epoch = 50, acc = 0.802543528388527, loss = 0.19638570655103\n",
            "epoch = 51, acc = 0.7932608536964824, loss = 0.19126526938208716\n",
            "epoch = 52, acc = 0.8052691578027662, loss = 0.20292119090816899\n",
            "epoch = 53, acc = 0.8113745419131138, loss = 0.20113116231525255\n",
            "epoch = 54, acc = 0.8071347792638429, loss = 0.20335669426389094\n",
            "epoch = 55, acc = 0.7978260039843398, loss = 0.19100825299470686\n",
            "epoch = 56, acc = 0.8027592341434233, loss = 0.19106941373893996\n",
            "epoch = 57, acc = 0.8000506554843546, loss = 0.19596421505417946\n",
            "epoch = 58, acc = 0.8000390895008314, loss = 0.2038991466742027\n",
            "epoch = 59, acc = 0.7966229938793437, loss = 0.19247873546704672\n",
            "epoch = 60, acc = 0.8018388310317976, loss = 0.2039561707784262\n",
            "epoch = 61, acc = 0.8009078082832338, loss = 0.19489052550058258\n",
            "epoch = 62, acc = 0.8085955089391815, loss = 0.19329195210176525\n",
            "epoch = 63, acc = 0.7993767833779023, loss = 0.19860193615083957\n",
            "epoch = 64, acc = 0.8082037387131851, loss = 0.19287646693539895\n",
            "epoch = 65, acc = 0.7995017149571574, loss = 0.18892011423900093\n",
            "epoch = 66, acc = 0.8109568487571694, loss = 0.19335560380910752\n",
            "epoch = 67, acc = 0.8077565664148924, loss = 0.18835436811721035\n",
            "epoch = 68, acc = 0.8121653123072982, loss = 0.1964932746525484\n",
            "epoch = 69, acc = 0.7981025835747733, loss = 0.18803281056980972\n",
            "epoch = 70, acc = 0.8098021175566305, loss = 0.19195998407187587\n",
            "epoch = 71, acc = 0.810750988309809, loss = 0.19749507104766906\n",
            "epoch = 72, acc = 0.8083905451322173, loss = 0.1907379867951168\n",
            "epoch = 73, acc = 0.8081361686755301, loss = 0.18989647768199633\n",
            "epoch = 74, acc = 0.8041339002232867, loss = 0.18973014863158383\n",
            "epoch = 75, acc = 0.8080133250454477, loss = 0.19940698446591032\n",
            "epoch = 76, acc = 0.8035078306929417, loss = 0.19817068364151427\n",
            "epoch = 77, acc = 0.8050684329077658, loss = 0.18889307659171675\n",
            "epoch = 78, acc = 0.8062649992265427, loss = 0.19618880167250494\n",
            "epoch = 79, acc = 0.8097673231859837, loss = 0.19012737514154526\n",
            "epoch = 80, acc = 0.8061479591754688, loss = 0.18924149100200066\n",
            "epoch = 81, acc = 0.8013978501700674, loss = 0.19241259013607231\n",
            "epoch = 82, acc = 0.8084270645405554, loss = 0.1924440581815059\n",
            "epoch = 83, acc = 0.8036061434774269, loss = 0.19252002915531732\n",
            "epoch = 84, acc = 0.8100521309685705, loss = 0.19062552113975859\n",
            "epoch = 85, acc = 0.8033206833866142, loss = 0.18868443408046676\n",
            "epoch = 86, acc = 0.8073051222973535, loss = 0.19309177027147673\n",
            "epoch = 87, acc = 0.8097414933339647, loss = 0.19865790638311984\n",
            "epoch = 88, acc = 0.8053243221533465, loss = 0.196392282040958\n",
            "epoch = 89, acc = 0.8079041317217031, loss = 0.1889551242461708\n",
            "epoch = 90, acc = 0.8067939682034404, loss = 0.1968362922698224\n",
            "epoch = 91, acc = 0.8052901291452592, loss = 0.1957789823280144\n",
            "epoch = 92, acc = 0.8025651398211924, loss = 0.1982987775264176\n",
            "epoch = 93, acc = 0.8120980308709063, loss = 0.18879094152690032\n",
            "epoch = 94, acc = 0.8068844614051465, loss = 0.19185190569750288\n",
            "epoch = 95, acc = 0.8038042486254329, loss = 0.1932846906221244\n",
            "epoch = 96, acc = 0.8109741210468723, loss = 0.1879625822605675\n",
            "epoch = 97, acc = 0.8051496822013426, loss = 0.1881716629498643\n",
            "epoch = 98, acc = 0.8077177294857262, loss = 0.19255251553820318\n",
            "epoch = 99, acc = 0.8025539423341737, loss = 0.1885114451175787\n"
          ]
        },
        {
          "output_type": "display_data",
          "data": {
            "text/plain": [
              "<IPython.core.display.HTML object>"
            ],
            "text/html": [
              "Waiting for W&B process to finish... <strong style=\"color:green\">(success).</strong>"
            ]
          },
          "metadata": {}
        },
        {
          "output_type": "display_data",
          "data": {
            "text/plain": [
              "<IPython.core.display.HTML object>"
            ],
            "text/html": [
              "<style>\n",
              "    table.wandb td:nth-child(1) { padding: 0 10px; text-align: left ; width: auto;} td:nth-child(2) {text-align: left ; width: 100%}\n",
              "    .wandb-row { display: flex; flex-direction: row; flex-wrap: wrap; justify-content: flex-start; width: 100% }\n",
              "    .wandb-col { display: flex; flex-direction: column; flex-basis: 100%; flex: 1; padding: 10px; }\n",
              "    </style>\n",
              "<div class=\"wandb-row\"><div class=\"wandb-col\"><h3>Run history:</h3><br/><table class=\"wandb\"><tr><td>acc</td><td>▁▄▇▇▇▇█▇▇█▇█████████████████████████████</td></tr><tr><td>loss</td><td>██▃▃▂▂▂▁▁▂▁▁▂▂▁▁▁▁▁▁▁▁▁▁▁▁▁▁▁▁▁▁▁▁▁▁▁▁▁▁</td></tr></table><br/></div><div class=\"wandb-col\"><h3>Run summary:</h3><br/><table class=\"wandb\"><tr><td>acc</td><td>0.80255</td></tr><tr><td>loss</td><td>0.18851</td></tr></table><br/></div></div>"
            ]
          },
          "metadata": {}
        },
        {
          "output_type": "display_data",
          "data": {
            "text/plain": [
              "<IPython.core.display.HTML object>"
            ],
            "text/html": [
              "Synced <strong style=\"color:#cdcd00\">lively-frog-4</strong>: <a href=\"https://wandb.ai/maxcasas/example_cs_197/runs/3j0992a3\" target=\"_blank\">https://wandb.ai/maxcasas/example_cs_197/runs/3j0992a3</a><br/>Synced 5 W&B file(s), 0 media file(s), 0 artifact file(s) and 0 other file(s)"
            ]
          },
          "metadata": {}
        },
        {
          "output_type": "display_data",
          "data": {
            "text/plain": [
              "<IPython.core.display.HTML object>"
            ],
            "text/html": [
              "Find logs at: <code>./wandb/run-20221017_224845-3j0992a3/logs</code>"
            ]
          },
          "metadata": {}
        },
        {
          "output_type": "stream",
          "name": "stdout",
          "text": [
            "Training for 100 epochs with learning rate 0.0001\n"
          ]
        },
        {
          "output_type": "display_data",
          "data": {
            "text/plain": [
              "<IPython.core.display.HTML object>"
            ],
            "text/html": [
              "Tracking run with wandb version 0.13.4"
            ]
          },
          "metadata": {}
        },
        {
          "output_type": "display_data",
          "data": {
            "text/plain": [
              "<IPython.core.display.HTML object>"
            ],
            "text/html": [
              "Run data is saved locally in <code>/content/wandb/run-20221017_224851-1la3px30</code>"
            ]
          },
          "metadata": {}
        },
        {
          "output_type": "display_data",
          "data": {
            "text/plain": [
              "<IPython.core.display.HTML object>"
            ],
            "text/html": [
              "Syncing run <strong><a href=\"https://wandb.ai/maxcasas/example_cs_197/runs/1la3px30\" target=\"_blank\">smooth-waterfall-5</a></strong> to <a href=\"https://wandb.ai/maxcasas/example_cs_197\" target=\"_blank\">Weights & Biases</a> (<a href=\"https://wandb.me/run\" target=\"_blank\">docs</a>)<br/>"
            ]
          },
          "metadata": {}
        },
        {
          "output_type": "stream",
          "name": "stdout",
          "text": [
            "epoch = 2, acc = 0.32502769967172085, loss = 0.7481195937351698\n",
            "epoch = 3, acc = 0.5761210215956399, loss = 0.18000403283585942\n",
            "epoch = 4, acc = 0.6781711159292773, loss = 0.19643416281374343\n",
            "epoch = 5, acc = 0.8347364651594835, loss = 0.09790040546143926\n",
            "epoch = 6, acc = 0.85235953168283, loss = 0.10647783864350921\n",
            "epoch = 7, acc = 0.9110654436280023, loss = 0.18739509768496934\n",
            "epoch = 8, acc = 0.920629870197933, loss = 0.11763871504942436\n",
            "epoch = 9, acc = 0.9312768961003047, loss = 0.13473625864851657\n",
            "epoch = 10, acc = 0.8842931659457531, loss = 0.11458209522811219\n",
            "epoch = 11, acc = 0.9276485752695508, loss = 0.10532036903955044\n",
            "epoch = 12, acc = 0.9073956434913598, loss = 0.059494692022212935\n",
            "epoch = 13, acc = 0.9467385216046267, loss = 0.05215812251495463\n",
            "epoch = 14, acc = 0.886009578793574, loss = 0.10002778014824382\n",
            "epoch = 15, acc = 0.9507383694250812, loss = 0.05668814000691562\n",
            "epoch = 16, acc = 0.908961370668589, loss = 0.08100002271872864\n",
            "epoch = 17, acc = 0.9181648483520323, loss = 0.09319430800331768\n",
            "epoch = 18, acc = 0.9335930517696245, loss = 0.09480389854736665\n",
            "epoch = 19, acc = 0.9003752985787575, loss = 0.08111725561467534\n",
            "epoch = 20, acc = 0.9475645023085922, loss = 0.06481463432852544\n",
            "epoch = 21, acc = 0.9238009223187842, loss = 0.07646562908736339\n",
            "epoch = 22, acc = 0.9182143297977414, loss = 0.08123379391188554\n",
            "epoch = 23, acc = 0.9136037274634428, loss = 0.08950545814053731\n",
            "epoch = 24, acc = 0.9206417897351686, loss = 0.07604919146369049\n",
            "epoch = 25, acc = 0.9334920189501145, loss = 0.06017083492313441\n",
            "epoch = 26, acc = 0.9389936222503348, loss = 0.07131489332915453\n",
            "epoch = 27, acc = 0.9344339399280392, loss = 0.06944187249827426\n",
            "epoch = 28, acc = 0.9241091777796837, loss = 0.07960585091193721\n",
            "epoch = 29, acc = 0.9444548762300075, loss = 0.07246730836646725\n",
            "epoch = 30, acc = 0.9361763429991776, loss = 0.0625440423352959\n",
            "epoch = 31, acc = 0.9441735534037435, loss = 0.07415057130957822\n",
            "epoch = 32, acc = 0.9289866243430552, loss = 0.07415999691195171\n",
            "epoch = 33, acc = 0.9306464873291805, loss = 0.05135829083445958\n",
            "epoch = 34, acc = 0.9388517683548703, loss = 0.07253111638747547\n",
            "epoch = 35, acc = 0.9246838193249355, loss = 0.06290565601636723\n",
            "epoch = 36, acc = 0.9415734547364366, loss = 0.07404197670854518\n",
            "epoch = 37, acc = 0.9430337069160465, loss = 0.05019254025828154\n",
            "epoch = 38, acc = 0.9491253886481738, loss = 0.05151504772808564\n",
            "epoch = 39, acc = 0.932512894401325, loss = 0.06209350448745665\n",
            "epoch = 40, acc = 0.9277030484234, loss = 0.05429660390623833\n",
            "epoch = 41, acc = 0.9519843566769451, loss = 0.0637949973479188\n",
            "epoch = 42, acc = 0.9384176786514676, loss = 0.05340391638719676\n",
            "epoch = 43, acc = 0.9510200386767759, loss = 0.0672867700701111\n",
            "epoch = 44, acc = 0.9362221767084608, loss = 0.056312936667460206\n",
            "epoch = 45, acc = 0.9404425962541588, loss = 0.06960154177405373\n",
            "epoch = 46, acc = 0.9508474685468172, loss = 0.04872645410413569\n",
            "epoch = 47, acc = 0.9358170653938169, loss = 0.059903988933801\n",
            "epoch = 48, acc = 0.9495182247786172, loss = 0.06747976036809783\n",
            "epoch = 49, acc = 0.942517889560214, loss = 0.06280511607490405\n",
            "epoch = 50, acc = 0.9397726544469636, loss = 0.06691849585791697\n",
            "epoch = 51, acc = 0.9401747762764224, loss = 0.065475723872971\n",
            "epoch = 52, acc = 0.9408200762801396, loss = 0.05695221652597155\n",
            "epoch = 53, acc = 0.9516006544884559, loss = 0.05757791230787871\n",
            "epoch = 54, acc = 0.9462469725925635, loss = 0.05119637998984431\n",
            "epoch = 55, acc = 0.95139524927189, loss = 0.057716144171832906\n",
            "epoch = 56, acc = 0.9355169154153402, loss = 0.05342335664518429\n",
            "epoch = 57, acc = 0.945535698755845, loss = 0.05073749171607622\n",
            "epoch = 58, acc = 0.94895126240278, loss = 0.05179872117288326\n",
            "epoch = 59, acc = 0.936946138842761, loss = 0.062444880433217345\n",
            "epoch = 60, acc = 0.9502576317497283, loss = 0.05823002775741394\n",
            "epoch = 61, acc = 0.9502392697611406, loss = 0.06236907816226539\n",
            "epoch = 62, acc = 0.9458346158807043, loss = 0.05142702405571414\n",
            "epoch = 63, acc = 0.9430352597299105, loss = 0.049745444990916626\n",
            "epoch = 64, acc = 0.9391816485586778, loss = 0.06325035758652285\n",
            "epoch = 65, acc = 0.9427404676826587, loss = 0.05127057168085055\n",
            "epoch = 66, acc = 0.9394896299505057, loss = 0.06022829270996294\n",
            "epoch = 67, acc = 0.9521550333589414, loss = 0.05357289919903361\n",
            "epoch = 68, acc = 0.9506891472960282, loss = 0.05878710784973039\n",
            "epoch = 69, acc = 0.9406262302352989, loss = 0.05529249710048462\n",
            "epoch = 70, acc = 0.9498138594283736, loss = 0.05555597091817266\n",
            "epoch = 71, acc = 0.9389115519370931, loss = 0.05784270175914534\n",
            "epoch = 72, acc = 0.9409627513210563, loss = 0.057685405972663015\n",
            "epoch = 73, acc = 0.9438651839103692, loss = 0.051342970241788355\n",
            "epoch = 74, acc = 0.9395647090374775, loss = 0.05660968198784239\n",
            "epoch = 75, acc = 0.941455828985902, loss = 0.048543348709817705\n",
            "epoch = 76, acc = 0.9392944012145088, loss = 0.05665771067680285\n",
            "epoch = 77, acc = 0.9480060840326602, loss = 0.04796323970593999\n",
            "epoch = 78, acc = 0.9450359234064283, loss = 0.054195837733486185\n",
            "epoch = 79, acc = 0.9424991999676469, loss = 0.058461207384434326\n",
            "epoch = 80, acc = 0.943471297024453, loss = 0.058835517101613194\n",
            "epoch = 81, acc = 0.9518804997643197, loss = 0.052073628275163056\n",
            "epoch = 82, acc = 0.94716822628932, loss = 0.04920905223491905\n",
            "epoch = 83, acc = 0.9442050064015276, loss = 0.059136179891950476\n",
            "epoch = 84, acc = 0.9413945042043751, loss = 0.05873451751231723\n",
            "epoch = 85, acc = 0.9449750703054468, loss = 0.04951213031173329\n",
            "epoch = 86, acc = 0.9497127763120425, loss = 0.05247916232724341\n",
            "epoch = 87, acc = 0.9517769871778617, loss = 0.05746782018321547\n",
            "epoch = 88, acc = 0.9470946742719221, loss = 0.048583254138517475\n",
            "epoch = 89, acc = 0.950019397846587, loss = 0.05660198059369037\n",
            "epoch = 90, acc = 0.9453642094471132, loss = 0.0524463017958904\n",
            "epoch = 91, acc = 0.9514610928102879, loss = 0.05580342364575659\n",
            "epoch = 92, acc = 0.9488629418630409, loss = 0.04925913787679844\n",
            "epoch = 93, acc = 0.9510315558999087, loss = 0.05732027552166276\n",
            "epoch = 94, acc = 0.9487225457504762, loss = 0.05486924778285257\n",
            "epoch = 95, acc = 0.9514345024519367, loss = 0.05317978974124547\n",
            "epoch = 96, acc = 0.9506444860650779, loss = 0.053602335699517854\n",
            "epoch = 97, acc = 0.9492902583623638, loss = 0.05320083707817895\n",
            "epoch = 98, acc = 0.9434975933685611, loss = 0.048661971748334754\n",
            "epoch = 99, acc = 0.9516151280761884, loss = 0.054131931567028384\n"
          ]
        },
        {
          "output_type": "display_data",
          "data": {
            "text/plain": [
              "<IPython.core.display.HTML object>"
            ],
            "text/html": [
              "Waiting for W&B process to finish... <strong style=\"color:green\">(success).</strong>"
            ]
          },
          "metadata": {}
        },
        {
          "output_type": "display_data",
          "data": {
            "text/plain": [
              "<IPython.core.display.HTML object>"
            ],
            "text/html": [
              "<style>\n",
              "    table.wandb td:nth-child(1) { padding: 0 10px; text-align: left ; width: auto;} td:nth-child(2) {text-align: left ; width: 100%}\n",
              "    .wandb-row { display: flex; flex-direction: row; flex-wrap: wrap; justify-content: flex-start; width: 100% }\n",
              "    .wandb-col { display: flex; flex-direction: column; flex-basis: 100%; flex: 1; padding: 10px; }\n",
              "    </style>\n",
              "<div class=\"wandb-row\"><div class=\"wandb-col\"><h3>Run history:</h3><br/><table class=\"wandb\"><tr><td>acc</td><td>▁▅▇██▇█▇████████████████████████████████</td></tr><tr><td>loss</td><td>█▂▂▂▂▂▁▁▁▁▁▁▁▁▁▁▁▁▁▁▁▁▁▁▁▁▁▁▁▁▁▁▁▁▁▁▁▁▁▁</td></tr></table><br/></div><div class=\"wandb-col\"><h3>Run summary:</h3><br/><table class=\"wandb\"><tr><td>acc</td><td>0.95162</td></tr><tr><td>loss</td><td>0.05413</td></tr></table><br/></div></div>"
            ]
          },
          "metadata": {}
        },
        {
          "output_type": "display_data",
          "data": {
            "text/plain": [
              "<IPython.core.display.HTML object>"
            ],
            "text/html": [
              "Synced <strong style=\"color:#cdcd00\">smooth-waterfall-5</strong>: <a href=\"https://wandb.ai/maxcasas/example_cs_197/runs/1la3px30\" target=\"_blank\">https://wandb.ai/maxcasas/example_cs_197/runs/1la3px30</a><br/>Synced 5 W&B file(s), 0 media file(s), 0 artifact file(s) and 0 other file(s)"
            ]
          },
          "metadata": {}
        },
        {
          "output_type": "display_data",
          "data": {
            "text/plain": [
              "<IPython.core.display.HTML object>"
            ],
            "text/html": [
              "Find logs at: <code>./wandb/run-20221017_224851-1la3px30/logs</code>"
            ]
          },
          "metadata": {}
        },
        {
          "output_type": "stream",
          "name": "stdout",
          "text": [
            "Training for 120 epochs with learning rate 0.1\n"
          ]
        },
        {
          "output_type": "display_data",
          "data": {
            "text/plain": [
              "<IPython.core.display.HTML object>"
            ],
            "text/html": [
              "Tracking run with wandb version 0.13.4"
            ]
          },
          "metadata": {}
        },
        {
          "output_type": "display_data",
          "data": {
            "text/plain": [
              "<IPython.core.display.HTML object>"
            ],
            "text/html": [
              "Run data is saved locally in <code>/content/wandb/run-20221017_224857-3f2llwrq</code>"
            ]
          },
          "metadata": {}
        },
        {
          "output_type": "display_data",
          "data": {
            "text/plain": [
              "<IPython.core.display.HTML object>"
            ],
            "text/html": [
              "Syncing run <strong><a href=\"https://wandb.ai/maxcasas/example_cs_197/runs/3f2llwrq\" target=\"_blank\">fine-microwave-6</a></strong> to <a href=\"https://wandb.ai/maxcasas/example_cs_197\" target=\"_blank\">Weights & Biases</a> (<a href=\"https://wandb.me/run\" target=\"_blank\">docs</a>)<br/>"
            ]
          },
          "metadata": {}
        },
        {
          "output_type": "stream",
          "name": "stdout",
          "text": [
            "epoch = 2, acc = 0.31910625609101817, loss = 0.7782679955741415\n",
            "epoch = 3, acc = 0.6915650488707777, loss = 0.4686818761168645\n",
            "epoch = 4, acc = 0.688387580778759, loss = 0.4070354792968647\n",
            "epoch = 5, acc = 0.6264323118025862, loss = 0.21567711603597978\n",
            "epoch = 6, acc = 0.7698856173226208, loss = 0.32633180200291134\n",
            "epoch = 7, acc = 0.7619149290423334, loss = 0.1917892660780045\n",
            "epoch = 8, acc = 0.8386552570838363, loss = 0.2726370929742321\n",
            "epoch = 9, acc = 0.8307232286067241, loss = 0.19115579977844208\n",
            "epoch = 10, acc = 0.772089618726775, loss = 0.16809995960805327\n",
            "epoch = 11, acc = 0.8130298865011515, loss = 0.21200202679451133\n",
            "epoch = 12, acc = 0.8016383598465261, loss = 0.21376312887777263\n",
            "epoch = 13, acc = 0.8369044730289275, loss = 0.1966344565125538\n",
            "epoch = 14, acc = 0.8268890989097936, loss = 0.22230447168917478\n",
            "epoch = 15, acc = 0.7929756458226711, loss = 0.1938802196380182\n",
            "epoch = 16, acc = 0.7898973653394507, loss = 0.1900358211842894\n",
            "epoch = 17, acc = 0.8404550244699402, loss = 0.1890485020525815\n",
            "epoch = 18, acc = 0.810214880397547, loss = 0.19583710273712746\n",
            "epoch = 19, acc = 0.8041702590777721, loss = 0.2017297000193175\n",
            "epoch = 20, acc = 0.8434917867718454, loss = 0.19689519160725236\n",
            "epoch = 21, acc = 0.8371011574814751, loss = 0.18577777002573195\n",
            "epoch = 22, acc = 0.8198663162137211, loss = 0.18686647092097788\n",
            "epoch = 23, acc = 0.825590321655999, loss = 0.17523004511261245\n",
            "epoch = 24, acc = 0.8455750447702766, loss = 0.17179857121873987\n",
            "epoch = 25, acc = 0.8099133648220322, loss = 0.17612367431704\n",
            "epoch = 26, acc = 0.842879537777824, loss = 0.17102855555090976\n",
            "epoch = 27, acc = 0.8223055729087196, loss = 0.16524591550096832\n",
            "epoch = 28, acc = 0.8197050482033402, loss = 0.17784957218323713\n",
            "epoch = 29, acc = 0.8218852697814554, loss = 0.1816483731161314\n",
            "epoch = 30, acc = 0.839562041218465, loss = 0.15597970450143683\n",
            "epoch = 31, acc = 0.835483997991169, loss = 0.18277617638089969\n",
            "epoch = 32, acc = 0.829801045649074, loss = 0.17231138093090514\n",
            "epoch = 33, acc = 0.8401414152787937, loss = 0.1713377572310075\n",
            "epoch = 34, acc = 0.8193639343792269, loss = 0.16587307287769398\n",
            "epoch = 35, acc = 0.8398036265234048, loss = 0.1574894891202813\n",
            "epoch = 36, acc = 0.8334463882819227, loss = 0.1788665047745382\n",
            "epoch = 37, acc = 0.8213749092639558, loss = 0.15984833268335194\n",
            "epoch = 38, acc = 0.8333973811067947, loss = 0.17850937423674185\n",
            "epoch = 39, acc = 0.8359026539844107, loss = 0.16268755493374598\n",
            "epoch = 40, acc = 0.835393643253347, loss = 0.1546063371377829\n",
            "epoch = 41, acc = 0.8264199662154402, loss = 0.1715686204967534\n",
            "epoch = 42, acc = 0.8326221455511442, loss = 0.15879693579608528\n",
            "epoch = 43, acc = 0.8355987995574017, loss = 0.17156908443437885\n",
            "epoch = 44, acc = 0.8301885258206116, loss = 0.1700728247799005\n",
            "epoch = 45, acc = 0.833897440251219, loss = 0.16624433818826279\n",
            "epoch = 46, acc = 0.826031893408158, loss = 0.16055198351056627\n",
            "epoch = 47, acc = 0.8256132663668866, loss = 0.17471963035872068\n",
            "epoch = 48, acc = 0.8371646297700398, loss = 0.16462079018360243\n",
            "epoch = 49, acc = 0.8333711546905598, loss = 0.17202948596707565\n",
            "epoch = 50, acc = 0.8410596358721812, loss = 0.16287589817775316\n",
            "epoch = 51, acc = 0.8382396667567499, loss = 0.16233507124018717\n",
            "epoch = 52, acc = 0.8364810012893272, loss = 0.1554414612675465\n",
            "epoch = 53, acc = 0.8273705176573475, loss = 0.16708618396113792\n",
            "epoch = 54, acc = 0.841379195214848, loss = 0.15913525937105866\n",
            "epoch = 55, acc = 0.8353335585220085, loss = 0.16707083501323916\n",
            "epoch = 56, acc = 0.8297558238462212, loss = 0.17000055632735475\n",
            "epoch = 57, acc = 0.8305576506426843, loss = 0.16540072731822833\n",
            "epoch = 58, acc = 0.8296380124562645, loss = 0.15658256602162354\n",
            "epoch = 59, acc = 0.8322865967664722, loss = 0.17057580939615674\n",
            "epoch = 60, acc = 0.8383510274493301, loss = 0.1559063326315039\n",
            "epoch = 61, acc = 0.8348481605543838, loss = 0.15489327799569583\n",
            "epoch = 62, acc = 0.8441335037474321, loss = 0.16781179300494978\n",
            "epoch = 63, acc = 0.8334920390784865, loss = 0.15631457081239394\n",
            "epoch = 64, acc = 0.8379979166994282, loss = 0.16337768030702762\n",
            "epoch = 65, acc = 0.8422917439974713, loss = 0.15589412610940775\n",
            "epoch = 66, acc = 0.8422379308557306, loss = 0.16662714810007612\n",
            "epoch = 67, acc = 0.8359518959018754, loss = 0.16664695457179188\n",
            "epoch = 68, acc = 0.8334375380275564, loss = 0.16511479498351653\n",
            "epoch = 69, acc = 0.8448545613312105, loss = 0.1586551547339144\n",
            "epoch = 70, acc = 0.8355436228653057, loss = 0.1664767381069934\n",
            "epoch = 71, acc = 0.8396510866501524, loss = 0.15950189665144712\n",
            "epoch = 72, acc = 0.8381759497819256, loss = 0.16148317759646705\n",
            "epoch = 73, acc = 0.8413335254146966, loss = 0.16354384861908886\n",
            "epoch = 74, acc = 0.8335936158654492, loss = 0.16248153671783996\n",
            "epoch = 75, acc = 0.8381243063105058, loss = 0.1622710840943152\n",
            "epoch = 76, acc = 0.8381442084918355, loss = 0.16263062416415716\n",
            "epoch = 77, acc = 0.8347774450914763, loss = 0.15771330110359166\n",
            "epoch = 78, acc = 0.8416469906867838, loss = 0.16681720026382071\n",
            "epoch = 79, acc = 0.8449556797525614, loss = 0.16069382431157558\n",
            "epoch = 80, acc = 0.8412458783574821, loss = 0.15604969830790982\n",
            "epoch = 81, acc = 0.8425594910323264, loss = 0.15780652347323043\n",
            "epoch = 82, acc = 0.8411605445407673, loss = 0.15664968226984563\n",
            "epoch = 83, acc = 0.8449418493682561, loss = 0.16312046001859934\n",
            "epoch = 84, acc = 0.8389239208172089, loss = 0.15921728983116146\n",
            "epoch = 85, acc = 0.8391854903229746, loss = 0.15642617917863166\n",
            "epoch = 86, acc = 0.8409850971573398, loss = 0.15624967059456432\n",
            "epoch = 87, acc = 0.8350842889625242, loss = 0.15659989195034862\n",
            "epoch = 88, acc = 0.8409732795838964, loss = 0.16392520640812958\n",
            "epoch = 89, acc = 0.8383441794584457, loss = 0.1585667199795151\n",
            "epoch = 90, acc = 0.838284474155459, loss = 0.16517946007070228\n",
            "epoch = 91, acc = 0.8384821648170321, loss = 0.15500889519502362\n",
            "epoch = 92, acc = 0.8356699090890866, loss = 0.16163306180408935\n",
            "epoch = 93, acc = 0.8370491319249381, loss = 0.1578731766048836\n",
            "epoch = 94, acc = 0.8385867137272381, loss = 0.1582410646515578\n",
            "epoch = 95, acc = 0.8436706621088955, loss = 0.1549557431251228\n",
            "epoch = 96, acc = 0.8446917560804621, loss = 0.15735197283182856\n",
            "epoch = 97, acc = 0.8378617070301627, loss = 0.15675423346336015\n",
            "epoch = 98, acc = 0.8380285843073451, loss = 0.16146916405601613\n",
            "epoch = 99, acc = 0.8431842324317853, loss = 0.16275906625719547\n",
            "epoch = 100, acc = 0.8421468765949486, loss = 0.15716811296458827\n",
            "epoch = 101, acc = 0.8449219196490132, loss = 0.15477548770666516\n",
            "epoch = 102, acc = 0.8438505481314506, loss = 0.15460028824722385\n",
            "epoch = 103, acc = 0.8433374369649084, loss = 0.1629950694828401\n",
            "epoch = 104, acc = 0.8394933038293728, loss = 0.16312074057646375\n",
            "epoch = 105, acc = 0.8420968716488945, loss = 0.1587397765037279\n",
            "epoch = 106, acc = 0.8394775624587493, loss = 0.15958135929337502\n",
            "epoch = 107, acc = 0.8373175339247532, loss = 0.15555795060124888\n",
            "epoch = 108, acc = 0.837171225068522, loss = 0.15450810815500277\n",
            "epoch = 109, acc = 0.8372005926199463, loss = 0.16169116928314942\n",
            "epoch = 110, acc = 0.8392902145866024, loss = 0.15665707191095182\n",
            "epoch = 111, acc = 0.8381138840515427, loss = 0.16259480577276658\n",
            "epoch = 112, acc = 0.8425918690174656, loss = 0.1597796539785522\n",
            "epoch = 113, acc = 0.8408950464196203, loss = 0.1587094850066778\n",
            "epoch = 114, acc = 0.8374706073179099, loss = 0.16167263617264893\n",
            "epoch = 115, acc = 0.8434662550011385, loss = 0.1559032439816851\n",
            "epoch = 116, acc = 0.837488104246759, loss = 0.16108139793013476\n",
            "epoch = 117, acc = 0.8430771572219683, loss = 0.1608579508168812\n",
            "epoch = 118, acc = 0.8453057126217591, loss = 0.1567417824328286\n",
            "epoch = 119, acc = 0.842321857507453, loss = 0.16135117214596228\n"
          ]
        },
        {
          "output_type": "display_data",
          "data": {
            "text/plain": [
              "<IPython.core.display.HTML object>"
            ],
            "text/html": [
              "Waiting for W&B process to finish... <strong style=\"color:green\">(success).</strong>"
            ]
          },
          "metadata": {}
        },
        {
          "output_type": "display_data",
          "data": {
            "text/plain": [
              "VBox(children=(Label(value='0.000 MB of 0.000 MB uploaded (0.000 MB deduped)\\r'), FloatProgress(value=1.0, max…"
            ],
            "application/vnd.jupyter.widget-view+json": {
              "version_major": 2,
              "version_minor": 0,
              "model_id": "d5064451539d4cf893a4210cd0cb7ab6"
            }
          },
          "metadata": {}
        },
        {
          "output_type": "display_data",
          "data": {
            "text/plain": [
              "<IPython.core.display.HTML object>"
            ],
            "text/html": [
              "<style>\n",
              "    table.wandb td:nth-child(1) { padding: 0 10px; text-align: left ; width: auto;} td:nth-child(2) {text-align: left ; width: 100%}\n",
              "    .wandb-row { display: flex; flex-direction: row; flex-wrap: wrap; justify-content: flex-start; width: 100% }\n",
              "    .wandb-col { display: flex; flex-direction: column; flex-basis: 100%; flex: 1; padding: 10px; }\n",
              "    </style>\n",
              "<div class=\"wandb-row\"><div class=\"wandb-col\"><h3>Run history:</h3><br/><table class=\"wandb\"><tr><td>acc</td><td>▁▅██████████████████████████████████████</td></tr><tr><td>loss</td><td>█▂▂▂▂▁▁▁▁▁▁▁▁▁▁▁▁▁▁▁▁▁▁▁▁▁▁▁▁▁▁▁▁▁▁▁▁▁▁▁</td></tr></table><br/></div><div class=\"wandb-col\"><h3>Run summary:</h3><br/><table class=\"wandb\"><tr><td>acc</td><td>0.84232</td></tr><tr><td>loss</td><td>0.16135</td></tr></table><br/></div></div>"
            ]
          },
          "metadata": {}
        },
        {
          "output_type": "display_data",
          "data": {
            "text/plain": [
              "<IPython.core.display.HTML object>"
            ],
            "text/html": [
              "Synced <strong style=\"color:#cdcd00\">fine-microwave-6</strong>: <a href=\"https://wandb.ai/maxcasas/example_cs_197/runs/3f2llwrq\" target=\"_blank\">https://wandb.ai/maxcasas/example_cs_197/runs/3f2llwrq</a><br/>Synced 5 W&B file(s), 0 media file(s), 0 artifact file(s) and 0 other file(s)"
            ]
          },
          "metadata": {}
        },
        {
          "output_type": "display_data",
          "data": {
            "text/plain": [
              "<IPython.core.display.HTML object>"
            ],
            "text/html": [
              "Find logs at: <code>./wandb/run-20221017_224857-3f2llwrq/logs</code>"
            ]
          },
          "metadata": {}
        },
        {
          "output_type": "stream",
          "name": "stdout",
          "text": [
            "Training for 120 epochs with learning rate 0.01\n"
          ]
        },
        {
          "output_type": "display_data",
          "data": {
            "text/plain": [
              "<IPython.core.display.HTML object>"
            ],
            "text/html": [
              "Tracking run with wandb version 0.13.4"
            ]
          },
          "metadata": {}
        },
        {
          "output_type": "display_data",
          "data": {
            "text/plain": [
              "<IPython.core.display.HTML object>"
            ],
            "text/html": [
              "Run data is saved locally in <code>/content/wandb/run-20221017_224903-k1xm8y2e</code>"
            ]
          },
          "metadata": {}
        },
        {
          "output_type": "display_data",
          "data": {
            "text/plain": [
              "<IPython.core.display.HTML object>"
            ],
            "text/html": [
              "Syncing run <strong><a href=\"https://wandb.ai/maxcasas/example_cs_197/runs/k1xm8y2e\" target=\"_blank\">genial-plant-7</a></strong> to <a href=\"https://wandb.ai/maxcasas/example_cs_197\" target=\"_blank\">Weights & Biases</a> (<a href=\"https://wandb.me/run\" target=\"_blank\">docs</a>)<br/>"
            ]
          },
          "metadata": {}
        },
        {
          "output_type": "stream",
          "name": "stdout",
          "text": [
            "epoch = 2, acc = 0.47619152798449743, loss = 0.7827541283245502\n",
            "epoch = 3, acc = 0.7619155123786524, loss = 0.2345063238561214\n",
            "epoch = 4, acc = 0.7966569664972669, loss = 0.19020512958284214\n",
            "epoch = 5, acc = 0.9140204536930835, loss = 0.087317790552808\n",
            "epoch = 6, acc = 0.8592182561070255, loss = 0.19693229257814637\n",
            "epoch = 7, acc = 0.9031080561056404, loss = 0.13379845382468425\n",
            "epoch = 8, acc = 0.9125888099683293, loss = 0.10478423960116932\n",
            "epoch = 9, acc = 0.8605926268301277, loss = 0.10499019904820854\n",
            "epoch = 10, acc = 0.929235833249315, loss = 0.06985068764350855\n",
            "epoch = 11, acc = 0.9321397504393945, loss = 0.08756848559496229\n",
            "epoch = 12, acc = 0.9263868942396014, loss = 0.05906473147782284\n",
            "epoch = 13, acc = 0.8867011181505239, loss = 0.0699850591431733\n",
            "epoch = 14, acc = 0.9422252602140904, loss = 0.11938743085488934\n",
            "epoch = 15, acc = 0.9021524438077009, loss = 0.09993383388821042\n",
            "epoch = 16, acc = 0.9338836473754972, loss = 0.07517613668220163\n",
            "epoch = 17, acc = 0.9296485738356225, loss = 0.08243471792356137\n",
            "epoch = 18, acc = 0.9161698136084342, loss = 0.08340550741299113\n",
            "epoch = 19, acc = 0.9503823334793692, loss = 0.06180313868941289\n",
            "epoch = 20, acc = 0.9159674472622606, loss = 0.06866135107599497\n",
            "epoch = 21, acc = 0.9240165911002398, loss = 0.07963720452476478\n",
            "epoch = 22, acc = 0.9159542535721155, loss = 0.06538519907158669\n",
            "epoch = 23, acc = 0.9294158391474715, loss = 0.05720739685560827\n",
            "epoch = 24, acc = 0.9245120495244247, loss = 0.06699567387198009\n",
            "epoch = 25, acc = 0.937010788643673, loss = 0.06700206401931641\n",
            "epoch = 26, acc = 0.9330444662127366, loss = 0.05560495909696213\n",
            "epoch = 27, acc = 0.9497922639564974, loss = 0.08372060477289445\n",
            "epoch = 28, acc = 0.9402220557787035, loss = 0.05945182810459916\n",
            "epoch = 29, acc = 0.925598167542312, loss = 0.07669686128040745\n",
            "epoch = 30, acc = 0.9407503967233021, loss = 0.07932735784820907\n",
            "epoch = 31, acc = 0.923874201909529, loss = 0.05245128709402812\n",
            "epoch = 32, acc = 0.9408130717988638, loss = 0.04901460789790767\n",
            "epoch = 33, acc = 0.9403704712245933, loss = 0.07527575601923782\n",
            "epoch = 34, acc = 0.9269967185255271, loss = 0.06556039821816663\n",
            "epoch = 35, acc = 0.9434410561269815, loss = 0.05619833630869474\n",
            "epoch = 36, acc = 0.942909940159757, loss = 0.07445446425746115\n",
            "epoch = 37, acc = 0.9424385279700354, loss = 0.06934234125269478\n",
            "epoch = 38, acc = 0.9301698535953781, loss = 0.060099803423107695\n",
            "epoch = 39, acc = 0.9380151116094537, loss = 0.0534608697361558\n",
            "epoch = 40, acc = 0.9357677946999939, loss = 0.06619241133424546\n",
            "epoch = 41, acc = 0.9370619192225689, loss = 0.05869134681084302\n",
            "epoch = 42, acc = 0.9393264498101347, loss = 0.06953202564280553\n",
            "epoch = 43, acc = 0.9422891259851808, loss = 0.0534866379085636\n",
            "epoch = 44, acc = 0.9422014408805612, loss = 0.058282333371416487\n",
            "epoch = 45, acc = 0.9513490640040666, loss = 0.051447962278633755\n",
            "epoch = 46, acc = 0.9414794346338845, loss = 0.056816111999166585\n",
            "epoch = 47, acc = 0.9359747844907924, loss = 0.06957331353866456\n",
            "epoch = 48, acc = 0.9437020543164951, loss = 0.05266508796499623\n",
            "epoch = 49, acc = 0.9371834253923658, loss = 0.050372669884695825\n",
            "epoch = 50, acc = 0.9497895393799478, loss = 0.06303446074425269\n",
            "epoch = 51, acc = 0.9482306952919698, loss = 0.06120343728853238\n",
            "epoch = 52, acc = 0.9380794920365795, loss = 0.05222145077443335\n",
            "epoch = 53, acc = 0.9510064260190083, loss = 0.058990082494058856\n",
            "epoch = 54, acc = 0.9330547224884473, loss = 0.06585745762355072\n",
            "epoch = 55, acc = 0.9420628280688337, loss = 0.053821261569418084\n",
            "epoch = 56, acc = 0.933893470602787, loss = 0.05715586940275628\n",
            "epoch = 57, acc = 0.9494741606236762, loss = 0.058889110724096055\n",
            "epoch = 58, acc = 0.9419722604840559, loss = 0.06037448403426364\n",
            "epoch = 59, acc = 0.9489751016452634, loss = 0.06096975379842695\n",
            "epoch = 60, acc = 0.9362507681511855, loss = 0.05626125258175872\n",
            "epoch = 61, acc = 0.9489865237768909, loss = 0.06120160139155289\n",
            "epoch = 62, acc = 0.9386083064848278, loss = 0.048699342367261124\n",
            "epoch = 63, acc = 0.9405361961596671, loss = 0.06351608398143911\n",
            "epoch = 64, acc = 0.9429852639974177, loss = 0.05503785057335577\n",
            "epoch = 65, acc = 0.9514109488509807, loss = 0.05969019191989795\n",
            "epoch = 66, acc = 0.9469084720215206, loss = 0.05791182575555981\n",
            "epoch = 67, acc = 0.9496141997535763, loss = 0.062351095782349084\n",
            "epoch = 68, acc = 0.9437907419986135, loss = 0.0575095923440663\n",
            "epoch = 69, acc = 0.9385014210293687, loss = 0.05605320766049675\n",
            "epoch = 70, acc = 0.9384644485293365, loss = 0.05611129742016701\n",
            "epoch = 71, acc = 0.9374749257987006, loss = 0.052709310815807105\n",
            "epoch = 72, acc = 0.9435721542429882, loss = 0.058889419347874956\n",
            "epoch = 73, acc = 0.940223669982007, loss = 0.05087534590508293\n",
            "epoch = 74, acc = 0.9409128096156122, loss = 0.05853387323944467\n",
            "epoch = 75, acc = 0.9513177922311351, loss = 0.06009471810015853\n",
            "epoch = 76, acc = 0.9406091284024978, loss = 0.05085517891941585\n",
            "epoch = 77, acc = 0.9416688856466491, loss = 0.05761110983615596\n",
            "epoch = 78, acc = 0.9469420146376204, loss = 0.059261505277245385\n",
            "epoch = 79, acc = 0.9439200081296961, loss = 0.05269012107868392\n",
            "epoch = 80, acc = 0.9487508103060874, loss = 0.057818697619206216\n",
            "epoch = 81, acc = 0.9461789680356718, loss = 0.04850530479304617\n",
            "epoch = 82, acc = 0.949359704429823, loss = 0.053945619289713864\n",
            "epoch = 83, acc = 0.9406070460458891, loss = 0.0494884489967062\n",
            "epoch = 84, acc = 0.9444238691034288, loss = 0.04918933903711367\n",
            "epoch = 85, acc = 0.9509819930659328, loss = 0.05663293416017594\n",
            "epoch = 86, acc = 0.9449967034073721, loss = 0.049887992422743166\n",
            "epoch = 87, acc = 0.9449612514285504, loss = 0.05250677536482275\n",
            "epoch = 88, acc = 0.9427094175817037, loss = 0.05255787981318916\n",
            "epoch = 89, acc = 0.9463248574750281, loss = 0.05813427878662698\n",
            "epoch = 90, acc = 0.9431397642057597, loss = 0.05357821508144273\n",
            "epoch = 91, acc = 0.950099064409947, loss = 0.05922472247398092\n",
            "epoch = 92, acc = 0.9499118530310633, loss = 0.05281458888358746\n",
            "epoch = 93, acc = 0.9449462949845094, loss = 0.04870148322345641\n",
            "epoch = 94, acc = 0.9497872601711582, loss = 0.05670991165372015\n",
            "epoch = 95, acc = 0.9411257073094947, loss = 0.04896047408570655\n",
            "epoch = 96, acc = 0.9507838649954139, loss = 0.051289024435316244\n",
            "epoch = 97, acc = 0.9470703491734406, loss = 0.05310954679622681\n",
            "epoch = 98, acc = 0.9482828848011642, loss = 0.056525598004012134\n",
            "epoch = 99, acc = 0.9447191383253434, loss = 0.05293572975576461\n",
            "epoch = 100, acc = 0.9454882584193531, loss = 0.05507390247133678\n",
            "epoch = 101, acc = 0.9417326377013397, loss = 0.056883761117891896\n",
            "epoch = 102, acc = 0.9459274612550292, loss = 0.04910011230828081\n",
            "epoch = 103, acc = 0.9476256069966282, loss = 0.05776332022368727\n",
            "epoch = 104, acc = 0.944337814081917, loss = 0.050442647837497225\n",
            "epoch = 105, acc = 0.9475112059464044, loss = 0.052762285804253434\n",
            "epoch = 106, acc = 0.9503650957520741, loss = 0.056446785240357775\n",
            "epoch = 107, acc = 0.9441344302581266, loss = 0.05746961275729065\n",
            "epoch = 108, acc = 0.9473193551104854, loss = 0.05268324673257335\n",
            "epoch = 109, acc = 0.9475600163908129, loss = 0.0563476473213058\n",
            "epoch = 110, acc = 0.9429431970761276, loss = 0.056526807941503596\n",
            "epoch = 111, acc = 0.9494467945575555, loss = 0.05079689129154556\n",
            "epoch = 112, acc = 0.9490482506360917, loss = 0.048557851167842496\n",
            "epoch = 113, acc = 0.948886593280159, loss = 0.050482273205133675\n",
            "epoch = 114, acc = 0.9481542996417553, loss = 0.04941245421333923\n",
            "epoch = 115, acc = 0.9443824100733433, loss = 0.050314291047110715\n",
            "epoch = 116, acc = 0.9457592356352188, loss = 0.056418275995022985\n",
            "epoch = 117, acc = 0.9440633479513026, loss = 0.05316920617312969\n",
            "epoch = 118, acc = 0.9469433454147173, loss = 0.05613985183986926\n",
            "epoch = 119, acc = 0.9434774590946802, loss = 0.05290052527276482\n"
          ]
        },
        {
          "output_type": "display_data",
          "data": {
            "text/plain": [
              "<IPython.core.display.HTML object>"
            ],
            "text/html": [
              "Waiting for W&B process to finish... <strong style=\"color:green\">(success).</strong>"
            ]
          },
          "metadata": {}
        },
        {
          "output_type": "display_data",
          "data": {
            "text/plain": [
              "VBox(children=(Label(value='0.000 MB of 0.000 MB uploaded (0.000 MB deduped)\\r'), FloatProgress(value=1.0, max…"
            ],
            "application/vnd.jupyter.widget-view+json": {
              "version_major": 2,
              "version_minor": 0,
              "model_id": "463d1267f5574e93bc1f9b04cf829abb"
            }
          },
          "metadata": {}
        },
        {
          "output_type": "display_data",
          "data": {
            "text/plain": [
              "<IPython.core.display.HTML object>"
            ],
            "text/html": [
              "<style>\n",
              "    table.wandb td:nth-child(1) { padding: 0 10px; text-align: left ; width: auto;} td:nth-child(2) {text-align: left ; width: 100%}\n",
              "    .wandb-row { display: flex; flex-direction: row; flex-wrap: wrap; justify-content: flex-start; width: 100% }\n",
              "    .wandb-col { display: flex; flex-direction: column; flex-basis: 100%; flex: 1; padding: 10px; }\n",
              "    </style>\n",
              "<div class=\"wandb-row\"><div class=\"wandb-col\"><h3>Run history:</h3><br/><table class=\"wandb\"><tr><td>acc</td><td>▁▇▇███▇█████████████████████████████████</td></tr><tr><td>loss</td><td>█▁▂▁▂▁▁▁▁▁▁▁▁▁▁▁▁▁▁▁▁▁▁▁▁▁▁▁▁▁▁▁▁▁▁▁▁▁▁▁</td></tr></table><br/></div><div class=\"wandb-col\"><h3>Run summary:</h3><br/><table class=\"wandb\"><tr><td>acc</td><td>0.94348</td></tr><tr><td>loss</td><td>0.0529</td></tr></table><br/></div></div>"
            ]
          },
          "metadata": {}
        },
        {
          "output_type": "display_data",
          "data": {
            "text/plain": [
              "<IPython.core.display.HTML object>"
            ],
            "text/html": [
              "Synced <strong style=\"color:#cdcd00\">genial-plant-7</strong>: <a href=\"https://wandb.ai/maxcasas/example_cs_197/runs/k1xm8y2e\" target=\"_blank\">https://wandb.ai/maxcasas/example_cs_197/runs/k1xm8y2e</a><br/>Synced 5 W&B file(s), 0 media file(s), 0 artifact file(s) and 0 other file(s)"
            ]
          },
          "metadata": {}
        },
        {
          "output_type": "display_data",
          "data": {
            "text/plain": [
              "<IPython.core.display.HTML object>"
            ],
            "text/html": [
              "Find logs at: <code>./wandb/run-20221017_224903-k1xm8y2e/logs</code>"
            ]
          },
          "metadata": {}
        },
        {
          "output_type": "stream",
          "name": "stdout",
          "text": [
            "Training for 120 epochs with learning rate 0.001\n"
          ]
        },
        {
          "output_type": "display_data",
          "data": {
            "text/plain": [
              "<IPython.core.display.HTML object>"
            ],
            "text/html": [
              "Tracking run with wandb version 0.13.4"
            ]
          },
          "metadata": {}
        },
        {
          "output_type": "display_data",
          "data": {
            "text/plain": [
              "<IPython.core.display.HTML object>"
            ],
            "text/html": [
              "Run data is saved locally in <code>/content/wandb/run-20221017_224909-k0on3llp</code>"
            ]
          },
          "metadata": {}
        },
        {
          "output_type": "display_data",
          "data": {
            "text/plain": [
              "<IPython.core.display.HTML object>"
            ],
            "text/html": [
              "Syncing run <strong><a href=\"https://wandb.ai/maxcasas/example_cs_197/runs/k0on3llp\" target=\"_blank\">spring-dragon-8</a></strong> to <a href=\"https://wandb.ai/maxcasas/example_cs_197\" target=\"_blank\">Weights & Biases</a> (<a href=\"https://wandb.me/run\" target=\"_blank\">docs</a>)<br/>"
            ]
          },
          "metadata": {}
        },
        {
          "output_type": "stream",
          "name": "stdout",
          "text": [
            "epoch = 2, acc = 0.3541723748228954, loss = 0.8503419882284181\n",
            "epoch = 3, acc = 0.5946897783686533, loss = 0.3964880480079336\n",
            "epoch = 4, acc = 0.7460241900528257, loss = 0.38435388091411343\n",
            "epoch = 5, acc = 0.7883922474262529, loss = 0.32247850223955055\n",
            "epoch = 6, acc = 0.7446040579492311, loss = 0.30394684167780617\n",
            "epoch = 7, acc = 0.8609328302630208, loss = 0.236272413522586\n",
            "epoch = 8, acc = 0.8108433791027325, loss = 0.15422649459646634\n",
            "epoch = 9, acc = 0.852221794685036, loss = 0.19819124991892484\n",
            "epoch = 10, acc = 0.7866102934351106, loss = 0.18707408176113327\n",
            "epoch = 11, acc = 0.8483353884311937, loss = 0.20328444827495007\n",
            "epoch = 12, acc = 0.8399705237553569, loss = 0.15980682925613574\n",
            "epoch = 13, acc = 0.8227431550007155, loss = 0.19278134213519355\n",
            "epoch = 14, acc = 0.867369171371196, loss = 0.17439549479317729\n",
            "epoch = 15, acc = 0.8375563264091432, loss = 0.1405206974312935\n",
            "epoch = 16, acc = 0.8599006342737264, loss = 0.1332770154749584\n",
            "epoch = 17, acc = 0.8288748873264657, loss = 0.1394548712569903\n",
            "epoch = 18, acc = 0.8311619159864706, loss = 0.16341301542553882\n",
            "epoch = 19, acc = 0.8381293076396932, loss = 0.14326688853090544\n",
            "epoch = 20, acc = 0.8493410045347165, loss = 0.1370559732849877\n",
            "epoch = 21, acc = 0.8421279558061585, loss = 0.16057704216875182\n",
            "epoch = 22, acc = 0.8632156444825025, loss = 0.12824606722690987\n",
            "epoch = 23, acc = 0.8535818685305021, loss = 0.16904643250067045\n",
            "epoch = 24, acc = 0.8538518919925903, loss = 0.1508080793894653\n",
            "epoch = 25, acc = 0.8423344491128663, loss = 0.14416069553358654\n",
            "epoch = 26, acc = 0.8667254432632086, loss = 0.16306093639056826\n",
            "epoch = 27, acc = 0.8598765643817006, loss = 0.13734266679028886\n",
            "epoch = 28, acc = 0.8641779265719893, loss = 0.13891305053196662\n",
            "epoch = 29, acc = 0.8646225730654766, loss = 0.13135728084731665\n",
            "epoch = 30, acc = 0.8553418039535075, loss = 0.1571033557972263\n",
            "epoch = 31, acc = 0.8589714412268258, loss = 0.14620485157622282\n",
            "epoch = 32, acc = 0.8645930679577756, loss = 0.13693157855197605\n",
            "epoch = 33, acc = 0.850050912622312, loss = 0.1279476548880435\n",
            "epoch = 34, acc = 0.8625179617374087, loss = 0.14159330195349754\n",
            "epoch = 35, acc = 0.8514566003214183, loss = 0.14043256267154408\n",
            "epoch = 36, acc = 0.8567178051769069, loss = 0.14139240894399513\n",
            "epoch = 37, acc = 0.8655025430874829, loss = 0.14966238844366064\n",
            "epoch = 38, acc = 0.8552760359300563, loss = 0.14569414485741072\n",
            "epoch = 39, acc = 0.8652774215879384, loss = 0.12975839603908632\n",
            "epoch = 40, acc = 0.8559020364288901, loss = 0.13397432523703903\n",
            "epoch = 41, acc = 0.8553298290395047, loss = 0.13020620958686768\n",
            "epoch = 42, acc = 0.8706358428425004, loss = 0.13981422172800606\n",
            "epoch = 43, acc = 0.8553593184328767, loss = 0.1377708718628407\n",
            "epoch = 44, acc = 0.8683277299594752, loss = 0.1395674048072621\n",
            "epoch = 45, acc = 0.8538621521410843, loss = 0.13853921868581023\n",
            "epoch = 46, acc = 0.8598900049756354, loss = 0.1424750535415306\n",
            "epoch = 47, acc = 0.8622396056060903, loss = 0.14471726740131557\n",
            "epoch = 48, acc = 0.8579260086182489, loss = 0.14485038318941457\n",
            "epoch = 49, acc = 0.8655622214204781, loss = 0.12807806057075635\n",
            "epoch = 50, acc = 0.8584816573704113, loss = 0.13057440017981534\n",
            "epoch = 51, acc = 0.8605691306600391, loss = 0.13952300389596806\n",
            "epoch = 52, acc = 0.8684765473376189, loss = 0.14157105811747722\n",
            "epoch = 53, acc = 0.8565182178150899, loss = 0.13158756239570946\n",
            "epoch = 54, acc = 0.8650224009803007, loss = 0.12700582653551754\n",
            "epoch = 55, acc = 0.8667133953485587, loss = 0.12980383832823894\n",
            "epoch = 56, acc = 0.8613819768851403, loss = 0.12729603412369625\n",
            "epoch = 57, acc = 0.8579083390317893, loss = 0.1259174610393225\n",
            "epoch = 58, acc = 0.8700689319186016, loss = 0.13157360757887945\n",
            "epoch = 59, acc = 0.8688448159534401, loss = 0.13214695367267756\n",
            "epoch = 60, acc = 0.8667525027485309, loss = 0.140997924379029\n",
            "epoch = 61, acc = 0.8742261285099197, loss = 0.13801413861344147\n",
            "epoch = 62, acc = 0.8688250837457151, loss = 0.13027176730728549\n",
            "epoch = 63, acc = 0.8595882092379715, loss = 0.12786491282252616\n",
            "epoch = 64, acc = 0.8594352979842651, loss = 0.14081621079926632\n",
            "epoch = 65, acc = 0.858881799502814, loss = 0.1341677275353832\n",
            "epoch = 66, acc = 0.8704600047688696, loss = 0.13933113713849915\n",
            "epoch = 67, acc = 0.8684048619626965, loss = 0.12665631936575225\n",
            "epoch = 68, acc = 0.8627066751800309, loss = 0.14045935575976123\n",
            "epoch = 69, acc = 0.8625364718063285, loss = 0.13301667649727744\n",
            "epoch = 70, acc = 0.8657301531910715, loss = 0.12922592482412198\n",
            "epoch = 71, acc = 0.8632031595414889, loss = 0.1365053023039825\n",
            "epoch = 72, acc = 0.8706345577019379, loss = 0.13612905560571767\n",
            "epoch = 73, acc = 0.8657036775586747, loss = 0.13057521687732132\n",
            "epoch = 74, acc = 0.8649684223128985, loss = 0.13423148558077014\n",
            "epoch = 75, acc = 0.870646749851826, loss = 0.1276381560402382\n",
            "epoch = 76, acc = 0.8674479213929539, loss = 0.13520989265975725\n",
            "epoch = 77, acc = 0.8694171452342339, loss = 0.13275497458360577\n",
            "epoch = 78, acc = 0.8692574409563499, loss = 0.1373284036368735\n",
            "epoch = 79, acc = 0.8678305313947507, loss = 0.13487058201168176\n",
            "epoch = 80, acc = 0.8698775863658759, loss = 0.12682068674231886\n",
            "epoch = 81, acc = 0.8662403807295751, loss = 0.1371236166815908\n",
            "epoch = 82, acc = 0.8666163880035032, loss = 0.13186700074840169\n",
            "epoch = 83, acc = 0.8724976666116443, loss = 0.13442889601598226\n",
            "epoch = 84, acc = 0.8738016579687511, loss = 0.1328317518409512\n",
            "epoch = 85, acc = 0.8648351254503269, loss = 0.13273636294837365\n",
            "epoch = 86, acc = 0.8632810404780791, loss = 0.13518726158095887\n",
            "epoch = 87, acc = 0.8662606804655248, loss = 0.13274260593872927\n",
            "epoch = 88, acc = 0.8739659674444601, loss = 0.1337893022131566\n",
            "epoch = 89, acc = 0.8698600911197152, loss = 0.13567086908810203\n",
            "epoch = 90, acc = 0.8637050699370307, loss = 0.1355221464252965\n",
            "epoch = 91, acc = 0.8670009990951336, loss = 0.13467517211336252\n",
            "epoch = 92, acc = 0.8644276659509862, loss = 0.13450007739547024\n",
            "epoch = 93, acc = 0.8712513365979699, loss = 0.13575030745247546\n",
            "epoch = 94, acc = 0.8680482228578854, loss = 0.13426362216678775\n",
            "epoch = 95, acc = 0.8737758692852138, loss = 0.13071094876517877\n",
            "epoch = 96, acc = 0.8678663545832755, loss = 0.12712128847655013\n",
            "epoch = 97, acc = 0.8656043719535382, loss = 0.13478439199043954\n",
            "epoch = 98, acc = 0.8650653632198044, loss = 0.13146875116835394\n",
            "epoch = 99, acc = 0.8649817197967498, loss = 0.13035974149265664\n",
            "epoch = 100, acc = 0.8660533416461283, loss = 0.1282031525228425\n",
            "epoch = 101, acc = 0.8660211930201199, loss = 0.13276474200971275\n",
            "epoch = 102, acc = 0.8682186276459645, loss = 0.12853387666706811\n",
            "epoch = 103, acc = 0.8740083181747339, loss = 0.1340220268716894\n",
            "epoch = 104, acc = 0.8687324460955598, loss = 0.1334647162327404\n",
            "epoch = 105, acc = 0.8708087367461976, loss = 0.13304328316538103\n",
            "epoch = 106, acc = 0.873756225308469, loss = 0.13518333502785096\n",
            "epoch = 107, acc = 0.8652755921519978, loss = 0.12686423502541863\n",
            "epoch = 108, acc = 0.8713085069457193, loss = 0.12988028871876184\n",
            "epoch = 109, acc = 0.8735158837216337, loss = 0.12900157866694653\n",
            "epoch = 110, acc = 0.866029733365367, loss = 0.12731522057150332\n",
            "epoch = 111, acc = 0.8730609186331607, loss = 0.12906719341012846\n",
            "epoch = 112, acc = 0.867165177333104, loss = 0.12802747865281053\n",
            "epoch = 113, acc = 0.8727088049514798, loss = 0.1297628297962366\n",
            "epoch = 114, acc = 0.8727409915196078, loss = 0.12623367865855956\n",
            "epoch = 115, acc = 0.8681366041409647, loss = 0.13035358021618237\n",
            "epoch = 116, acc = 0.8703495220852567, loss = 0.13224842102546272\n",
            "epoch = 117, acc = 0.8715566266136109, loss = 0.13069118578984598\n",
            "epoch = 118, acc = 0.8688348368979271, loss = 0.12970511183713557\n",
            "epoch = 119, acc = 0.8681739762417648, loss = 0.12831622318235936\n"
          ]
        },
        {
          "output_type": "display_data",
          "data": {
            "text/plain": [
              "<IPython.core.display.HTML object>"
            ],
            "text/html": [
              "Waiting for W&B process to finish... <strong style=\"color:green\">(success).</strong>"
            ]
          },
          "metadata": {}
        },
        {
          "output_type": "display_data",
          "data": {
            "text/plain": [
              "<IPython.core.display.HTML object>"
            ],
            "text/html": [
              "<style>\n",
              "    table.wandb td:nth-child(1) { padding: 0 10px; text-align: left ; width: auto;} td:nth-child(2) {text-align: left ; width: 100%}\n",
              "    .wandb-row { display: flex; flex-direction: row; flex-wrap: wrap; justify-content: flex-start; width: 100% }\n",
              "    .wandb-col { display: flex; flex-direction: column; flex-basis: 100%; flex: 1; padding: 10px; }\n",
              "    </style>\n",
              "<div class=\"wandb-row\"><div class=\"wandb-col\"><h3>Run history:</h3><br/><table class=\"wandb\"><tr><td>acc</td><td>▁▇▇██▇██████████████████████████████████</td></tr><tr><td>loss</td><td>█▃▁▂▁▁▁▁▁▁▁▁▁▁▁▁▁▁▁▁▁▁▁▁▁▁▁▁▁▁▁▁▁▁▁▁▁▁▁▁</td></tr></table><br/></div><div class=\"wandb-col\"><h3>Run summary:</h3><br/><table class=\"wandb\"><tr><td>acc</td><td>0.86817</td></tr><tr><td>loss</td><td>0.12832</td></tr></table><br/></div></div>"
            ]
          },
          "metadata": {}
        },
        {
          "output_type": "display_data",
          "data": {
            "text/plain": [
              "<IPython.core.display.HTML object>"
            ],
            "text/html": [
              "Synced <strong style=\"color:#cdcd00\">spring-dragon-8</strong>: <a href=\"https://wandb.ai/maxcasas/example_cs_197/runs/k0on3llp\" target=\"_blank\">https://wandb.ai/maxcasas/example_cs_197/runs/k0on3llp</a><br/>Synced 5 W&B file(s), 0 media file(s), 0 artifact file(s) and 0 other file(s)"
            ]
          },
          "metadata": {}
        },
        {
          "output_type": "display_data",
          "data": {
            "text/plain": [
              "<IPython.core.display.HTML object>"
            ],
            "text/html": [
              "Find logs at: <code>./wandb/run-20221017_224909-k0on3llp/logs</code>"
            ]
          },
          "metadata": {}
        },
        {
          "output_type": "stream",
          "name": "stdout",
          "text": [
            "Training for 120 epochs with learning rate 0.0001\n"
          ]
        },
        {
          "output_type": "display_data",
          "data": {
            "text/plain": [
              "<IPython.core.display.HTML object>"
            ],
            "text/html": [
              "Tracking run with wandb version 0.13.4"
            ]
          },
          "metadata": {}
        },
        {
          "output_type": "display_data",
          "data": {
            "text/plain": [
              "<IPython.core.display.HTML object>"
            ],
            "text/html": [
              "Run data is saved locally in <code>/content/wandb/run-20221017_224915-2roh5bir</code>"
            ]
          },
          "metadata": {}
        },
        {
          "output_type": "display_data",
          "data": {
            "text/plain": [
              "<IPython.core.display.HTML object>"
            ],
            "text/html": [
              "Syncing run <strong><a href=\"https://wandb.ai/maxcasas/example_cs_197/runs/2roh5bir\" target=\"_blank\">swift-planet-9</a></strong> to <a href=\"https://wandb.ai/maxcasas/example_cs_197\" target=\"_blank\">Weights & Biases</a> (<a href=\"https://wandb.me/run\" target=\"_blank\">docs</a>)<br/>"
            ]
          },
          "metadata": {}
        },
        {
          "output_type": "stream",
          "name": "stdout",
          "text": [
            "epoch = 2, acc = 0.28529845084874095, loss = 0.7983141015704777\n",
            "epoch = 3, acc = 0.6124597869587151, loss = 0.24618849872398493\n",
            "epoch = 4, acc = 0.7586207112227001, loss = 0.3191643602293849\n",
            "epoch = 5, acc = 0.7403244624077492, loss = 0.15125806697640004\n",
            "epoch = 6, acc = 0.8167190893376732, loss = 0.13919436489327214\n",
            "epoch = 7, acc = 0.9279388843473879, loss = 0.18319024322580976\n",
            "epoch = 8, acc = 0.8739376123816582, loss = 0.06616482260475451\n",
            "epoch = 9, acc = 0.9000073346412399, loss = 0.07717967169123052\n",
            "epoch = 10, acc = 0.9229073151008319, loss = 0.09994150897184803\n",
            "epoch = 11, acc = 0.9404885691663142, loss = 0.12164940098965757\n",
            "epoch = 12, acc = 0.8936016250206414, loss = 0.058306248246950625\n",
            "epoch = 13, acc = 0.8790750566895305, loss = 0.0969636244068621\n",
            "epoch = 14, acc = 0.9236183418891146, loss = 0.09591078436088651\n",
            "epoch = 15, acc = 0.9009671197088891, loss = 0.10861447962737114\n",
            "epoch = 16, acc = 0.9263978326495237, loss = 0.05835080661210816\n",
            "epoch = 17, acc = 0.9174032767590606, loss = 0.07674273809848797\n",
            "epoch = 18, acc = 0.9008331729613416, loss = 0.08334700247575971\n",
            "epoch = 19, acc = 0.9220183097059638, loss = 0.08670573402997753\n",
            "epoch = 20, acc = 0.9412473684904005, loss = 0.06293126044000227\n",
            "epoch = 21, acc = 0.9127304999750282, loss = 0.052417009526130626\n",
            "epoch = 22, acc = 0.9112480057923588, loss = 0.08768148315573321\n",
            "epoch = 23, acc = 0.9409960859922221, loss = 0.06382088288677916\n",
            "epoch = 24, acc = 0.9145579466061265, loss = 0.08705475094247098\n",
            "epoch = 25, acc = 0.9322990922083355, loss = 0.08360249305376646\n",
            "epoch = 26, acc = 0.9217460884843834, loss = 0.05464262398635658\n",
            "epoch = 27, acc = 0.931906563547625, loss = 0.05418341096409365\n",
            "epoch = 28, acc = 0.938878780526606, loss = 0.07923424178780424\n",
            "epoch = 29, acc = 0.9485591002480104, loss = 0.062158542327478736\n",
            "epoch = 30, acc = 0.9290736002149288, loss = 0.06359818068285233\n",
            "epoch = 31, acc = 0.9246833780932879, loss = 0.05519027070388832\n",
            "epoch = 32, acc = 0.9242813569460807, loss = 0.07104352589883911\n",
            "epoch = 33, acc = 0.9311777112202164, loss = 0.07496484832592606\n",
            "epoch = 34, acc = 0.9432625328725215, loss = 0.05835361339962779\n",
            "epoch = 35, acc = 0.9286159514713294, loss = 0.05895677791060184\n",
            "epoch = 36, acc = 0.946808306580974, loss = 0.05108788143140173\n",
            "epoch = 37, acc = 0.9350084288298933, loss = 0.06374510862591595\n",
            "epoch = 38, acc = 0.9443682268053178, loss = 0.05210666029994519\n",
            "epoch = 39, acc = 0.9459530254213748, loss = 0.06622853681441312\n",
            "epoch = 40, acc = 0.9458458258863831, loss = 0.050538066690866405\n",
            "epoch = 41, acc = 0.9290864612420384, loss = 0.06216389949930684\n",
            "epoch = 42, acc = 0.9440074360724326, loss = 0.05718069826139154\n",
            "epoch = 43, acc = 0.9408154739978781, loss = 0.061076287794655224\n",
            "epoch = 44, acc = 0.9414954104168096, loss = 0.06041517477635018\n",
            "epoch = 45, acc = 0.9336156708174064, loss = 0.05075317272581835\n",
            "epoch = 46, acc = 0.9392917223256421, loss = 0.058818073217749914\n",
            "epoch = 47, acc = 0.9303864213689789, loss = 0.05551449179909492\n",
            "epoch = 48, acc = 0.932820469091509, loss = 0.05143400009309096\n",
            "epoch = 49, acc = 0.9367912697579284, loss = 0.06079994151544507\n",
            "epoch = 50, acc = 0.9407910945603614, loss = 0.05481465508059846\n",
            "epoch = 51, acc = 0.9440437380223509, loss = 0.05132449420365088\n",
            "epoch = 52, acc = 0.937569593856149, loss = 0.06531497558871956\n",
            "epoch = 53, acc = 0.9325199108469957, loss = 0.056850828555009385\n",
            "epoch = 54, acc = 0.9483172474655815, loss = 0.056145560599233015\n",
            "epoch = 55, acc = 0.9336488099321303, loss = 0.05786597328595265\n",
            "epoch = 56, acc = 0.9368280258199043, loss = 0.049581513329076725\n",
            "epoch = 57, acc = 0.9483325160214383, loss = 0.06451551986263737\n",
            "epoch = 58, acc = 0.9369189757820653, loss = 0.06419811694284462\n",
            "epoch = 59, acc = 0.9402609965505394, loss = 0.053398612380996795\n",
            "epoch = 60, acc = 0.94200017333224, loss = 0.05041678922373873\n",
            "epoch = 61, acc = 0.9456376150847199, loss = 0.06193371582297872\n",
            "epoch = 62, acc = 0.9450151760520337, loss = 0.06008671865707546\n",
            "epoch = 63, acc = 0.9442356400138407, loss = 0.05982070429265654\n",
            "epoch = 64, acc = 0.9434264033831322, loss = 0.05858188904583547\n",
            "epoch = 65, acc = 0.942944043539622, loss = 0.051104580162693834\n",
            "epoch = 66, acc = 0.9414614166333237, loss = 0.05135079430450228\n",
            "epoch = 67, acc = 0.9429112054523948, loss = 0.04923171322514558\n",
            "epoch = 68, acc = 0.9386550712862254, loss = 0.054390024174836044\n",
            "epoch = 69, acc = 0.9477377956379108, loss = 0.05357730726614635\n",
            "epoch = 70, acc = 0.9498548921385334, loss = 0.05983157691546164\n",
            "epoch = 71, acc = 0.9448698876763229, loss = 0.05941225709550598\n",
            "epoch = 72, acc = 0.9498245770373862, loss = 0.05043966127774051\n",
            "epoch = 73, acc = 0.9448032105703736, loss = 0.05362285898944684\n",
            "epoch = 74, acc = 0.9427955963681388, loss = 0.052206920821398675\n",
            "epoch = 75, acc = 0.9503001667384922, loss = 0.054418947575049705\n",
            "epoch = 76, acc = 0.9446843818007, loss = 0.05855694391262531\n",
            "epoch = 77, acc = 0.9407718298395722, loss = 0.05888107930032652\n",
            "epoch = 78, acc = 0.9487514968707489, loss = 0.04921570160405883\n",
            "epoch = 79, acc = 0.9415950435613285, loss = 0.05193973908722648\n",
            "epoch = 80, acc = 0.9458264051017417, loss = 0.05286685074227938\n",
            "epoch = 81, acc = 0.9504027068946727, loss = 0.0600831143534073\n",
            "epoch = 82, acc = 0.9456828117391521, loss = 0.05575762789233113\n",
            "epoch = 83, acc = 0.943289443530093, loss = 0.050827694748949534\n",
            "epoch = 84, acc = 0.9432684398792994, loss = 0.05529691591996458\n",
            "epoch = 85, acc = 0.9502239722255313, loss = 0.054414529808249366\n",
            "epoch = 86, acc = 0.9404787603708783, loss = 0.05291156322774029\n",
            "epoch = 87, acc = 0.9481440044153475, loss = 0.056234536593009365\n",
            "epoch = 88, acc = 0.9416917181168265, loss = 0.055840940397402596\n",
            "epoch = 89, acc = 0.9508292645048312, loss = 0.05938762444057989\n",
            "epoch = 90, acc = 0.9403887553575029, loss = 0.059137812301316754\n",
            "epoch = 91, acc = 0.9432312856591445, loss = 0.052326984728751046\n",
            "epoch = 92, acc = 0.9410260325288577, loss = 0.053858459348935954\n",
            "epoch = 93, acc = 0.9440053475639784, loss = 0.05446852627637832\n",
            "epoch = 94, acc = 0.9411341675677483, loss = 0.055509500603884925\n",
            "epoch = 95, acc = 0.9445097057434559, loss = 0.05870401890687994\n",
            "epoch = 96, acc = 0.9423001520336107, loss = 0.05688186741052453\n",
            "epoch = 97, acc = 0.9419769855883481, loss = 0.05407871241123606\n",
            "epoch = 98, acc = 0.9479004811816641, loss = 0.05199287693004293\n",
            "epoch = 99, acc = 0.9418305393702395, loss = 0.057752679140269034\n",
            "epoch = 100, acc = 0.9415524830127783, loss = 0.05160150980639423\n",
            "epoch = 101, acc = 0.9481303011603839, loss = 0.054273454842907985\n",
            "epoch = 102, acc = 0.9424710746614128, loss = 0.05239898804819776\n",
            "epoch = 103, acc = 0.9446740571751636, loss = 0.05625326704399146\n",
            "epoch = 104, acc = 0.9479148866719164, loss = 0.051692390180276854\n",
            "epoch = 105, acc = 0.9439102941749592, loss = 0.05263868799922366\n",
            "epoch = 106, acc = 0.9466814052512267, loss = 0.05799928520074375\n",
            "epoch = 107, acc = 0.9509561535233396, loss = 0.048962275103920753\n",
            "epoch = 108, acc = 0.9492082132720697, loss = 0.05753575759677366\n",
            "epoch = 109, acc = 0.9499324306365841, loss = 0.057384261828119225\n",
            "epoch = 110, acc = 0.9510136328102063, loss = 0.056944055965922745\n",
            "epoch = 111, acc = 0.9470346027389884, loss = 0.050120370247183715\n",
            "epoch = 112, acc = 0.9470889250372362, loss = 0.0497076001175019\n",
            "epoch = 113, acc = 0.9488240265314873, loss = 0.051304243202045026\n",
            "epoch = 114, acc = 0.9511146821126136, loss = 0.053045225405956506\n",
            "epoch = 115, acc = 0.9483770653945108, loss = 0.04921541466034528\n",
            "epoch = 116, acc = 0.9500174796315856, loss = 0.05251456938676331\n",
            "epoch = 117, acc = 0.9485132340030336, loss = 0.05300892649964402\n",
            "epoch = 118, acc = 0.9443555099969911, loss = 0.055597173000381875\n",
            "epoch = 119, acc = 0.9498943839418971, loss = 0.053110599543055616\n"
          ]
        },
        {
          "output_type": "display_data",
          "data": {
            "text/plain": [
              "<IPython.core.display.HTML object>"
            ],
            "text/html": [
              "Waiting for W&B process to finish... <strong style=\"color:green\">(success).</strong>"
            ]
          },
          "metadata": {}
        },
        {
          "output_type": "display_data",
          "data": {
            "text/plain": [
              "VBox(children=(Label(value='0.000 MB of 0.000 MB uploaded (0.000 MB deduped)\\r'), FloatProgress(value=1.0, max…"
            ],
            "application/vnd.jupyter.widget-view+json": {
              "version_major": 2,
              "version_minor": 0,
              "model_id": "ff9d2f38174945fbbb8cdbf7371dc847"
            }
          },
          "metadata": {}
        },
        {
          "output_type": "display_data",
          "data": {
            "text/plain": [
              "<IPython.core.display.HTML object>"
            ],
            "text/html": [
              "<style>\n",
              "    table.wandb td:nth-child(1) { padding: 0 10px; text-align: left ; width: auto;} td:nth-child(2) {text-align: left ; width: 100%}\n",
              "    .wandb-row { display: flex; flex-direction: row; flex-wrap: wrap; justify-content: flex-start; width: 100% }\n",
              "    .wandb-col { display: flex; flex-direction: column; flex-basis: 100%; flex: 1; padding: 10px; }\n",
              "    </style>\n",
              "<div class=\"wandb-row\"><div class=\"wandb-col\"><h3>Run history:</h3><br/><table class=\"wandb\"><tr><td>acc</td><td>▁▆▇█████████████████████████████████████</td></tr><tr><td>loss</td><td>█▂▁▂▁▁▁▁▁▁▁▁▁▁▁▁▁▁▁▁▁▁▁▁▁▁▁▁▁▁▁▁▁▁▁▁▁▁▁▁</td></tr></table><br/></div><div class=\"wandb-col\"><h3>Run summary:</h3><br/><table class=\"wandb\"><tr><td>acc</td><td>0.94989</td></tr><tr><td>loss</td><td>0.05311</td></tr></table><br/></div></div>"
            ]
          },
          "metadata": {}
        },
        {
          "output_type": "display_data",
          "data": {
            "text/plain": [
              "<IPython.core.display.HTML object>"
            ],
            "text/html": [
              "Synced <strong style=\"color:#cdcd00\">swift-planet-9</strong>: <a href=\"https://wandb.ai/maxcasas/example_cs_197/runs/2roh5bir\" target=\"_blank\">https://wandb.ai/maxcasas/example_cs_197/runs/2roh5bir</a><br/>Synced 5 W&B file(s), 0 media file(s), 0 artifact file(s) and 0 other file(s)"
            ]
          },
          "metadata": {}
        },
        {
          "output_type": "display_data",
          "data": {
            "text/plain": [
              "<IPython.core.display.HTML object>"
            ],
            "text/html": [
              "Find logs at: <code>./wandb/run-20221017_224915-2roh5bir/logs</code>"
            ]
          },
          "metadata": {}
        },
        {
          "output_type": "stream",
          "name": "stdout",
          "text": [
            "Training for 140 epochs with learning rate 0.1\n"
          ]
        },
        {
          "output_type": "display_data",
          "data": {
            "text/plain": [
              "<IPython.core.display.HTML object>"
            ],
            "text/html": [
              "Tracking run with wandb version 0.13.4"
            ]
          },
          "metadata": {}
        },
        {
          "output_type": "display_data",
          "data": {
            "text/plain": [
              "<IPython.core.display.HTML object>"
            ],
            "text/html": [
              "Run data is saved locally in <code>/content/wandb/run-20221017_224922-1sg0v8gy</code>"
            ]
          },
          "metadata": {}
        },
        {
          "output_type": "display_data",
          "data": {
            "text/plain": [
              "<IPython.core.display.HTML object>"
            ],
            "text/html": [
              "Syncing run <strong><a href=\"https://wandb.ai/maxcasas/example_cs_197/runs/1sg0v8gy\" target=\"_blank\">dandy-capybara-10</a></strong> to <a href=\"https://wandb.ai/maxcasas/example_cs_197\" target=\"_blank\">Weights & Biases</a> (<a href=\"https://wandb.me/run\" target=\"_blank\">docs</a>)<br/>"
            ]
          },
          "metadata": {}
        },
        {
          "output_type": "stream",
          "name": "stdout",
          "text": [
            "epoch = 2, acc = 0.4969175277675808, loss = 0.465686428278382\n",
            "epoch = 3, acc = 0.6028375463306512, loss = 0.3367156667091854\n",
            "epoch = 4, acc = 0.6826558295488466, loss = 0.40703040936976354\n",
            "epoch = 5, acc = 0.8059602419551284, loss = 0.22153872738082325\n",
            "epoch = 6, acc = 0.8003822879139877, loss = 0.32282669034926825\n",
            "epoch = 7, acc = 0.7332594998751709, loss = 0.24428910561814648\n",
            "epoch = 8, acc = 0.7890628134625994, loss = 0.23125731109591358\n",
            "epoch = 9, acc = 0.754000000255537, loss = 0.2223006998825222\n",
            "epoch = 10, acc = 0.8113471589222748, loss = 0.21618571300911785\n",
            "epoch = 11, acc = 0.7775452244156482, loss = 0.24674342798003904\n",
            "epoch = 12, acc = 0.7744656490833318, loss = 0.1609592143301804\n",
            "epoch = 13, acc = 0.8045049095793804, loss = 0.19423517375198024\n",
            "epoch = 14, acc = 0.8100890015822345, loss = 0.22724268320984947\n",
            "epoch = 15, acc = 0.7872866517942287, loss = 0.216632660819455\n",
            "epoch = 16, acc = 0.7859649888384912, loss = 0.20639552240680875\n",
            "epoch = 17, acc = 0.8080484728556888, loss = 0.19073531496071883\n",
            "epoch = 18, acc = 0.8211062973604412, loss = 0.17320814233734\n",
            "epoch = 19, acc = 0.796009412542275, loss = 0.16873226418440562\n",
            "epoch = 20, acc = 0.8002814061320587, loss = 0.1938219254744734\n",
            "epoch = 21, acc = 0.8117827313328246, loss = 0.17912805079814872\n",
            "epoch = 22, acc = 0.802425084976875, loss = 0.17690562314005798\n",
            "epoch = 23, acc = 0.8046134411296978, loss = 0.1916514025752338\n",
            "epoch = 24, acc = 0.8421889812280808, loss = 0.18150964961932364\n",
            "epoch = 25, acc = 0.8253328561331721, loss = 0.15900012868120586\n",
            "epoch = 26, acc = 0.8065697967705784, loss = 0.17637224179400274\n",
            "epoch = 27, acc = 0.829631835953788, loss = 0.17174790442338056\n",
            "epoch = 28, acc = 0.8201130017689191, loss = 0.16103285001245668\n",
            "epoch = 29, acc = 0.8400545372105106, loss = 0.17331492397774895\n",
            "epoch = 30, acc = 0.8161394072836787, loss = 0.16363673457224903\n",
            "epoch = 31, acc = 0.82249232919622, loss = 0.1692749923684672\n",
            "epoch = 32, acc = 0.824935671481086, loss = 0.1699925988908845\n",
            "epoch = 33, acc = 0.8401640801481522, loss = 0.1746608062482689\n",
            "epoch = 34, acc = 0.833550875499229, loss = 0.1674376444137147\n",
            "epoch = 35, acc = 0.8278143235785097, loss = 0.16017057919588687\n",
            "epoch = 36, acc = 0.8325299422345566, loss = 0.16058866181037773\n",
            "epoch = 37, acc = 0.8290352097604097, loss = 0.15746856716438726\n",
            "epoch = 38, acc = 0.8196347464436532, loss = 0.1777890122532827\n",
            "epoch = 39, acc = 0.8396257905948894, loss = 0.17544602008199775\n",
            "epoch = 40, acc = 0.8308128564556471, loss = 0.17729390066975667\n",
            "epoch = 41, acc = 0.8274092623315366, loss = 0.1787463260791612\n",
            "epoch = 42, acc = 0.8228172191060907, loss = 0.15878073597337852\n",
            "epoch = 43, acc = 0.824397667914748, loss = 0.17387841594668113\n",
            "epoch = 44, acc = 0.8382208772814772, loss = 0.17374909664832727\n",
            "epoch = 45, acc = 0.8228540300918733, loss = 0.17869405066673302\n",
            "epoch = 46, acc = 0.8372253068987847, loss = 0.16001108789593727\n",
            "epoch = 47, acc = 0.8338263240584961, loss = 0.17162818767718088\n",
            "epoch = 48, acc = 0.8270430447407323, loss = 0.16709292444609897\n",
            "epoch = 49, acc = 0.839655259610101, loss = 0.17640577865351292\n",
            "epoch = 50, acc = 0.8336893444291628, loss = 0.15927871369574814\n",
            "epoch = 51, acc = 0.8428379014825238, loss = 0.1568477063856153\n",
            "epoch = 52, acc = 0.8314027420912236, loss = 0.16971784117418195\n",
            "epoch = 53, acc = 0.8282224232632373, loss = 0.16425397841622885\n",
            "epoch = 54, acc = 0.8327834338721329, loss = 0.1617794192823913\n",
            "epoch = 55, acc = 0.8286568539395961, loss = 0.1620203021172201\n",
            "epoch = 56, acc = 0.8345138668095563, loss = 0.1697252489394594\n",
            "epoch = 57, acc = 0.8392174417004762, loss = 0.16606805433357905\n",
            "epoch = 58, acc = 0.8377107547409404, loss = 0.16978336728762827\n",
            "epoch = 59, acc = 0.8420139086434527, loss = 0.17031896864350132\n",
            "epoch = 60, acc = 0.8428917022475594, loss = 0.16606469338313778\n",
            "epoch = 61, acc = 0.838826007727476, loss = 0.16336419954868972\n",
            "epoch = 62, acc = 0.835154863603858, loss = 0.16717826172002656\n",
            "epoch = 63, acc = 0.836669696045787, loss = 0.15732084749808284\n",
            "epoch = 64, acc = 0.8310006745023759, loss = 0.1570121919140085\n",
            "epoch = 65, acc = 0.8297387663475349, loss = 0.1678805576057331\n",
            "epoch = 66, acc = 0.840425337234205, loss = 0.15786271573248978\n",
            "epoch = 67, acc = 0.8405321905173129, loss = 0.16457710908588077\n",
            "epoch = 68, acc = 0.8380327949666219, loss = 0.16812969888354948\n",
            "epoch = 69, acc = 0.8405617105396433, loss = 0.16138018922459202\n",
            "epoch = 70, acc = 0.8303058216390067, loss = 0.1569867739180775\n",
            "epoch = 71, acc = 0.8338321027187734, loss = 0.15909136241272429\n",
            "epoch = 72, acc = 0.8315049334680034, loss = 0.16567821387185813\n",
            "epoch = 73, acc = 0.8350972018337672, loss = 0.1604539102128207\n",
            "epoch = 74, acc = 0.8427421975333644, loss = 0.1684396918523559\n",
            "epoch = 75, acc = 0.8410299013496276, loss = 0.16261502426725236\n",
            "epoch = 76, acc = 0.8330272028277983, loss = 0.16710858984987678\n",
            "epoch = 77, acc = 0.8377949462663409, loss = 0.16701153764853174\n",
            "epoch = 78, acc = 0.830676329327703, loss = 0.16308063777205575\n",
            "epoch = 79, acc = 0.8417141332468493, loss = 0.16696685855748553\n",
            "epoch = 80, acc = 0.8352397653325436, loss = 0.16276994844676032\n",
            "epoch = 81, acc = 0.8390531469066995, loss = 0.15877551938296555\n",
            "epoch = 82, acc = 0.8339728179741923, loss = 0.16550599759236514\n",
            "epoch = 83, acc = 0.8359148818800786, loss = 0.16766704957538123\n",
            "epoch = 84, acc = 0.8325904909876805, loss = 0.1568416203104057\n",
            "epoch = 85, acc = 0.8396113732602524, loss = 0.15988224488413288\n",
            "epoch = 86, acc = 0.8426243715757784, loss = 0.16195501012362992\n",
            "epoch = 87, acc = 0.8366792315204582, loss = 0.16672286643970113\n",
            "epoch = 88, acc = 0.8340807134628642, loss = 0.1607609359451884\n",
            "epoch = 89, acc = 0.8431547413988265, loss = 0.1627508107432588\n",
            "epoch = 90, acc = 0.8423900744216136, loss = 0.15807143311932262\n",
            "epoch = 91, acc = 0.8364908233449768, loss = 0.1604448223903991\n",
            "epoch = 92, acc = 0.8368888241545895, loss = 0.15760630074683565\n",
            "epoch = 93, acc = 0.8360380810523222, loss = 0.16590365640768556\n",
            "epoch = 94, acc = 0.842968433607338, loss = 0.160154406694222\n",
            "epoch = 95, acc = 0.8382384602761754, loss = 0.16574167273580798\n",
            "epoch = 96, acc = 0.8430180622612422, loss = 0.16213450081795108\n",
            "epoch = 97, acc = 0.8357133473118842, loss = 0.16046722121614526\n",
            "epoch = 98, acc = 0.8359107076207433, loss = 0.15864675850278617\n",
            "epoch = 99, acc = 0.8349249638501974, loss = 0.16372185729648842\n",
            "epoch = 100, acc = 0.8364940155441526, loss = 0.16312210079269426\n",
            "epoch = 101, acc = 0.8405619718089987, loss = 0.16024189501011107\n",
            "epoch = 102, acc = 0.8388504544670061, loss = 0.1597307801495105\n",
            "epoch = 103, acc = 0.835234707741177, loss = 0.1584886423811924\n",
            "epoch = 104, acc = 0.8372508007614605, loss = 0.16628638612575072\n",
            "epoch = 105, acc = 0.8397691992644466, loss = 0.16427472658772194\n",
            "epoch = 106, acc = 0.840385162912917, loss = 0.16078671194832644\n",
            "epoch = 107, acc = 0.8413859172240276, loss = 0.16524078405639736\n",
            "epoch = 108, acc = 0.8420171704857449, loss = 0.1630169576155339\n",
            "epoch = 109, acc = 0.8392481703631497, loss = 0.1586354816241406\n",
            "epoch = 110, acc = 0.8382837352450615, loss = 0.15902876427590126\n",
            "epoch = 111, acc = 0.8422456279607504, loss = 0.16350588230833862\n",
            "epoch = 112, acc = 0.8416854943103779, loss = 0.15948954051186492\n",
            "epoch = 113, acc = 0.8404065227622949, loss = 0.16235286570424806\n",
            "epoch = 114, acc = 0.8383870106625898, loss = 0.15748439212807716\n",
            "epoch = 115, acc = 0.8396344697760547, loss = 0.15980481153738346\n",
            "epoch = 116, acc = 0.8350417454443718, loss = 0.16431984127271246\n",
            "epoch = 117, acc = 0.8400289500646306, loss = 0.16411003089534404\n",
            "epoch = 118, acc = 0.8395060393914259, loss = 0.1573841602305596\n",
            "epoch = 119, acc = 0.8370824300562753, loss = 0.1575786388512309\n",
            "epoch = 120, acc = 0.8351537621314387, loss = 0.1603241284678613\n",
            "epoch = 121, acc = 0.835309753917045, loss = 0.1585899254543579\n",
            "epoch = 122, acc = 0.8377669971494882, loss = 0.16104116205170663\n",
            "epoch = 123, acc = 0.8355647150988014, loss = 0.16075528128978547\n",
            "epoch = 124, acc = 0.8389331406690484, loss = 0.16355105551445503\n",
            "epoch = 125, acc = 0.8402826768058627, loss = 0.16381759618459213\n",
            "epoch = 126, acc = 0.8412829301563158, loss = 0.16278959373990026\n",
            "epoch = 127, acc = 0.8374297130998724, loss = 0.15680064070102326\n",
            "epoch = 128, acc = 0.841580513182558, loss = 0.16112737749908554\n",
            "epoch = 129, acc = 0.8371685181399029, loss = 0.1614312510871765\n",
            "epoch = 130, acc = 0.8368245889533624, loss = 0.15824671483416353\n",
            "epoch = 131, acc = 0.8370268262449209, loss = 0.157937037133675\n",
            "epoch = 132, acc = 0.8411565909915336, loss = 0.16348649403401938\n",
            "epoch = 133, acc = 0.8383535324526226, loss = 0.15687221116031136\n",
            "epoch = 134, acc = 0.836710785386319, loss = 0.16317624190314162\n",
            "epoch = 135, acc = 0.8421272116283482, loss = 0.1589718290517792\n",
            "epoch = 136, acc = 0.8431712185420402, loss = 0.16090094558643855\n",
            "epoch = 137, acc = 0.8377869225271066, loss = 0.16387984560145832\n",
            "epoch = 138, acc = 0.8418012336641517, loss = 0.1630124058403895\n",
            "epoch = 139, acc = 0.8419110730617964, loss = 0.1622511014806075\n"
          ]
        },
        {
          "output_type": "display_data",
          "data": {
            "text/plain": [
              "<IPython.core.display.HTML object>"
            ],
            "text/html": [
              "Waiting for W&B process to finish... <strong style=\"color:green\">(success).</strong>"
            ]
          },
          "metadata": {}
        },
        {
          "output_type": "display_data",
          "data": {
            "text/plain": [
              "VBox(children=(Label(value='0.000 MB of 0.000 MB uploaded (0.000 MB deduped)\\r'), FloatProgress(value=1.0, max…"
            ],
            "application/vnd.jupyter.widget-view+json": {
              "version_major": 2,
              "version_minor": 0,
              "model_id": "b470c6ac24dc467798fa262fe13a4bbe"
            }
          },
          "metadata": {}
        },
        {
          "output_type": "display_data",
          "data": {
            "text/plain": [
              "<IPython.core.display.HTML object>"
            ],
            "text/html": [
              "<style>\n",
              "    table.wandb td:nth-child(1) { padding: 0 10px; text-align: left ; width: auto;} td:nth-child(2) {text-align: left ; width: 100%}\n",
              "    .wandb-row { display: flex; flex-direction: row; flex-wrap: wrap; justify-content: flex-start; width: 100% }\n",
              "    .wandb-col { display: flex; flex-direction: column; flex-basis: 100%; flex: 1; padding: 10px; }\n",
              "    </style>\n",
              "<div class=\"wandb-row\"><div class=\"wandb-col\"><h3>Run history:</h3><br/><table class=\"wandb\"><tr><td>acc</td><td>▁▇▅▇▆▇▇█████▇███████████████████████████</td></tr><tr><td>loss</td><td>█▄▄▂▃▁▂▂▂▂▁▂▂▂▁▁▁▁▁▁▁▁▁▁▁▁▁▁▁▁▁▁▁▁▁▁▁▁▁▁</td></tr></table><br/></div><div class=\"wandb-col\"><h3>Run summary:</h3><br/><table class=\"wandb\"><tr><td>acc</td><td>0.84191</td></tr><tr><td>loss</td><td>0.16225</td></tr></table><br/></div></div>"
            ]
          },
          "metadata": {}
        },
        {
          "output_type": "display_data",
          "data": {
            "text/plain": [
              "<IPython.core.display.HTML object>"
            ],
            "text/html": [
              "Synced <strong style=\"color:#cdcd00\">dandy-capybara-10</strong>: <a href=\"https://wandb.ai/maxcasas/example_cs_197/runs/1sg0v8gy\" target=\"_blank\">https://wandb.ai/maxcasas/example_cs_197/runs/1sg0v8gy</a><br/>Synced 5 W&B file(s), 0 media file(s), 0 artifact file(s) and 0 other file(s)"
            ]
          },
          "metadata": {}
        },
        {
          "output_type": "display_data",
          "data": {
            "text/plain": [
              "<IPython.core.display.HTML object>"
            ],
            "text/html": [
              "Find logs at: <code>./wandb/run-20221017_224922-1sg0v8gy/logs</code>"
            ]
          },
          "metadata": {}
        },
        {
          "output_type": "stream",
          "name": "stdout",
          "text": [
            "Training for 140 epochs with learning rate 0.01\n"
          ]
        },
        {
          "output_type": "display_data",
          "data": {
            "text/plain": [
              "<IPython.core.display.HTML object>"
            ],
            "text/html": [
              "Tracking run with wandb version 0.13.4"
            ]
          },
          "metadata": {}
        },
        {
          "output_type": "display_data",
          "data": {
            "text/plain": [
              "<IPython.core.display.HTML object>"
            ],
            "text/html": [
              "Run data is saved locally in <code>/content/wandb/run-20221017_224928-111qvkir</code>"
            ]
          },
          "metadata": {}
        },
        {
          "output_type": "display_data",
          "data": {
            "text/plain": [
              "<IPython.core.display.HTML object>"
            ],
            "text/html": [
              "Syncing run <strong><a href=\"https://wandb.ai/maxcasas/example_cs_197/runs/111qvkir\" target=\"_blank\">jumping-wood-11</a></strong> to <a href=\"https://wandb.ai/maxcasas/example_cs_197\" target=\"_blank\">Weights & Biases</a> (<a href=\"https://wandb.me/run\" target=\"_blank\">docs</a>)<br/>"
            ]
          },
          "metadata": {}
        },
        {
          "output_type": "stream",
          "name": "stdout",
          "text": [
            "epoch = 2, acc = 0.54185710167418, loss = 0.5367291104595833\n",
            "epoch = 3, acc = 0.5533914624429201, loss = 0.4309020864956686\n",
            "epoch = 4, acc = 0.7818204879792083, loss = 0.24399153037021035\n",
            "epoch = 5, acc = 0.6767020862717466, loss = 0.3593018335118193\n",
            "epoch = 6, acc = 0.8039394611747823, loss = 0.3127967989694851\n",
            "epoch = 7, acc = 0.8438027117563529, loss = 0.25323938393681855\n",
            "epoch = 8, acc = 0.7407431566893343, loss = 0.25705803251850545\n",
            "epoch = 9, acc = 0.7601377231161766, loss = 0.17656744937855814\n",
            "epoch = 10, acc = 0.8396970663706174, loss = 0.1467110543377183\n",
            "epoch = 11, acc = 0.7949039237441742, loss = 0.20709880185693796\n",
            "epoch = 12, acc = 0.8315425830422496, loss = 0.18836153772690323\n",
            "epoch = 13, acc = 0.8348717414930524, loss = 0.16453953563275903\n",
            "epoch = 14, acc = 0.8451620916228197, loss = 0.216525111392189\n",
            "epoch = 15, acc = 0.8523346202062474, loss = 0.2066627215871518\n",
            "epoch = 16, acc = 0.8424665993555192, loss = 0.14544843635660593\n",
            "epoch = 17, acc = 0.8442770890216287, loss = 0.193031014861636\n",
            "epoch = 18, acc = 0.82667142251474, loss = 0.16579554949341826\n",
            "epoch = 19, acc = 0.8034346504402787, loss = 0.16977177592361367\n",
            "epoch = 20, acc = 0.818539034006649, loss = 0.19500434923208784\n",
            "epoch = 21, acc = 0.8106975048338223, loss = 0.18571993402847936\n",
            "epoch = 22, acc = 0.8339058120166425, loss = 0.15475862544543859\n",
            "epoch = 23, acc = 0.8357111619818827, loss = 0.15775213986623382\n",
            "epoch = 24, acc = 0.8291018852777097, loss = 0.14904959018788838\n",
            "epoch = 25, acc = 0.8527666725765448, loss = 0.16404980117548223\n",
            "epoch = 26, acc = 0.8227763027504493, loss = 0.18288090892387515\n",
            "epoch = 27, acc = 0.8434778023583134, loss = 0.17589243835552623\n",
            "epoch = 28, acc = 0.8452762623286569, loss = 0.1551350610975242\n",
            "epoch = 29, acc = 0.8350182322882387, loss = 0.14978436356426436\n",
            "epoch = 30, acc = 0.8420652342182839, loss = 0.14585543834644793\n",
            "epoch = 31, acc = 0.8360043408423838, loss = 0.15482851960001334\n",
            "epoch = 32, acc = 0.8255657638766574, loss = 0.17560759649565572\n",
            "epoch = 33, acc = 0.841837414712846, loss = 0.146597808611684\n",
            "epoch = 34, acc = 0.8297088372190737, loss = 0.16755164478349488\n",
            "epoch = 35, acc = 0.8518223918193863, loss = 0.15594210766298275\n",
            "epoch = 36, acc = 0.8528190542527523, loss = 0.1603925244731816\n",
            "epoch = 37, acc = 0.8486112646526227, loss = 0.16487157848099965\n",
            "epoch = 38, acc = 0.8389679680794577, loss = 0.15675601008626283\n",
            "epoch = 39, acc = 0.8404178065677241, loss = 0.1640371309988424\n",
            "epoch = 40, acc = 0.8369856442803214, loss = 0.15989061300034835\n",
            "epoch = 41, acc = 0.8480118369797558, loss = 0.16461519981314018\n",
            "epoch = 42, acc = 0.8372000175485315, loss = 0.16774603534712448\n",
            "epoch = 43, acc = 0.8440391661522189, loss = 0.14817469453817\n",
            "epoch = 44, acc = 0.8480605334795905, loss = 0.16808139877436865\n",
            "epoch = 45, acc = 0.8352055325980641, loss = 0.14888122775066634\n",
            "epoch = 46, acc = 0.8539892938257818, loss = 0.14706202999254542\n",
            "epoch = 47, acc = 0.8421687065557022, loss = 0.15385875620343578\n",
            "epoch = 48, acc = 0.841762575241261, loss = 0.1481142421226584\n",
            "epoch = 49, acc = 0.8439920958113483, loss = 0.15129221243166066\n",
            "epoch = 50, acc = 0.8366102196716587, loss = 0.16433829138095782\n",
            "epoch = 51, acc = 0.8536072172187437, loss = 0.15046421146277056\n",
            "epoch = 52, acc = 0.8475581381246251, loss = 0.1503587403806198\n",
            "epoch = 53, acc = 0.8412572990930425, loss = 0.1512867929425766\n",
            "epoch = 54, acc = 0.8456062305302481, loss = 0.1472501895491039\n",
            "epoch = 55, acc = 0.8381806164566465, loss = 0.15845619550986512\n",
            "epoch = 56, acc = 0.8508517443689876, loss = 0.15405922421308793\n",
            "epoch = 57, acc = 0.8495341558602465, loss = 0.15635450883736068\n",
            "epoch = 58, acc = 0.8489618424805612, loss = 0.1623732489991683\n",
            "epoch = 59, acc = 0.8400178154006199, loss = 0.15328666021904291\n",
            "epoch = 60, acc = 0.8384338852439672, loss = 0.1506214800364196\n",
            "epoch = 61, acc = 0.8395413342289797, loss = 0.14722256040960288\n",
            "epoch = 62, acc = 0.8408096823536331, loss = 0.15739155167330277\n",
            "epoch = 63, acc = 0.8488557868121862, loss = 0.15002057033636834\n",
            "epoch = 64, acc = 0.8508396063639103, loss = 0.15329824825290397\n",
            "epoch = 65, acc = 0.8516369520760863, loss = 0.15485518370898782\n",
            "epoch = 66, acc = 0.8538272905963014, loss = 0.15277120956108453\n",
            "epoch = 67, acc = 0.8544742378070587, loss = 0.15380160737594667\n",
            "epoch = 68, acc = 0.8439325273241911, loss = 0.15382389940514823\n",
            "epoch = 69, acc = 0.8517965662808848, loss = 0.14674175868098396\n",
            "epoch = 70, acc = 0.8484783445788227, loss = 0.14870134322877843\n",
            "epoch = 71, acc = 0.8420890082609946, loss = 0.1478078471304196\n",
            "epoch = 72, acc = 0.8515061066240497, loss = 0.15854604209389303\n",
            "epoch = 73, acc = 0.8540555493094122, loss = 0.14886390951471692\n",
            "epoch = 74, acc = 0.846688779091332, loss = 0.1503885828210267\n",
            "epoch = 75, acc = 0.8452870227133291, loss = 0.14684266003564134\n",
            "epoch = 76, acc = 0.8464438391628961, loss = 0.15469443953699527\n",
            "epoch = 77, acc = 0.8496178836307218, loss = 0.1524695013203224\n",
            "epoch = 78, acc = 0.8477878110914352, loss = 0.14695482773660243\n",
            "epoch = 79, acc = 0.8434071323293486, loss = 0.15343399038392008\n",
            "epoch = 80, acc = 0.8421923819589652, loss = 0.14866310035813948\n",
            "epoch = 81, acc = 0.8442196052017865, loss = 0.1462990020091036\n",
            "epoch = 82, acc = 0.8544761042531046, loss = 0.15592270379470688\n",
            "epoch = 83, acc = 0.8507006614160793, loss = 0.14577795887950415\n",
            "epoch = 84, acc = 0.8503140345692253, loss = 0.15467504929697937\n",
            "epoch = 85, acc = 0.853261645959007, loss = 0.15274702854471692\n",
            "epoch = 86, acc = 0.8493273805091903, loss = 0.15439789506477292\n",
            "epoch = 87, acc = 0.8518880122295345, loss = 0.14708853806009015\n",
            "epoch = 88, acc = 0.8453540058496003, loss = 0.15206383647443542\n",
            "epoch = 89, acc = 0.8511144692043862, loss = 0.14789877483983854\n",
            "epoch = 90, acc = 0.8545993319831096, loss = 0.1482890048691557\n",
            "epoch = 91, acc = 0.8506967733922446, loss = 0.15335335956575705\n",
            "epoch = 92, acc = 0.8452235325754627, loss = 0.14821577870587851\n",
            "epoch = 93, acc = 0.8464589009585939, loss = 0.15092954010455142\n",
            "epoch = 94, acc = 0.853128346132809, loss = 0.15030702320847886\n",
            "epoch = 95, acc = 0.8511934875460792, loss = 0.15258099923075802\n",
            "epoch = 96, acc = 0.8466033953357994, loss = 0.15363667008940715\n",
            "epoch = 97, acc = 0.8443987665573482, loss = 0.1484281400254144\n",
            "epoch = 98, acc = 0.852503607091964, loss = 0.14894153506687655\n",
            "epoch = 99, acc = 0.8540518212152988, loss = 0.15085961994986655\n",
            "epoch = 100, acc = 0.847664728403698, loss = 0.15288932851075815\n",
            "epoch = 101, acc = 0.8484920434552055, loss = 0.1494439382131925\n",
            "epoch = 102, acc = 0.8479951539137007, loss = 0.1525561934219402\n",
            "epoch = 103, acc = 0.847699059314297, loss = 0.14991805720193502\n",
            "epoch = 104, acc = 0.8476000906920684, loss = 0.14637459814820825\n",
            "epoch = 105, acc = 0.8533883564392528, loss = 0.15073278597364537\n",
            "epoch = 106, acc = 0.8519843799864109, loss = 0.1496117346356164\n",
            "epoch = 107, acc = 0.8535834243947464, loss = 0.14917537017007712\n",
            "epoch = 108, acc = 0.8456993654346296, loss = 0.1524441145577651\n",
            "epoch = 109, acc = 0.8482110754055545, loss = 0.15202645202799225\n",
            "epoch = 110, acc = 0.8512827742274172, loss = 0.14745886012066597\n",
            "epoch = 111, acc = 0.8510176965477905, loss = 0.15141712869088958\n",
            "epoch = 112, acc = 0.8539386995295133, loss = 0.15285385878450175\n",
            "epoch = 113, acc = 0.8532394774176959, loss = 0.14856365131919227\n",
            "epoch = 114, acc = 0.852640241097532, loss = 0.15087647961964396\n",
            "epoch = 115, acc = 0.8478144183566798, loss = 0.15107863758821904\n",
            "epoch = 116, acc = 0.8478778362749215, loss = 0.14967351432319376\n",
            "epoch = 117, acc = 0.8517222539605793, loss = 0.14697017092933334\n",
            "epoch = 118, acc = 0.8516862835816765, loss = 0.14807517936972006\n",
            "epoch = 119, acc = 0.8513912560011359, loss = 0.1492821977250164\n",
            "epoch = 120, acc = 0.8482832209407474, loss = 0.15187955520049007\n",
            "epoch = 121, acc = 0.8497905489057225, loss = 0.1484680984886061\n",
            "epoch = 122, acc = 0.8532595318383851, loss = 0.14675735086629577\n",
            "epoch = 123, acc = 0.8466760359664065, loss = 0.1457480423905691\n",
            "epoch = 124, acc = 0.8487285971327134, loss = 0.14832329071334352\n",
            "epoch = 125, acc = 0.8495991953269524, loss = 0.14962891032610787\n",
            "epoch = 126, acc = 0.8496932800237693, loss = 0.15085557355436713\n",
            "epoch = 127, acc = 0.8535057252643916, loss = 0.14986726167795758\n",
            "epoch = 128, acc = 0.8535126484083229, loss = 0.1502282335177678\n",
            "epoch = 129, acc = 0.8471793020727028, loss = 0.14954972252668794\n",
            "epoch = 130, acc = 0.8544971845939289, loss = 0.14717104810174067\n",
            "epoch = 131, acc = 0.8522663653846216, loss = 0.14859721347494606\n",
            "epoch = 132, acc = 0.8502936475069838, loss = 0.14926065119536872\n",
            "epoch = 133, acc = 0.8529910400853975, loss = 0.15267889104360044\n",
            "epoch = 134, acc = 0.8544813024920122, loss = 0.14694518061688858\n",
            "epoch = 135, acc = 0.8509537715786428, loss = 0.14563755100843903\n",
            "epoch = 136, acc = 0.847521206579892, loss = 0.1493742629421247\n",
            "epoch = 137, acc = 0.8516287282526604, loss = 0.14867342731924496\n",
            "epoch = 138, acc = 0.8496956157810713, loss = 0.150557552973603\n",
            "epoch = 139, acc = 0.8483537951699507, loss = 0.1457962581218849\n"
          ]
        },
        {
          "output_type": "display_data",
          "data": {
            "text/plain": [
              "<IPython.core.display.HTML object>"
            ],
            "text/html": [
              "Waiting for W&B process to finish... <strong style=\"color:green\">(success).</strong>"
            ]
          },
          "metadata": {}
        },
        {
          "output_type": "display_data",
          "data": {
            "text/plain": [
              "<IPython.core.display.HTML object>"
            ],
            "text/html": [
              "<style>\n",
              "    table.wandb td:nth-child(1) { padding: 0 10px; text-align: left ; width: auto;} td:nth-child(2) {text-align: left ; width: 100%}\n",
              "    .wandb-row { display: flex; flex-direction: row; flex-wrap: wrap; justify-content: flex-start; width: 100% }\n",
              "    .wandb-col { display: flex; flex-direction: column; flex-basis: 100%; flex: 1; padding: 10px; }\n",
              "    </style>\n",
              "<div class=\"wandb-row\"><div class=\"wandb-col\"><h3>Run history:</h3><br/><table class=\"wandb\"><tr><td>acc</td><td>▁▄▆██▇██████████████████████████████████</td></tr><tr><td>loss</td><td>█▆▂▁▂▂▁▂▁▁▁▁▁▁▁▁▁▁▁▁▁▁▁▁▁▁▁▁▁▁▁▁▁▁▁▁▁▁▁▁</td></tr></table><br/></div><div class=\"wandb-col\"><h3>Run summary:</h3><br/><table class=\"wandb\"><tr><td>acc</td><td>0.84835</td></tr><tr><td>loss</td><td>0.1458</td></tr></table><br/></div></div>"
            ]
          },
          "metadata": {}
        },
        {
          "output_type": "display_data",
          "data": {
            "text/plain": [
              "<IPython.core.display.HTML object>"
            ],
            "text/html": [
              "Synced <strong style=\"color:#cdcd00\">jumping-wood-11</strong>: <a href=\"https://wandb.ai/maxcasas/example_cs_197/runs/111qvkir\" target=\"_blank\">https://wandb.ai/maxcasas/example_cs_197/runs/111qvkir</a><br/>Synced 5 W&B file(s), 0 media file(s), 0 artifact file(s) and 0 other file(s)"
            ]
          },
          "metadata": {}
        },
        {
          "output_type": "display_data",
          "data": {
            "text/plain": [
              "<IPython.core.display.HTML object>"
            ],
            "text/html": [
              "Find logs at: <code>./wandb/run-20221017_224928-111qvkir/logs</code>"
            ]
          },
          "metadata": {}
        },
        {
          "output_type": "stream",
          "name": "stdout",
          "text": [
            "Training for 140 epochs with learning rate 0.001\n"
          ]
        },
        {
          "output_type": "display_data",
          "data": {
            "text/plain": [
              "<IPython.core.display.HTML object>"
            ],
            "text/html": [
              "Tracking run with wandb version 0.13.4"
            ]
          },
          "metadata": {}
        },
        {
          "output_type": "display_data",
          "data": {
            "text/plain": [
              "<IPython.core.display.HTML object>"
            ],
            "text/html": [
              "Run data is saved locally in <code>/content/wandb/run-20221017_224934-2nfgnt0u</code>"
            ]
          },
          "metadata": {}
        },
        {
          "output_type": "display_data",
          "data": {
            "text/plain": [
              "<IPython.core.display.HTML object>"
            ],
            "text/html": [
              "Syncing run <strong><a href=\"https://wandb.ai/maxcasas/example_cs_197/runs/2nfgnt0u\" target=\"_blank\">lucky-tree-12</a></strong> to <a href=\"https://wandb.ai/maxcasas/example_cs_197\" target=\"_blank\">Weights & Biases</a> (<a href=\"https://wandb.me/run\" target=\"_blank\">docs</a>)<br/>"
            ]
          },
          "metadata": {}
        },
        {
          "output_type": "stream",
          "name": "stdout",
          "text": [
            "epoch = 2, acc = 0.07868714067253099, loss = 0.4715488994704744\n",
            "epoch = 3, acc = 0.6941124880943036, loss = 0.31051234775426273\n",
            "epoch = 4, acc = 0.6719774640644313, loss = 0.26670025005230624\n",
            "epoch = 5, acc = 0.6873384340956357, loss = 0.31623302674120657\n",
            "epoch = 6, acc = 0.794626280917578, loss = 0.2005730347828938\n",
            "epoch = 7, acc = 0.7745683055779108, loss = 0.2558516156090444\n",
            "epoch = 8, acc = 0.7227294167752417, loss = 0.1961031083747185\n",
            "epoch = 9, acc = 0.7174628544905549, loss = 0.23226849578799724\n",
            "epoch = 10, acc = 0.8109880828578775, loss = 0.25956027513152585\n",
            "epoch = 11, acc = 0.8040090584958025, loss = 0.2542814524302875\n",
            "epoch = 12, acc = 0.7733469069334752, loss = 0.23925894234238643\n",
            "epoch = 13, acc = 0.7528984860027489, loss = 0.23361241908732228\n",
            "epoch = 14, acc = 0.7808978292089918, loss = 0.18637335107536196\n",
            "epoch = 15, acc = 0.8010268355492133, loss = 0.22505896038824924\n",
            "epoch = 16, acc = 0.8251671820708821, loss = 0.17749293686959144\n",
            "epoch = 17, acc = 0.7957083510336955, loss = 0.21821494911797729\n",
            "epoch = 18, acc = 0.8035219775377817, loss = 0.19300006416315507\n",
            "epoch = 19, acc = 0.8190892350426073, loss = 0.18942785087956965\n",
            "epoch = 20, acc = 0.7868363041324661, loss = 0.2087280268871377\n",
            "epoch = 21, acc = 0.8068223859596954, loss = 0.18123521454265418\n",
            "epoch = 22, acc = 0.8100441633561641, loss = 0.21360360865012484\n",
            "epoch = 23, acc = 0.7963204363302799, loss = 0.21351968805758162\n",
            "epoch = 24, acc = 0.8201791289264041, loss = 0.2067258845012465\n",
            "epoch = 25, acc = 0.8262616821342199, loss = 0.18720711739057194\n",
            "epoch = 26, acc = 0.8037835284077882, loss = 0.18717285078751564\n",
            "epoch = 27, acc = 0.8198483247758619, loss = 0.1845392715772295\n",
            "epoch = 28, acc = 0.8224994756296309, loss = 0.19192332452665617\n",
            "epoch = 29, acc = 0.8205743849429409, loss = 0.18085024345123316\n",
            "epoch = 30, acc = 0.8069002821887834, loss = 0.17508119329987368\n",
            "epoch = 31, acc = 0.8062974213190028, loss = 0.1728776475451231\n",
            "epoch = 32, acc = 0.8228948484957599, loss = 0.19709751004033205\n",
            "epoch = 33, acc = 0.8049397738343996, loss = 0.17475801229389828\n",
            "epoch = 34, acc = 0.804087582894471, loss = 0.2013636686851672\n",
            "epoch = 35, acc = 0.8231710646923993, loss = 0.19160694008111875\n",
            "epoch = 36, acc = 0.82157099351234, loss = 0.17528165623647218\n",
            "epoch = 37, acc = 0.8086783102426198, loss = 0.17603652934171285\n",
            "epoch = 38, acc = 0.8208898007701971, loss = 0.18888810861358146\n",
            "epoch = 39, acc = 0.810460413660372, loss = 0.18582818822526467\n",
            "epoch = 40, acc = 0.8141734124633009, loss = 0.18670457936220197\n",
            "epoch = 41, acc = 0.8091059813233129, loss = 0.18647869409977766\n",
            "epoch = 42, acc = 0.8235288071844736, loss = 0.19575850210185888\n",
            "epoch = 43, acc = 0.8253863835363919, loss = 0.18340981012855442\n",
            "epoch = 44, acc = 0.8089033159391608, loss = 0.1779477127191963\n",
            "epoch = 45, acc = 0.8148974038127277, loss = 0.1778847206784108\n",
            "epoch = 46, acc = 0.8068909418083529, loss = 0.17943562786988898\n",
            "epoch = 47, acc = 0.8181824256660428, loss = 0.17610439249987087\n",
            "epoch = 48, acc = 0.8141304656190067, loss = 0.18641900204774026\n",
            "epoch = 49, acc = 0.8083967467663565, loss = 0.18879377252252802\n",
            "epoch = 50, acc = 0.8078825580003656, loss = 0.1770005507753945\n",
            "epoch = 51, acc = 0.8247761918074029, loss = 0.1906781386026604\n",
            "epoch = 52, acc = 0.8140225158415975, loss = 0.18862098609953115\n",
            "epoch = 53, acc = 0.8153728877600529, loss = 0.18293508779020023\n",
            "epoch = 54, acc = 0.8150980362665365, loss = 0.17516134245505885\n",
            "epoch = 55, acc = 0.8191015666963971, loss = 0.17398111564899657\n",
            "epoch = 56, acc = 0.815149286529004, loss = 0.18554524833622685\n",
            "epoch = 57, acc = 0.8212183536319847, loss = 0.17953534626279663\n",
            "epoch = 58, acc = 0.8260489910477824, loss = 0.18869626417517546\n",
            "epoch = 59, acc = 0.8266592804470952, loss = 0.18578006673468755\n",
            "epoch = 60, acc = 0.8249568777402928, loss = 0.17411497925874983\n",
            "epoch = 61, acc = 0.815393957022208, loss = 0.18678665214518353\n",
            "epoch = 62, acc = 0.823202559880961, loss = 0.18850159270801994\n",
            "epoch = 63, acc = 0.8190269244199501, loss = 0.18384095715124243\n",
            "epoch = 64, acc = 0.8211683216009958, loss = 0.17431042998916357\n",
            "epoch = 65, acc = 0.8124884757086933, loss = 0.18681287249995523\n",
            "epoch = 66, acc = 0.8159685275862179, loss = 0.1793257971018542\n",
            "epoch = 67, acc = 0.8226512054515798, loss = 0.18713810510685255\n",
            "epoch = 68, acc = 0.8140422869091348, loss = 0.18030971920389777\n",
            "epoch = 69, acc = 0.8251109492490711, loss = 0.17862424271671343\n",
            "epoch = 70, acc = 0.8206674283957969, loss = 0.18472941699773562\n",
            "epoch = 71, acc = 0.8150487445790972, loss = 0.17531239135637178\n",
            "epoch = 72, acc = 0.8189852026856204, loss = 0.17635022723601043\n",
            "epoch = 73, acc = 0.819296588679368, loss = 0.18180253266410706\n",
            "epoch = 74, acc = 0.8223607119897178, loss = 0.17996774425551393\n",
            "epoch = 75, acc = 0.8183355035099987, loss = 0.18451504849963998\n",
            "epoch = 76, acc = 0.816923854369004, loss = 0.18409490860258743\n",
            "epoch = 77, acc = 0.8172231190175226, loss = 0.183713836919068\n",
            "epoch = 78, acc = 0.8255538897460802, loss = 0.17755514259986457\n",
            "epoch = 79, acc = 0.8271935945129812, loss = 0.18140961298293473\n",
            "epoch = 80, acc = 0.8202508326301465, loss = 0.17999049559405425\n",
            "epoch = 81, acc = 0.8175156230874235, loss = 0.17281604523211994\n",
            "epoch = 82, acc = 0.8206086581629647, loss = 0.17360807413635726\n",
            "epoch = 83, acc = 0.8215305414131082, loss = 0.18069801592474097\n",
            "epoch = 84, acc = 0.8158434080621932, loss = 0.17507289912849203\n",
            "epoch = 85, acc = 0.8161490385243921, loss = 0.17336971358274425\n",
            "epoch = 86, acc = 0.8265616035033923, loss = 0.18160628554875347\n",
            "epoch = 87, acc = 0.8224682270687343, loss = 0.18274376289527502\n",
            "epoch = 88, acc = 0.8185182762499653, loss = 0.1811049957194095\n",
            "epoch = 89, acc = 0.8179369551418102, loss = 0.18095113563114734\n",
            "epoch = 90, acc = 0.8242292776292112, loss = 0.17510000003746817\n",
            "epoch = 91, acc = 0.81972514515861, loss = 0.18004441443179836\n",
            "epoch = 92, acc = 0.8192412941665791, loss = 0.17879791181073762\n",
            "epoch = 93, acc = 0.8264440331295697, loss = 0.17457318630441407\n",
            "epoch = 94, acc = 0.8201080197604034, loss = 0.18237686798513822\n",
            "epoch = 95, acc = 0.8193911562889417, loss = 0.18037666009758307\n",
            "epoch = 96, acc = 0.820870515900865, loss = 0.18111728965792928\n",
            "epoch = 97, acc = 0.8207944206230827, loss = 0.17669969301828853\n",
            "epoch = 98, acc = 0.8176333013631683, loss = 0.17407392108820421\n",
            "epoch = 99, acc = 0.82273506956026, loss = 0.17277326450083075\n",
            "epoch = 100, acc = 0.8240005873593078, loss = 0.17712020985325236\n",
            "epoch = 101, acc = 0.8241207922829619, loss = 0.18217656153549353\n",
            "epoch = 102, acc = 0.8258214304620368, loss = 0.17281701908312208\n",
            "epoch = 103, acc = 0.8214114197901133, loss = 0.17857662166391816\n",
            "epoch = 104, acc = 0.8237003343090041, loss = 0.17945574208418766\n",
            "epoch = 105, acc = 0.8222906777993709, loss = 0.17762044463135326\n",
            "epoch = 106, acc = 0.8210125115646074, loss = 0.17615451253523193\n",
            "epoch = 107, acc = 0.8192491353915516, loss = 0.17864669819511342\n",
            "epoch = 108, acc = 0.8260775680329144, loss = 0.18193720110322617\n",
            "epoch = 109, acc = 0.826315332823844, loss = 0.17779065361794233\n",
            "epoch = 110, acc = 0.820966431620736, loss = 0.17752436796190285\n",
            "epoch = 111, acc = 0.8210155779740208, loss = 0.17365070881047692\n",
            "epoch = 112, acc = 0.8202552164928507, loss = 0.17744718300694295\n",
            "epoch = 113, acc = 0.8245514296625976, loss = 0.17277103526194842\n",
            "epoch = 114, acc = 0.8207821310551289, loss = 0.17337767498812806\n",
            "epoch = 115, acc = 0.8270930645561814, loss = 0.17898576848009126\n",
            "epoch = 116, acc = 0.8243173514885812, loss = 0.17976849893761004\n",
            "epoch = 117, acc = 0.8256777309924838, loss = 0.17767834707853394\n",
            "epoch = 118, acc = 0.8259713608874708, loss = 0.17666254421111355\n",
            "epoch = 119, acc = 0.821974827563004, loss = 0.17369997404061718\n",
            "epoch = 120, acc = 0.8202192285764321, loss = 0.1785942876611071\n",
            "epoch = 121, acc = 0.8243155429339631, loss = 0.17387468722315638\n",
            "epoch = 122, acc = 0.8223397548238491, loss = 0.17665724072041453\n",
            "epoch = 123, acc = 0.8198138197375122, loss = 0.17452813479966772\n",
            "epoch = 124, acc = 0.8259004806091783, loss = 0.1772993175318138\n",
            "epoch = 125, acc = 0.8235019911207614, loss = 0.1791801864959431\n",
            "epoch = 126, acc = 0.8247172949078092, loss = 0.17736963694533148\n",
            "epoch = 127, acc = 0.8217429950509392, loss = 0.17450047440954444\n",
            "epoch = 128, acc = 0.821561544845985, loss = 0.17329961889120235\n",
            "epoch = 129, acc = 0.82354195989462, loss = 0.17626344581232972\n",
            "epoch = 130, acc = 0.8213728005380889, loss = 0.17793300168932022\n",
            "epoch = 131, acc = 0.8201732437596875, loss = 0.17547038505626233\n",
            "epoch = 132, acc = 0.8206752830501647, loss = 0.17940083870472706\n",
            "epoch = 133, acc = 0.8250509713207949, loss = 0.17915210217300634\n",
            "epoch = 134, acc = 0.8201933738862114, loss = 0.17355042508007165\n",
            "epoch = 135, acc = 0.8214398642788935, loss = 0.17599182293406673\n",
            "epoch = 136, acc = 0.8216049627815304, loss = 0.17989133884622585\n",
            "epoch = 137, acc = 0.8235873841681524, loss = 0.17713963906939317\n",
            "epoch = 138, acc = 0.8225504426678347, loss = 0.17497766422499975\n",
            "epoch = 139, acc = 0.8250878517853825, loss = 0.17601692686015757\n"
          ]
        },
        {
          "output_type": "display_data",
          "data": {
            "text/plain": [
              "<IPython.core.display.HTML object>"
            ],
            "text/html": [
              "Waiting for W&B process to finish... <strong style=\"color:green\">(success).</strong>"
            ]
          },
          "metadata": {}
        },
        {
          "output_type": "display_data",
          "data": {
            "text/plain": [
              "<IPython.core.display.HTML object>"
            ],
            "text/html": [
              "<style>\n",
              "    table.wandb td:nth-child(1) { padding: 0 10px; text-align: left ; width: auto;} td:nth-child(2) {text-align: left ; width: 100%}\n",
              "    .wandb-row { display: flex; flex-direction: row; flex-wrap: wrap; justify-content: flex-start; width: 100% }\n",
              "    .wandb-col { display: flex; flex-direction: column; flex-basis: 100%; flex: 1; padding: 10px; }\n",
              "    </style>\n",
              "<div class=\"wandb-row\"><div class=\"wandb-col\"><h3>Run history:</h3><br/><table class=\"wandb\"><tr><td>acc</td><td>▁▁▃▄▇█▆██▇▇▇█████▇▇█▇███▇███████████████</td></tr><tr><td>loss</td><td>██▄▄▄▂▃▂▁▁▁▂▂▁▂▁▁▂▂▁▁▂▁▁▁▁▁▁▁▁▁▁▁▁▁▁▁▁▁▁</td></tr></table><br/></div><div class=\"wandb-col\"><h3>Run summary:</h3><br/><table class=\"wandb\"><tr><td>acc</td><td>0.82509</td></tr><tr><td>loss</td><td>0.17602</td></tr></table><br/></div></div>"
            ]
          },
          "metadata": {}
        },
        {
          "output_type": "display_data",
          "data": {
            "text/plain": [
              "<IPython.core.display.HTML object>"
            ],
            "text/html": [
              "Synced <strong style=\"color:#cdcd00\">lucky-tree-12</strong>: <a href=\"https://wandb.ai/maxcasas/example_cs_197/runs/2nfgnt0u\" target=\"_blank\">https://wandb.ai/maxcasas/example_cs_197/runs/2nfgnt0u</a><br/>Synced 5 W&B file(s), 0 media file(s), 0 artifact file(s) and 0 other file(s)"
            ]
          },
          "metadata": {}
        },
        {
          "output_type": "display_data",
          "data": {
            "text/plain": [
              "<IPython.core.display.HTML object>"
            ],
            "text/html": [
              "Find logs at: <code>./wandb/run-20221017_224934-2nfgnt0u/logs</code>"
            ]
          },
          "metadata": {}
        },
        {
          "output_type": "stream",
          "name": "stdout",
          "text": [
            "Training for 140 epochs with learning rate 0.0001\n"
          ]
        },
        {
          "output_type": "display_data",
          "data": {
            "text/plain": [
              "<IPython.core.display.HTML object>"
            ],
            "text/html": [
              "Tracking run with wandb version 0.13.4"
            ]
          },
          "metadata": {}
        },
        {
          "output_type": "display_data",
          "data": {
            "text/plain": [
              "<IPython.core.display.HTML object>"
            ],
            "text/html": [
              "Run data is saved locally in <code>/content/wandb/run-20221017_224940-2yab7mce</code>"
            ]
          },
          "metadata": {}
        },
        {
          "output_type": "display_data",
          "data": {
            "text/plain": [
              "<IPython.core.display.HTML object>"
            ],
            "text/html": [
              "Syncing run <strong><a href=\"https://wandb.ai/maxcasas/example_cs_197/runs/2yab7mce\" target=\"_blank\">glad-field-13</a></strong> to <a href=\"https://wandb.ai/maxcasas/example_cs_197\" target=\"_blank\">Weights & Biases</a> (<a href=\"https://wandb.me/run\" target=\"_blank\">docs</a>)<br/>"
            ]
          },
          "metadata": {}
        },
        {
          "output_type": "stream",
          "name": "stdout",
          "text": [
            "epoch = 2, acc = 0.3806379231557961, loss = 0.5341859221268273\n",
            "epoch = 3, acc = 0.3729783676568094, loss = 0.609788895721306\n",
            "epoch = 4, acc = 0.7255481978663749, loss = 0.44655993978627434\n",
            "epoch = 5, acc = 0.6326285574729869, loss = 0.284066343469263\n",
            "epoch = 6, acc = 0.7462602371932223, loss = 0.32387681875983104\n",
            "epoch = 7, acc = 0.7199964029290653, loss = 0.18838166292613914\n",
            "epoch = 8, acc = 0.8023211374579697, loss = 0.264981721529573\n",
            "epoch = 9, acc = 0.7587859366021217, loss = 0.25486474779187507\n",
            "epoch = 10, acc = 0.7958675920010891, loss = 0.20660248552446206\n",
            "epoch = 11, acc = 0.7917106325398084, loss = 0.21327643535213744\n",
            "epoch = 12, acc = 0.74763631854409, loss = 0.20170063379734\n",
            "epoch = 13, acc = 0.746318434325175, loss = 0.19827447180133145\n",
            "epoch = 14, acc = 0.8180609624667476, loss = 0.18746503229108824\n",
            "epoch = 15, acc = 0.7853615272881207, loss = 0.1809817245932345\n",
            "epoch = 16, acc = 0.8029268238271199, loss = 0.194603591800194\n",
            "epoch = 17, acc = 0.8015636878272006, loss = 0.22135538589972592\n",
            "epoch = 18, acc = 0.765813963853172, loss = 0.21201862226257526\n",
            "epoch = 19, acc = 0.7773583955301391, loss = 0.22498888896132177\n",
            "epoch = 20, acc = 0.7929332706085634, loss = 0.21962084974238577\n",
            "epoch = 21, acc = 0.8063307154707575, loss = 0.200543878607375\n",
            "epoch = 22, acc = 0.8150493856428278, loss = 0.20443876152836574\n",
            "epoch = 23, acc = 0.7949470129074778, loss = 0.1991695088862599\n",
            "epoch = 24, acc = 0.7952214646760778, loss = 0.21649085528940398\n",
            "epoch = 25, acc = 0.8197971235714339, loss = 0.1928404505083759\n",
            "epoch = 26, acc = 0.791580989204643, loss = 0.21464573322432193\n",
            "epoch = 27, acc = 0.8012798371208918, loss = 0.18905046693751149\n",
            "epoch = 28, acc = 0.817910995588043, loss = 0.18233161731098116\n",
            "epoch = 29, acc = 0.819835396949667, loss = 0.198882096997344\n",
            "epoch = 30, acc = 0.8047649402107444, loss = 0.18281482798386114\n",
            "epoch = 31, acc = 0.7950192503312616, loss = 0.19385237561511243\n",
            "epoch = 32, acc = 0.7903607705334166, loss = 0.19861072525691445\n",
            "epoch = 33, acc = 0.7985006005680058, loss = 0.19034771156628183\n",
            "epoch = 34, acc = 0.8031391433570061, loss = 0.2042221832503583\n",
            "epoch = 35, acc = 0.7931857044874475, loss = 0.19765028530295492\n",
            "epoch = 36, acc = 0.8025139462195379, loss = 0.19210300928255275\n",
            "epoch = 37, acc = 0.8025300289886186, loss = 0.18916974113944635\n",
            "epoch = 38, acc = 0.8066968744705312, loss = 0.1895955124055515\n",
            "epoch = 39, acc = 0.8109442413272663, loss = 0.18113175719740232\n",
            "epoch = 40, acc = 0.8012930338518855, loss = 0.1814894886728285\n",
            "epoch = 41, acc = 0.8057562923620545, loss = 0.20417648108785633\n",
            "epoch = 42, acc = 0.8131046014126102, loss = 0.201284675663549\n",
            "epoch = 43, acc = 0.8026830853081597, loss = 0.20110341180722818\n",
            "epoch = 44, acc = 0.8093521109235586, loss = 0.1909360679724389\n",
            "epoch = 45, acc = 0.809188327289809, loss = 0.19866228821618986\n",
            "epoch = 46, acc = 0.8097894372587962, loss = 0.18529164476978657\n",
            "epoch = 47, acc = 0.8163876755091468, loss = 0.18964002582676154\n",
            "epoch = 48, acc = 0.808066844898254, loss = 0.1976894910133524\n",
            "epoch = 49, acc = 0.8000847327478613, loss = 0.19928607922895106\n",
            "epoch = 50, acc = 0.8032675371684488, loss = 0.19047174863798472\n",
            "epoch = 51, acc = 0.8006935077418249, loss = 0.19327169450318632\n",
            "epoch = 52, acc = 0.8102084061384174, loss = 0.19693663059975874\n",
            "epoch = 53, acc = 0.8167336955307898, loss = 0.19076426505499258\n",
            "epoch = 54, acc = 0.803303413608691, loss = 0.19664515096515212\n",
            "epoch = 55, acc = 0.8085993528548432, loss = 0.18705422625773566\n",
            "epoch = 56, acc = 0.8048555507135509, loss = 0.18528061744832297\n",
            "epoch = 57, acc = 0.8166633776885539, loss = 0.1950820505592831\n",
            "epoch = 58, acc = 0.8111733379023933, loss = 0.1960352824719853\n",
            "epoch = 59, acc = 0.807376996742283, loss = 0.18371248101134394\n",
            "epoch = 60, acc = 0.8115062449096615, loss = 0.18747283573062268\n",
            "epoch = 61, acc = 0.803746640022142, loss = 0.18888212373724939\n",
            "epoch = 62, acc = 0.8131035360356216, loss = 0.19274581634727178\n",
            "epoch = 63, acc = 0.8147881660525749, loss = 0.18387737311192126\n",
            "epoch = 64, acc = 0.8054173029073022, loss = 0.192533801028975\n",
            "epoch = 65, acc = 0.8196683994115905, loss = 0.18663392370344992\n",
            "epoch = 66, acc = 0.8177258704002266, loss = 0.1856497057637901\n",
            "epoch = 67, acc = 0.8077707901049016, loss = 0.18921229948954968\n",
            "epoch = 68, acc = 0.8133787694030727, loss = 0.1922824357802403\n",
            "epoch = 69, acc = 0.8104649304019793, loss = 0.18876901790511247\n",
            "epoch = 70, acc = 0.8113940958582313, loss = 0.19007269169700078\n",
            "epoch = 71, acc = 0.8178365146552464, loss = 0.18524389633571445\n",
            "epoch = 72, acc = 0.8100682127340042, loss = 0.1852450626865289\n",
            "epoch = 73, acc = 0.8107368529284338, loss = 0.18771380708292337\n",
            "epoch = 74, acc = 0.808518443943274, loss = 0.19273339856048394\n",
            "epoch = 75, acc = 0.8191775245614756, loss = 0.1855369978884099\n",
            "epoch = 76, acc = 0.8154766481415718, loss = 0.18921988530583111\n",
            "epoch = 77, acc = 0.8072161851486486, loss = 0.1802977368152651\n",
            "epoch = 78, acc = 0.8101375517832625, loss = 0.19062778191988086\n",
            "epoch = 79, acc = 0.8093665708325504, loss = 0.18998533117403923\n",
            "epoch = 80, acc = 0.8189677025712851, loss = 0.19020962068902142\n",
            "epoch = 81, acc = 0.8096075312014277, loss = 0.19017469839304413\n",
            "epoch = 82, acc = 0.8081840222742789, loss = 0.18886568809435716\n",
            "epoch = 83, acc = 0.8188642545928477, loss = 0.1859733391457933\n",
            "epoch = 84, acc = 0.8179888457630458, loss = 0.1885830772662134\n",
            "epoch = 85, acc = 0.8151813343608727, loss = 0.18608779226847041\n",
            "epoch = 86, acc = 0.8118357362440702, loss = 0.18078861630666915\n",
            "epoch = 87, acc = 0.8106839136519648, loss = 0.18552122966032514\n",
            "epoch = 88, acc = 0.8135119958183645, loss = 0.18420285585561952\n",
            "epoch = 89, acc = 0.8116649744060587, loss = 0.18182635972687988\n",
            "epoch = 90, acc = 0.8164626135040638, loss = 0.18097335923093283\n",
            "epoch = 91, acc = 0.8158612382830897, loss = 0.1874772463824248\n",
            "epoch = 92, acc = 0.819147312291364, loss = 0.18154728414273685\n",
            "epoch = 93, acc = 0.8130069065495937, loss = 0.18606247515221178\n",
            "epoch = 94, acc = 0.8119153995085506, loss = 0.18886557358596495\n",
            "epoch = 95, acc = 0.8179869674115499, loss = 0.18149946186147406\n",
            "epoch = 96, acc = 0.8138756195896766, loss = 0.18401154410230797\n",
            "epoch = 97, acc = 0.8102906173776248, loss = 0.18439565936732324\n",
            "epoch = 98, acc = 0.8107455120211604, loss = 0.18295467096528759\n",
            "epoch = 99, acc = 0.8186712932658473, loss = 0.18595261816637287\n",
            "epoch = 100, acc = 0.8190929991853837, loss = 0.18872827735116193\n",
            "epoch = 101, acc = 0.8164336514324402, loss = 0.18757258500229917\n",
            "epoch = 102, acc = 0.819098899391381, loss = 0.18341669821389883\n",
            "epoch = 103, acc = 0.8124681251275732, loss = 0.18348720912096156\n",
            "epoch = 104, acc = 0.8164710172985443, loss = 0.1883594672777377\n",
            "epoch = 105, acc = 0.819746932344712, loss = 0.1856576639639875\n",
            "epoch = 106, acc = 0.8171189823588563, loss = 0.18329127842368106\n",
            "epoch = 107, acc = 0.8176918469713887, loss = 0.1835776820971987\n",
            "epoch = 108, acc = 0.8148197613885759, loss = 0.18211934517088005\n",
            "epoch = 109, acc = 0.8155558916736727, loss = 0.1870692890359572\n",
            "epoch = 110, acc = 0.8197778187622333, loss = 0.1844106049896667\n",
            "epoch = 111, acc = 0.8173410132119452, loss = 0.18791267271716927\n",
            "epoch = 112, acc = 0.8113288938438028, loss = 0.18388217098395612\n",
            "epoch = 113, acc = 0.8118723234228777, loss = 0.18270007104475597\n",
            "epoch = 114, acc = 0.8151692183418058, loss = 0.18671007545058024\n",
            "epoch = 115, acc = 0.8175329835916771, loss = 0.1828945411057488\n",
            "epoch = 116, acc = 0.8181900550162475, loss = 0.18803505475774712\n",
            "epoch = 117, acc = 0.8151077325241158, loss = 0.1828252936389722\n",
            "epoch = 118, acc = 0.8139069677012118, loss = 0.18404803143573725\n",
            "epoch = 119, acc = 0.811616738640845, loss = 0.18388927611103054\n",
            "epoch = 120, acc = 0.8190237996487686, loss = 0.18362113496941077\n",
            "epoch = 121, acc = 0.8196283799158224, loss = 0.1819678093022929\n",
            "epoch = 122, acc = 0.819514608059615, loss = 0.18428595176603002\n",
            "epoch = 123, acc = 0.8135365660602196, loss = 0.18310021841272808\n",
            "epoch = 124, acc = 0.8132569972347823, loss = 0.18028040324910946\n",
            "epoch = 125, acc = 0.8127462719959087, loss = 0.18412022381645585\n",
            "epoch = 126, acc = 0.8175445249546018, loss = 0.18639799519775552\n",
            "epoch = 127, acc = 0.8185119038072319, loss = 0.18319413883982127\n",
            "epoch = 128, acc = 0.813458028628651, loss = 0.18629963448178072\n",
            "epoch = 129, acc = 0.8124577731635951, loss = 0.18530789596633473\n",
            "epoch = 130, acc = 0.8155214483211859, loss = 0.18225052302440536\n",
            "epoch = 131, acc = 0.8133667891005556, loss = 0.18663367485731652\n",
            "epoch = 132, acc = 0.8195243009088211, loss = 0.18084352750061355\n",
            "epoch = 133, acc = 0.8164024682982352, loss = 0.1855874743392678\n",
            "epoch = 134, acc = 0.8163718327942415, loss = 0.1815527716890827\n",
            "epoch = 135, acc = 0.8150568618120844, loss = 0.18378341399180748\n",
            "epoch = 136, acc = 0.8197125643582677, loss = 0.18624076005927234\n",
            "epoch = 137, acc = 0.8195946361719744, loss = 0.1835436682670266\n",
            "epoch = 138, acc = 0.8151134404955418, loss = 0.18646124765928784\n",
            "epoch = 139, acc = 0.8148448845619425, loss = 0.1838494104666576\n"
          ]
        },
        {
          "output_type": "display_data",
          "data": {
            "text/plain": [
              "<IPython.core.display.HTML object>"
            ],
            "text/html": [
              "Waiting for W&B process to finish... <strong style=\"color:green\">(success).</strong>"
            ]
          },
          "metadata": {}
        },
        {
          "output_type": "display_data",
          "data": {
            "text/plain": [
              "VBox(children=(Label(value='0.000 MB of 0.000 MB uploaded (0.000 MB deduped)\\r'), FloatProgress(value=1.0, max…"
            ],
            "application/vnd.jupyter.widget-view+json": {
              "version_major": 2,
              "version_minor": 0,
              "model_id": "dd4d3e957a5547a6910b625e47118e0f"
            }
          },
          "metadata": {}
        },
        {
          "output_type": "display_data",
          "data": {
            "text/plain": [
              "<IPython.core.display.HTML object>"
            ],
            "text/html": [
              "<style>\n",
              "    table.wandb td:nth-child(1) { padding: 0 10px; text-align: left ; width: auto;} td:nth-child(2) {text-align: left ; width: 100%}\n",
              "    .wandb-row { display: flex; flex-direction: row; flex-wrap: wrap; justify-content: flex-start; width: 100% }\n",
              "    .wandb-col { display: flex; flex-direction: column; flex-basis: 100%; flex: 1; padding: 10px; }\n",
              "    </style>\n",
              "<div class=\"wandb-row\"><div class=\"wandb-col\"><h3>Run history:</h3><br/><table class=\"wandb\"><tr><td>acc</td><td>▁▅▇▇▇▇██████████████████████████████████</td></tr><tr><td>loss</td><td>█▃▂▁▁▂▁▁▁▁▁▁▁▁▁▁▁▁▁▁▁▁▁▁▁▁▁▁▁▁▁▁▁▁▁▁▁▁▁▁</td></tr></table><br/></div><div class=\"wandb-col\"><h3>Run summary:</h3><br/><table class=\"wandb\"><tr><td>acc</td><td>0.81484</td></tr><tr><td>loss</td><td>0.18385</td></tr></table><br/></div></div>"
            ]
          },
          "metadata": {}
        },
        {
          "output_type": "display_data",
          "data": {
            "text/plain": [
              "<IPython.core.display.HTML object>"
            ],
            "text/html": [
              "Synced <strong style=\"color:#cdcd00\">glad-field-13</strong>: <a href=\"https://wandb.ai/maxcasas/example_cs_197/runs/2yab7mce\" target=\"_blank\">https://wandb.ai/maxcasas/example_cs_197/runs/2yab7mce</a><br/>Synced 5 W&B file(s), 0 media file(s), 0 artifact file(s) and 0 other file(s)"
            ]
          },
          "metadata": {}
        },
        {
          "output_type": "display_data",
          "data": {
            "text/plain": [
              "<IPython.core.display.HTML object>"
            ],
            "text/html": [
              "Find logs at: <code>./wandb/run-20221017_224940-2yab7mce/logs</code>"
            ]
          },
          "metadata": {}
        }
      ]
    },
    {
      "cell_type": "markdown",
      "source": [
        "1. We have different runs \n",
        "2. See the epochs and learning rate settings for each, along with the final acc and loss that they achieve\n",
        "3. See the state of the runs ("
      ],
      "metadata": {
        "id": "jE_cOLUPIzeW"
      }
    },
    {
      "cell_type": "code",
      "source": [
        "import math\n",
        "import random\n",
        "import torch\n",
        "import torch.nn as nn\n",
        "import torchvision\n",
        "import torchvision.transforms as T\n",
        "import wandb\n",
        "\n",
        "DEVICE = \"cuda:0\" if torch.cuda.is_available() else \"cpu\"\n",
        "\n",
        "\n",
        "def get_dataloader(is_train, batch_size, slice=5):\n",
        "    full_dataset = torchvision.datasets.MNIST(\n",
        "        root=\".\",\n",
        "        train=is_train,\n",
        "        transform=T.ToTensor(),\n",
        "        download=True)\n",
        "    sub_dataset = torch.utils.data.Subset(\n",
        "        full_dataset,\n",
        "        indices=range(0, len(full_dataset), slice))\n",
        "    loader = torch.utils.data.DataLoader(\n",
        "        dataset=sub_dataset,\n",
        "        batch_size=batch_size,\n",
        "        shuffle=True if is_train else False,\n",
        "        pin_memory=True, num_workers=2)\n",
        "    return loader\n",
        "\n",
        "\n",
        "def get_model(dropout):\n",
        "    \"A simple model\"\n",
        "    model = nn.Sequential(\n",
        "        nn.Flatten(),\n",
        "        nn.Linear(28*28, 256),\n",
        "        nn.BatchNorm1d(256),\n",
        "        nn.ReLU(),\n",
        "        nn.Dropout(dropout),\n",
        "        nn.Linear(256, 10)).to(DEVICE)\n",
        "    return model\n",
        "\n",
        "\n",
        "def validate_model(\n",
        "        model,\n",
        "        valid_dl,\n",
        "        loss_func,\n",
        "        log_images=False,\n",
        "        batch_idx=0):\n",
        "\n",
        "    model.eval()\n",
        "    val_loss = 0.\n",
        "    with torch.inference_mode():\n",
        "        correct = 0\n",
        "        for i, (images, labels) in enumerate(valid_dl):\n",
        "            images, labels = images.to(DEVICE), labels.to(DEVICE)\n",
        "\n",
        "            # Forward pass\n",
        "            outputs = model(images)\n",
        "            val_loss += loss_func(outputs, labels).item() * labels.size(0)\n",
        "\n",
        "            # Compute accuracy and accumulate\n",
        "            _, predicted = torch.max(outputs.data, 1)\n",
        "            correct += (predicted == labels).sum().item()\n",
        "\n",
        "            # Log one batch of images to the dashboard, always same batch_idx.\n",
        "            if i == batch_idx and log_images:\n",
        "                log_image_table(\n",
        "                    images,\n",
        "                    predicted,\n",
        "                    labels,\n",
        "                    outputs.softmax(dim=1))\n",
        "    return val_loss / len(valid_dl.dataset), correct / len(valid_dl.dataset)\n",
        "\n",
        "\n",
        "def log_image_table(images, predicted, labels, probs):\n",
        "    \"Log a wandb.Table with (img, pred, target, scores)\"\n",
        "    # 🐝 Create a wandb Table to log images, labels and predictions to\n",
        "    table = wandb.Table(\n",
        "        columns=[\"image\", \"pred\", \"target\"]+[f\"score_{i}\"\n",
        "            for i in range(10)])\n",
        "    for img, pred, targ, prob in \\\n",
        "            zip(images.to(\"cpu\"),\n",
        "                predicted.to(\"cpu\"),\n",
        "                labels.to(\"cpu\"),\n",
        "                probs.to(\"cpu\")):\n",
        "        table.add_data(\n",
        "            wandb.Image(img[0].numpy()*255), pred, targ, *prob.numpy())\n",
        "    wandb.log({\"predictions_table\": table}, commit=False)\n",
        "\n",
        "\n",
        "def train():\n",
        "    # Launch 5 experiments, trying different dropout rates\n",
        "    for _ in range(5):\n",
        "        # 🐝 initialise a wandb run\n",
        "        wandb.init(\n",
        "            project=\"pytorch-intro\",\n",
        "            config={\n",
        "                \"epochs\": 10,\n",
        "                \"batch_size\": 128,\n",
        "                \"lr\": 1e-3,\n",
        "                \"dropout\": random.uniform(0.01, 0.80),\n",
        "                })\n",
        "        \n",
        "\n",
        "        # Copy your config \n",
        "        config = wandb.config\n",
        "\n",
        "        # Get the data\n",
        "        train_dl = get_dataloader(\n",
        "            is_train=True,\n",
        "            batch_size=config.batch_size)\n",
        "        valid_dl = get_dataloader(\n",
        "            is_train=False,\n",
        "            batch_size=2*config.batch_size)\n",
        "        n_steps_per_epoch = \\\n",
        "            math.ceil(len(train_dl.dataset) / config.batch_size)\n",
        "        \n",
        "        # A simple MLP model\n",
        "        model = get_model(config.dropout)\n",
        "        wandb.watch(model, log=\"all\", log_freq=100)\n",
        "\n",
        "        # Make the loss and optimizer\n",
        "        loss_func = nn.CrossEntropyLoss()\n",
        "        optimizer = torch.optim.Adam(model.parameters(), lr=config.lr)\n",
        "\n",
        "        # Training\n",
        "        example_ct = 0\n",
        "        step_ct = 0\n",
        "        for epoch in range(config.epochs):\n",
        "            model.train()\n",
        "            for step, (images, labels) in enumerate(train_dl):\n",
        "                images, labels = images.to(DEVICE), labels.to(DEVICE)\n",
        "\n",
        "                outputs = model(images)\n",
        "                train_loss = loss_func(outputs, labels)\n",
        "                optimizer.zero_grad()\n",
        "                train_loss.backward()\n",
        "                optimizer.step()\n",
        "        \n",
        "                example_ct += len(images)\n",
        "                metrics = {\n",
        "                    \"train/train_loss\": train_loss,\n",
        "                    \"train/epoch\":\n",
        "                        (step + 1 + (n_steps_per_epoch * epoch)) / n_steps_per_epoch,\n",
        "                    \"train/example_ct\": example_ct}\n",
        "\n",
        "                if step + 1 < n_steps_per_epoch:\n",
        "                    # 🐝 Log train metrics to wandb \n",
        "                    wandb.log(metrics)\n",
        "    \n",
        "                step_ct += 1\n",
        "\n",
        "            val_loss, accuracy = validate_model(\n",
        "                model,\n",
        "                valid_dl,\n",
        "                loss_func,\n",
        "                log_images=(epoch==(config.epochs-1)))\n",
        "\n",
        "            # 🐝 Log train and validation metrics to wandb\n",
        "            val_metrics = {\n",
        "                \"val/val_loss\": val_loss, \n",
        "                \"val/val_accuracy\": accuracy\n",
        "            }\n",
        "            wandb.log({**metrics, **val_metrics})\n",
        "            \n",
        "            print(f\"Train Loss: {train_loss:.3f}, \\\n",
        "                Valid Loss: {val_loss:3f}, \\\n",
        "                Accuracy: {accuracy:.2f}\")\n",
        "\n",
        "        # If you had a test set, this is how you could log it as a Summary metric\n",
        "        wandb.summary['test_accuracy'] = 0.8\n",
        "\n",
        "        # 🐝 Close your wandb run \n",
        "        wandb.finish()\n",
        "\n",
        "\n",
        "if __name__ == \"__main__\":\n",
        "    train()"
      ],
      "metadata": {
        "id": "rS1oaohRIlZ3"
      },
      "execution_count": 9,
      "outputs": []
    },
    {
      "cell_type": "markdown",
      "source": [
        "We can track the parameters and gradients of a model by using wandb.watch. "
      ],
      "metadata": {
        "id": "n9nnZOMtJe52"
      }
    },
    {
      "cell_type": "code",
      "source": [
        "model = get_model(config.dropout)\n",
        "wandb.watch(model, log = \"all\", log_freq = 100)"
      ],
      "metadata": {
        "id": "jPLgNkbbJirw"
      },
      "execution_count": null,
      "outputs": []
    },
    {
      "cell_type": "markdown",
      "source": [
        "# Saving + Loading Models as Artifacts\n",
        "Use one of the models that was trained. Look up the config for that run on W&B and retrain the model and sae it. NO, save the model associated with the run.\n",
        "\n",
        "W&B Artifacts to track datasets, models, dependencies and results through each step of your ML pipeline. \n",
        "\n",
        "Artifacts can be thought of as a versioned directory. They are either an input of a run or an output of a run. Common artifacts include entire training sets and models. Store datasets directly into artifacts, or use artifact references to point to data in other systems like Amazon S3, GCP or your own system."
      ],
      "metadata": {
        "id": "oRLIP2iTTOHL"
      }
    },
    {
      "cell_type": "code",
      "source": [
        "wandb.init()\n",
        "artifact = wandb.Artifact(<enter_filename>, type = \"model\")\n",
        "atifact.add_file(<file_path>)\n",
        "wand.run.log_artifact(artifact)\n",
        "\n"
      ],
      "metadata": {
        "id": "YSF8xNVRUquO"
      },
      "execution_count": null,
      "outputs": []
    },
    {
      "cell_type": "markdown",
      "source": [
        "Save a Pytorch model and upload the artifact on wandb"
      ],
      "metadata": {
        "id": "1nQf8m_bUsuh"
      }
    },
    {
      "cell_type": "code",
      "source": [
        "# Log the model to wandb\n",
        "model_path = f\"model_{epoch}.pt\"\n",
        "torch.save(model.state_dict(), model_path)\n",
        "artifact = wandb.Artifact(model_path, type = \"model\")\n",
        "artifact.add_file(model_path)\n",
        "wandb.run.log_artifact(artifact)\n"
      ],
      "metadata": {
        "id": "TA7elB8yUyUG"
      },
      "execution_count": null,
      "outputs": []
    },
    {
      "cell_type": "markdown",
      "source": [
        "If we have a saved model, we can load the model. \n"
      ],
      "metadata": {
        "id": "aubOruPgVQ0T"
      }
    },
    {
      "cell_type": "code",
      "source": [
        "model.load_state_dict(torch.load(\"model_9.pt\"))\n"
      ],
      "metadata": {
        "id": "OLQQBK4kVZF0"
      },
      "execution_count": null,
      "outputs": []
    },
    {
      "cell_type": "code",
      "source": [
        "run = wandb.init()\n",
        "artifact = run.use_artifact('cs197/pytorch-intro/model_9.pt:v1', type = 'model')\n",
        "artifact_dir = artifact.download()\n",
        "model.load_state_dict(torch.load(artifact_dir + \"/model_9.pt\"))\n"
      ],
      "metadata": {
        "id": "G6kidgSsVdaq"
      },
      "execution_count": null,
      "outputs": []
    },
    {
      "cell_type": "markdown",
      "source": [
        "# Hyperparameter Search\n",
        "When we have several choices of hyperparameters, we want to sweep over them: running models with different values of the hyperparameters.\n",
        "\n",
        "## Search Options\n",
        "We can decide how we sample values of the hyperparameters, including Bayesian, grid search, and random search:\n",
        "1. Grid search: Define a set of possible values for each hyperparameter, and the search trains a model for every possible combination of hyperparameter values\n",
        "* For example: with epochs = [100, 120, 140], and lrs = [0.1, 0.01, 0.001, 0.0001], our grid will be list(itertools.product(epochs, lrs)), which is [(100, 0.1), (100, 0.01), (100, 0.001), (100, 0.0001),  (120, 0.1), (120, 0.01), (120, 0.001), (120, 0.0001), (140, 0.1), (140, 0.01), (140, 0.001), (140, 0.0001)].\n",
        "\n",
        "2. Random search: Provide statistical distribution for each hyperparameter from which values are sampled. Control or limit the number of hyperparameter combinations used\n",
        "3. Bayesian optimization: The results of the previous iterations are used to decide the next set of hyperparameter values using a sequential model-based optimization (SMBO algorithm)\n",
        "\n",
        "## W&B Sweeps\n",
        "There are two components: a controller and one or more agents. The controller picks out new hyperparameter combinations. Typically, the controller is managed on the W&B server. Agents query the W&B server for hyperparameters and use them to run model training. The training reuslts are then reported back to the controller. Agents can run one or more processes on one or more machines. \n",
        "\n",
        "1. Define sweep configuration\n",
        "2. Initialize the sweep controller\n",
        "3. Start the sweep agent\n"
      ],
      "metadata": {
        "id": "fNl69SRYV1P6"
      }
    },
    {
      "cell_type": "code",
      "source": [
        "import wandb\n",
        "def my_train_func():\n",
        "  # read the current value of parameter a from wandb.config\n",
        "  wandb.init()\n",
        "\n",
        "  a = wandb.config.a\n",
        "\n",
        "  wandb.log({\"a\": a, \"accuracy\": a + 1})\n",
        "\n",
        "# 1. Define the sweep configuration\n",
        "sweep_configuration = {\n",
        "    \"name\": \"my-awesome-sweep\",\n",
        "    \"metric\": {\"name\": \"accuracy\", \"goal\": \"maximize\"},\n",
        "    \"method\": \"grid\",\n",
        "    \"parameters\": {\n",
        "        \"a\": {\n",
        "            \"values\": [1, 2, 3, 4]\n",
        "        }\n",
        "    }\n",
        "\n",
        "}\n",
        "\n"
      ],
      "metadata": {
        "id": "JSmBmNIlac1q"
      },
      "execution_count": null,
      "outputs": []
    },
    {
      "cell_type": "markdown",
      "source": [
        "Note:\n",
        "1. We're specifying the metric to optimize: We must log the variable accuracy within our Python script to W&B\n",
        "\n"
      ],
      "metadata": {
        "id": "7DguZOgnazEH"
      }
    },
    {
      "cell_type": "code",
      "source": [
        "# 2. Initialize the sweep\n",
        "sweep_id = wandb.sweep(sweep=sweep_configuration, project = 'my-fist-sweep')\n"
      ],
      "metadata": {
        "id": "9pnjGNkcbHmo"
      },
      "execution_count": null,
      "outputs": []
    },
    {
      "cell_type": "code",
      "source": [
        "# 3. Start the sweep agent\n",
        "wandb.agent(sweep_id, function = my_train_func, count = 4)"
      ],
      "metadata": {
        "id": "mTvKdJ5zf05X"
      },
      "execution_count": null,
      "outputs": []
    },
    {
      "cell_type": "code",
      "source": [
        "#train.py\n",
        "import random\n",
        "import numpy as np\n",
        "\n",
        "def train_one_epoch(epoch, lr, bs): \n",
        "  acc = 0.25 + ((epoch/30) +  (random.random()/10))\n",
        "  loss = 0.2 + (1 - ((epoch-1)/10 +  random.random()/5))\n",
        "  return acc, loss\n",
        "\n",
        "def evaluate_one_epoch(epoch): \n",
        "  acc = 0.1 + ((epoch/20) +  (random.random()/10))\n",
        "  loss = 0.25 + (1 - ((epoch-1)/10 +  random.random()/6))\n",
        "  return acc, loss\n",
        "  \n",
        "config = {\n",
        "    'lr' : 0.0001,\n",
        "    'bs' : 16,\n",
        "    'epochs': 5\n",
        "}\n",
        "\n",
        "def main():\n",
        "    # Note that we define values from `wandb.config` instead of \n",
        "    # defining hard values\n",
        "    lr = config['lr']\n",
        "    bs = config['bs']\n",
        "    epochs = config['epochs']\n",
        "\n",
        "    for epoch in np.arange(1, epochs):\n",
        "      train_acc, train_loss = train_one_epoch(epoch, lr, bs)\n",
        "      val_acc, val_loss = evaluate_one_epoch(epoch)\n",
        "      \n",
        "      print('epoch: ', epoch)\n",
        "      print('training accuracy:', train_acc,'training loss:', train_loss)\n",
        "      print('validation accuracy:', val_acc,'training loss:', val_loss)\n",
        "\n",
        "# Call the main function.       \n",
        "main()"
      ],
      "metadata": {
        "id": "YcqlExJ0gPS9"
      },
      "execution_count": null,
      "outputs": []
    },
    {
      "cell_type": "code",
      "source": [
        "import wandb\n",
        "import numpy as np \n",
        "import random\n",
        "\n",
        "# Define sweep config\n",
        "sweep_configuration = {\n",
        "    'method': 'random',\n",
        "    'name': 'sweep',\n",
        "    'metric': {'goal': 'maximize', 'name': 'val_acc'},\n",
        "    'parameters': \n",
        "    {\n",
        "        'batch_size': {'values': [16, 32, 64]},\n",
        "        'epochs': {'values': [5, 10, 15]},\n",
        "        'lr': {'max': 0.1, 'min': 0.0001}\n",
        "     }\n",
        "}\n",
        "\n",
        "# Initialize sweep by passing in config. (Optional) Provide a name of the project.\n",
        "sweep_id = wandb.sweep(sweep=sweep_configuration, project='my-first-sweep')\n",
        "\n",
        "# Define training function that takes in hyperparameter values from `wandb.config` and uses them to train a model and return metric\n",
        "def train_one_epoch(epoch, lr, bs): \n",
        "  acc = 0.25 + ((epoch/30) +  (random.random()/10))\n",
        "  loss = 0.2 + (1 - ((epoch-1)/10 +  random.random()/5))\n",
        "  return acc, loss\n",
        "\n",
        "def evaluate_one_epoch(epoch): \n",
        "  acc = 0.1 + ((epoch/20) +  (random.random()/10))\n",
        "  loss = 0.25 + (1 - ((epoch-1)/10 +  random.random()/6))\n",
        "  return acc, loss\n",
        "\n",
        "def main():\n",
        "    run = wandb.init()\n",
        "\n",
        "    # note that we define values from `wandb.config` instead \n",
        "    # of defining hard values\n",
        "    lr  =  wandb.config.lr\n",
        "    bs = wandb.config.batch_size\n",
        "    epochs = wandb.config.epochs\n",
        "\n",
        "    for epoch in np.arange(1, epochs):\n",
        "      train_acc, train_loss = train_one_epoch(epoch, lr, bs)\n",
        "      val_acc, val_loss = evaluate_one_epoch(epoch)\n",
        "\n",
        "      wandb.log({\n",
        "        'epoch': epoch, \n",
        "        'train_acc': train_acc,\n",
        "        'train_loss': train_loss, \n",
        "        'val_acc': val_acc, \n",
        "        'val_loss': val_loss\n",
        "      })\n",
        "\n",
        "# Start sweep job.\n",
        "wandb.agent(sweep_id, function=main, count=4)"
      ],
      "metadata": {
        "id": "3VuihOxPgL69"
      },
      "execution_count": null,
      "outputs": []
    },
    {
      "cell_type": "markdown",
      "source": [
        "# Configuration with Hydra\n",
        "We want to be able to use a configuration which we can modify depending on which dataset, model or configuration which we can modify depending on which dataset, model or configuration we are using. \n",
        "\n",
        "## The bad ways to do this\n",
        "If we want tot control the batch_size of our dataset from the command line. \n",
        "\n",
        "The most basic thing you could do is to remember to change the hardcoded batch size.\n",
        "\n",
        "batch_size = 128\n",
        "\n",
        "A second solutions is to pass the value of batch_size into a script when you run it. We can change it depending on which machine we're on. \n"
      ],
      "metadata": {
        "id": "6kK7BIVYgT0y"
      }
    },
    {
      "cell_type": "code",
      "source": [
        "import sys\n",
        "batch_size = sys.argv[1]\n",
        "# call python main.py"
      ],
      "metadata": {
        "id": "KqDvIXVWgLfC"
      },
      "execution_count": null,
      "outputs": []
    },
    {
      "cell_type": "markdown",
      "source": [
        "If we'are configuring multiple settings, then working with sys.argv is not very user-friendly, and we'll want to use a parser. \n",
        "\n",
        "The argparse module makes it easy to write user-friendly command-line interfaces. The program defines what arguments it requires, and argparse will figure out how to parse those out of sys.argv. The argparse module also automatically generates help and usage messages and issues errors when users give the program invalid arguments. \n"
      ],
      "metadata": {
        "id": "nRLWtD5wg_my"
      }
    },
    {
      "cell_type": "code",
      "source": [
        "import argparse\n",
        "parser = argparse.ArgumentParser()\n",
        "parser.add_argument('batch_size', metavar='B', type=int,\n",
        "                    help='batch_size for the model')\n",
        "\n",
        "args = parser.parse_args()\n",
        "print(args.batch_size)\n"
      ],
      "metadata": {
        "id": "K5OQnfCihZaB"
      },
      "execution_count": null,
      "outputs": []
    },
    {
      "cell_type": "markdown",
      "source": [
        "This could work fine, but once we have 100 arguments, it¡s going to be hard to explicitly specify each of them that we want to be different from the default. Find a way to store it in a configuration file.\n",
        "\n",
        "# Hydra\n",
        "Open-source Python framework that simplifies the development of research, and other complex applications. Ability to run multiple similar jobs.\n",
        "\n"
      ],
      "metadata": {
        "id": "3ZYnH2cmhfVK"
      }
    },
    {
      "cell_type": "code",
      "source": [
        "from omegaconf import DictConfig, OmegaConf\n",
        "import hydra\n",
        "\n",
        "@hydra.main(version_base = None)\n",
        "def run(cfg: DictConfig) -> None:\n",
        "  print(OmegaConf.to_yaml(cfg)) # {}\n",
        "\n",
        "if __name__ == '__main__':\n",
        "  run()"
      ],
      "metadata": {
        "id": "bRwLIGfxho0b"
      },
      "execution_count": null,
      "outputs": []
    },
    {
      "cell_type": "markdown",
      "source": [
        "Hydra creates an empty config and passes it to the hydra.main decorator.\n",
        "\n",
        "Tips:\n",
        "* OmegaConf is a YAML based hierarchical configuration system, with support for merging configurations from multiple sources (files, CLI argument, environment, variables) providing a consistent API regardless of how the configuration was created\n",
        "* Decorators are functions which modify the functionality of other functions."
      ],
      "metadata": {
        "id": "ArWZCLsFjO6s"
      }
    },
    {
      "cell_type": "code",
      "source": [
        "## add new config values via the command line using \"+\"\n",
        "# should return \"batch_size: 16\"\n",
        "python run.py +batch_size=16"
      ],
      "metadata": {
        "id": "1neSEEDmjVli"
      },
      "execution_count": null,
      "outputs": []
    },
    {
      "cell_type": "code",
      "source": [
        "# Create a config.yaml file in the same directory as run.py and populate it with our configuration\n",
        "# config.yaml\n",
        "batch_size: 16"
      ],
      "metadata": {
        "id": "hncmk-rpj3mw"
      },
      "execution_count": null,
      "outputs": []
    },
    {
      "cell_type": "code",
      "source": [
        "# Tell Hydra where to find the configuration. The config_name should match our filename\n",
        "@hydra.main(version_base = None, config_path = \".\", config_name = \"config\")"
      ],
      "metadata": {
        "id": "HO_yYsUrkBu1"
      },
      "execution_count": null,
      "outputs": []
    },
    {
      "cell_type": "markdown",
      "source": [
        "We can now run run.py with python run.py and should see the batch_size printed. One of the cool things here is that we can override the config using the command line. Leave out the + because the config value is not new"
      ],
      "metadata": {
        "id": "X5HBpAiQkViv"
      }
    },
    {
      "cell_type": "code",
      "source": [
        "python run.py batch_size=32 #should print 32"
      ],
      "metadata": {
        "id": "Kak_Dht0kgd7"
      },
      "execution_count": null,
      "outputs": []
    },
    {
      "cell_type": "markdown",
      "source": [
        "Make the config more useful.\n"
      ],
      "metadata": {
        "id": "Z8y3wWq5kpKp"
      }
    },
    {
      "cell_type": "code",
      "source": [
        "loss: cross_entropy\n",
        "batch_size: 64\n",
        "num_workers: 4\n",
        "name: ??? # Missing value, must be populated prior to access\n",
        "\n",
        "optim: # Config is hierarchical\n",
        "  name: adam\n",
        "  lr: 0.0001\n",
        "  weight_decay: ${optim.lr} # Value interpolation\n",
        "  momentum: 0.9"
      ],
      "metadata": {
        "id": "K38cZKQVkqih"
      },
      "execution_count": null,
      "outputs": []
    },
    {
      "cell_type": "markdown",
      "source": [
        "1. We are using a hierarchy: e.g. cfg.optim.name\n",
        "2. We are using value interpolation (e.g. cfg.optim.weight_decay\n",
        "3. We are specifying a missing value that must be populated\n",
        "\n",
        "In action:"
      ],
      "metadata": {
        "id": "sJ8Lv7xEku64"
      }
    },
    {
      "cell_type": "code",
      "source": [
        "from omegaconf import DictConfig, OmegaConf\n",
        "import hydra\n",
        "\n",
        "@hydra.main(version_base=None, config_path=\".\", config_name=\"config\")\n",
        "def run(cfg: DictConfig):\n",
        "    assert cfg.optim.name == 'adam'          # attribute style access\n",
        "    assert cfg[\"optim\"][\"lr\"] == 0.0001      # dictionary style access\n",
        "    assert cfg.optim.weight_decay == 0.0001  # Value interpolation\n",
        "    assert isinstance(cfg.optim.weight_decay, float) # Value interpolation type\n",
        "\n",
        "    print(cfg.name)                       # raises an exception\n",
        "\n",
        "if __name__ == \"__main__\":\n",
        "    run()\n",
        "\n"
      ],
      "metadata": {
        "id": "Z45FFTQtk9j5"
      },
      "execution_count": null,
      "outputs": []
    },
    {
      "cell_type": "markdown",
      "source": [
        "\n",
        "We should get the “omegaconf.errors.MissingMandatoryValue: Missing mandatory value: name” error. We can fix this by specifying a name when calling the program.\n"
      ],
      "metadata": {
        "id": "wLbh5_GflP6T"
      }
    },
    {
      "cell_type": "code",
      "source": [
        "python run.py name=exp1 # Should print ‘exp1’"
      ],
      "metadata": {
        "id": "4jjSZaXqlSO7"
      },
      "execution_count": null,
      "outputs": []
    },
    {
      "cell_type": "code",
      "source": [
        "# Create an optimizer class\n",
        "class Optimizer:\n",
        "  \"\"\"Optimizer class.\"\"\"\n",
        "  algo: str\n",
        "  lr: float\n",
        "\n",
        "  def __init__(self, algo: str, lr: float) -> None:\n",
        "    self.algo = algo\n",
        "    self.lr = lr\n",
        "  \n",
        "  def __str__(self):\n",
        "    return str(self.__class__) + \": \" + str(self.__dict__)"
      ],
      "metadata": {
        "id": "Xg65elyXlU8V"
      },
      "execution_count": null,
      "outputs": []
    },
    {
      "cell_type": "code",
      "source": [
        "# Instantiate the optimizer class using our current config\n",
        "@hydra.main(version_base=None, config_path = \".\", config_name = \"config\")\n",
        "def run(cfg: DictConfig):\n",
        "    opt = Optimizer(cfg.optim.name, cfg.optim.lr)\n",
        "    print(str(opt))\n",
        "\n",
        "# We should see\n",
        "<class '__main__.Optimizer'>: {'algo': 'adam', 'lr': 0.0001}\n",
        "\n"
      ],
      "metadata": {
        "id": "WyVE71Pkl46D"
      },
      "execution_count": null,
      "outputs": []
    },
    {
      "cell_type": "markdown",
      "source": [
        "We can directly instantiate the optimizer with hydra: hydra.utils.instantiate() (hydra.utils.call()) for instantiating objects and calling functions. Prefer instantiate for creating obejcts and call for invoking functions. "
      ],
      "metadata": {
        "id": "O-kzq3BdmwV1"
      }
    },
    {
      "cell_type": "code",
      "source": [
        "# config2.yml\n",
        "optimizer:\n",
        " _target_: run.Optimizer\n",
        " algo: SGD\n",
        " lr: 0.01\n"
      ],
      "metadata": {
        "id": "yuyOsMiYm738"
      },
      "execution_count": null,
      "outputs": []
    },
    {
      "cell_type": "code",
      "source": [
        "# instantiate\n",
        "from hydra.utils import instantiate\n",
        "@hydra.main(version_base=None, config_path=\".\", config_name=\"config2\")\n",
        "def run(cfg: DictConfig):\n",
        "    opt = instantiate(cfg.optimizer)\n",
        "    print(opt)\n"
      ],
      "metadata": {
        "id": "O8iUv8CynAHq"
      },
      "execution_count": null,
      "outputs": []
    },
    {
      "cell_type": "markdown",
      "source": [
        "Pro tip. Call/instantiate supports:\n",
        "* Named arguments: Config fields (except reserved fields like _target_) are passed as named arguments to the target. Named arguments in the config can be overriden by passing a named argument with the same name in the instantiate() call-site\n",
        "* Positional arguments: The config may contain a _args_ field representing positional arguments to pass to the target. The positional arguments can be overriden together by passing positional arguments in the instantiate() call site. "
      ],
      "metadata": {
        "id": "8ZvWOHysnFe3"
      }
    },
    {
      "cell_type": "code",
      "source": [
        "# Recursive instantiation\n",
        "# config3.yaml\n",
        "trainer:\n",
        " _target_: run.Trainer\n",
        " optimizer:\n",
        "   _target_: run.Optimizer\n",
        "   algo: SGD\n",
        "   lr: 0.01\n",
        " dataset:\n",
        "   _target_: run.Dataset\n",
        "   name: Imagenet\n",
        "    path: /datasets/imagenet\n"
      ],
      "metadata": {
        "id": "EGIK81taoE13"
      },
      "execution_count": null,
      "outputs": []
    },
    {
      "cell_type": "code",
      "source": [
        "from omegaconf import DictConfig, OmegaConf\n",
        "import hydra\n",
        "from hydra.utils import instantiate\n",
        "\n",
        "class Dataset:\n",
        "    name: str\n",
        "    path: str\n",
        "\n",
        "    def __init__(self, name: str, path: str) -> None:\n",
        "        self.name = name\n",
        "        self.path = path\n",
        "\n",
        "class Optimizer:\n",
        "    \"\"\"Optimizer class.\"\"\"\n",
        "    algo: str\n",
        "    lr: float\n",
        "\n",
        "    def __init__(self, algo: str, lr: float) -> None:\n",
        "        self.algo = algo\n",
        "        self.lr = lr\n",
        "\n",
        "    def __str__(self):\n",
        "        return str(self.__class__) + \": \" + str(self.__dict__)\n",
        "\n",
        "class Trainer:\n",
        "    def __init__(self, optimizer: Optimizer, dataset: Dataset) -> None:\n",
        "        self.optimizer = optimizer\n",
        "        self.dataset = dataset\n",
        "\n",
        "@hydra.main(version_base=None, config_path=\".\", config_name=\"config3\")\n",
        "def run(cfg: DictConfig):\n",
        "    opt = instantiate(cfg.trainer)\n",
        "    print(opt)\n"
      ],
      "metadata": {
        "id": "9NNHy6l4ofXD"
      },
      "execution_count": null,
      "outputs": []
    },
    {
      "cell_type": "code",
      "source": [
        "_target_: torch.nn.Sequential\n",
        "_args_:\n",
        "  - _target_: torch.nn.Linear\n",
        "    in_features: 9216\n",
        "    out_features: 100\n",
        "\n",
        "  - _target_: torch.nn.Linear\n",
        "    in_features: ${..[0].out_features}\n",
        "    out_features: 10\n",
        "\n",
        "\n"
      ],
      "metadata": {
        "id": "U5ktH8-xombp"
      },
      "execution_count": null,
      "outputs": []
    },
    {
      "cell_type": "markdown",
      "source": [
        "Rather than a single configuration file, we often want multiple configuration files. In ML, these are used to specify different datasets, or models, or logging behaviors we might want to use. We thus typically use A Config Group, which will hold a file for each dataset/model configuration option.\n",
        "\n",
        "For example\n",
        "![Screen Shot 2022-10-18 at 19.27.15.png](data:image/png;base64,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)"
      ],
      "metadata": {
        "id": "RHf7Quo6otkz"
      }
    },
    {
      "cell_type": "markdown",
      "source": [
        "1. Create a directory confs/ or configs/ that contains all our configs\n",
        "2. Specify which configuration to use. For example, cifar10.yaml, python run.py dataset=cifar10\n",
        "\n"
      ],
      "metadata": {
        "id": "gZksxtQ0m_wu"
      }
    },
    {
      "cell_type": "code",
      "source": [
        "---\n",
        "name: cifar10\n",
        "dir: cifar10/\n",
        "train_batch: 32\n",
        "test_batch: 10\n",
        "image_dim:\n",
        "    - 32\n",
        "    - 32\n",
        "    - 3\n",
        "num_classes: 10\n",
        "\n"
      ],
      "metadata": {
        "id": "xtwYWhvSpZRg"
      },
      "execution_count": null,
      "outputs": []
    },
    {
      "cell_type": "markdown",
      "source": [
        "3. The defaults.yaml specifies which dataset or model to use by default\n"
      ],
      "metadata": {
        "id": "R04Dxib_pcp0"
      }
    },
    {
      "cell_type": "code",
      "source": [
        "defaults:\n",
        "    - dataset: mnist\n",
        "    - model: ${dataset}\n",
        "    - train: defaults\n",
        "    - wandb: defaults\n",
        "    - hydra: defaults\n",
        "    - normalization: default\n",
        "model:\n",
        "    num_groups: -1\n"
      ],
      "metadata": {
        "id": "Ma32mvcXphvk"
      },
      "execution_count": null,
      "outputs": []
    }
  ]
}